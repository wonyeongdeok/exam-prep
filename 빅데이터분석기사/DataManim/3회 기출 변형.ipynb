{
 "cells": [
  {
   "cell_type": "markdown",
   "id": "390e850e-2057-4a9f-bc55-3507e89b778e",
   "metadata": {},
   "source": [
    "# 작업 1유형"
   ]
  },
  {
   "cell_type": "markdown",
   "id": "1c68b162-e5d6-42dd-b420-a8a48b200507",
   "metadata": {},
   "source": [
    "## 1-1\n",
    "결측치가 하나라도 존재하는 행의 경우 경우 해당 행을 삭제하라. 그후 남은 데이터의 상위 70%에 해당하는 데이터만 남겨둔 후 median_income 컬럼의 1분위수를 반올림하여 소숫점이하 2째자리까지 구하여라"
   ]
  },
  {
   "cell_type": "code",
   "execution_count": 122,
   "id": "9ebc58e5-8812-4ebb-95be-c3f3b5366337",
   "metadata": {},
   "outputs": [
    {
     "data": {
      "text/html": [
       "<div>\n",
       "<style scoped>\n",
       "    .dataframe tbody tr th:only-of-type {\n",
       "        vertical-align: middle;\n",
       "    }\n",
       "\n",
       "    .dataframe tbody tr th {\n",
       "        vertical-align: top;\n",
       "    }\n",
       "\n",
       "    .dataframe thead th {\n",
       "        text-align: right;\n",
       "    }\n",
       "</style>\n",
       "<table border=\"1\" class=\"dataframe\">\n",
       "  <thead>\n",
       "    <tr style=\"text-align: right;\">\n",
       "      <th></th>\n",
       "      <th>longitude</th>\n",
       "      <th>latitude</th>\n",
       "      <th>housing_median_age</th>\n",
       "      <th>total_rooms</th>\n",
       "      <th>total_bedrooms</th>\n",
       "      <th>population</th>\n",
       "      <th>households</th>\n",
       "      <th>median_income</th>\n",
       "      <th>median_house_value</th>\n",
       "      <th>ocean_proximity</th>\n",
       "    </tr>\n",
       "  </thead>\n",
       "  <tbody>\n",
       "    <tr>\n",
       "      <th>0</th>\n",
       "      <td>-122.23</td>\n",
       "      <td>37.88</td>\n",
       "      <td>41.0</td>\n",
       "      <td>880.0</td>\n",
       "      <td>129.0</td>\n",
       "      <td>322.0</td>\n",
       "      <td>126.0</td>\n",
       "      <td>8.3252</td>\n",
       "      <td>452600.0</td>\n",
       "      <td>NEAR BAY</td>\n",
       "    </tr>\n",
       "    <tr>\n",
       "      <th>1</th>\n",
       "      <td>-122.22</td>\n",
       "      <td>37.86</td>\n",
       "      <td>21.0</td>\n",
       "      <td>7099.0</td>\n",
       "      <td>1106.0</td>\n",
       "      <td>2401.0</td>\n",
       "      <td>1138.0</td>\n",
       "      <td>8.3014</td>\n",
       "      <td>358500.0</td>\n",
       "      <td>NEAR BAY</td>\n",
       "    </tr>\n",
       "    <tr>\n",
       "      <th>2</th>\n",
       "      <td>-122.24</td>\n",
       "      <td>37.85</td>\n",
       "      <td>52.0</td>\n",
       "      <td>1467.0</td>\n",
       "      <td>190.0</td>\n",
       "      <td>496.0</td>\n",
       "      <td>177.0</td>\n",
       "      <td>7.2574</td>\n",
       "      <td>352100.0</td>\n",
       "      <td>NEAR BAY</td>\n",
       "    </tr>\n",
       "    <tr>\n",
       "      <th>3</th>\n",
       "      <td>-122.25</td>\n",
       "      <td>37.85</td>\n",
       "      <td>52.0</td>\n",
       "      <td>1274.0</td>\n",
       "      <td>235.0</td>\n",
       "      <td>558.0</td>\n",
       "      <td>219.0</td>\n",
       "      <td>5.6431</td>\n",
       "      <td>341300.0</td>\n",
       "      <td>NEAR BAY</td>\n",
       "    </tr>\n",
       "    <tr>\n",
       "      <th>4</th>\n",
       "      <td>-122.25</td>\n",
       "      <td>37.85</td>\n",
       "      <td>52.0</td>\n",
       "      <td>1627.0</td>\n",
       "      <td>280.0</td>\n",
       "      <td>565.0</td>\n",
       "      <td>259.0</td>\n",
       "      <td>3.8462</td>\n",
       "      <td>342200.0</td>\n",
       "      <td>NEAR BAY</td>\n",
       "    </tr>\n",
       "  </tbody>\n",
       "</table>\n",
       "</div>"
      ],
      "text/plain": [
       "   longitude  latitude  housing_median_age  total_rooms  total_bedrooms  \\\n",
       "0    -122.23     37.88                41.0        880.0           129.0   \n",
       "1    -122.22     37.86                21.0       7099.0          1106.0   \n",
       "2    -122.24     37.85                52.0       1467.0           190.0   \n",
       "3    -122.25     37.85                52.0       1274.0           235.0   \n",
       "4    -122.25     37.85                52.0       1627.0           280.0   \n",
       "\n",
       "   population  households  median_income  median_house_value ocean_proximity  \n",
       "0       322.0       126.0         8.3252            452600.0        NEAR BAY  \n",
       "1      2401.0      1138.0         8.3014            358500.0        NEAR BAY  \n",
       "2       496.0       177.0         7.2574            352100.0        NEAR BAY  \n",
       "3       558.0       219.0         5.6431            341300.0        NEAR BAY  \n",
       "4       565.0       259.0         3.8462            342200.0        NEAR BAY  "
      ]
     },
     "execution_count": 122,
     "metadata": {},
     "output_type": "execute_result"
    }
   ],
   "source": [
    "import pandas as pd\n",
    "df = pd.read_csv('https://raw.githubusercontent.com/Datamanim/datarepo/main/krdatacertificate/e3_p1_1.csv')\n",
    "df.head(5)"
   ]
  },
  {
   "cell_type": "code",
   "execution_count": 123,
   "id": "e0e04ffd-05f2-4b61-869d-b6179dc002c1",
   "metadata": {},
   "outputs": [
    {
     "data": {
      "text/plain": [
       "(20640, 10)"
      ]
     },
     "execution_count": 123,
     "metadata": {},
     "output_type": "execute_result"
    }
   ],
   "source": [
    "df.shape"
   ]
  },
  {
   "cell_type": "code",
   "execution_count": 124,
   "id": "f0726159-7177-4714-9866-84f46f056cbd",
   "metadata": {
    "tags": []
   },
   "outputs": [],
   "source": [
    "df.dropna(inplace=True)"
   ]
  },
  {
   "cell_type": "code",
   "execution_count": 125,
   "id": "72dc17a4-dbe7-44b0-bb65-450027ab7d5b",
   "metadata": {},
   "outputs": [
    {
     "name": "stdout",
     "output_type": "stream",
     "text": [
      "2.51\n"
     ]
    }
   ],
   "source": [
    "ans = round(df[: int(df.shape[0] * 0.7)]['median_income'].quantile(0.25), 2)\n",
    "print(ans)"
   ]
  },
  {
   "cell_type": "markdown",
   "id": "7334f7b6-fe27-4dcc-8292-4c1d6fb5b877",
   "metadata": {},
   "source": [
    "## 1-2\n",
    "1990년도는 해당년도 평균 이하 GDP를 가지지만, 2010년도에는 해당년도 평균 이상 GDP를 가지는 국가의 숫자를 구하여라\n",
    "\n"
   ]
  },
  {
   "cell_type": "code",
   "execution_count": 126,
   "id": "5c241cf4-236e-40bb-a32f-79899e506405",
   "metadata": {},
   "outputs": [
    {
     "data": {
      "text/html": [
       "<div>\n",
       "<style scoped>\n",
       "    .dataframe tbody tr th:only-of-type {\n",
       "        vertical-align: middle;\n",
       "    }\n",
       "\n",
       "    .dataframe tbody tr th {\n",
       "        vertical-align: top;\n",
       "    }\n",
       "\n",
       "    .dataframe thead th {\n",
       "        text-align: right;\n",
       "    }\n",
       "</style>\n",
       "<table border=\"1\" class=\"dataframe\">\n",
       "  <thead>\n",
       "    <tr style=\"text-align: right;\">\n",
       "      <th></th>\n",
       "      <th>Country Name</th>\n",
       "      <th>Country Code</th>\n",
       "      <th>Year</th>\n",
       "      <th>Value</th>\n",
       "    </tr>\n",
       "  </thead>\n",
       "  <tbody>\n",
       "    <tr>\n",
       "      <th>0</th>\n",
       "      <td>Arab World</td>\n",
       "      <td>ARB</td>\n",
       "      <td>1968</td>\n",
       "      <td>2576068.3</td>\n",
       "    </tr>\n",
       "    <tr>\n",
       "      <th>1</th>\n",
       "      <td>Arab World</td>\n",
       "      <td>ARB</td>\n",
       "      <td>1969</td>\n",
       "      <td>2843420.4</td>\n",
       "    </tr>\n",
       "    <tr>\n",
       "      <th>2</th>\n",
       "      <td>Arab World</td>\n",
       "      <td>ARB</td>\n",
       "      <td>1970</td>\n",
       "      <td>3138550.0</td>\n",
       "    </tr>\n",
       "    <tr>\n",
       "      <th>3</th>\n",
       "      <td>Arab World</td>\n",
       "      <td>ARB</td>\n",
       "      <td>1971</td>\n",
       "      <td>3642691.0</td>\n",
       "    </tr>\n",
       "    <tr>\n",
       "      <th>4</th>\n",
       "      <td>Arab World</td>\n",
       "      <td>ARB</td>\n",
       "      <td>1972</td>\n",
       "      <td>4331605.7</td>\n",
       "    </tr>\n",
       "  </tbody>\n",
       "</table>\n",
       "</div>"
      ],
      "text/plain": [
       "  Country Name Country Code  Year      Value\n",
       "0   Arab World          ARB  1968  2576068.3\n",
       "1   Arab World          ARB  1969  2843420.4\n",
       "2   Arab World          ARB  1970  3138550.0\n",
       "3   Arab World          ARB  1971  3642691.0\n",
       "4   Arab World          ARB  1972  4331605.7"
      ]
     },
     "execution_count": 126,
     "metadata": {},
     "output_type": "execute_result"
    }
   ],
   "source": [
    "import pandas as pd\n",
    "df =pd.read_csv('https://raw.githubusercontent.com/Datamanim/datarepo/main/krdatacertificate/e3_p1_2.csv')\n",
    "df.head()"
   ]
  },
  {
   "cell_type": "code",
   "execution_count": 127,
   "id": "ee7c0ca6-7f31-4052-94ab-456f7cb0bf93",
   "metadata": {},
   "outputs": [],
   "source": [
    "df_1990 = df[df['Year'] == 1990]\n",
    "df_2010 = df[df['Year'] == 2010]"
   ]
  },
  {
   "cell_type": "code",
   "execution_count": 128,
   "id": "98fc04fa-e470-4974-a2cc-3615313f073e",
   "metadata": {},
   "outputs": [],
   "source": [
    "df_1990 = df_1990[df_1990['Value'] <= df_1990['Value'].mean()]\n",
    "df_2010 = df_2010[df_2010['Value'] >= df_2010['Value'].mean()]"
   ]
  },
  {
   "cell_type": "code",
   "execution_count": 129,
   "id": "9408c105-edf4-4899-98df-a59c26d9502f",
   "metadata": {},
   "outputs": [],
   "source": [
    "set_1990 = set(df_1990['Country Code'])\n",
    "set_2010 = set(df_2010['Country Code'])"
   ]
  },
  {
   "cell_type": "code",
   "execution_count": 130,
   "id": "1937f929-abdb-4ec6-9b24-5cf21c4377d2",
   "metadata": {},
   "outputs": [
    {
     "name": "stdout",
     "output_type": "stream",
     "text": [
      "5\n"
     ]
    }
   ],
   "source": [
    "ans = len(set_1990.intersection(set_2010))\n",
    "print(ans)"
   ]
  },
  {
   "cell_type": "markdown",
   "id": "fa5b18a1-9dba-4dfc-b2cc-062ada2709e7",
   "metadata": {},
   "source": [
    "## 1-3\n",
    "데이터에서 결측치가 가장 많은 컬럼을 출력하라"
   ]
  },
  {
   "cell_type": "code",
   "execution_count": 131,
   "id": "2dc574a9-7d62-4066-8179-16c03dc1e516",
   "metadata": {},
   "outputs": [
    {
     "data": {
      "text/html": [
       "<div>\n",
       "<style scoped>\n",
       "    .dataframe tbody tr th:only-of-type {\n",
       "        vertical-align: middle;\n",
       "    }\n",
       "\n",
       "    .dataframe tbody tr th {\n",
       "        vertical-align: top;\n",
       "    }\n",
       "\n",
       "    .dataframe thead th {\n",
       "        text-align: right;\n",
       "    }\n",
       "</style>\n",
       "<table border=\"1\" class=\"dataframe\">\n",
       "  <thead>\n",
       "    <tr style=\"text-align: right;\">\n",
       "      <th></th>\n",
       "      <th>PassengerId</th>\n",
       "      <th>Survived</th>\n",
       "      <th>Pclass</th>\n",
       "      <th>Name</th>\n",
       "      <th>Sex</th>\n",
       "      <th>Age</th>\n",
       "      <th>SibSp</th>\n",
       "      <th>Parch</th>\n",
       "      <th>Ticket</th>\n",
       "      <th>Fare</th>\n",
       "      <th>Cabin</th>\n",
       "      <th>Embarked</th>\n",
       "    </tr>\n",
       "  </thead>\n",
       "  <tbody>\n",
       "    <tr>\n",
       "      <th>0</th>\n",
       "      <td>1</td>\n",
       "      <td>0</td>\n",
       "      <td>3.0</td>\n",
       "      <td>Braund, Mr. Owen Harris</td>\n",
       "      <td>male</td>\n",
       "      <td>22.0</td>\n",
       "      <td>1.0</td>\n",
       "      <td>0.0</td>\n",
       "      <td>A/5 21171</td>\n",
       "      <td>7.2500</td>\n",
       "      <td>NaN</td>\n",
       "      <td>S</td>\n",
       "    </tr>\n",
       "    <tr>\n",
       "      <th>1</th>\n",
       "      <td>2</td>\n",
       "      <td>1</td>\n",
       "      <td>1.0</td>\n",
       "      <td>Cumings, Mrs. John Bradley (Florence Briggs Th...</td>\n",
       "      <td>female</td>\n",
       "      <td>38.0</td>\n",
       "      <td>1.0</td>\n",
       "      <td>0.0</td>\n",
       "      <td>PC 17599</td>\n",
       "      <td>71.2833</td>\n",
       "      <td>C85</td>\n",
       "      <td>C</td>\n",
       "    </tr>\n",
       "    <tr>\n",
       "      <th>2</th>\n",
       "      <td>3</td>\n",
       "      <td>1</td>\n",
       "      <td>3.0</td>\n",
       "      <td>Heikkinen, Miss. Laina</td>\n",
       "      <td>female</td>\n",
       "      <td>26.0</td>\n",
       "      <td>0.0</td>\n",
       "      <td>0.0</td>\n",
       "      <td>STON/O2. 3101282</td>\n",
       "      <td>7.9250</td>\n",
       "      <td>C85</td>\n",
       "      <td>S</td>\n",
       "    </tr>\n",
       "    <tr>\n",
       "      <th>3</th>\n",
       "      <td>4</td>\n",
       "      <td>1</td>\n",
       "      <td>1.0</td>\n",
       "      <td>Futrelle, Mrs. Jacques Heath (Lily May Peel)</td>\n",
       "      <td>female</td>\n",
       "      <td>35.0</td>\n",
       "      <td>1.0</td>\n",
       "      <td>0.0</td>\n",
       "      <td>113803</td>\n",
       "      <td>53.1000</td>\n",
       "      <td>C123</td>\n",
       "      <td>S</td>\n",
       "    </tr>\n",
       "    <tr>\n",
       "      <th>4</th>\n",
       "      <td>5</td>\n",
       "      <td>0</td>\n",
       "      <td>3.0</td>\n",
       "      <td>Allen, Mr. William Henry</td>\n",
       "      <td>male</td>\n",
       "      <td>35.0</td>\n",
       "      <td>0.0</td>\n",
       "      <td>0.0</td>\n",
       "      <td>373450</td>\n",
       "      <td>8.0500</td>\n",
       "      <td>C123</td>\n",
       "      <td>S</td>\n",
       "    </tr>\n",
       "  </tbody>\n",
       "</table>\n",
       "</div>"
      ],
      "text/plain": [
       "   PassengerId  Survived  Pclass  \\\n",
       "0            1         0     3.0   \n",
       "1            2         1     1.0   \n",
       "2            3         1     3.0   \n",
       "3            4         1     1.0   \n",
       "4            5         0     3.0   \n",
       "\n",
       "                                                Name     Sex   Age  SibSp  \\\n",
       "0                            Braund, Mr. Owen Harris    male  22.0    1.0   \n",
       "1  Cumings, Mrs. John Bradley (Florence Briggs Th...  female  38.0    1.0   \n",
       "2                             Heikkinen, Miss. Laina  female  26.0    0.0   \n",
       "3       Futrelle, Mrs. Jacques Heath (Lily May Peel)  female  35.0    1.0   \n",
       "4                           Allen, Mr. William Henry    male  35.0    0.0   \n",
       "\n",
       "   Parch            Ticket     Fare Cabin Embarked  \n",
       "0    0.0         A/5 21171   7.2500   NaN        S  \n",
       "1    0.0          PC 17599  71.2833   C85        C  \n",
       "2    0.0  STON/O2. 3101282   7.9250   C85        S  \n",
       "3    0.0            113803  53.1000  C123        S  \n",
       "4    0.0            373450   8.0500  C123        S  "
      ]
     },
     "execution_count": 131,
     "metadata": {},
     "output_type": "execute_result"
    }
   ],
   "source": [
    "import pandas as pd\n",
    "df = pd.read_csv('https://raw.githubusercontent.com/Datamanim/datarepo/main/krdatacertificate/e3_p1_3.csv')\n",
    "df.head()"
   ]
  },
  {
   "cell_type": "code",
   "execution_count": 132,
   "id": "b7b3d020-e5cc-4e09-804a-a15b628e87cf",
   "metadata": {},
   "outputs": [
    {
     "data": {
      "text/plain": [
       "'Fare'"
      ]
     },
     "execution_count": 132,
     "metadata": {},
     "output_type": "execute_result"
    }
   ],
   "source": [
    "df.isnull().sum().idxmax()"
   ]
  },
  {
   "cell_type": "markdown",
   "id": "a32331dd-39f0-4be6-b676-8db389b1630d",
   "metadata": {
    "tags": []
   },
   "source": [
    "# 작업 2유형\n",
    "종속 변수 : TravelInsurance , TravelInsurance가 1일 확률을 구해서 제출하라. 평가지표 : auc\n",
    "제출 파일의 컬럼은 ID, proba 두개만 존재해야한다."
   ]
  },
  {
   "cell_type": "code",
   "execution_count": 133,
   "id": "c288c42f-22e3-495c-a6e4-73972a4a61eb",
   "metadata": {},
   "outputs": [
    {
     "data": {
      "text/html": [
       "<div>\n",
       "<style scoped>\n",
       "    .dataframe tbody tr th:only-of-type {\n",
       "        vertical-align: middle;\n",
       "    }\n",
       "\n",
       "    .dataframe tbody tr th {\n",
       "        vertical-align: top;\n",
       "    }\n",
       "\n",
       "    .dataframe thead th {\n",
       "        text-align: right;\n",
       "    }\n",
       "</style>\n",
       "<table border=\"1\" class=\"dataframe\">\n",
       "  <thead>\n",
       "    <tr style=\"text-align: right;\">\n",
       "      <th></th>\n",
       "      <th>ID</th>\n",
       "      <th>Age</th>\n",
       "      <th>Employment Type</th>\n",
       "      <th>GraduateOrNot</th>\n",
       "      <th>AnnualIncome</th>\n",
       "      <th>FamilyMembers</th>\n",
       "      <th>ChronicDiseases</th>\n",
       "      <th>FrequentFlyer</th>\n",
       "      <th>EverTravelledAbroad</th>\n",
       "      <th>TravelInsurance</th>\n",
       "    </tr>\n",
       "  </thead>\n",
       "  <tbody>\n",
       "    <tr>\n",
       "      <th>0</th>\n",
       "      <td>1008</td>\n",
       "      <td>26</td>\n",
       "      <td>Private Sector/Self Employed</td>\n",
       "      <td>Yes</td>\n",
       "      <td>1400000</td>\n",
       "      <td>5</td>\n",
       "      <td>0</td>\n",
       "      <td>No</td>\n",
       "      <td>Yes</td>\n",
       "      <td>1</td>\n",
       "    </tr>\n",
       "    <tr>\n",
       "      <th>1</th>\n",
       "      <td>199</td>\n",
       "      <td>30</td>\n",
       "      <td>Private Sector/Self Employed</td>\n",
       "      <td>No</td>\n",
       "      <td>1450000</td>\n",
       "      <td>5</td>\n",
       "      <td>0</td>\n",
       "      <td>Yes</td>\n",
       "      <td>Yes</td>\n",
       "      <td>1</td>\n",
       "    </tr>\n",
       "    <tr>\n",
       "      <th>2</th>\n",
       "      <td>86</td>\n",
       "      <td>32</td>\n",
       "      <td>Government Sector</td>\n",
       "      <td>Yes</td>\n",
       "      <td>900000</td>\n",
       "      <td>4</td>\n",
       "      <td>0</td>\n",
       "      <td>No</td>\n",
       "      <td>No</td>\n",
       "      <td>0</td>\n",
       "    </tr>\n",
       "    <tr>\n",
       "      <th>3</th>\n",
       "      <td>560</td>\n",
       "      <td>26</td>\n",
       "      <td>Private Sector/Self Employed</td>\n",
       "      <td>Yes</td>\n",
       "      <td>1400000</td>\n",
       "      <td>7</td>\n",
       "      <td>0</td>\n",
       "      <td>No</td>\n",
       "      <td>Yes</td>\n",
       "      <td>1</td>\n",
       "    </tr>\n",
       "    <tr>\n",
       "      <th>4</th>\n",
       "      <td>161</td>\n",
       "      <td>34</td>\n",
       "      <td>Private Sector/Self Employed</td>\n",
       "      <td>No</td>\n",
       "      <td>1400000</td>\n",
       "      <td>3</td>\n",
       "      <td>1</td>\n",
       "      <td>No</td>\n",
       "      <td>Yes</td>\n",
       "      <td>1</td>\n",
       "    </tr>\n",
       "  </tbody>\n",
       "</table>\n",
       "</div>"
      ],
      "text/plain": [
       "     ID  Age               Employment Type GraduateOrNot  AnnualIncome  \\\n",
       "0  1008   26  Private Sector/Self Employed           Yes       1400000   \n",
       "1   199   30  Private Sector/Self Employed            No       1450000   \n",
       "2    86   32             Government Sector           Yes        900000   \n",
       "3   560   26  Private Sector/Self Employed           Yes       1400000   \n",
       "4   161   34  Private Sector/Self Employed            No       1400000   \n",
       "\n",
       "   FamilyMembers  ChronicDiseases FrequentFlyer EverTravelledAbroad  \\\n",
       "0              5                0            No                 Yes   \n",
       "1              5                0           Yes                 Yes   \n",
       "2              4                0            No                  No   \n",
       "3              7                0            No                 Yes   \n",
       "4              3                1            No                 Yes   \n",
       "\n",
       "   TravelInsurance  \n",
       "0                1  \n",
       "1                1  \n",
       "2                0  \n",
       "3                1  \n",
       "4                1  "
      ]
     },
     "execution_count": 133,
     "metadata": {},
     "output_type": "execute_result"
    }
   ],
   "source": [
    "import pandas as pd\n",
    "train = pd.read_csv('https://raw.githubusercontent.com/Datamanim/datarepo/main/krdatacertificate/e3_p2_train_.csv')\n",
    "test = pd.read_csv('https://raw.githubusercontent.com/Datamanim/datarepo/main/krdatacertificate/e3_p2_test_.csv')\n",
    "train.head()"
   ]
  },
  {
   "cell_type": "code",
   "execution_count": 134,
   "id": "c1035c43-62a1-4003-8e17-e81db163e6cd",
   "metadata": {
    "tags": []
   },
   "outputs": [
    {
     "name": "stdout",
     "output_type": "stream",
     "text": [
      "<class 'pandas.core.frame.DataFrame'>\n",
      "RangeIndex: 1490 entries, 0 to 1489\n",
      "Data columns (total 10 columns):\n",
      " #   Column               Non-Null Count  Dtype \n",
      "---  ------               --------------  ----- \n",
      " 0   ID                   1490 non-null   int64 \n",
      " 1   Age                  1490 non-null   int64 \n",
      " 2   Employment Type      1490 non-null   object\n",
      " 3   GraduateOrNot        1490 non-null   object\n",
      " 4   AnnualIncome         1490 non-null   int64 \n",
      " 5   FamilyMembers        1490 non-null   int64 \n",
      " 6   ChronicDiseases      1490 non-null   int64 \n",
      " 7   FrequentFlyer        1490 non-null   object\n",
      " 8   EverTravelledAbroad  1490 non-null   object\n",
      " 9   TravelInsurance      1490 non-null   int64 \n",
      "dtypes: int64(6), object(4)\n",
      "memory usage: 116.5+ KB\n"
     ]
    }
   ],
   "source": [
    "train.info()"
   ]
  },
  {
   "cell_type": "code",
   "execution_count": 135,
   "id": "f1a61a2e-761c-4831-895a-c471046a7fb6",
   "metadata": {},
   "outputs": [
    {
     "name": "stdout",
     "output_type": "stream",
     "text": [
      "<class 'pandas.core.frame.DataFrame'>\n",
      "RangeIndex: 497 entries, 0 to 496\n",
      "Data columns (total 9 columns):\n",
      " #   Column               Non-Null Count  Dtype \n",
      "---  ------               --------------  ----- \n",
      " 0   ID                   497 non-null    int64 \n",
      " 1   Age                  497 non-null    int64 \n",
      " 2   Employment Type      497 non-null    object\n",
      " 3   GraduateOrNot        497 non-null    object\n",
      " 4   AnnualIncome         497 non-null    int64 \n",
      " 5   FamilyMembers        497 non-null    int64 \n",
      " 6   ChronicDiseases      497 non-null    int64 \n",
      " 7   FrequentFlyer        497 non-null    object\n",
      " 8   EverTravelledAbroad  497 non-null    object\n",
      "dtypes: int64(5), object(4)\n",
      "memory usage: 35.1+ KB\n"
     ]
    }
   ],
   "source": [
    "test.info()"
   ]
  },
  {
   "cell_type": "code",
   "execution_count": 136,
   "id": "52914c4b-efdf-431b-887f-c1eb2cccef7e",
   "metadata": {},
   "outputs": [
    {
     "name": "stdout",
     "output_type": "stream",
     "text": [
      "unique of ID: [1008  199   86 ... 1124 1356 1686]\n",
      "unique of Age: [26 30 32 34 29 28 33 31 27 25 35]\n",
      "unique of Employment Type: ['Private Sector/Self Employed' 'Government Sector']\n",
      "unique of GraduateOrNot: ['Yes' 'No']\n",
      "unique of AnnualIncome: [1400000 1450000  900000 1500000 1100000  700000 1200000  500000 1350000\n",
      "  550000 1300000 1150000  800000  850000 1750000  750000  600000  400000\n",
      "  300000  350000 1050000 1000000  950000 1250000  650000 1700000 1650000\n",
      " 1800000  450000 1550000]\n",
      "unique of FamilyMembers: [5 4 7 3 8 6 2 9]\n",
      "unique of ChronicDiseases: [0 1]\n",
      "unique of FrequentFlyer: ['No' 'Yes']\n",
      "unique of EverTravelledAbroad: ['Yes' 'No']\n",
      "unique of TravelInsurance: [1 0]\n"
     ]
    }
   ],
   "source": [
    "for col in train.columns:\n",
    "    print(f'unique of {col}:', train[col].unique())"
   ]
  },
  {
   "cell_type": "code",
   "execution_count": 137,
   "id": "da3de05a-a03d-468b-8766-0efbaec13946",
   "metadata": {
    "tags": []
   },
   "outputs": [
    {
     "name": "stdout",
     "output_type": "stream",
     "text": [
      "unique of ID: [   6    9   20   21   23   24   29   31   34   35   53   61   62   64\n",
      "   71   75   76   77   78   87   88   93   95   98  100  104  107  108\n",
      "  120  125  126  129  134  138  150  152  155  156  159  164  165  170\n",
      "  175  176  177  179  180  181  185  187  189  191  194  198  200  203\n",
      "  206  207  211  212  221  228  229  236  243  244  247  249  252  253\n",
      "  256  257  265  271  274  284  286  288  297  303  306  312  314  328\n",
      "  333  336  337  338  342  345  350  356  357  367  377  378  386  391\n",
      "  395  397  398  406  408  410  414  417  420  421  425  429  431  437\n",
      "  439  445  447  448  456  461  462  463  465  466  468  470  472  473\n",
      "  474  478  480  481  488  489  491  496  499  500  503  510  514  515\n",
      "  536  540  550  553  554  555  563  564  573  574  577  580  585  586\n",
      "  594  596  601  609  612  616  626  627  629  632  645  647  650  657\n",
      "  665  669  676  677  690  702  708  714  716  718  719  722  724  727\n",
      "  733  736  739  740  743  751  752  760  762  767  769  770  772  774\n",
      "  775  782  786  792  794  800  802  804  808  809  811  813  816  823\n",
      "  841  843  849  853  854  856  861  864  866  868  873  880  881  885\n",
      "  892  893  896  902  907  913  915  922  923  929  930  932  933  936\n",
      "  941  943  947  956  964  969  970  972  975  979  981  988  993  994\n",
      "  997  998 1009 1014 1015 1019 1020 1028 1031 1033 1038 1049 1050 1053\n",
      " 1066 1077 1083 1086 1091 1093 1095 1107 1112 1114 1129 1132 1138 1139\n",
      " 1140 1143 1149 1160 1164 1166 1167 1171 1172 1174 1179 1182 1184 1187\n",
      " 1190 1191 1192 1197 1199 1202 1203 1207 1208 1209 1211 1215 1222 1227\n",
      " 1228 1230 1237 1251 1256 1258 1259 1271 1275 1283 1285 1286 1288 1290\n",
      " 1297 1302 1309 1311 1318 1326 1327 1328 1329 1333 1334 1342 1343 1344\n",
      " 1348 1350 1351 1360 1364 1371 1373 1375 1379 1382 1386 1387 1390 1392\n",
      " 1403 1408 1409 1411 1413 1419 1422 1423 1427 1430 1433 1436 1442 1447\n",
      " 1449 1454 1457 1458 1466 1468 1474 1478 1480 1486 1487 1493 1501 1508\n",
      " 1510 1514 1517 1523 1526 1529 1530 1536 1540 1543 1547 1549 1557 1566\n",
      " 1572 1578 1579 1584 1585 1586 1591 1593 1595 1597 1613 1614 1617 1618\n",
      " 1628 1633 1634 1635 1640 1642 1646 1653 1658 1662 1666 1668 1669 1672\n",
      " 1674 1675 1677 1678 1679 1683 1698 1707 1708 1717 1723 1726 1730 1734\n",
      " 1736 1738 1744 1750 1753 1754 1756 1758 1762 1763 1764 1766 1768 1773\n",
      " 1775 1782 1788 1793 1794 1795 1801 1803 1807 1808 1817 1819 1821 1825\n",
      " 1830 1832 1838 1845 1855 1862 1865 1873 1876 1877 1880 1881 1884 1886\n",
      " 1888 1890 1899 1901 1903 1906 1916 1919 1922 1923 1924 1925 1931 1933\n",
      " 1961 1962 1964 1970 1973 1976 1982]\n",
      "unique of Age: [31 33 28 29 32 30 34 26 27 25 35]\n",
      "unique of Employment Type: ['Government Sector' 'Private Sector/Self Employed']\n",
      "unique of GraduateOrNot: ['Yes' 'No']\n",
      "unique of AnnualIncome: [1300000  800000 1150000  350000  600000 1500000  900000  300000 1400000\n",
      " 1450000  750000 1200000  400000 1050000  700000 1100000  850000  500000\n",
      "  650000 1000000 1350000 1250000  450000  550000  950000 1550000 1700000\n",
      " 1750000]\n",
      "unique of FamilyMembers: [4 3 6 9 7 2 5 8]\n",
      "unique of ChronicDiseases: [0 1]\n",
      "unique of FrequentFlyer: ['No' 'Yes']\n",
      "unique of EverTravelledAbroad: ['No' 'Yes']\n"
     ]
    }
   ],
   "source": [
    "for col in test.columns:\n",
    "    print(f'unique of {col}:', test[col].unique())"
   ]
  },
  {
   "cell_type": "code",
   "execution_count": 138,
   "id": "45982790-c310-47f8-bdd2-c65ab35014a2",
   "metadata": {},
   "outputs": [
    {
     "data": {
      "text/plain": [
       "ID                     0\n",
       "Age                    0\n",
       "Employment Type        0\n",
       "GraduateOrNot          0\n",
       "AnnualIncome           0\n",
       "FamilyMembers          0\n",
       "ChronicDiseases        0\n",
       "FrequentFlyer          0\n",
       "EverTravelledAbroad    0\n",
       "TravelInsurance        0\n",
       "dtype: int64"
      ]
     },
     "execution_count": 138,
     "metadata": {},
     "output_type": "execute_result"
    }
   ],
   "source": [
    "# train 결측치 확인\n",
    "train.isnull().sum()"
   ]
  },
  {
   "cell_type": "code",
   "execution_count": 139,
   "id": "e387917a-b120-444e-9923-e7a8bfc951a1",
   "metadata": {},
   "outputs": [
    {
     "data": {
      "text/plain": [
       "ID                     0\n",
       "Age                    0\n",
       "Employment Type        0\n",
       "GraduateOrNot          0\n",
       "AnnualIncome           0\n",
       "FamilyMembers          0\n",
       "ChronicDiseases        0\n",
       "FrequentFlyer          0\n",
       "EverTravelledAbroad    0\n",
       "dtype: int64"
      ]
     },
     "execution_count": 139,
     "metadata": {},
     "output_type": "execute_result"
    }
   ],
   "source": [
    "# test 결측치 확인\n",
    "test.isnull().sum()"
   ]
  },
  {
   "cell_type": "code",
   "execution_count": 140,
   "id": "f1c16517-802b-4ec4-9320-8d7adbc6cf5b",
   "metadata": {},
   "outputs": [],
   "source": [
    "# 데이터 정리\n",
    "# ID : id\n",
    "# Age : 수치형-이산형\n",
    "# Employment Type : 범주형-명목형. 이진데이터. 레이블인코딩 필요\n",
    "# GraduateOrNot : 범주형-명목형. 이진데이터. 레이블인코딩 필요\n",
    "# AnnualIncome : 수치형-연속형. min-max 정규화 필요\n",
    "# FamilyMembers : 수치형-이산형. \n",
    "# ChronicDiseases : 범주형-명목형. 이진데이터.\n",
    "# FrequentFlyer : 범주형-명목형. 이진데이터. 레이블인코딩 필요\n",
    "# EverTravelledAbroad : 범주형-명목형. 이진데이터.레이블인코딩 필요\n",
    "# TravelInsurance : 타켓변수, 범주형-명목형"
   ]
  },
  {
   "cell_type": "code",
   "execution_count": 141,
   "id": "863accfb-eb4c-49d8-8fb3-7b24872b5cd6",
   "metadata": {},
   "outputs": [],
   "source": [
    "from sklearn.model_selection import train_test_split\n",
    "from sklearn.ensemble import RandomForestClassifier\n",
    "from sklearn.metrics import roc_auc_score\n",
    "\n",
    "random_state = 42"
   ]
  },
  {
   "cell_type": "markdown",
   "id": "4e1521d6-f6f4-41fd-9735-4118a5e8670d",
   "metadata": {},
   "source": [
    "### sol1"
   ]
  },
  {
   "cell_type": "code",
   "execution_count": 142,
   "id": "18e7ceb7-5f56-4b0b-8901-a0c3a3fc7625",
   "metadata": {},
   "outputs": [],
   "source": [
    "# 데이터 분리\n",
    "X = train.drop(['ID', 'TravelInsurance'], axis=1)\n",
    "y = train['TravelInsurance']\n",
    "test_id = test.pop('ID')"
   ]
  },
  {
   "cell_type": "code",
   "execution_count": 143,
   "id": "49a074a2-0892-4770-9f5c-4679a5584b4e",
   "metadata": {},
   "outputs": [
    {
     "name": "stdout",
     "output_type": "stream",
     "text": [
      "(1490, 12)\n",
      "(497, 12)\n"
     ]
    }
   ],
   "source": [
    "# 원핫 인코딩\n",
    "\n",
    "X = pd.get_dummies(X)\n",
    "print(X.shape)\n",
    "test = pd.get_dummies(test)\n",
    "print(test.shape)"
   ]
  },
  {
   "cell_type": "code",
   "execution_count": 144,
   "id": "24ea2461-3d69-47f1-b45d-a8dcaab3a973",
   "metadata": {},
   "outputs": [
    {
     "name": "stdout",
     "output_type": "stream",
     "text": [
      "roc_auc : 0.7457550125313283\n"
     ]
    }
   ],
   "source": [
    "# 학습 데이터 / 검증 데이터 분리\n",
    "X_train, X_val, y_train, y_val = train_test_split(X, y, stratify=y, random_state=random_state)\n",
    "\n",
    "# 학습\n",
    "model = RandomForestClassifier(random_state=random_state)\n",
    "model.fit(X_train, y_train)\n",
    "\n",
    "# 검증 데이터 추론\n",
    "pred_val = model.predict_proba(X_val)[:, 1]\n",
    "\n",
    "# 검증 데이터 평가\n",
    "score_val = roc_auc_score(y_val, pred_val)\n",
    "print('roc_auc :', score_val)\n",
    "\n",
    "# 테스트 데이터 추론\n",
    "pred_test = model.predict_proba(test)[:, 1]\n",
    "\n",
    "# 제출\n",
    "submission = pd.DataFrame({'ID': test_id, 'proba': pred_test})\n",
    "submission.to_csv('00000.csv', index=False)"
   ]
  },
  {
   "cell_type": "markdown",
   "id": "c204d8b6-24de-4deb-9633-6a54da1627a5",
   "metadata": {},
   "source": [
    "### sol2"
   ]
  },
  {
   "cell_type": "code",
   "execution_count": 145,
   "id": "7b1455d3-837e-440f-acda-f795762fd4ce",
   "metadata": {},
   "outputs": [],
   "source": [
    "# 데이터 정리\n",
    "# ID : id\n",
    "# Age : 수치형-이산형\n",
    "# Employment Type : 범주형-명목형. 이진데이터. 오디널인코딩 필요\n",
    "# GraduateOrNot : 범주형-명목형. 이진데이터. 오디널인코딩 필요\n",
    "# AnnualIncome : 수치형-연속형. min-max 정규화 필요\n",
    "# FamilyMembers : 수치형-이산형. \n",
    "# ChronicDiseases : 범주형-명목형. 이진데이터.\n",
    "# FrequentFlyer : 범주형-명목형. 이진데이터. 오디널인코딩 필요\n",
    "# EverTravelledAbroad : 범주형-명목형. 이진데이터. 오디널인코딩 필요\n",
    "# TravelInsurance : 타켓변수, 범주형-명목형"
   ]
  },
  {
   "cell_type": "code",
   "execution_count": 146,
   "id": "90d751aa-f11d-456f-96f3-32a55debd145",
   "metadata": {},
   "outputs": [
    {
     "data": {
      "text/html": [
       "<div>\n",
       "<style scoped>\n",
       "    .dataframe tbody tr th:only-of-type {\n",
       "        vertical-align: middle;\n",
       "    }\n",
       "\n",
       "    .dataframe tbody tr th {\n",
       "        vertical-align: top;\n",
       "    }\n",
       "\n",
       "    .dataframe thead th {\n",
       "        text-align: right;\n",
       "    }\n",
       "</style>\n",
       "<table border=\"1\" class=\"dataframe\">\n",
       "  <thead>\n",
       "    <tr style=\"text-align: right;\">\n",
       "      <th></th>\n",
       "      <th>ID</th>\n",
       "      <th>Age</th>\n",
       "      <th>Employment Type</th>\n",
       "      <th>GraduateOrNot</th>\n",
       "      <th>AnnualIncome</th>\n",
       "      <th>FamilyMembers</th>\n",
       "      <th>ChronicDiseases</th>\n",
       "      <th>FrequentFlyer</th>\n",
       "      <th>EverTravelledAbroad</th>\n",
       "      <th>TravelInsurance</th>\n",
       "    </tr>\n",
       "  </thead>\n",
       "  <tbody>\n",
       "    <tr>\n",
       "      <th>0</th>\n",
       "      <td>1008</td>\n",
       "      <td>26</td>\n",
       "      <td>Private Sector/Self Employed</td>\n",
       "      <td>Yes</td>\n",
       "      <td>1400000</td>\n",
       "      <td>5</td>\n",
       "      <td>0</td>\n",
       "      <td>No</td>\n",
       "      <td>Yes</td>\n",
       "      <td>1</td>\n",
       "    </tr>\n",
       "    <tr>\n",
       "      <th>1</th>\n",
       "      <td>199</td>\n",
       "      <td>30</td>\n",
       "      <td>Private Sector/Self Employed</td>\n",
       "      <td>No</td>\n",
       "      <td>1450000</td>\n",
       "      <td>5</td>\n",
       "      <td>0</td>\n",
       "      <td>Yes</td>\n",
       "      <td>Yes</td>\n",
       "      <td>1</td>\n",
       "    </tr>\n",
       "    <tr>\n",
       "      <th>2</th>\n",
       "      <td>86</td>\n",
       "      <td>32</td>\n",
       "      <td>Government Sector</td>\n",
       "      <td>Yes</td>\n",
       "      <td>900000</td>\n",
       "      <td>4</td>\n",
       "      <td>0</td>\n",
       "      <td>No</td>\n",
       "      <td>No</td>\n",
       "      <td>0</td>\n",
       "    </tr>\n",
       "    <tr>\n",
       "      <th>3</th>\n",
       "      <td>560</td>\n",
       "      <td>26</td>\n",
       "      <td>Private Sector/Self Employed</td>\n",
       "      <td>Yes</td>\n",
       "      <td>1400000</td>\n",
       "      <td>7</td>\n",
       "      <td>0</td>\n",
       "      <td>No</td>\n",
       "      <td>Yes</td>\n",
       "      <td>1</td>\n",
       "    </tr>\n",
       "    <tr>\n",
       "      <th>4</th>\n",
       "      <td>161</td>\n",
       "      <td>34</td>\n",
       "      <td>Private Sector/Self Employed</td>\n",
       "      <td>No</td>\n",
       "      <td>1400000</td>\n",
       "      <td>3</td>\n",
       "      <td>1</td>\n",
       "      <td>No</td>\n",
       "      <td>Yes</td>\n",
       "      <td>1</td>\n",
       "    </tr>\n",
       "  </tbody>\n",
       "</table>\n",
       "</div>"
      ],
      "text/plain": [
       "     ID  Age               Employment Type GraduateOrNot  AnnualIncome  \\\n",
       "0  1008   26  Private Sector/Self Employed           Yes       1400000   \n",
       "1   199   30  Private Sector/Self Employed            No       1450000   \n",
       "2    86   32             Government Sector           Yes        900000   \n",
       "3   560   26  Private Sector/Self Employed           Yes       1400000   \n",
       "4   161   34  Private Sector/Self Employed            No       1400000   \n",
       "\n",
       "   FamilyMembers  ChronicDiseases FrequentFlyer EverTravelledAbroad  \\\n",
       "0              5                0            No                 Yes   \n",
       "1              5                0           Yes                 Yes   \n",
       "2              4                0            No                  No   \n",
       "3              7                0            No                 Yes   \n",
       "4              3                1            No                 Yes   \n",
       "\n",
       "   TravelInsurance  \n",
       "0                1  \n",
       "1                1  \n",
       "2                0  \n",
       "3                1  \n",
       "4                1  "
      ]
     },
     "execution_count": 146,
     "metadata": {},
     "output_type": "execute_result"
    }
   ],
   "source": [
    "import pandas as pd\n",
    "train = pd.read_csv('https://raw.githubusercontent.com/Datamanim/datarepo/main/krdatacertificate/e3_p2_train_.csv')\n",
    "test = pd.read_csv('https://raw.githubusercontent.com/Datamanim/datarepo/main/krdatacertificate/e3_p2_test_.csv')\n",
    "train.head()"
   ]
  },
  {
   "cell_type": "code",
   "execution_count": 147,
   "id": "abb16ced-40a3-4e27-a860-fb9387863a9e",
   "metadata": {},
   "outputs": [],
   "source": [
    "X = train.drop(['ID', 'TravelInsurance'], axis=1)\n",
    "y = train['TravelInsurance']\n",
    "test_id = test.pop('ID')"
   ]
  },
  {
   "cell_type": "code",
   "execution_count": 148,
   "id": "b120afaa-1455-4b45-bff7-e83c3dc2d1de",
   "metadata": {},
   "outputs": [],
   "source": [
    "# 오디널 인코딩 - 범주형-명목형이면서 이진데이터일 경우 사용\n",
    "from sklearn.preprocessing import OrdinalEncoder\n",
    "\n",
    "od = OrdinalEncoder()\n",
    "trg_columns = ['Employment Type', 'GraduateOrNot', 'FrequentFlyer', 'EverTravelledAbroad']\n",
    "X[trg_columns] = od.fit_transform(X[trg_columns])\n",
    "test[trg_columns] = od.transform(test[trg_columns])"
   ]
  },
  {
   "cell_type": "code",
   "execution_count": 149,
   "id": "94d848b1-1d8d-41c7-9529-a7a69d814ca2",
   "metadata": {},
   "outputs": [],
   "source": [
    "# # Min-Max 정규화\n",
    "# from sklearn.preprocessing import MinMaxScaler\n",
    "\n",
    "# scaler = MinMaxScaler()\n",
    "# X['AnnualIncome'] = scaler.fit_transform(X['AnnualIncome'].to_numpy().reshape(-1, 1))"
   ]
  },
  {
   "cell_type": "code",
   "execution_count": 150,
   "id": "187bd1de-0927-419e-a081-3a6ef38438ea",
   "metadata": {
    "tags": []
   },
   "outputs": [
    {
     "name": "stdout",
     "output_type": "stream",
     "text": [
      "roc_auc : 0.7482299498746868\n"
     ]
    }
   ],
   "source": [
    "# 학습 데이터 / 검증 데이터 분리\n",
    "X_train, X_val, y_train, y_val = train_test_split(X, y, stratify=y, random_state=random_state)\n",
    "\n",
    "# 학습\n",
    "# from xgboost import XGBClassifier\n",
    "# from lightgbm import LGBMClassifier\n",
    "# model = LGBMClassifier()\n",
    "# model = XGBClassifier(random_state=random_state)\n",
    "model = RandomForestClassifier(random_state=random_state)\n",
    "# from catboost import CatBoostClassifier\n",
    "# model = CatBoostClassifier(verbose=False)\n",
    "model.fit(X_train, y_train)\n",
    "\n",
    "# 검증 데이터 추론\n",
    "pred_val = model.predict_proba(X_val)[:, 1]\n",
    "\n",
    "# 검증 데이터 평가\n",
    "score_val = roc_auc_score(y_val, pred_val)\n",
    "print('roc_auc :', score_val)\n",
    "\n",
    "# 테스트 데이터 추론\n",
    "pred_test = model.predict_proba(test)[:, 1]\n",
    "\n",
    "# 제출\n",
    "submission = pd.DataFrame({'ID': test_id, 'proba': pred_test})\n",
    "submission.to_csv('00000.csv', index=False)"
   ]
  },
  {
   "cell_type": "markdown",
   "id": "2da5697d-5ac3-4c3d-ac82-efef49e30b3b",
   "metadata": {},
   "source": [
    "# 작업 3유형\n"
   ]
  },
  {
   "cell_type": "markdown",
   "id": "403f1482-1ed6-43ab-b60e-e46c0f14c6e0",
   "metadata": {},
   "source": [
    "### 가설 설정 기준\n",
    "- 귀무가설 (H0) : 현 상태나 기본적인 가정, 변화가 없다는 가정, 즉 \"차이가 없다\"거나 \"효과가 없다\"는 가정\n",
    "- 대립가설 (H1) : 새로운 상태나 변화가 있다는 가정, 즉 \"차이가 있다\"거나 \"효과가 있다\"는 가정"
   ]
  },
  {
   "cell_type": "markdown",
   "id": "8931a52f-ed16-4bb1-8d76-f0a489928672",
   "metadata": {},
   "source": [
    "### 카이제곱 검정(Chi-squared Test)\n",
    "- 관찰된 빈도와 기대 빈도 사이의 차이를 평가하는 데 사용\n",
    "- 귀무가설 : 관찰된 빈도와 기대 빈도 사이에 차이가 없다.\n",
    "- 대립가설 : 관찰된 빈도와 기대 빈도 사이에 차이가 있다."
   ]
  },
  {
   "cell_type": "markdown",
   "id": "d1760a94-56a5-497b-9188-8e56e7906a8c",
   "metadata": {},
   "source": [
    "## 3-1\n",
    "투약 후 체중에서 투약 전 체중을 뺏을 때 값은 일반 적으로 세가지 등급으로 나눈다. -3이하 : A등급, -3초과 0이하 : B등급, 0 초과 : C등급. 약 실험에서 A,B,C 그룹간의 인원 수 비율은 2:1:1로 알려져 있다. 위 데이터 표본은 각 범주의 비율에 적합한지 카이제곱 검정하려한다."
   ]
  },
  {
   "cell_type": "code",
   "execution_count": 151,
   "id": "8a9a9e18-d605-4174-90c4-b3f4a67eb3e0",
   "metadata": {},
   "outputs": [
    {
     "data": {
      "text/html": [
       "<div>\n",
       "<style scoped>\n",
       "    .dataframe tbody tr th:only-of-type {\n",
       "        vertical-align: middle;\n",
       "    }\n",
       "\n",
       "    .dataframe tbody tr th {\n",
       "        vertical-align: top;\n",
       "    }\n",
       "\n",
       "    .dataframe thead th {\n",
       "        text-align: right;\n",
       "    }\n",
       "</style>\n",
       "<table border=\"1\" class=\"dataframe\">\n",
       "  <thead>\n",
       "    <tr style=\"text-align: right;\">\n",
       "      <th></th>\n",
       "      <th>ID</th>\n",
       "      <th>투약전</th>\n",
       "      <th>투약후</th>\n",
       "    </tr>\n",
       "  </thead>\n",
       "  <tbody>\n",
       "    <tr>\n",
       "      <th>0</th>\n",
       "      <td>user_1</td>\n",
       "      <td>55.137</td>\n",
       "      <td>56.106</td>\n",
       "    </tr>\n",
       "    <tr>\n",
       "      <th>1</th>\n",
       "      <td>user_2</td>\n",
       "      <td>66.584</td>\n",
       "      <td>60.409</td>\n",
       "    </tr>\n",
       "    <tr>\n",
       "      <th>2</th>\n",
       "      <td>user_3</td>\n",
       "      <td>52.259</td>\n",
       "      <td>50.639</td>\n",
       "    </tr>\n",
       "    <tr>\n",
       "      <th>3</th>\n",
       "      <td>user_4</td>\n",
       "      <td>77.081</td>\n",
       "      <td>69.164</td>\n",
       "    </tr>\n",
       "    <tr>\n",
       "      <th>4</th>\n",
       "      <td>user_5</td>\n",
       "      <td>62.677</td>\n",
       "      <td>57.622</td>\n",
       "    </tr>\n",
       "  </tbody>\n",
       "</table>\n",
       "</div>"
      ],
      "text/plain": [
       "       ID     투약전     투약후\n",
       "0  user_1  55.137  56.106\n",
       "1  user_2  66.584  60.409\n",
       "2  user_3  52.259  50.639\n",
       "3  user_4  77.081  69.164\n",
       "4  user_5  62.677  57.622"
      ]
     },
     "execution_count": 151,
     "metadata": {},
     "output_type": "execute_result"
    }
   ],
   "source": [
    "import pandas as pd \n",
    "df= pd.read_csv('https://raw.githubusercontent.com/Datamanim/datarepo/main/krdatacertificate/e3_p3_1.csv')\n",
    "df.head()"
   ]
  },
  {
   "cell_type": "markdown",
   "id": "d5d225d4-8705-41e2-8a89-778939763b84",
   "metadata": {},
   "source": [
    "### 3-1-a\n",
    "A등급에 해당하는 유저는 몇명인지 확인하라"
   ]
  },
  {
   "cell_type": "code",
   "execution_count": 152,
   "id": "0189eb45-82cc-4a8e-9e28-78cef2ede068",
   "metadata": {},
   "outputs": [],
   "source": [
    "df['등급'] = df['투약후'] - df['투약전']"
   ]
  },
  {
   "cell_type": "code",
   "execution_count": 153,
   "id": "727bd069-8446-443b-beac-122e5bd45bfd",
   "metadata": {},
   "outputs": [],
   "source": [
    "def convert_grade(x):\n",
    "    if x > 0:\n",
    "        return 'C'\n",
    "    elif -3 < x <= 0:\n",
    "        return 'B'\n",
    "    else:\n",
    "        return 'A'\n",
    "\n",
    "df['등급'] = df['등급'].apply(convert_grade)"
   ]
  },
  {
   "cell_type": "code",
   "execution_count": 154,
   "id": "889edb26-1c60-4cfe-b4e8-6e6c4096ad43",
   "metadata": {},
   "outputs": [
    {
     "name": "stdout",
     "output_type": "stream",
     "text": [
      "121\n"
     ]
    }
   ],
   "source": [
    "ans = df[df['등급'] == 'A'].shape[0]\n",
    "print(ans)"
   ]
  },
  {
   "cell_type": "markdown",
   "id": "e029ec64-d8b0-4753-b75f-ba34326caa2e",
   "metadata": {},
   "source": [
    "### 3-1-b\n",
    "카이제곱검정 통계량을 반올림하여 소숫점 이하 3째자리까지 구하여라"
   ]
  },
  {
   "cell_type": "code",
   "execution_count": 155,
   "id": "0ab15832-2e54-4338-8832-94e488422263",
   "metadata": {},
   "outputs": [],
   "source": [
    "observed = df['등급'].value_counts().to_list()"
   ]
  },
  {
   "cell_type": "code",
   "execution_count": 156,
   "id": "e10c0fe9-a4b3-4f47-94ae-ac22b9f6902c",
   "metadata": {},
   "outputs": [
    {
     "data": {
      "text/plain": [
       "[121, 67, 47]"
      ]
     },
     "execution_count": 156,
     "metadata": {},
     "output_type": "execute_result"
    }
   ],
   "source": [
    "observed"
   ]
  },
  {
   "cell_type": "code",
   "execution_count": 157,
   "id": "e25946a4-9c18-4b59-8f9b-9beb5f49d4a0",
   "metadata": {},
   "outputs": [
    {
     "data": {
      "text/plain": [
       "[117.5, 58.75, 58.75]"
      ]
     },
     "execution_count": 157,
     "metadata": {},
     "output_type": "execute_result"
    }
   ],
   "source": [
    "expected = [df.shape[0] * 0.5, df.shape[0] * 0.25, df.shape[0] * 0.25]\n",
    "expected"
   ]
  },
  {
   "cell_type": "code",
   "execution_count": 158,
   "id": "afa14f62-02e8-458d-9891-923f4e6910c4",
   "metadata": {},
   "outputs": [],
   "source": [
    "from scipy.stats import chisquare"
   ]
  },
  {
   "cell_type": "code",
   "execution_count": 159,
   "id": "9dcf6221-5714-4c17-a165-73da0eb29a54",
   "metadata": {},
   "outputs": [],
   "source": [
    "chi2, p_value = chisquare(observed, expected)"
   ]
  },
  {
   "cell_type": "code",
   "execution_count": 160,
   "id": "0ae5d171-8f8c-4379-bfc3-b5b0ec142ba3",
   "metadata": {},
   "outputs": [
    {
     "name": "stdout",
     "output_type": "stream",
     "text": [
      "3.613\n"
     ]
    }
   ],
   "source": [
    "ans = round(chi2, 3)\n",
    "print(ans)"
   ]
  },
  {
   "cell_type": "markdown",
   "id": "a52a956e-65c2-4556-8b28-f2317a4bcc82",
   "metadata": {},
   "source": [
    "### 3-1-c\n",
    "카이제곱 검정 p값을 반올림하여 소숫점 이하 3자리까지 구하고, 유의수준 0.05하에서 귀무가설과 대립가설중 유의한 가설을 하나를 선택하시오(귀무/대립)"
   ]
  },
  {
   "cell_type": "code",
   "execution_count": 169,
   "id": "ffc57f63-e1d8-4421-935f-6178fb37054f",
   "metadata": {},
   "outputs": [
    {
     "name": "stdout",
     "output_type": "stream",
     "text": [
      "p-value: 0.009\n",
      "대립가설 채택 : 관찰된 빈도는 기대된 비율 2:1:1과 다르다.\n",
      "표본 데이터가 주어진 기대 비율과 통계적으로 유의미한 차이가 있다.\n"
     ]
    }
   ],
   "source": [
    "ans = round(p_value, 3)\n",
    "print('p-value:', ans)\n",
    "\n",
    "alpha = 0.05\n",
    "\n",
    "if p_value < alpha:\n",
    "    print('대립가설 채택 : 관찰된 빈도는 기대된 비율 2:1:1과 다르다.')\n",
    "    print(\"표본 데이터가 주어진 기대 비율과 통계적으로 유의미한 차이가 있다.\")\n",
    "else:\n",
    "    print('귀무가설 채택 : 관찰된 빈도는 기대된 비율 2:1:1과 다르지 않다.')\n",
    "    print(\"표본 데이터가 주어진 기대 비율과 통계적으로 유의미한 차이가 없다.\")\n",
    "    "
   ]
  },
  {
   "cell_type": "markdown",
   "id": "545eb618-1749-446b-84ab-99e27925e8ce",
   "metadata": {},
   "source": [
    "## 3-2\n",
    "A,B 공장에서 생산한 기계들의 rpm 값들을 기록한 데이터이다. 대응 표본 t 검정을 통해 B공장 제품들이 A 공장 제품들보다 rpm이 높다고 말할 수 있는지 검정하려한다"
   ]
  },
  {
   "cell_type": "code",
   "execution_count": 162,
   "id": "8dabd2a5-2fa6-4441-acca-b96f7efd2112",
   "metadata": {},
   "outputs": [
    {
     "data": {
      "text/html": [
       "<div>\n",
       "<style scoped>\n",
       "    .dataframe tbody tr th:only-of-type {\n",
       "        vertical-align: middle;\n",
       "    }\n",
       "\n",
       "    .dataframe tbody tr th {\n",
       "        vertical-align: top;\n",
       "    }\n",
       "\n",
       "    .dataframe thead th {\n",
       "        text-align: right;\n",
       "    }\n",
       "</style>\n",
       "<table border=\"1\" class=\"dataframe\">\n",
       "  <thead>\n",
       "    <tr style=\"text-align: right;\">\n",
       "      <th></th>\n",
       "      <th>rpm</th>\n",
       "      <th>group</th>\n",
       "    </tr>\n",
       "  </thead>\n",
       "  <tbody>\n",
       "    <tr>\n",
       "      <th>0</th>\n",
       "      <td>163.6</td>\n",
       "      <td>A</td>\n",
       "    </tr>\n",
       "    <tr>\n",
       "      <th>1</th>\n",
       "      <td>246.9</td>\n",
       "      <td>A</td>\n",
       "    </tr>\n",
       "    <tr>\n",
       "      <th>2</th>\n",
       "      <td>234.9</td>\n",
       "      <td>A</td>\n",
       "    </tr>\n",
       "    <tr>\n",
       "      <th>3</th>\n",
       "      <td>156.9</td>\n",
       "      <td>A</td>\n",
       "    </tr>\n",
       "    <tr>\n",
       "      <th>4</th>\n",
       "      <td>226.6</td>\n",
       "      <td>A</td>\n",
       "    </tr>\n",
       "  </tbody>\n",
       "</table>\n",
       "</div>"
      ],
      "text/plain": [
       "     rpm group\n",
       "0  163.6     A\n",
       "1  246.9     A\n",
       "2  234.9     A\n",
       "3  156.9     A\n",
       "4  226.6     A"
      ]
     },
     "execution_count": 162,
     "metadata": {},
     "output_type": "execute_result"
    }
   ],
   "source": [
    "import pandas as pd\n",
    "df = pd.read_csv('https://raw.githubusercontent.com/Datamanim/datarepo/main/krdatacertificate/e3_p3_2_.csv')\n",
    "df.head()"
   ]
  },
  {
   "cell_type": "markdown",
   "id": "15c594ea-b48b-4cd3-829c-eac27190c082",
   "metadata": {},
   "source": [
    "### 3-2-a\n",
    "A,B 공장 각각 정규성을 가지는지(정규 분포를 따르는지) 샤피로 검정을 통해 확인하라. (각 공장의 pvalue 출력할 것)\n",
    "\n"
   ]
  },
  {
   "cell_type": "markdown",
   "id": "d0d39329-94c5-4567-b1f7-9c11a3412f51",
   "metadata": {},
   "source": [
    "### Shapiro-Wilk 검정\n",
    "- 데이터가 정규 분포를 따르는지 평가하기 위한 통계적 검정 방법\n",
    "- 특히 표본 크기가 50 미만처럼 작을 때 유용\n",
    "- 귀무 가설 (H0): 데이터가 정규 분포를 따른다.\n",
    "- 대립 가설 (H1): 데이터가 정규 분포를 따르지 않는다."
   ]
  },
  {
   "cell_type": "code",
   "execution_count": 163,
   "id": "3658d84d-a818-459c-a35b-eb2d93af579a",
   "metadata": {},
   "outputs": [],
   "source": [
    "from scipy.stats import shapiro"
   ]
  },
  {
   "cell_type": "code",
   "execution_count": 164,
   "id": "48d1a05a-f3aa-497c-8927-0cce50a3cffb",
   "metadata": {},
   "outputs": [
    {
     "name": "stdout",
     "output_type": "stream",
     "text": [
      "A 공장 p-value : 0.397915244102478\n",
      "B 공장 p-value : 0.9562830924987793\n",
      "귀무가설 채택 : A공장 데이터가 정규 분포를 따른다.\n",
      "귀무가설 채택 : B공장 데이터가 정규 분포를 따른다.\n"
     ]
    }
   ],
   "source": [
    "a = df[df['group'] == 'A']['rpm']\n",
    "b = df[df['group'] == 'B']['rpm']\n",
    "\n",
    "s, a_pvalue = shapiro(a)\n",
    "s, b_pvalue = shapiro(b)\n",
    "\n",
    "alpha = 0.05\n",
    "\n",
    "print('A 공장 p-value :', a_pvalue)\n",
    "print('B 공장 p-value :', b_pvalue)\n",
    "\n",
    "if a_pvalue < alpha:\n",
    "    print('대립가설 채택 : A공장 데이터가 정규 분포를 따르지 않는다.')\n",
    "else:\n",
    "    print('귀무가설 채택 : A공장 데이터가 정규 분포를 따른다.')\n",
    "\n",
    "if b_pvalue < alpha:\n",
    "    print('대립가설 채택 : B공장 데이터가 정규 분포를 따르지 않는다.')\n",
    "else:\n",
    "    print('귀무가설 채택 : B공장 데이터가 정규 분포를 따른다.')"
   ]
  },
  {
   "cell_type": "markdown",
   "id": "61f0e8fc-f973-48e9-be2d-7ff311b53371",
   "metadata": {},
   "source": [
    "### 3-2-b\n",
    "A,B 공장이 등분산성을 가지는지 검정을 통해 확인하라."
   ]
  },
  {
   "cell_type": "markdown",
   "id": "54b74ae3-1070-4b0e-a90e-1356caf4c97d",
   "metadata": {},
   "source": [
    "#### 등분산성 검정\n",
    "- 두 개 이상의 그룹이나 조건 간에 데이터의 분산 동일한지 검정\n",
    "- 귀무 가설 (H0): 모든 그룹 또는 조건의 분산이 동일하다.\n",
    "- 대립 가설 (H1): 적어도 하나의 그룹 또는 조건의 분산이 다르다.\n",
    "- **레베인 테스트(Levene`s test)**\n",
    "    - 데이터가 정규분포를 따르지 않더라도 사용할 수 있는 비모수적 검정 방법\n",
    "- **바틀렛츠 테스트(Bartlett`s test)**\n",
    "    - 데이터가 정규분포를 따른다고 가정하고 사용하는 검정 방법\n",
    "    - 정규성을 가정하기 때문에 데이터가 정규 분포를 따를 때 더 적합\n",
    "- 등분산성을 검정 하는 이유?\n",
    "    - 예를 들어, 분산 분석(ANOVA)에서 그룹 간의 평균 차이를 비교할 때, 그룹 간의 분산이 동일하다고 가정하는 것이 일반적이다. 만약 등분산성이 충족되지 않은 상태에서 분산 분석 수행 시 잘못된 결론에 이를 수 있다.\n",
    "        - F-통계량의 정확성: ANOVA는 등분산성을 가정하고 있기 때문에, 그룹 간의 분산이 동일하다는 가정이 위배될 경우 F-통계량의 정확성이 떨어질 수 있습니다. 이는 그룹 간의 평균 차이를 평가하는데 영향을 줄 수 있습니다.\n",
    "        - Type I 오류의 증가: 등분산성이 충족되지 않은 상태에서 ANOVA를 수행하면, 실제로는 그룹 간에 유의미한 차이가 없음에도 불구하고 잘못된 유의미성을 감지할 수 있는 위험이 있습니다. 즉, Type I 오류(귀무 가설이 참일 때 기각하는 오류)의 발생 가능성이 증가합니다.\n",
    "\n",
    "        - 신뢰구간의 부정확성: 등분산성이 충족되지 않으면 ANOVA에서 계산된 신뢰구간도 부정확해질 수 있습니다. 이는 그룹 간 차이의 범위를 추정하는 데 문제가 발생할 수 있음을 의미합니다.\n",
    "\n",
    "    - 따라서, 등분산성을 충족하지 않는 경우 ANOVA를 진행하기 전에 다른 방법을 고려하는 것이 중요합니다. 이런 경우에는\n",
    "        - 등분산성을 가정하지 않는 분산 분석 방법(예: Welch's ANOVA)을 사용할 수 있습니다. 이 방법은 등분산성을 가정하지 않고도 그룹 간 평균 차이를 비교할 수 있는 방법을 제공합니다.\n",
    "\n",
    "        - 비모수적 검정 방법(예: Kruskal-Wallis 검정)을 사용할 수도 있습니다. 비모수적 방법은 데이터의 분포에 대한 가정이 적은 경우에 유용합니다."
   ]
  },
  {
   "cell_type": "code",
   "execution_count": 165,
   "id": "528354aa-ed75-400e-982e-823c07563e63",
   "metadata": {},
   "outputs": [
    {
     "name": "stdout",
     "output_type": "stream",
     "text": [
      "0.904\n",
      "귀무가설 채택: 모든 그룹 또는 조건의 분산이 동일하다.\n"
     ]
    }
   ],
   "source": [
    "# levene`s test\n",
    "from scipy.stats import levene\n",
    "s, p_value = levene(a, b)\n",
    "\n",
    "ans = round(p_value, 3)\n",
    "print(ans)\n",
    "\n",
    "alpha = 0.05\n",
    "\n",
    "if p_value < alpha:\n",
    "    print('대립가설 채택: 적어도 하나의 그룹 또는 조건의 분산이 다르다.')\n",
    "else:\n",
    "    print('귀무가설 채택: 모든 그룹 또는 조건의 분산이 동일하다.')"
   ]
  },
  {
   "cell_type": "code",
   "execution_count": 166,
   "id": "7ebcc676-bed7-45e4-aa54-e8f882d11aea",
   "metadata": {},
   "outputs": [
    {
     "name": "stdout",
     "output_type": "stream",
     "text": [
      "0.893\n",
      "귀무가설 채택: 모든 그룹 또는 조건의 분산이 동일하다.\n"
     ]
    }
   ],
   "source": [
    "# bartlett`s test\n",
    "from scipy.stats import bartlett\n",
    "s, p_value = bartlett(a, b)\n",
    "\n",
    "ans = round(p_value, 3)\n",
    "print(ans)\n",
    "\n",
    "alpha = 0.05\n",
    "\n",
    "if p_value < alpha:\n",
    "    print('대립가설 채택: 적어도 하나의 그룹 또는 조건의 분산이 다르다.')\n",
    "else:\n",
    "    print('귀무가설 채택: 모든 그룹 또는 조건의 분산이 동일하다.')"
   ]
  },
  {
   "cell_type": "markdown",
   "id": "3fba1d86-47e4-46ac-8220-8c43dbbe2469",
   "metadata": {},
   "source": [
    "### 3-2-c\n",
    "대응 표본 t 검정을 통해 B공장 제품들의 rpm이 A 공장 제품의 rpm보다 크다고 말할 수 있는지 검정하라. pvalue를 소숫점 이하 3자리까지 출력하고 귀무가설, 대립가설 중 하나를  출력하라"
   ]
  },
  {
   "cell_type": "markdown",
   "id": "f1cd4262-5b05-4643-93cb-6914b8579c79",
   "metadata": {},
   "source": [
    "### 대응 표본 t 검정(related samples t-test)\n",
    "- 같은 개체나 그룹에서 조건이나 처리를 변경하고 나서 얻은 두 관측 값 집단의 차이를 평가\n",
    "- 귀무 가설 (H0): 두 집단의 평균 차이가 없다.\n",
    "- 대립 가설 (H1): 두 집단의 평균 차이가 있다.\n",
    "- 적용 예시\n",
    "    - 약의 효과를 평가하기 위해 환자들에게 약을 투여하기 전후의 측정치 비교\n",
    "    - 교육 프로그램이 학생들의 성적에 미치는 영향을 평가하기 위해 교육 전후의 성적을 비교\n",
    "    - 새로운 기계가 생산성에 미치는 영향을 평가하기 위해 기계 도입 전후의 생산성 비교\n",
    "- 주의사항\n",
    "    - 대응 표본 t 검정을 사용하기 전에 데이터가 정규 분포를 따르는지 확인하는 것이 중요합니다. Shapiro-Wilk 검정 등의 정규성 검정을 수행 후 사용해야 합니다.\n",
    "    - 데이터가 정규 분포를 따르지 않거나, 등분산성을 가정할 수 없는 경우에는 비모수적인 방법(Wilcoxon 검정)을 사용하는 것이 적절할 수 있습니다."
   ]
  },
  {
   "cell_type": "code",
   "execution_count": 167,
   "id": "736fc8ff-13d5-4d77-b1a5-8259adff27c1",
   "metadata": {},
   "outputs": [],
   "source": [
    "from scipy.stats import ttest_rel"
   ]
  },
  {
   "cell_type": "code",
   "execution_count": 168,
   "id": "82e10857-1cd8-454f-935c-8d8e3b670527",
   "metadata": {},
   "outputs": [
    {
     "name": "stdout",
     "output_type": "stream",
     "text": [
      "p-value: 0.009\n",
      "대립가설 채택 : B공장 제품들의 rpm이 A 공장 제품의 rpm보다 크다.\n"
     ]
    }
   ],
   "source": [
    "t, p_value = ttest_rel(b, a, alternative='greater')\n",
    "# t_statistic, p_value = ttest_rel(a, b, alternative='less')\n",
    "\n",
    "ans = round(p_value, 3)\n",
    "print('p-value:', ans)\n",
    "\n",
    "alpha = 0.05\n",
    "\n",
    "if p_value < alpha:\n",
    "    print('대립가설 채택 : B공장 제품들의 rpm이 A 공장 제품의 rpm보다 크다.')\n",
    "else:\n",
    "    print('귀무가설 채택 : B공장 제품들의 rpm이 A 공장 제품의 rpm보다 작거나 같다.')"
   ]
  },
  {
   "cell_type": "code",
   "execution_count": null,
   "id": "7fc06452-e85c-496f-9509-00da41251a95",
   "metadata": {},
   "outputs": [],
   "source": []
  }
 ],
 "metadata": {
  "kernelspec": {
   "display_name": "Python 3 (ipykernel)",
   "language": "python",
   "name": "python3"
  },
  "language_info": {
   "codemirror_mode": {
    "name": "ipython",
    "version": 3
   },
   "file_extension": ".py",
   "mimetype": "text/x-python",
   "name": "python",
   "nbconvert_exporter": "python",
   "pygments_lexer": "ipython3",
   "version": "3.7.15"
  }
 },
 "nbformat": 4,
 "nbformat_minor": 5
}
