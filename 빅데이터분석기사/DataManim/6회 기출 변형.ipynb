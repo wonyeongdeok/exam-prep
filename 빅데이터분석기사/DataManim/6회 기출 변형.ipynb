{
 "cells": [
  {
   "cell_type": "markdown",
   "id": "a783889b-5fa1-4a05-9414-ec397011b4d0",
   "metadata": {},
   "source": [
    "# 작업 1유형"
   ]
  },
  {
   "cell_type": "markdown",
   "id": "1aa44e96-1c46-4686-bc14-224e26190307",
   "metadata": {},
   "source": [
    "## 1-1\n",
    "각 구급 보고서 별 출동시각과 신고시각의 차이를 ‘소요시간’ 컬럼을 만들고 초(sec)단위로 구하고 소방서명 별 소요시간의 평균을 오름차순으로 정렬 했을때 3번째로 작은 소요시간의 값과 소방서명을  출력하라"
   ]
  },
  {
   "cell_type": "code",
   "execution_count": 1,
   "id": "1c774eaa-a99d-40b6-ae00-1ea46e4f8447",
   "metadata": {},
   "outputs": [
    {
     "data": {
      "text/html": [
       "<div>\n",
       "<style scoped>\n",
       "    .dataframe tbody tr th:only-of-type {\n",
       "        vertical-align: middle;\n",
       "    }\n",
       "\n",
       "    .dataframe tbody tr th {\n",
       "        vertical-align: top;\n",
       "    }\n",
       "\n",
       "    .dataframe thead th {\n",
       "        text-align: right;\n",
       "    }\n",
       "</style>\n",
       "<table border=\"1\" class=\"dataframe\">\n",
       "  <thead>\n",
       "    <tr style=\"text-align: right;\">\n",
       "      <th></th>\n",
       "      <th>구급보고서번호</th>\n",
       "      <th>소방서명</th>\n",
       "      <th>환자증상구분명1</th>\n",
       "      <th>신고일자</th>\n",
       "      <th>신고시각</th>\n",
       "      <th>출동일자</th>\n",
       "      <th>출동시각</th>\n",
       "      <th>환자직업명</th>\n",
       "      <th>사고발생장소</th>\n",
       "    </tr>\n",
       "  </thead>\n",
       "  <tbody>\n",
       "    <tr>\n",
       "      <th>0</th>\n",
       "      <td>20211122103M01526</td>\n",
       "      <td>중랑소방서</td>\n",
       "      <td>심계항진</td>\n",
       "      <td>20210330</td>\n",
       "      <td>104800</td>\n",
       "      <td>20210330</td>\n",
       "      <td>105042</td>\n",
       "      <td>무직</td>\n",
       "      <td>집</td>\n",
       "    </tr>\n",
       "    <tr>\n",
       "      <th>1</th>\n",
       "      <td>20211111105M00771</td>\n",
       "      <td>노원소방서</td>\n",
       "      <td>복통</td>\n",
       "      <td>20210412</td>\n",
       "      <td>225600</td>\n",
       "      <td>20210412</td>\n",
       "      <td>225827</td>\n",
       "      <td>기타</td>\n",
       "      <td>집</td>\n",
       "    </tr>\n",
       "    <tr>\n",
       "      <th>2</th>\n",
       "      <td>20211115104M00864</td>\n",
       "      <td>서초소방서</td>\n",
       "      <td>심계항진</td>\n",
       "      <td>20210303</td>\n",
       "      <td>194100</td>\n",
       "      <td>20210303</td>\n",
       "      <td>194500</td>\n",
       "      <td>직장인</td>\n",
       "      <td>상업시설</td>\n",
       "    </tr>\n",
       "    <tr>\n",
       "      <th>3</th>\n",
       "      <td>20211113107M01869</td>\n",
       "      <td>마포소방서</td>\n",
       "      <td>고열</td>\n",
       "      <td>20211225</td>\n",
       "      <td>235400</td>\n",
       "      <td>20211226</td>\n",
       "      <td>331</td>\n",
       "      <td>유아</td>\n",
       "      <td>집</td>\n",
       "    </tr>\n",
       "    <tr>\n",
       "      <th>4</th>\n",
       "      <td>20211118102M05820</td>\n",
       "      <td>강동소방서</td>\n",
       "      <td>고열</td>\n",
       "      <td>20211019</td>\n",
       "      <td>12100</td>\n",
       "      <td>20211019</td>\n",
       "      <td>12322</td>\n",
       "      <td>무직</td>\n",
       "      <td>집</td>\n",
       "    </tr>\n",
       "  </tbody>\n",
       "</table>\n",
       "</div>"
      ],
      "text/plain": [
       "             구급보고서번호   소방서명 환자증상구분명1      신고일자    신고시각      출동일자    출동시각  \\\n",
       "0  20211122103M01526  중랑소방서     심계항진  20210330  104800  20210330  105042   \n",
       "1  20211111105M00771  노원소방서       복통  20210412  225600  20210412  225827   \n",
       "2  20211115104M00864  서초소방서     심계항진  20210303  194100  20210303  194500   \n",
       "3  20211113107M01869  마포소방서       고열  20211225  235400  20211226     331   \n",
       "4  20211118102M05820  강동소방서       고열  20211019   12100  20211019   12322   \n",
       "\n",
       "  환자직업명 사고발생장소  \n",
       "0    무직      집  \n",
       "1    기타      집  \n",
       "2   직장인   상업시설  \n",
       "3    유아      집  \n",
       "4    무직      집  "
      ]
     },
     "execution_count": 1,
     "metadata": {},
     "output_type": "execute_result"
    }
   ],
   "source": [
    "import pandas as pd\n",
    "df = pd.read_csv('https://raw.githubusercontent.com/Datamanim/datarepo/main/krdatacertificate/e6_p1_1.csv')\n",
    "df.head(5)"
   ]
  },
  {
   "cell_type": "code",
   "execution_count": 2,
   "id": "eb21cc0e-4b46-42f7-baa6-5a7e808315ea",
   "metadata": {},
   "outputs": [
    {
     "data": {
      "text/plain": [
       "['종로소방서', 175.5]"
      ]
     },
     "execution_count": 2,
     "metadata": {},
     "output_type": "execute_result"
    }
   ],
   "source": [
    "df['출동일시'] = pd.to_datetime(df['출동일자'].astype(str) + df['출동시각'].astype(str).str.zfill(6))\n",
    "df['신고일시'] = pd.to_datetime(df['신고일자'].astype(str) + df['신고시각'].astype(str).str.zfill(6))\n",
    "\n",
    "df['소요시간'] = (df['출동일시'] - df['신고일시']).dt.total_seconds()\n",
    "\n",
    "df.groupby(['소방서명'])['소요시간'].mean().sort_values().reset_index().iloc[2].to_list()"
   ]
  },
  {
   "cell_type": "markdown",
   "id": "826f7ca7-9673-46ec-bbb4-13b2d008cabd",
   "metadata": {},
   "source": [
    "## 1-2\n",
    "학교 세부유형이 일반중학교인 학교들 중 일반중학교 숫자가 2번째로 많은 시도의 일반중학교 데이터만 필터하여 해당 시도의 교원 한명 당 맡은 학생수가 가장 많은 학교를 찾아서 해당 학교의 교원수를  출력하라"
   ]
  },
  {
   "cell_type": "code",
   "execution_count": 3,
   "id": "f060029c-e063-4d6b-b9f2-a20ea9730ecf",
   "metadata": {},
   "outputs": [
    {
     "data": {
      "text/html": [
       "<div>\n",
       "<style scoped>\n",
       "    .dataframe tbody tr th:only-of-type {\n",
       "        vertical-align: middle;\n",
       "    }\n",
       "\n",
       "    .dataframe tbody tr th {\n",
       "        vertical-align: top;\n",
       "    }\n",
       "\n",
       "    .dataframe thead th {\n",
       "        text-align: right;\n",
       "    }\n",
       "</style>\n",
       "<table border=\"1\" class=\"dataframe\">\n",
       "  <thead>\n",
       "    <tr style=\"text-align: right;\">\n",
       "      <th></th>\n",
       "      <th>학교명</th>\n",
       "      <th>시도</th>\n",
       "      <th>학교세부유형</th>\n",
       "      <th>일반학급_학생수_계</th>\n",
       "      <th>교원수_총계_계</th>\n",
       "    </tr>\n",
       "  </thead>\n",
       "  <tbody>\n",
       "    <tr>\n",
       "      <th>0</th>\n",
       "      <td>서울대학교사범대학부설고등학교</td>\n",
       "      <td>서울</td>\n",
       "      <td>일반고등학교</td>\n",
       "      <td>689</td>\n",
       "      <td>73</td>\n",
       "    </tr>\n",
       "    <tr>\n",
       "      <th>1</th>\n",
       "      <td>가락고등학교</td>\n",
       "      <td>서울</td>\n",
       "      <td>일반고등학교</td>\n",
       "      <td>765</td>\n",
       "      <td>70</td>\n",
       "    </tr>\n",
       "    <tr>\n",
       "      <th>2</th>\n",
       "      <td>개포고등학교</td>\n",
       "      <td>서울</td>\n",
       "      <td>일반고등학교</td>\n",
       "      <td>684</td>\n",
       "      <td>69</td>\n",
       "    </tr>\n",
       "    <tr>\n",
       "      <th>3</th>\n",
       "      <td>경기고등학교</td>\n",
       "      <td>서울</td>\n",
       "      <td>일반고등학교</td>\n",
       "      <td>1047</td>\n",
       "      <td>96</td>\n",
       "    </tr>\n",
       "    <tr>\n",
       "      <th>4</th>\n",
       "      <td>경동고등학교</td>\n",
       "      <td>서울</td>\n",
       "      <td>일반고등학교</td>\n",
       "      <td>529</td>\n",
       "      <td>58</td>\n",
       "    </tr>\n",
       "  </tbody>\n",
       "</table>\n",
       "</div>"
      ],
      "text/plain": [
       "               학교명  시도  학교세부유형  일반학급_학생수_계  교원수_총계_계\n",
       "0  서울대학교사범대학부설고등학교  서울  일반고등학교         689        73\n",
       "1           가락고등학교  서울  일반고등학교         765        70\n",
       "2           개포고등학교  서울  일반고등학교         684        69\n",
       "3           경기고등학교  서울  일반고등학교        1047        96\n",
       "4           경동고등학교  서울  일반고등학교         529        58"
      ]
     },
     "execution_count": 3,
     "metadata": {},
     "output_type": "execute_result"
    }
   ],
   "source": [
    "import pandas as pd\n",
    "df = pd.read_csv('https://raw.githubusercontent.com/Datamanim/datarepo/main/krdatacertificate/e6_p1_2.csv')\n",
    "df.head(5)"
   ]
  },
  {
   "cell_type": "code",
   "execution_count": 4,
   "id": "f412ad6b-2134-4235-9a98-a67551e4fb44",
   "metadata": {},
   "outputs": [
    {
     "data": {
      "text/plain": [
       "33"
      ]
     },
     "execution_count": 4,
     "metadata": {},
     "output_type": "execute_result"
    }
   ],
   "source": [
    "trg_city = df[df['학교세부유형'] == '일반중학교']['시도'].value_counts().index[1]\n",
    "cond1 = df['시도'] == trg_city\n",
    "cond2 = df['학교세부유형'] == '일반중학교'\n",
    "cond = cond1 & cond2\n",
    "new_df = df[cond].reset_index(drop=True)\n",
    "new_df['ratio'] = new_df['일반학급_학생수_계'] / new_df['교원수_총계_계']\n",
    "new_df.sort_values(by='ratio', ascending=False)['교원수_총계_계'].values[0]"
   ]
  },
  {
   "cell_type": "markdown",
   "id": "6f27072f-82f7-49d7-a806-d0c0c5b303de",
   "metadata": {},
   "source": [
    "## 1-3\n",
    "5대 범죄(절도, 사기, 배임, 방화, 폭행)의 월별 총 발생건수를 총범죄수라고 표현하자. 18,19년의 각각 분기별 총범죄수의 월평균 값을 구했을때 최대값을 가지는 년도와 분기를 구하고 해당 분기의 최댓값의 사기가 발생한 월의 사기 발생건수를  출력하라(1분기:1,2,3월 / 2분기 : 4,5,6월 / 3분기 7,8,9월 / 4분기 10,11,12월 , 1분기 월평균 : 1,2,3월의 총범죄수 평균)"
   ]
  },
  {
   "cell_type": "code",
   "execution_count": 5,
   "id": "915f9483-606f-4b8d-a52c-d2f832e15523",
   "metadata": {},
   "outputs": [
    {
     "data": {
      "text/html": [
       "<div>\n",
       "<style scoped>\n",
       "    .dataframe tbody tr th:only-of-type {\n",
       "        vertical-align: middle;\n",
       "    }\n",
       "\n",
       "    .dataframe tbody tr th {\n",
       "        vertical-align: top;\n",
       "    }\n",
       "\n",
       "    .dataframe thead th {\n",
       "        text-align: right;\n",
       "    }\n",
       "</style>\n",
       "<table border=\"1\" class=\"dataframe\">\n",
       "  <thead>\n",
       "    <tr style=\"text-align: right;\">\n",
       "      <th></th>\n",
       "      <th>범죄분류</th>\n",
       "      <th>절도</th>\n",
       "      <th>사기</th>\n",
       "      <th>배임</th>\n",
       "      <th>방화</th>\n",
       "      <th>폭행</th>\n",
       "    </tr>\n",
       "  </thead>\n",
       "  <tbody>\n",
       "    <tr>\n",
       "      <th>0</th>\n",
       "      <td>2018년_1월</td>\n",
       "      <td>13280</td>\n",
       "      <td>25318</td>\n",
       "      <td>656</td>\n",
       "      <td>143</td>\n",
       "      <td>12186</td>\n",
       "    </tr>\n",
       "    <tr>\n",
       "      <th>1</th>\n",
       "      <td>2018년_2월</td>\n",
       "      <td>12504</td>\n",
       "      <td>19159</td>\n",
       "      <td>403</td>\n",
       "      <td>135</td>\n",
       "      <td>12087</td>\n",
       "    </tr>\n",
       "    <tr>\n",
       "      <th>2</th>\n",
       "      <td>2018년_3월</td>\n",
       "      <td>14733</td>\n",
       "      <td>24509</td>\n",
       "      <td>471</td>\n",
       "      <td>148</td>\n",
       "      <td>13841</td>\n",
       "    </tr>\n",
       "    <tr>\n",
       "      <th>3</th>\n",
       "      <td>2018년_4월</td>\n",
       "      <td>14781</td>\n",
       "      <td>23147</td>\n",
       "      <td>414</td>\n",
       "      <td>135</td>\n",
       "      <td>13973</td>\n",
       "    </tr>\n",
       "    <tr>\n",
       "      <th>4</th>\n",
       "      <td>2018년_5월</td>\n",
       "      <td>15988</td>\n",
       "      <td>23584</td>\n",
       "      <td>451</td>\n",
       "      <td>127</td>\n",
       "      <td>14117</td>\n",
       "    </tr>\n",
       "  </tbody>\n",
       "</table>\n",
       "</div>"
      ],
      "text/plain": [
       "       범죄분류     절도     사기   배임   방화     폭행\n",
       "0  2018년_1월  13280  25318  656  143  12186\n",
       "1  2018년_2월  12504  19159  403  135  12087\n",
       "2  2018년_3월  14733  24509  471  148  13841\n",
       "3  2018년_4월  14781  23147  414  135  13973\n",
       "4  2018년_5월  15988  23584  451  127  14117"
      ]
     },
     "execution_count": 5,
     "metadata": {},
     "output_type": "execute_result"
    }
   ],
   "source": [
    "import pandas as pd\n",
    "df = pd.read_csv('https://raw.githubusercontent.com/Datamanim/datarepo/main/krdatacertificate/e6_p1_3.csv')\n",
    "df.head(5)"
   ]
  },
  {
   "cell_type": "code",
   "execution_count": 6,
   "id": "f58c4f59-d776-4611-a1e9-9102da1c3005",
   "metadata": {},
   "outputs": [
    {
     "name": "stdout",
     "output_type": "stream",
     "text": [
      "<class 'pandas.core.frame.DataFrame'>\n",
      "RangeIndex: 24 entries, 0 to 23\n",
      "Data columns (total 6 columns):\n",
      " #   Column  Non-Null Count  Dtype \n",
      "---  ------  --------------  ----- \n",
      " 0   범죄분류    24 non-null     object\n",
      " 1   절도      24 non-null     int64 \n",
      " 2   사기      24 non-null     int64 \n",
      " 3   배임      24 non-null     int64 \n",
      " 4   방화      24 non-null     int64 \n",
      " 5   폭행      24 non-null     int64 \n",
      "dtypes: int64(5), object(1)\n",
      "memory usage: 1.2+ KB\n"
     ]
    }
   ],
   "source": [
    "df.info()"
   ]
  },
  {
   "cell_type": "code",
   "execution_count": 7,
   "id": "5dd9e91d-86c2-4eb6-8d6f-a3ebe9c077fb",
   "metadata": {},
   "outputs": [],
   "source": [
    "int_columns = df.select_dtypes(include=['int64']).columns"
   ]
  },
  {
   "cell_type": "code",
   "execution_count": 8,
   "id": "ef791730-2fe4-4646-9040-0faa2b5205d6",
   "metadata": {},
   "outputs": [],
   "source": [
    "df['총범죄수'] = df[int_columns].sum(axis=1)"
   ]
  },
  {
   "cell_type": "code",
   "execution_count": 9,
   "id": "02b6d72b-47e9-4662-9fb5-a61925553610",
   "metadata": {},
   "outputs": [],
   "source": [
    "df['년'] = df['범죄분류'].map(lambda x : x.split('_')[0].replace('년', ''))\n",
    "df['월'] = df['범죄분류'].map(lambda x : x.split('_')[1].replace('월', ''))"
   ]
  },
  {
   "cell_type": "code",
   "execution_count": 10,
   "id": "da1f7773-f59e-48b5-9f97-8a2c1cba97c6",
   "metadata": {},
   "outputs": [],
   "source": [
    "def get_quarter(x):\n",
    "    if x in [1, 2, 3]:\n",
    "        return '1분기'\n",
    "    elif x in [4, 5, 6]:\n",
    "        return '2분기'\n",
    "    elif x in [7, 8, 9]:\n",
    "        return '3분기'\n",
    "    else:\n",
    "        return '4분기'\n",
    "\n",
    "df['분기'] = df['월'].astype(int).apply(get_quarter)"
   ]
  },
  {
   "cell_type": "code",
   "execution_count": 11,
   "id": "5b2202f7-a32d-458d-a0ef-04360eb4f2eb",
   "metadata": {},
   "outputs": [
    {
     "data": {
      "text/plain": [
       "('2019', '2분기', 58438.333333333336)"
      ]
     },
     "execution_count": 11,
     "metadata": {},
     "output_type": "execute_result"
    }
   ],
   "source": [
    "# 18,19년의 각각 분기별 총범죄수의 월평균 값을 구했을때 최대값을 가지는 년도와 분기를 구하고\n",
    "max_year, max_quarter, max_crime_number = df.groupby(by=['년', '분기'], as_index=False)['총범죄수'].mean().sort_values(by='총범죄수').iloc[-1]\n",
    "max_year, max_quarter, max_crime_number"
   ]
  },
  {
   "cell_type": "code",
   "execution_count": 12,
   "id": "237b1302-2e7b-443e-a225-bd47c6e9e38a",
   "metadata": {},
   "outputs": [
    {
     "data": {
      "text/plain": [
       "27766"
      ]
     },
     "execution_count": 12,
     "metadata": {},
     "output_type": "execute_result"
    }
   ],
   "source": [
    "# 해당 분기의 최댓값의 사기가 발생한 월의 사기 발생건수를 출력하라\n",
    "df[(df['년'] == max_year) & (df['분기'] == max_quarter)].sort_values(by='사기').iloc[-1]['사기']"
   ]
  },
  {
   "cell_type": "markdown",
   "id": "9cb51537-42a7-4d28-ae0a-21c493197cc1",
   "metadata": {},
   "source": [
    "# 작업 2유형\n",
    "예측 변수 General_Health, test.csv에 대해 ID별로 General_Health 값을 예측하여 제출, 제출 데이터 컬럼은 ID와 General_Health 두개만 존재해야함. 평가지표는 f1score"
   ]
  },
  {
   "cell_type": "code",
   "execution_count": 164,
   "id": "d208b6f9-b3e4-4e1a-a88c-877eb0b714ed",
   "metadata": {},
   "outputs": [],
   "source": [
    "import pandas as pd\n",
    "pd.set_option('display.max_columns', None)  # 모든 컬럼 표시\n",
    "from sklearn.model_selection import train_test_split\n",
    "from sklearn.ensemble import RandomForestClassifier\n",
    "from sklearn.metrics import f1_score"
   ]
  },
  {
   "cell_type": "code",
   "execution_count": 165,
   "id": "e71ccf15-3d42-4843-890c-1030261eb6b6",
   "metadata": {},
   "outputs": [],
   "source": [
    "train = pd.read_csv('https://raw.githubusercontent.com/Datamanim/datarepo/main/krdatacertificate/ep6_p2_train.csv')\n",
    "test = pd.read_csv('https://raw.githubusercontent.com/Datamanim/datarepo/main/krdatacertificate/ep6_p2_test.csv')"
   ]
  },
  {
   "cell_type": "markdown",
   "id": "146708e1-9e88-404b-9e53-9c6b9af3876c",
   "metadata": {},
   "source": [
    "### sol1"
   ]
  },
  {
   "cell_type": "code",
   "execution_count": 157,
   "id": "7a9bb647-c257-4686-a9b9-0f04bbb7eb50",
   "metadata": {},
   "outputs": [],
   "source": [
    "# 데이터 분리\n",
    "\n",
    "X = train.drop(['ID', 'General_Health'], axis=1)\n",
    "y = train['General_Health']\n",
    "test_id = test.pop('ID')"
   ]
  },
  {
   "cell_type": "code",
   "execution_count": 158,
   "id": "8f78efc3-4112-41c8-8d95-4ebe46d87036",
   "metadata": {},
   "outputs": [],
   "source": [
    "# 원핫 인코딩\n",
    "X = pd.get_dummies(X)\n",
    "test = pd.get_dummies(test)"
   ]
  },
  {
   "cell_type": "code",
   "execution_count": 159,
   "id": "a7764d57-b026-46ca-b951-bbd00d8a3aba",
   "metadata": {},
   "outputs": [],
   "source": [
    "X_train, X_val, y_train, y_val = train_test_split(X, y)"
   ]
  },
  {
   "cell_type": "code",
   "execution_count": 160,
   "id": "17be9c59-1afe-48e1-a292-db3ccddb8e38",
   "metadata": {},
   "outputs": [
    {
     "data": {
      "text/plain": [
       "RandomForestClassifier()"
      ]
     },
     "execution_count": 160,
     "metadata": {},
     "output_type": "execute_result"
    }
   ],
   "source": [
    "model = RandomForestClassifier()\n",
    "model.fit(X_train, y_train)"
   ]
  },
  {
   "cell_type": "code",
   "execution_count": 161,
   "id": "4d39be42-62f8-43ca-a6db-411567023ace",
   "metadata": {},
   "outputs": [
    {
     "name": "stdout",
     "output_type": "stream",
     "text": [
      "val f1score 0.5443674350048754\n"
     ]
    }
   ],
   "source": [
    "pred_val = model.predict(X_val)\n",
    "print('val f1score', f1_score(y_val, pred_val, average='macro'))"
   ]
  },
  {
   "cell_type": "code",
   "execution_count": 162,
   "id": "1f8db994-472e-4b2e-a179-cda2f8ea5adf",
   "metadata": {},
   "outputs": [],
   "source": [
    "pred_test = model.predict(test)"
   ]
  },
  {
   "cell_type": "code",
   "execution_count": 163,
   "id": "fd304cb0-bda3-4800-89db-3bc991bd3e29",
   "metadata": {},
   "outputs": [],
   "source": [
    "sumission = pd.DataFrame()\n",
    "sumission['ID'] = test_id\n",
    "sumission['price'] = pred_test\n",
    "sumission.to_csv('00000000.csv', index=False)"
   ]
  },
  {
   "cell_type": "markdown",
   "id": "4c73d0f9-5747-4938-b134-77a603a1fefb",
   "metadata": {},
   "source": [
    "### sol2"
   ]
  },
  {
   "cell_type": "code",
   "execution_count": 166,
   "id": "c01a5369-1841-4077-b665-f0bc8e023321",
   "metadata": {},
   "outputs": [],
   "source": [
    "import pandas as pd\n",
    "pd.set_option('display.max_columns', None)  # 모든 컬럼 표시\n",
    "from sklearn.model_selection import train_test_split\n",
    "from sklearn.ensemble import RandomForestClassifier\n",
    "from sklearn.metrics import f1_score"
   ]
  },
  {
   "cell_type": "code",
   "execution_count": 167,
   "id": "c4f3184e-0735-41d9-b57a-65a5e4135c36",
   "metadata": {},
   "outputs": [],
   "source": [
    "train = pd.read_csv('https://raw.githubusercontent.com/Datamanim/datarepo/main/krdatacertificate/ep6_p2_train.csv')\n",
    "test = pd.read_csv('https://raw.githubusercontent.com/Datamanim/datarepo/main/krdatacertificate/ep6_p2_test.csv')"
   ]
  },
  {
   "cell_type": "code",
   "execution_count": 168,
   "id": "cd9fe884-3d4a-4951-b00a-a5dc7e24063a",
   "metadata": {},
   "outputs": [
    {
     "data": {
      "text/html": [
       "<div>\n",
       "<style scoped>\n",
       "    .dataframe tbody tr th:only-of-type {\n",
       "        vertical-align: middle;\n",
       "    }\n",
       "\n",
       "    .dataframe tbody tr th {\n",
       "        vertical-align: top;\n",
       "    }\n",
       "\n",
       "    .dataframe thead th {\n",
       "        text-align: right;\n",
       "    }\n",
       "</style>\n",
       "<table border=\"1\" class=\"dataframe\">\n",
       "  <thead>\n",
       "    <tr style=\"text-align: right;\">\n",
       "      <th></th>\n",
       "      <th>ID</th>\n",
       "      <th>General_Health</th>\n",
       "      <th>Checkup</th>\n",
       "      <th>Exercise</th>\n",
       "      <th>Heart_Disease</th>\n",
       "      <th>Skin_Cancer</th>\n",
       "      <th>Other_Cancer</th>\n",
       "      <th>Depression</th>\n",
       "      <th>Diabetes</th>\n",
       "      <th>Arthritis</th>\n",
       "      <th>Sex</th>\n",
       "      <th>Age_Category</th>\n",
       "      <th>Height_(cm)</th>\n",
       "      <th>Weight_(kg)</th>\n",
       "      <th>BMI</th>\n",
       "      <th>Smoking_History</th>\n",
       "      <th>Alcohol_Consumption</th>\n",
       "      <th>Fruit_Consumption</th>\n",
       "      <th>Green_Vegetables_Consumption</th>\n",
       "      <th>FriedPotato_Consumption</th>\n",
       "    </tr>\n",
       "  </thead>\n",
       "  <tbody>\n",
       "    <tr>\n",
       "      <th>0</th>\n",
       "      <td>ID_1473</td>\n",
       "      <td>Good</td>\n",
       "      <td>Within the past 2 years</td>\n",
       "      <td>Yes</td>\n",
       "      <td>No</td>\n",
       "      <td>No</td>\n",
       "      <td>No</td>\n",
       "      <td>No</td>\n",
       "      <td>No</td>\n",
       "      <td>Yes</td>\n",
       "      <td>Female</td>\n",
       "      <td>55-59</td>\n",
       "      <td>168.0</td>\n",
       "      <td>77.11</td>\n",
       "      <td>27.44</td>\n",
       "      <td>No</td>\n",
       "      <td>1.0</td>\n",
       "      <td>12.0</td>\n",
       "      <td>4.0</td>\n",
       "      <td>4.0</td>\n",
       "    </tr>\n",
       "    <tr>\n",
       "      <th>1</th>\n",
       "      <td>ID_2045</td>\n",
       "      <td>Good</td>\n",
       "      <td>Within the past 2 years</td>\n",
       "      <td>Yes</td>\n",
       "      <td>No</td>\n",
       "      <td>No</td>\n",
       "      <td>No</td>\n",
       "      <td>No</td>\n",
       "      <td>No</td>\n",
       "      <td>No</td>\n",
       "      <td>Female</td>\n",
       "      <td>40-44</td>\n",
       "      <td>152.0</td>\n",
       "      <td>58.97</td>\n",
       "      <td>25.39</td>\n",
       "      <td>No</td>\n",
       "      <td>0.0</td>\n",
       "      <td>8.0</td>\n",
       "      <td>16.0</td>\n",
       "      <td>8.0</td>\n",
       "    </tr>\n",
       "  </tbody>\n",
       "</table>\n",
       "</div>"
      ],
      "text/plain": [
       "        ID General_Health                  Checkup Exercise Heart_Disease  \\\n",
       "0  ID_1473           Good  Within the past 2 years      Yes            No   \n",
       "1  ID_2045           Good  Within the past 2 years      Yes            No   \n",
       "\n",
       "  Skin_Cancer Other_Cancer Depression Diabetes Arthritis     Sex Age_Category  \\\n",
       "0          No           No         No       No       Yes  Female        55-59   \n",
       "1          No           No         No       No        No  Female        40-44   \n",
       "\n",
       "   Height_(cm)  Weight_(kg)    BMI Smoking_History  Alcohol_Consumption  \\\n",
       "0        168.0        77.11  27.44              No                  1.0   \n",
       "1        152.0        58.97  25.39              No                  0.0   \n",
       "\n",
       "   Fruit_Consumption  Green_Vegetables_Consumption  FriedPotato_Consumption  \n",
       "0               12.0                           4.0                      4.0  \n",
       "1                8.0                          16.0                      8.0  "
      ]
     },
     "execution_count": 168,
     "metadata": {},
     "output_type": "execute_result"
    }
   ],
   "source": [
    "train.head(2)"
   ]
  },
  {
   "cell_type": "code",
   "execution_count": 169,
   "id": "c1969516-9c9e-44ab-91b6-98764525c793",
   "metadata": {},
   "outputs": [
    {
     "data": {
      "text/html": [
       "<div>\n",
       "<style scoped>\n",
       "    .dataframe tbody tr th:only-of-type {\n",
       "        vertical-align: middle;\n",
       "    }\n",
       "\n",
       "    .dataframe tbody tr th {\n",
       "        vertical-align: top;\n",
       "    }\n",
       "\n",
       "    .dataframe thead th {\n",
       "        text-align: right;\n",
       "    }\n",
       "</style>\n",
       "<table border=\"1\" class=\"dataframe\">\n",
       "  <thead>\n",
       "    <tr style=\"text-align: right;\">\n",
       "      <th></th>\n",
       "      <th>ID</th>\n",
       "      <th>Checkup</th>\n",
       "      <th>Exercise</th>\n",
       "      <th>Heart_Disease</th>\n",
       "      <th>Skin_Cancer</th>\n",
       "      <th>Other_Cancer</th>\n",
       "      <th>Depression</th>\n",
       "      <th>Diabetes</th>\n",
       "      <th>Arthritis</th>\n",
       "      <th>Sex</th>\n",
       "      <th>Age_Category</th>\n",
       "      <th>Height_(cm)</th>\n",
       "      <th>Weight_(kg)</th>\n",
       "      <th>BMI</th>\n",
       "      <th>Smoking_History</th>\n",
       "      <th>Alcohol_Consumption</th>\n",
       "      <th>Fruit_Consumption</th>\n",
       "      <th>Green_Vegetables_Consumption</th>\n",
       "      <th>FriedPotato_Consumption</th>\n",
       "    </tr>\n",
       "  </thead>\n",
       "  <tbody>\n",
       "    <tr>\n",
       "      <th>0</th>\n",
       "      <td>ID_14547</td>\n",
       "      <td>Within the past year</td>\n",
       "      <td>Yes</td>\n",
       "      <td>No</td>\n",
       "      <td>No</td>\n",
       "      <td>No</td>\n",
       "      <td>No</td>\n",
       "      <td>No</td>\n",
       "      <td>No</td>\n",
       "      <td>Male</td>\n",
       "      <td>35-39</td>\n",
       "      <td>180.0</td>\n",
       "      <td>81.65</td>\n",
       "      <td>25.10</td>\n",
       "      <td>No</td>\n",
       "      <td>15.0</td>\n",
       "      <td>8.0</td>\n",
       "      <td>25.0</td>\n",
       "      <td>12.0</td>\n",
       "    </tr>\n",
       "    <tr>\n",
       "      <th>1</th>\n",
       "      <td>ID_26</td>\n",
       "      <td>5 or more years ago</td>\n",
       "      <td>No</td>\n",
       "      <td>No</td>\n",
       "      <td>Yes</td>\n",
       "      <td>No</td>\n",
       "      <td>No</td>\n",
       "      <td>No</td>\n",
       "      <td>No</td>\n",
       "      <td>Male</td>\n",
       "      <td>60-64</td>\n",
       "      <td>183.0</td>\n",
       "      <td>79.38</td>\n",
       "      <td>23.73</td>\n",
       "      <td>No</td>\n",
       "      <td>1.0</td>\n",
       "      <td>4.0</td>\n",
       "      <td>4.0</td>\n",
       "      <td>4.0</td>\n",
       "    </tr>\n",
       "  </tbody>\n",
       "</table>\n",
       "</div>"
      ],
      "text/plain": [
       "         ID               Checkup Exercise Heart_Disease Skin_Cancer  \\\n",
       "0  ID_14547  Within the past year      Yes            No          No   \n",
       "1     ID_26   5 or more years ago       No            No         Yes   \n",
       "\n",
       "  Other_Cancer Depression Diabetes Arthritis   Sex Age_Category  Height_(cm)  \\\n",
       "0           No         No       No        No  Male        35-39        180.0   \n",
       "1           No         No       No        No  Male        60-64        183.0   \n",
       "\n",
       "   Weight_(kg)    BMI Smoking_History  Alcohol_Consumption  Fruit_Consumption  \\\n",
       "0        81.65  25.10              No                 15.0                8.0   \n",
       "1        79.38  23.73              No                  1.0                4.0   \n",
       "\n",
       "   Green_Vegetables_Consumption  FriedPotato_Consumption  \n",
       "0                          25.0                     12.0  \n",
       "1                           4.0                      4.0  "
      ]
     },
     "execution_count": 169,
     "metadata": {},
     "output_type": "execute_result"
    }
   ],
   "source": [
    "test.head(2)"
   ]
  },
  {
   "cell_type": "code",
   "execution_count": 170,
   "id": "0eaf5c3f-7972-46ce-8e5a-6748b165e69e",
   "metadata": {},
   "outputs": [
    {
     "name": "stdout",
     "output_type": "stream",
     "text": [
      "<class 'pandas.core.frame.DataFrame'>\n",
      "RangeIndex: 11230 entries, 0 to 11229\n",
      "Data columns (total 20 columns):\n",
      " #   Column                        Non-Null Count  Dtype  \n",
      "---  ------                        --------------  -----  \n",
      " 0   ID                            11230 non-null  object \n",
      " 1   General_Health                11230 non-null  object \n",
      " 2   Checkup                       11230 non-null  object \n",
      " 3   Exercise                      11230 non-null  object \n",
      " 4   Heart_Disease                 11230 non-null  object \n",
      " 5   Skin_Cancer                   11230 non-null  object \n",
      " 6   Other_Cancer                  11230 non-null  object \n",
      " 7   Depression                    11230 non-null  object \n",
      " 8   Diabetes                      11230 non-null  object \n",
      " 9   Arthritis                     11230 non-null  object \n",
      " 10  Sex                           11230 non-null  object \n",
      " 11  Age_Category                  11230 non-null  object \n",
      " 12  Height_(cm)                   11230 non-null  float64\n",
      " 13  Weight_(kg)                   11230 non-null  float64\n",
      " 14  BMI                           11230 non-null  float64\n",
      " 15  Smoking_History               11230 non-null  object \n",
      " 16  Alcohol_Consumption           11230 non-null  float64\n",
      " 17  Fruit_Consumption             11230 non-null  float64\n",
      " 18  Green_Vegetables_Consumption  11230 non-null  float64\n",
      " 19  FriedPotato_Consumption       11230 non-null  float64\n",
      "dtypes: float64(7), object(13)\n",
      "memory usage: 1.7+ MB\n"
     ]
    }
   ],
   "source": [
    "train.info()"
   ]
  },
  {
   "cell_type": "code",
   "execution_count": 171,
   "id": "04e43168-fcc6-4642-a43b-56609e2ceb10",
   "metadata": {},
   "outputs": [
    {
     "name": "stdout",
     "output_type": "stream",
     "text": [
      "<class 'pandas.core.frame.DataFrame'>\n",
      "RangeIndex: 4813 entries, 0 to 4812\n",
      "Data columns (total 19 columns):\n",
      " #   Column                        Non-Null Count  Dtype  \n",
      "---  ------                        --------------  -----  \n",
      " 0   ID                            4813 non-null   object \n",
      " 1   Checkup                       4813 non-null   object \n",
      " 2   Exercise                      4813 non-null   object \n",
      " 3   Heart_Disease                 4813 non-null   object \n",
      " 4   Skin_Cancer                   4813 non-null   object \n",
      " 5   Other_Cancer                  4813 non-null   object \n",
      " 6   Depression                    4813 non-null   object \n",
      " 7   Diabetes                      4813 non-null   object \n",
      " 8   Arthritis                     4813 non-null   object \n",
      " 9   Sex                           4813 non-null   object \n",
      " 10  Age_Category                  4813 non-null   object \n",
      " 11  Height_(cm)                   4813 non-null   float64\n",
      " 12  Weight_(kg)                   4813 non-null   float64\n",
      " 13  BMI                           4813 non-null   float64\n",
      " 14  Smoking_History               4813 non-null   object \n",
      " 15  Alcohol_Consumption           4813 non-null   float64\n",
      " 16  Fruit_Consumption             4813 non-null   float64\n",
      " 17  Green_Vegetables_Consumption  4813 non-null   float64\n",
      " 18  FriedPotato_Consumption       4813 non-null   float64\n",
      "dtypes: float64(7), object(12)\n",
      "memory usage: 714.6+ KB\n"
     ]
    }
   ],
   "source": [
    "test.info()"
   ]
  },
  {
   "cell_type": "code",
   "execution_count": 172,
   "id": "b5d618d6-1b93-4b9f-895f-dae0e1419fb9",
   "metadata": {},
   "outputs": [
    {
     "name": "stdout",
     "output_type": "stream",
     "text": [
      "unique of ID : ['ID_1' 'ID_10' 'ID_100' ... 'ID_9995' 'ID_9996' 'ID_9999']\n",
      "unique of General_Health : ['Excellent' 'Fair' 'Good']\n",
      "unique of Checkup : ['5 or more years ago' 'Never' 'Within the past 2 years'\n",
      " 'Within the past 5 years' 'Within the past year']\n",
      "unique of Exercise : ['No' 'Yes']\n",
      "unique of Heart_Disease : ['No' 'Yes']\n",
      "unique of Skin_Cancer : ['No' 'Yes']\n",
      "unique of Other_Cancer : ['No' 'Yes']\n",
      "unique of Depression : ['No' 'Yes']\n",
      "unique of Diabetes : ['No' 'No, pre-diabetes or borderline diabetes' 'Yes'\n",
      " 'Yes, but female told only during pregnancy']\n",
      "unique of Arthritis : ['No' 'Yes']\n",
      "unique of Sex : ['Female' 'Male']\n",
      "unique of Age_Category : ['18-24' '25-29' '30-34' '35-39' '40-44' '45-49' '50-54' '55-59' '60-64'\n",
      " '65-69' '70-74' '75-79' '80+']\n",
      "unique of Height_(cm) : [ 94. 102. 105. 106. 115. 122. 127. 135. 137. 140. 142. 144. 145. 146.\n",
      " 147. 150. 152. 154. 155. 156. 157. 158. 159. 160. 161. 162. 163. 164.\n",
      " 165. 166. 167. 168. 170. 171. 172. 173. 175. 177. 178. 180. 181. 182.\n",
      " 183. 185. 186. 187. 188. 191. 193. 196. 198. 201. 203. 206. 211. 213.\n",
      " 226.]\n",
      "unique of Weight_(kg) : [ 31.75  34.02  36.29  37.19  38.56  39.01  39.46  40.82  41.73  42.18\n",
      "  42.64  43.09  43.54  44.    44.45  44.91  45.    45.36  45.81  46.27\n",
      "  46.72  47.    47.17  47.63  48.08  48.53  48.99  49.44  49.9   50.35\n",
      "  50.8   51.26  51.71  52.    52.16  52.62  53.07  53.52  53.98  54.43\n",
      "  54.88  55.34  55.79  56.    56.25  56.7   57.    57.15  57.61  58.06\n",
      "  58.51  58.97  59.    59.42  59.87  60.    60.33  60.78  61.    61.23\n",
      "  61.69  62.    62.14  62.6   63.    63.05  63.5   63.96  64.41  64.86\n",
      "  65.    65.32  65.77  66.    66.22  66.68  67.13  67.59  68.    68.04\n",
      "  68.49  68.95  69.    69.4   69.85  70.    70.31  70.76  71.21  71.67\n",
      "  72.    72.12  72.57  73.03  73.48  73.94  74.    74.39  74.84  75.3\n",
      "  75.75  76.2   76.66  77.    77.11  77.56  78.    78.02  78.47  78.93\n",
      "  79.    79.38  79.83  80.29  80.74  81.19  81.65  82.    82.1   82.55\n",
      "  83.    83.01  83.46  83.91  84.37  84.82  85.28  85.73  86.    86.18\n",
      "  86.64  87.09  87.54  88.    88.45  88.9   89.36  89.81  90.    90.26\n",
      "  90.72  91.17  91.63  92.08  92.53  92.99  93.44  93.89  94.35  94.8\n",
      "  95.25  95.71  96.16  96.62  97.07  97.52  97.98  98.    98.43  98.88\n",
      "  99.34  99.79 100.24 100.7  101.15 101.6  102.06 102.51 102.97 103.42\n",
      " 103.87 104.33 104.78 105.   105.23 105.69 106.14 106.59 107.05 107.5\n",
      " 107.95 108.41 108.86 109.32 109.77 110.22 110.68 111.13 111.58 112.04\n",
      " 112.49 112.94 113.4  113.85 114.31 114.76 115.21 115.67 116.12 116.57\n",
      " 117.03 117.48 117.93 118.39 118.84 119.29 119.75 120.2  121.11 121.56\n",
      " 122.02 122.47 122.92 123.38 123.83 124.28 124.74 125.19 125.65 126.1\n",
      " 126.55 127.01 127.46 127.91 128.37 128.82 129.27 129.73 130.18 130.63\n",
      " 131.09 131.54 132.   132.45 133.36 133.81 134.26 134.72 135.17 136.08\n",
      " 136.53 136.98 137.44 137.89 138.35 138.8  139.25 139.71 140.   140.61\n",
      " 141.52 141.97 142.43 142.88 143.34 143.79 144.24 145.15 145.6  146.06\n",
      " 147.42 148.32 148.78 149.23 149.69 151.05 151.5  151.95 154.22 156.04\n",
      " 156.49 158.76 159.66 161.03 163.29 164.2  165.11 167.38 167.83 168.28\n",
      " 169.64 170.1  172.37 173.73 174.63 175.54 176.9  179.62 181.44 183.7\n",
      " 190.51 192.78 195.   195.04 199.58 202.76 204.12 219.99 222.71 229.52\n",
      " 230.88 233.6  249.48 293.02]\n",
      "unique of BMI : [13.25 13.31 13.37 ... 81.67 85.23 97.58]\n",
      "unique of Smoking_History : ['No' 'Yes']\n",
      "unique of Alcohol_Consumption : [ 0.  1.  2.  3.  4.  5.  6.  7.  8.  9. 10. 11. 12. 13. 14. 15. 16. 17.\n",
      " 18. 20. 21. 22. 23. 24. 25. 26. 27. 28. 29. 30.]\n",
      "unique of Fruit_Consumption : [  0.   1.   2.   3.   4.   5.   6.   7.   8.   9.  10.  11.  12.  13.\n",
      "  14.  15.  16.  17.  18.  20.  21.  22.  23.  24.  25.  26.  28.  29.\n",
      "  30.  31.  32.  35.  36.  38.  40.  45.  48.  50.  56.  60.  65.  68.\n",
      "  70.  80.  88.  90.  96.  99. 120.]\n",
      "unique of Green_Vegetables_Consumption : [  0.   1.   2.   3.   4.   5.   6.   7.   8.   9.  10.  11.  12.  13.\n",
      "  14.  15.  16.  17.  18.  20.  21.  22.  23.  24.  25.  26.  27.  28.\n",
      "  29.  30.  31.  32.  33.  35.  40.  45.  48.  50.  56.  60.  80.  84.\n",
      "  90.  93.  95.  99. 120.]\n",
      "unique of FriedPotato_Consumption : [  0.   1.   2.   3.   4.   5.   6.   7.   8.   9.  10.  11.  12.  13.\n",
      "  14.  15.  16.  17.  18.  19.  20.  21.  22.  24.  25.  28.  30.  32.\n",
      "  35.  36.  40.  48.  56.  60.  84.  90. 120.]\n"
     ]
    }
   ],
   "source": [
    "# train 컬럼 유니크 값\n",
    "for col in train.columns:\n",
    "    print(f'unique of {col} :', np.sort(train[col].unique()))"
   ]
  },
  {
   "cell_type": "code",
   "execution_count": 21,
   "id": "1ee30240-b487-4f10-a400-df2ddd7d6c03",
   "metadata": {},
   "outputs": [
    {
     "name": "stdout",
     "output_type": "stream",
     "text": [
      "unique of ID : ['ID_10001' 'ID_10005' 'ID_10006' ... 'ID_9994' 'ID_9997' 'ID_9998']\n",
      "unique of Checkup : ['5 or more years ago' 'Never' 'Within the past 2 years'\n",
      " 'Within the past 5 years' 'Within the past year']\n",
      "unique of Exercise : ['No' 'Yes']\n",
      "unique of Heart_Disease : ['No' 'Yes']\n",
      "unique of Skin_Cancer : ['No' 'Yes']\n",
      "unique of Other_Cancer : ['No' 'Yes']\n",
      "unique of Depression : ['No' 'Yes']\n",
      "unique of Diabetes : ['No' 'No, pre-diabetes or borderline diabetes' 'Yes'\n",
      " 'Yes, but female told only during pregnancy']\n",
      "unique of Arthritis : ['No' 'Yes']\n",
      "unique of Sex : ['Female' 'Male']\n",
      "unique of Age_Category : ['18-24' '25-29' '30-34' '35-39' '40-44' '45-49' '50-54' '55-59' '60-64'\n",
      " '65-69' '70-74' '75-79' '80+']\n",
      "unique of Height_(cm) : [100. 102. 124. 127. 135. 140. 142. 145. 147. 149. 150. 152. 155. 156.\n",
      " 157. 158. 159. 160. 163. 164. 165. 167. 168. 170. 172. 173. 174. 175.\n",
      " 176. 178. 180. 183. 185. 187. 188. 191. 193. 196. 198. 201. 203. 205.\n",
      " 206. 208.]\n",
      "unique of Weight_(kg) : [ 36.29  38.1   38.56  40.37  40.82  41.28  41.73  42.18  42.64  43.09\n",
      "  44.45  44.91  45.36  45.81  46.27  46.72  47.17  47.63  48.08  48.53\n",
      "  48.99  49.44  49.9   50.35  50.8   51.26  51.71  52.16  52.62  53.07\n",
      "  53.52  53.98  54.43  55.34  55.79  56.25  56.7   57.15  57.61  58.06\n",
      "  58.51  58.97  59.42  59.87  60.    60.33  60.78  61.23  61.69  62.14\n",
      "  62.6   63.05  63.5   63.96  64.41  64.86  65.32  65.77  66.22  66.68\n",
      "  67.13  67.59  68.04  68.49  68.95  69.4   69.85  70.    70.31  70.76\n",
      "  71.21  71.67  72.12  72.57  73.03  73.48  73.94  74.39  74.84  75.3\n",
      "  75.75  76.2   76.66  77.11  77.56  78.02  78.47  78.93  79.38  79.83\n",
      "  80.29  80.74  81.19  81.65  82.    82.1   82.55  83.01  83.46  83.91\n",
      "  84.37  84.82  85.    85.28  85.73  86.18  86.64  87.09  87.54  88.\n",
      "  88.45  88.9   89.36  89.81  90.    90.26  90.72  91.17  91.63  92.08\n",
      "  92.53  92.99  93.    93.44  93.89  94.    94.35  94.8   95.25  96.16\n",
      "  96.62  97.07  97.52  97.98  98.43  98.88  99.34  99.79 100.   100.24\n",
      " 100.7  101.15 101.6  102.06 102.51 102.97 103.42 103.87 104.33 104.78\n",
      " 105.23 105.69 106.14 106.59 107.05 107.5  107.95 108.86 109.   109.32\n",
      " 109.77 110.22 110.68 111.13 111.58 112.04 112.49 113.4  113.85 114.31\n",
      " 114.76 115.21 115.67 116.12 116.57 117.03 117.48 117.93 118.39 118.84\n",
      " 119.29 119.75 120.2  120.66 121.11 121.56 122.02 122.47 123.38 123.83\n",
      " 124.28 124.74 125.19 126.1  127.01 127.46 127.91 128.82 129.27 130.63\n",
      " 131.09 131.54 132.45 132.9  133.36 133.81 135.17 135.62 136.08 138.35\n",
      " 140.61 141.52 141.97 142.88 143.79 145.15 147.42 148.32 149.69 151.95\n",
      " 153.31 154.22 156.49 156.94 158.76 161.48 163.29 165.56 170.1  171.\n",
      " 172.37 176.9  181.44 185.97 190.51 199.58 204.12 222.26 228.61 247.21\n",
      " 285.76]\n",
      "unique of BMI : [12.05 14.88 15.28 ... 80.89 82.81 86.51]\n",
      "unique of Smoking_History : ['No' 'Yes']\n",
      "unique of Alcohol_Consumption : [ 0.  1.  2.  3.  4.  5.  6.  7.  8.  9. 10. 12. 13. 14. 15. 16. 17. 18.\n",
      " 19. 20. 22. 23. 24. 25. 26. 27. 28. 29. 30.]\n",
      "unique of Fruit_Consumption : [  0.   1.   2.   3.   4.   5.   6.   7.   8.   9.  10.  12.  14.  15.\n",
      "  16.  18.  20.  24.  25.  26.  28.  30.  31.  32.  35.  40.  45.  48.\n",
      "  50.  56.  60.  80.  90.  96.  99. 120.]\n",
      "unique of Green_Vegetables_Consumption : [  0.   1.   2.   3.   4.   5.   6.   7.   8.   9.  10.  12.  13.  14.\n",
      "  15.  16.  17.  18.  20.  21.  22.  24.  25.  26.  27.  28.  30.  40.\n",
      "  48.  56.  60.  90.  99. 120.]\n",
      "unique of FriedPotato_Consumption : [  0.   1.   2.   3.   4.   5.   6.   7.   8.   9.  10.  12.  13.  14.\n",
      "  15.  16.  18.  20.  21.  24.  25.  26.  28.  30.  40.  60.  68.  90.\n",
      " 120.]\n"
     ]
    }
   ],
   "source": [
    "# test 컬럼 유니크 값\n",
    "for col in test.columns:\n",
    "    print(f'unique of {col} :', np.sort(test[col].unique()))"
   ]
  },
  {
   "cell_type": "markdown",
   "id": "63b616e5-b1db-46bc-9544-f33609ebca3e",
   "metadata": {},
   "source": [
    "# 컬럼 요약\n",
    "- ID : ID\n",
    "- General_Health : 타겟 데이터. 범주형-순서형. 레이블 인코딩\n",
    "- Checkup : 범주형-명목형. 원핫 인코딩\n",
    "- Exercise : 범주형-명목형. 원핫 인코딩\n",
    "- Heart_Disease : 범주형-명목형. 원핫 인코딩\n",
    "- Skin_Cancer : 범주형-명목형. 원핫 인코딩\n",
    "- Other_Cnacer : 범주형-명목형. 원핫 인코딩\n",
    "- Depression : 범주형-명목형. 원핫 인코딩\n",
    "- Diabetes : 범주형-명목형. 원핫 인코딩\n",
    "- Arthritis : 범주형-명목형. 원핫 인코딩\n",
    "- Sex : 범주형-명목형. 원핫 인코딩\n",
    "- Age_Category : 범주형-순서형. 숫자 매핑\n",
    "- Height_(cm) : 수치형-연속형. 스케일링\n",
    "- Weight_(kg) : 수치형-연속형. 스케일링\n",
    "- BMI : 수치형-연속형. 스케일링\n",
    "- Smoking_History : 범주형-명목형. 원핫 인코딩\n",
    "- Alcohol_Consumption : 수치형-이산형.\n",
    "- Fruit_Consumption : 수치형-이산형\n",
    "- Green_Vegetables_Consumption : 수치형-이산형\n",
    "- FriedPotato_Consumption : 수치형-이산형"
   ]
  },
  {
   "cell_type": "code",
   "execution_count": 173,
   "id": "b7870726-8f6e-4d2b-81f5-9bd66369f138",
   "metadata": {},
   "outputs": [],
   "source": [
    "# 원핫 인코딩\n",
    "oh_cols = ['Checkup', 'Exercise', 'Heart_Disease', 'Skin_Cancer', 'Other_Cancer', 'Depression', 'Diabetes', 'Arthritis', 'Sex', 'Smoking_History']\n",
    "train = pd.get_dummies(train, columns=oh_cols)\n",
    "test = pd.get_dummies(test, columns=oh_cols)"
   ]
  },
  {
   "cell_type": "code",
   "execution_count": 174,
   "id": "8a77b5ab-7239-408f-81d8-a9a6b8aed865",
   "metadata": {},
   "outputs": [],
   "source": [
    "# 숫자 매핑 - Age_Category\n",
    "age_category = np.sort(train['Age_Category'].unique())\n",
    "age_dic = {}\n",
    "\n",
    "for i, age in enumerate(age_category):\n",
    "    age_dic[age] = i\n",
    "\n",
    "train['Age_Category'] = train['Age_Category'].map(age_dic)\n",
    "test['Age_Category'] = test['Age_Category'].map(age_dic)"
   ]
  },
  {
   "cell_type": "code",
   "execution_count": 175,
   "id": "c5b3cece-3448-4429-a13c-188f0e90ef18",
   "metadata": {
    "tags": []
   },
   "outputs": [],
   "source": [
    "# 데이터 분리\n",
    "X = train.drop(['ID', 'General_Health'], axis=1)\n",
    "y = train['General_Health']\n",
    "test_id = test.pop('ID')"
   ]
  },
  {
   "cell_type": "code",
   "execution_count": 176,
   "id": "30a92b0d-5783-4080-afec-461313fb3b21",
   "metadata": {
    "tags": []
   },
   "outputs": [],
   "source": [
    "# 학습데이터 / 검증데이터 분리\n",
    "\n",
    "random_state=42\n",
    "X_train, X_val, y_train, y_val = train_test_split(X, y, test_size=0.2, random_state=random_state)"
   ]
  },
  {
   "cell_type": "code",
   "execution_count": 177,
   "id": "95dd0084-6b53-4854-bd98-700dfe0a5495",
   "metadata": {},
   "outputs": [
    {
     "data": {
      "text/plain": [
       "RandomForestClassifier(random_state=42)"
      ]
     },
     "execution_count": 177,
     "metadata": {},
     "output_type": "execute_result"
    }
   ],
   "source": [
    "# 모델 입력\n",
    "\n",
    "model = RandomForestClassifier(random_state=random_state)\n",
    "model.fit(X_train, y_train)"
   ]
  },
  {
   "cell_type": "code",
   "execution_count": 181,
   "id": "c49581c1-054c-4539-b903-5522e189f63d",
   "metadata": {},
   "outputs": [],
   "source": [
    "# 검증 데이터 추론\n",
    "pred_val = model.predict(X_val)"
   ]
  },
  {
   "cell_type": "code",
   "execution_count": 182,
   "id": "86827af4-5631-4d39-bbfa-27e69b7a4f81",
   "metadata": {},
   "outputs": [
    {
     "name": "stdout",
     "output_type": "stream",
     "text": [
      "f1-score: 0.5587711487088157\n"
     ]
    }
   ],
   "source": [
    "# 검증 결과 평가\n",
    "from sklearn.metrics import f1_score\n",
    "ans = f1_score(y_val, pred_val, average='micro')\n",
    "print('f1-score:', ans)"
   ]
  },
  {
   "cell_type": "code",
   "execution_count": 183,
   "id": "8c04825c-2238-4bf1-92a3-53ae925e6749",
   "metadata": {},
   "outputs": [
    {
     "data": {
      "text/plain": [
       "array(['Excellent', 'Excellent', 'Good', ..., 'Fair', 'Good', 'Good'],\n",
       "      dtype=object)"
      ]
     },
     "execution_count": 183,
     "metadata": {},
     "output_type": "execute_result"
    }
   ],
   "source": [
    "# test 데이터 추론\n",
    "pred_test = model.predict(test)\n",
    "pred_test"
   ]
  },
  {
   "cell_type": "code",
   "execution_count": 185,
   "id": "a68aa8e4-5e40-4218-8dd2-bb31802f1656",
   "metadata": {},
   "outputs": [],
   "source": [
    "# 제출\n",
    "submission = pd.DataFrame({'ID': test_id, 'General_Health': pred_test})\n",
    "submission.to_csv('submission.csv', index=False)"
   ]
  },
  {
   "cell_type": "markdown",
   "id": "676ea6b3-171c-4a40-864a-a4602c19c516",
   "metadata": {},
   "source": [
    "# 작업 3유형\n",
    "A 도시의 남성 600명과 여성 550명이 있다. 남성들 중 흡연자 비율은 0.2이며 여성들 중 흡연자 비율은 0.26이다.\n",
    "남성과 여성 간에 흡연 여부에 따른 인구 비율이 다른지 확인하고 싶다. 유의 수준 0.05하 귀무가설에 대해 기각 / 채택 여부와 p-value값을 각각  출력하라"
   ]
  },
  {
   "cell_type": "code",
   "execution_count": 189,
   "id": "7a7dd232-c1f5-4710-9fa4-959ecb137b12",
   "metadata": {},
   "outputs": [
    {
     "data": {
      "text/html": [
       "<div>\n",
       "<style scoped>\n",
       "    .dataframe tbody tr th:only-of-type {\n",
       "        vertical-align: middle;\n",
       "    }\n",
       "\n",
       "    .dataframe tbody tr th {\n",
       "        vertical-align: top;\n",
       "    }\n",
       "\n",
       "    .dataframe thead th {\n",
       "        text-align: right;\n",
       "    }\n",
       "</style>\n",
       "<table border=\"1\" class=\"dataframe\">\n",
       "  <thead>\n",
       "    <tr style=\"text-align: right;\">\n",
       "      <th></th>\n",
       "      <th>age</th>\n",
       "      <th>Cholesterol</th>\n",
       "      <th>weight</th>\n",
       "    </tr>\n",
       "  </thead>\n",
       "  <tbody>\n",
       "    <tr>\n",
       "      <th>0</th>\n",
       "      <td>65</td>\n",
       "      <td>69.0</td>\n",
       "      <td>111.0</td>\n",
       "    </tr>\n",
       "    <tr>\n",
       "      <th>1</th>\n",
       "      <td>54</td>\n",
       "      <td>117.0</td>\n",
       "      <td>81.0</td>\n",
       "    </tr>\n",
       "    <tr>\n",
       "      <th>2</th>\n",
       "      <td>61</td>\n",
       "      <td>86.2</td>\n",
       "      <td>72.0</td>\n",
       "    </tr>\n",
       "    <tr>\n",
       "      <th>3</th>\n",
       "      <td>57</td>\n",
       "      <td>76.0</td>\n",
       "      <td>78.0</td>\n",
       "    </tr>\n",
       "    <tr>\n",
       "      <th>4</th>\n",
       "      <td>62</td>\n",
       "      <td>160.0</td>\n",
       "      <td>61.0</td>\n",
       "    </tr>\n",
       "  </tbody>\n",
       "</table>\n",
       "</div>"
      ],
      "text/plain": [
       "   age  Cholesterol  weight\n",
       "0   65         69.0   111.0\n",
       "1   54        117.0    81.0\n",
       "2   61         86.2    72.0\n",
       "3   57         76.0    78.0\n",
       "4   62        160.0    61.0"
      ]
     },
     "execution_count": 189,
     "metadata": {},
     "output_type": "execute_result"
    }
   ],
   "source": [
    "import pandas as pd \n",
    "df= pd.read_csv('https://raw.githubusercontent.com/Datamanim/datarepo/main/adp/28/p7.csv')\n",
    "df.head()"
   ]
  },
  {
   "cell_type": "code",
   "execution_count": null,
   "id": "8e3280de-fee4-469f-bdad-073f72540d4c",
   "metadata": {},
   "outputs": [],
   "source": []
  }
 ],
 "metadata": {
  "kernelspec": {
   "display_name": "Python 3 (ipykernel)",
   "language": "python",
   "name": "python3"
  },
  "language_info": {
   "codemirror_mode": {
    "name": "ipython",
    "version": 3
   },
   "file_extension": ".py",
   "mimetype": "text/x-python",
   "name": "python",
   "nbconvert_exporter": "python",
   "pygments_lexer": "ipython3",
   "version": "3.7.15"
  }
 },
 "nbformat": 4,
 "nbformat_minor": 5
}
