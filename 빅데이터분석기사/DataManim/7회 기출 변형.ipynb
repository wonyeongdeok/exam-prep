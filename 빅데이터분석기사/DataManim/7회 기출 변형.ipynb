{
 "cells": [
  {
   "cell_type": "markdown",
   "id": "a5c31960-f82f-4e19-966d-830ce6886195",
   "metadata": {},
   "source": [
    "# 작업 1유형"
   ]
  },
  {
   "cell_type": "code",
   "execution_count": 50,
   "id": "c83a2e11-c9e2-4acf-8f4d-613e3069082e",
   "metadata": {},
   "outputs": [],
   "source": [
    "import pandas as pd"
   ]
  },
  {
   "cell_type": "code",
   "execution_count": 51,
   "id": "a631d08f-8d8b-4b8c-abf7-5f3f1e43473b",
   "metadata": {},
   "outputs": [],
   "source": [
    "DataUrl = 'https://raw.githubusercontent.com/Datamanim/datarepo/main/krdatacertificate/e7_p1.csv'"
   ]
  },
  {
   "cell_type": "code",
   "execution_count": 52,
   "id": "9a5cb951-52ec-4582-a939-176f5568a8f8",
   "metadata": {},
   "outputs": [],
   "source": [
    "df = pd.read_csv(DataUrl)"
   ]
  },
  {
   "cell_type": "code",
   "execution_count": 53,
   "id": "299a3a28-14a1-4109-9860-eac23f2ad4fc",
   "metadata": {},
   "outputs": [
    {
     "data": {
      "text/html": [
       "<div>\n",
       "<style scoped>\n",
       "    .dataframe tbody tr th:only-of-type {\n",
       "        vertical-align: middle;\n",
       "    }\n",
       "\n",
       "    .dataframe tbody tr th {\n",
       "        vertical-align: top;\n",
       "    }\n",
       "\n",
       "    .dataframe thead th {\n",
       "        text-align: right;\n",
       "    }\n",
       "</style>\n",
       "<table border=\"1\" class=\"dataframe\">\n",
       "  <thead>\n",
       "    <tr style=\"text-align: right;\">\n",
       "      <th></th>\n",
       "      <th>학생</th>\n",
       "      <th>국어</th>\n",
       "      <th>수학</th>\n",
       "      <th>영어</th>\n",
       "      <th>과학</th>\n",
       "    </tr>\n",
       "  </thead>\n",
       "  <tbody>\n",
       "    <tr>\n",
       "      <th>0</th>\n",
       "      <td>ID_0</td>\n",
       "      <td>63.0</td>\n",
       "      <td>NaN</td>\n",
       "      <td>79.0</td>\n",
       "      <td>84.0</td>\n",
       "    </tr>\n",
       "    <tr>\n",
       "      <th>1</th>\n",
       "      <td>ID_1</td>\n",
       "      <td>91.0</td>\n",
       "      <td>93.0</td>\n",
       "      <td>NaN</td>\n",
       "      <td>73.0</td>\n",
       "    </tr>\n",
       "    <tr>\n",
       "      <th>2</th>\n",
       "      <td>ID_2</td>\n",
       "      <td>59.0</td>\n",
       "      <td>55.0</td>\n",
       "      <td>NaN</td>\n",
       "      <td>56.0</td>\n",
       "    </tr>\n",
       "    <tr>\n",
       "      <th>3</th>\n",
       "      <td>ID_3</td>\n",
       "      <td>71.0</td>\n",
       "      <td>83.0</td>\n",
       "      <td>82.0</td>\n",
       "      <td>NaN</td>\n",
       "    </tr>\n",
       "    <tr>\n",
       "      <th>4</th>\n",
       "      <td>ID_4</td>\n",
       "      <td>62.0</td>\n",
       "      <td>72.0</td>\n",
       "      <td>56.0</td>\n",
       "      <td>NaN</td>\n",
       "    </tr>\n",
       "    <tr>\n",
       "      <th>5</th>\n",
       "      <td>ID_5</td>\n",
       "      <td>NaN</td>\n",
       "      <td>69.0</td>\n",
       "      <td>88.0</td>\n",
       "      <td>96.0</td>\n",
       "    </tr>\n",
       "    <tr>\n",
       "      <th>6</th>\n",
       "      <td>ID_6</td>\n",
       "      <td>83.0</td>\n",
       "      <td>92.0</td>\n",
       "      <td>69.0</td>\n",
       "      <td>NaN</td>\n",
       "    </tr>\n",
       "    <tr>\n",
       "      <th>7</th>\n",
       "      <td>ID_7</td>\n",
       "      <td>85.0</td>\n",
       "      <td>NaN</td>\n",
       "      <td>83.0</td>\n",
       "      <td>66.0</td>\n",
       "    </tr>\n",
       "    <tr>\n",
       "      <th>8</th>\n",
       "      <td>ID_8</td>\n",
       "      <td>96.0</td>\n",
       "      <td>75.0</td>\n",
       "      <td>86.0</td>\n",
       "      <td>NaN</td>\n",
       "    </tr>\n",
       "    <tr>\n",
       "      <th>9</th>\n",
       "      <td>ID_9</td>\n",
       "      <td>79.0</td>\n",
       "      <td>56.0</td>\n",
       "      <td>90.0</td>\n",
       "      <td>NaN</td>\n",
       "    </tr>\n",
       "    <tr>\n",
       "      <th>10</th>\n",
       "      <td>ID_10</td>\n",
       "      <td>68.0</td>\n",
       "      <td>NaN</td>\n",
       "      <td>69.0</td>\n",
       "      <td>62.0</td>\n",
       "    </tr>\n",
       "    <tr>\n",
       "      <th>11</th>\n",
       "      <td>ID_11</td>\n",
       "      <td>61.0</td>\n",
       "      <td>56.0</td>\n",
       "      <td>NaN</td>\n",
       "      <td>76.0</td>\n",
       "    </tr>\n",
       "    <tr>\n",
       "      <th>12</th>\n",
       "      <td>ID_12</td>\n",
       "      <td>86.0</td>\n",
       "      <td>96.0</td>\n",
       "      <td>NaN</td>\n",
       "      <td>87.0</td>\n",
       "    </tr>\n",
       "    <tr>\n",
       "      <th>13</th>\n",
       "      <td>ID_13</td>\n",
       "      <td>NaN</td>\n",
       "      <td>89.0</td>\n",
       "      <td>98.0</td>\n",
       "      <td>82.0</td>\n",
       "    </tr>\n",
       "    <tr>\n",
       "      <th>14</th>\n",
       "      <td>ID_14</td>\n",
       "      <td>79.0</td>\n",
       "      <td>55.0</td>\n",
       "      <td>69.0</td>\n",
       "      <td>NaN</td>\n",
       "    </tr>\n",
       "  </tbody>\n",
       "</table>\n",
       "</div>"
      ],
      "text/plain": [
       "       학생    국어    수학    영어    과학\n",
       "0    ID_0  63.0   NaN  79.0  84.0\n",
       "1    ID_1  91.0  93.0   NaN  73.0\n",
       "2    ID_2  59.0  55.0   NaN  56.0\n",
       "3    ID_3  71.0  83.0  82.0   NaN\n",
       "4    ID_4  62.0  72.0  56.0   NaN\n",
       "5    ID_5   NaN  69.0  88.0  96.0\n",
       "6    ID_6  83.0  92.0  69.0   NaN\n",
       "7    ID_7  85.0   NaN  83.0  66.0\n",
       "8    ID_8  96.0  75.0  86.0   NaN\n",
       "9    ID_9  79.0  56.0  90.0   NaN\n",
       "10  ID_10  68.0   NaN  69.0  62.0\n",
       "11  ID_11  61.0  56.0   NaN  76.0\n",
       "12  ID_12  86.0  96.0   NaN  87.0\n",
       "13  ID_13   NaN  89.0  98.0  82.0\n",
       "14  ID_14  79.0  55.0  69.0   NaN"
      ]
     },
     "execution_count": 53,
     "metadata": {},
     "output_type": "execute_result"
    }
   ],
   "source": [
    "df"
   ]
  },
  {
   "cell_type": "markdown",
   "id": "40a05557-42e3-402c-9f2c-a9f079e120df",
   "metadata": {},
   "source": [
    "##  1-1\n",
    "국어,수학,영어,과학 과목 중 가장 많은 학생들이 응시한 시험을 선택하고 해당과목의 점수를 표준화 했을 때 가장 큰 표준화 점수를 구하여라"
   ]
  },
  {
   "cell_type": "markdown",
   "id": "919ed1bf-0607-4cf9-af13-83f25b093a7f",
   "metadata": {
    "tags": []
   },
   "source": [
    "#### $z = \\frac{x - \\mu}{\\sigma}$"
   ]
  },
  {
   "cell_type": "code",
   "execution_count": 54,
   "id": "1090f8fa-9027-4866-b426-d28af5ed55f2",
   "metadata": {},
   "outputs": [
    {
     "data": {
      "text/plain": [
       "1.713855688712825"
      ]
     },
     "execution_count": 54,
     "metadata": {},
     "output_type": "execute_result"
    }
   ],
   "source": [
    "# sol 1\n",
    "sub = df.iloc[: , 1: ].count().idxmax()\n",
    "((df[sub] - df[sub].mean()) / df[sub].std(ddof=0)).max()  # ddof=0으로 설정하여 모표준편차 구함"
   ]
  },
  {
   "cell_type": "code",
   "execution_count": 55,
   "id": "8249a5f7-67a1-4361-b6fc-fb7e58b78b9e",
   "metadata": {},
   "outputs": [
    {
     "data": {
      "text/plain": [
       "1.713855688712825"
      ]
     },
     "execution_count": 55,
     "metadata": {},
     "output_type": "execute_result"
    }
   ],
   "source": [
    "# sol 2\n",
    "from scipy.stats import zscore\n",
    "zscore(df[sub].dropna()).max()"
   ]
  },
  {
   "cell_type": "markdown",
   "id": "6368cc8d-3435-44ae-b081-4691f33110c0",
   "metadata": {},
   "source": [
    "##  1-2\n",
    "32개의 변수간 상관관계를 확인 했을 때, var_11 컬럼과 상관계수의 절댓값이 가장 큰 변수를 찾아 해당 변수의 평균값을 구하여라"
   ]
  },
  {
   "cell_type": "code",
   "execution_count": 56,
   "id": "d2e93d94-2cb6-4933-872d-6a7a623a3c6b",
   "metadata": {},
   "outputs": [
    {
     "data": {
      "text/html": [
       "<div>\n",
       "<style scoped>\n",
       "    .dataframe tbody tr th:only-of-type {\n",
       "        vertical-align: middle;\n",
       "    }\n",
       "\n",
       "    .dataframe tbody tr th {\n",
       "        vertical-align: top;\n",
       "    }\n",
       "\n",
       "    .dataframe thead th {\n",
       "        text-align: right;\n",
       "    }\n",
       "</style>\n",
       "<table border=\"1\" class=\"dataframe\">\n",
       "  <thead>\n",
       "    <tr style=\"text-align: right;\">\n",
       "      <th></th>\n",
       "      <th>var_1</th>\n",
       "      <th>var_2</th>\n",
       "      <th>var_3</th>\n",
       "      <th>var_4</th>\n",
       "      <th>var_5</th>\n",
       "      <th>var_6</th>\n",
       "      <th>var_7</th>\n",
       "      <th>var_8</th>\n",
       "      <th>var_9</th>\n",
       "      <th>var_10</th>\n",
       "      <th>...</th>\n",
       "      <th>var_23</th>\n",
       "      <th>var_24</th>\n",
       "      <th>var_25</th>\n",
       "      <th>var_26</th>\n",
       "      <th>var_27</th>\n",
       "      <th>var_28</th>\n",
       "      <th>var_29</th>\n",
       "      <th>var_30</th>\n",
       "      <th>var_31</th>\n",
       "      <th>var_32</th>\n",
       "    </tr>\n",
       "  </thead>\n",
       "  <tbody>\n",
       "    <tr>\n",
       "      <th>0</th>\n",
       "      <td>-0.335864</td>\n",
       "      <td>-2.425701</td>\n",
       "      <td>0.452851</td>\n",
       "      <td>-1.381924</td>\n",
       "      <td>-0.425591</td>\n",
       "      <td>-1.461498</td>\n",
       "      <td>-0.417082</td>\n",
       "      <td>-0.944226</td>\n",
       "      <td>-0.351224</td>\n",
       "      <td>1.474046</td>\n",
       "      <td>...</td>\n",
       "      <td>1.715714</td>\n",
       "      <td>0.300227</td>\n",
       "      <td>0.439828</td>\n",
       "      <td>-0.094772</td>\n",
       "      <td>1.551995</td>\n",
       "      <td>3.308446</td>\n",
       "      <td>-0.391377</td>\n",
       "      <td>1.963829</td>\n",
       "      <td>-1.458605</td>\n",
       "      <td>-0.348652</td>\n",
       "    </tr>\n",
       "    <tr>\n",
       "      <th>1</th>\n",
       "      <td>0.803535</td>\n",
       "      <td>-0.699433</td>\n",
       "      <td>0.095579</td>\n",
       "      <td>0.788053</td>\n",
       "      <td>-0.267674</td>\n",
       "      <td>-0.370746</td>\n",
       "      <td>0.636034</td>\n",
       "      <td>-1.674584</td>\n",
       "      <td>-0.058465</td>\n",
       "      <td>-1.188973</td>\n",
       "      <td>...</td>\n",
       "      <td>-1.348879</td>\n",
       "      <td>-0.899480</td>\n",
       "      <td>-1.271886</td>\n",
       "      <td>0.333734</td>\n",
       "      <td>-0.373565</td>\n",
       "      <td>-2.091508</td>\n",
       "      <td>-0.715245</td>\n",
       "      <td>-0.688441</td>\n",
       "      <td>0.910927</td>\n",
       "      <td>-0.746899</td>\n",
       "    </tr>\n",
       "    <tr>\n",
       "      <th>2</th>\n",
       "      <td>-0.408470</td>\n",
       "      <td>-0.361105</td>\n",
       "      <td>-0.857278</td>\n",
       "      <td>0.338294</td>\n",
       "      <td>2.317821</td>\n",
       "      <td>-0.099928</td>\n",
       "      <td>0.557053</td>\n",
       "      <td>-0.847932</td>\n",
       "      <td>0.973471</td>\n",
       "      <td>0.101203</td>\n",
       "      <td>...</td>\n",
       "      <td>-0.388353</td>\n",
       "      <td>0.918553</td>\n",
       "      <td>-1.984422</td>\n",
       "      <td>0.385055</td>\n",
       "      <td>1.161414</td>\n",
       "      <td>-1.280253</td>\n",
       "      <td>2.831802</td>\n",
       "      <td>-0.953771</td>\n",
       "      <td>-0.228466</td>\n",
       "      <td>0.766254</td>\n",
       "    </tr>\n",
       "    <tr>\n",
       "      <th>3</th>\n",
       "      <td>-0.690599</td>\n",
       "      <td>0.777928</td>\n",
       "      <td>-0.079963</td>\n",
       "      <td>0.164086</td>\n",
       "      <td>1.721702</td>\n",
       "      <td>0.146761</td>\n",
       "      <td>-0.988636</td>\n",
       "      <td>0.885344</td>\n",
       "      <td>0.647053</td>\n",
       "      <td>0.674609</td>\n",
       "      <td>...</td>\n",
       "      <td>0.337074</td>\n",
       "      <td>-1.406224</td>\n",
       "      <td>-0.699728</td>\n",
       "      <td>-0.836068</td>\n",
       "      <td>-0.226315</td>\n",
       "      <td>1.260893</td>\n",
       "      <td>-0.781630</td>\n",
       "      <td>-0.219995</td>\n",
       "      <td>0.871289</td>\n",
       "      <td>0.017578</td>\n",
       "    </tr>\n",
       "    <tr>\n",
       "      <th>4</th>\n",
       "      <td>0.179819</td>\n",
       "      <td>-0.668267</td>\n",
       "      <td>0.381849</td>\n",
       "      <td>-0.884196</td>\n",
       "      <td>0.758519</td>\n",
       "      <td>-1.026190</td>\n",
       "      <td>0.986227</td>\n",
       "      <td>-1.663167</td>\n",
       "      <td>2.290551</td>\n",
       "      <td>0.564845</td>\n",
       "      <td>...</td>\n",
       "      <td>-0.700137</td>\n",
       "      <td>-0.153825</td>\n",
       "      <td>-1.835313</td>\n",
       "      <td>0.182131</td>\n",
       "      <td>0.890247</td>\n",
       "      <td>0.024791</td>\n",
       "      <td>1.489955</td>\n",
       "      <td>1.276357</td>\n",
       "      <td>-0.285144</td>\n",
       "      <td>1.066486</td>\n",
       "    </tr>\n",
       "  </tbody>\n",
       "</table>\n",
       "<p>5 rows × 32 columns</p>\n",
       "</div>"
      ],
      "text/plain": [
       "      var_1     var_2     var_3     var_4     var_5     var_6     var_7  \\\n",
       "0 -0.335864 -2.425701  0.452851 -1.381924 -0.425591 -1.461498 -0.417082   \n",
       "1  0.803535 -0.699433  0.095579  0.788053 -0.267674 -0.370746  0.636034   \n",
       "2 -0.408470 -0.361105 -0.857278  0.338294  2.317821 -0.099928  0.557053   \n",
       "3 -0.690599  0.777928 -0.079963  0.164086  1.721702  0.146761 -0.988636   \n",
       "4  0.179819 -0.668267  0.381849 -0.884196  0.758519 -1.026190  0.986227   \n",
       "\n",
       "      var_8     var_9    var_10  ...    var_23    var_24    var_25    var_26  \\\n",
       "0 -0.944226 -0.351224  1.474046  ...  1.715714  0.300227  0.439828 -0.094772   \n",
       "1 -1.674584 -0.058465 -1.188973  ... -1.348879 -0.899480 -1.271886  0.333734   \n",
       "2 -0.847932  0.973471  0.101203  ... -0.388353  0.918553 -1.984422  0.385055   \n",
       "3  0.885344  0.647053  0.674609  ...  0.337074 -1.406224 -0.699728 -0.836068   \n",
       "4 -1.663167  2.290551  0.564845  ... -0.700137 -0.153825 -1.835313  0.182131   \n",
       "\n",
       "     var_27    var_28    var_29    var_30    var_31    var_32  \n",
       "0  1.551995  3.308446 -0.391377  1.963829 -1.458605 -0.348652  \n",
       "1 -0.373565 -2.091508 -0.715245 -0.688441  0.910927 -0.746899  \n",
       "2  1.161414 -1.280253  2.831802 -0.953771 -0.228466  0.766254  \n",
       "3 -0.226315  1.260893 -0.781630 -0.219995  0.871289  0.017578  \n",
       "4  0.890247  0.024791  1.489955  1.276357 -0.285144  1.066486  \n",
       "\n",
       "[5 rows x 32 columns]"
      ]
     },
     "execution_count": 56,
     "metadata": {},
     "output_type": "execute_result"
    }
   ],
   "source": [
    "import pandas as pd\n",
    "df = pd.read_csv('https://raw.githubusercontent.com/Datamanim/datarepo/main/krdatacertificate/e7_p2_.csv')\n",
    "df.head(5)"
   ]
  },
  {
   "cell_type": "code",
   "execution_count": 57,
   "id": "cffbf355-449b-48d5-940d-bcb2fa5401fc",
   "metadata": {},
   "outputs": [
    {
     "data": {
      "text/plain": [
       "-0.06289356546077182"
      ]
     },
     "execution_count": 57,
     "metadata": {},
     "output_type": "execute_result"
    }
   ],
   "source": [
    "# sol 1\n",
    "trg_var = df.corr().drop('var_11', axis=1).loc['var_11'].abs().idxmax()\n",
    "df[trg_var].mean()"
   ]
  },
  {
   "cell_type": "code",
   "execution_count": 58,
   "id": "4bc70e13-dc3b-43f1-be0b-958df72ecc9b",
   "metadata": {},
   "outputs": [
    {
     "data": {
      "text/plain": [
       "-0.06289356546077182"
      ]
     },
     "execution_count": 58,
     "metadata": {},
     "output_type": "execute_result"
    }
   ],
   "source": [
    "# sol 2\n",
    "trg_var = df.corr()['var_11'].abs().sort_values().index[-2]\n",
    "df[trg_var].mean()"
   ]
  },
  {
   "cell_type": "markdown",
   "id": "016c9665-5c80-4408-81c3-86ee654c7338",
   "metadata": {},
   "source": [
    "## 1-3\n",
    "var_6 컬럼의 1,3사분위수 각각 IQR의 1.5배 벗어난 이상치의 숫자를 구하라"
   ]
  },
  {
   "cell_type": "code",
   "execution_count": 59,
   "id": "0c2e7b01-69dd-4d94-8658-77f00ae91fc3",
   "metadata": {},
   "outputs": [
    {
     "data": {
      "text/html": [
       "<div>\n",
       "<style scoped>\n",
       "    .dataframe tbody tr th:only-of-type {\n",
       "        vertical-align: middle;\n",
       "    }\n",
       "\n",
       "    .dataframe tbody tr th {\n",
       "        vertical-align: top;\n",
       "    }\n",
       "\n",
       "    .dataframe thead th {\n",
       "        text-align: right;\n",
       "    }\n",
       "</style>\n",
       "<table border=\"1\" class=\"dataframe\">\n",
       "  <thead>\n",
       "    <tr style=\"text-align: right;\">\n",
       "      <th></th>\n",
       "      <th>var_1</th>\n",
       "      <th>var_2</th>\n",
       "      <th>var_3</th>\n",
       "      <th>var_4</th>\n",
       "      <th>var_5</th>\n",
       "      <th>var_6</th>\n",
       "      <th>var_7</th>\n",
       "      <th>var_8</th>\n",
       "      <th>var_9</th>\n",
       "      <th>var_10</th>\n",
       "      <th>var_11</th>\n",
       "      <th>var_12</th>\n",
       "    </tr>\n",
       "  </thead>\n",
       "  <tbody>\n",
       "    <tr>\n",
       "      <th>0</th>\n",
       "      <td>-0.401584</td>\n",
       "      <td>0.007198</td>\n",
       "      <td>-0.134910</td>\n",
       "      <td>-0.419514</td>\n",
       "      <td>-0.686331</td>\n",
       "      <td>-1.174550</td>\n",
       "      <td>-0.499150</td>\n",
       "      <td>-0.557510</td>\n",
       "      <td>0.357347</td>\n",
       "      <td>0.844209</td>\n",
       "      <td>0.082097</td>\n",
       "      <td>0.475098</td>\n",
       "    </tr>\n",
       "    <tr>\n",
       "      <th>1</th>\n",
       "      <td>1.064622</td>\n",
       "      <td>-0.531247</td>\n",
       "      <td>0.571185</td>\n",
       "      <td>-0.762243</td>\n",
       "      <td>-1.456043</td>\n",
       "      <td>0.355432</td>\n",
       "      <td>0.880010</td>\n",
       "      <td>0.523183</td>\n",
       "      <td>-0.141733</td>\n",
       "      <td>0.301472</td>\n",
       "      <td>0.840299</td>\n",
       "      <td>-0.045113</td>\n",
       "    </tr>\n",
       "    <tr>\n",
       "      <th>2</th>\n",
       "      <td>0.900195</td>\n",
       "      <td>-1.148496</td>\n",
       "      <td>-0.718437</td>\n",
       "      <td>-2.315266</td>\n",
       "      <td>-0.755505</td>\n",
       "      <td>0.630923</td>\n",
       "      <td>0.586027</td>\n",
       "      <td>0.086497</td>\n",
       "      <td>-0.381657</td>\n",
       "      <td>-1.602532</td>\n",
       "      <td>1.566340</td>\n",
       "      <td>-0.654105</td>\n",
       "    </tr>\n",
       "    <tr>\n",
       "      <th>3</th>\n",
       "      <td>1.199227</td>\n",
       "      <td>-0.114200</td>\n",
       "      <td>0.101536</td>\n",
       "      <td>-1.851971</td>\n",
       "      <td>-0.672844</td>\n",
       "      <td>0.796077</td>\n",
       "      <td>0.644246</td>\n",
       "      <td>-0.836296</td>\n",
       "      <td>-1.707074</td>\n",
       "      <td>0.376281</td>\n",
       "      <td>1.303967</td>\n",
       "      <td>1.228015</td>\n",
       "    </tr>\n",
       "    <tr>\n",
       "      <th>4</th>\n",
       "      <td>0.607393</td>\n",
       "      <td>1.675917</td>\n",
       "      <td>1.063759</td>\n",
       "      <td>-0.799493</td>\n",
       "      <td>-0.959568</td>\n",
       "      <td>-0.103007</td>\n",
       "      <td>-0.245984</td>\n",
       "      <td>-0.059492</td>\n",
       "      <td>0.293592</td>\n",
       "      <td>-0.517044</td>\n",
       "      <td>0.100772</td>\n",
       "      <td>0.403833</td>\n",
       "    </tr>\n",
       "  </tbody>\n",
       "</table>\n",
       "</div>"
      ],
      "text/plain": [
       "      var_1     var_2     var_3     var_4     var_5     var_6     var_7  \\\n",
       "0 -0.401584  0.007198 -0.134910 -0.419514 -0.686331 -1.174550 -0.499150   \n",
       "1  1.064622 -0.531247  0.571185 -0.762243 -1.456043  0.355432  0.880010   \n",
       "2  0.900195 -1.148496 -0.718437 -2.315266 -0.755505  0.630923  0.586027   \n",
       "3  1.199227 -0.114200  0.101536 -1.851971 -0.672844  0.796077  0.644246   \n",
       "4  0.607393  1.675917  1.063759 -0.799493 -0.959568 -0.103007 -0.245984   \n",
       "\n",
       "      var_8     var_9    var_10    var_11    var_12  \n",
       "0 -0.557510  0.357347  0.844209  0.082097  0.475098  \n",
       "1  0.523183 -0.141733  0.301472  0.840299 -0.045113  \n",
       "2  0.086497 -0.381657 -1.602532  1.566340 -0.654105  \n",
       "3 -0.836296 -1.707074  0.376281  1.303967  1.228015  \n",
       "4 -0.059492  0.293592 -0.517044  0.100772  0.403833  "
      ]
     },
     "execution_count": 59,
     "metadata": {},
     "output_type": "execute_result"
    }
   ],
   "source": [
    "import pandas as pd\n",
    "\n",
    "df = pd.read_csv('https://raw.githubusercontent.com/Datamanim/datarepo/main/krdatacertificate/e7_p3.csv')\n",
    "df.head()"
   ]
  },
  {
   "cell_type": "code",
   "execution_count": 60,
   "id": "bbad9adf-2f22-47e9-a737-bb4ed73afde6",
   "metadata": {},
   "outputs": [],
   "source": [
    "Q1 = df['var_6'].quantile(0.25)\n",
    "Q3 = df['var_6'].quantile(0.75)\n",
    "IQR = Q3 - Q1\n",
    "\n",
    "max_boundary = Q3 + 1.5 * IQR\n",
    "min_boundary = Q1 - 1.5 * IQR"
   ]
  },
  {
   "cell_type": "code",
   "execution_count": 61,
   "id": "aa61f2a2-134c-46fd-9c34-f1cca4c89f38",
   "metadata": {},
   "outputs": [
    {
     "data": {
      "text/plain": [
       "8"
      ]
     },
     "execution_count": 61,
     "metadata": {},
     "output_type": "execute_result"
    }
   ],
   "source": [
    "cond1 = df['var_6'] < min_boundary\n",
    "cond2 = df['var_6'] > max_boundary\n",
    "cond = cond1 | cond2\n",
    "df[cond].shape[0]"
   ]
  },
  {
   "cell_type": "markdown",
   "id": "762d5384-9e3e-4098-bcb7-68da92414176",
   "metadata": {},
   "source": [
    "# 작업 2 유형\n",
    "종속변수 :이용금액 , 평가지표 : rmse"
   ]
  },
  {
   "cell_type": "code",
   "execution_count": 62,
   "id": "146d2c5e-6d5f-4162-af2a-ffa495861e8c",
   "metadata": {},
   "outputs": [
    {
     "data": {
      "text/html": [
       "<div>\n",
       "<style scoped>\n",
       "    .dataframe tbody tr th:only-of-type {\n",
       "        vertical-align: middle;\n",
       "    }\n",
       "\n",
       "    .dataframe tbody tr th {\n",
       "        vertical-align: top;\n",
       "    }\n",
       "\n",
       "    .dataframe thead th {\n",
       "        text-align: right;\n",
       "    }\n",
       "</style>\n",
       "<table border=\"1\" class=\"dataframe\">\n",
       "  <thead>\n",
       "    <tr style=\"text-align: right;\">\n",
       "      <th></th>\n",
       "      <th>ID</th>\n",
       "      <th>연월</th>\n",
       "      <th>업종명</th>\n",
       "      <th>이용자구분</th>\n",
       "      <th>성별</th>\n",
       "      <th>이용자수</th>\n",
       "      <th>이용건수</th>\n",
       "      <th>이용금액</th>\n",
       "    </tr>\n",
       "  </thead>\n",
       "  <tbody>\n",
       "    <tr>\n",
       "      <th>0</th>\n",
       "      <td>ID_5020</td>\n",
       "      <td>202201</td>\n",
       "      <td>여관업</td>\n",
       "      <td>법인</td>\n",
       "      <td>알수없음</td>\n",
       "      <td>7693</td>\n",
       "      <td>12105</td>\n",
       "      <td>3049021809</td>\n",
       "    </tr>\n",
       "    <tr>\n",
       "      <th>1</th>\n",
       "      <td>ID_5021</td>\n",
       "      <td>202201</td>\n",
       "      <td>여관업</td>\n",
       "      <td>제주도민</td>\n",
       "      <td>남성</td>\n",
       "      <td>3990</td>\n",
       "      <td>4291</td>\n",
       "      <td>294163241</td>\n",
       "    </tr>\n",
       "  </tbody>\n",
       "</table>\n",
       "</div>"
      ],
      "text/plain": [
       "        ID      연월  업종명 이용자구분    성별  이용자수   이용건수        이용금액\n",
       "0  ID_5020  202201  여관업    법인  알수없음  7693  12105  3049021809\n",
       "1  ID_5021  202201  여관업  제주도민    남성  3990   4291   294163241"
      ]
     },
     "metadata": {},
     "output_type": "display_data"
    },
    {
     "data": {
      "text/html": [
       "<div>\n",
       "<style scoped>\n",
       "    .dataframe tbody tr th:only-of-type {\n",
       "        vertical-align: middle;\n",
       "    }\n",
       "\n",
       "    .dataframe tbody tr th {\n",
       "        vertical-align: top;\n",
       "    }\n",
       "\n",
       "    .dataframe thead th {\n",
       "        text-align: right;\n",
       "    }\n",
       "</style>\n",
       "<table border=\"1\" class=\"dataframe\">\n",
       "  <thead>\n",
       "    <tr style=\"text-align: right;\">\n",
       "      <th></th>\n",
       "      <th>ID</th>\n",
       "      <th>연월</th>\n",
       "      <th>업종명</th>\n",
       "      <th>이용자구분</th>\n",
       "      <th>성별</th>\n",
       "      <th>이용자수</th>\n",
       "      <th>이용건수</th>\n",
       "    </tr>\n",
       "  </thead>\n",
       "  <tbody>\n",
       "    <tr>\n",
       "      <th>0</th>\n",
       "      <td>ID_2575</td>\n",
       "      <td>201911</td>\n",
       "      <td>한식 음식점업</td>\n",
       "      <td>제주도민</td>\n",
       "      <td>여성</td>\n",
       "      <td>153363</td>\n",
       "      <td>163462</td>\n",
       "    </tr>\n",
       "    <tr>\n",
       "      <th>1</th>\n",
       "      <td>ID_6637</td>\n",
       "      <td>202305</td>\n",
       "      <td>건강보조식품 소매업</td>\n",
       "      <td>법인</td>\n",
       "      <td>알수없음</td>\n",
       "      <td>136</td>\n",
       "      <td>144</td>\n",
       "    </tr>\n",
       "  </tbody>\n",
       "</table>\n",
       "</div>"
      ],
      "text/plain": [
       "        ID      연월         업종명 이용자구분    성별    이용자수    이용건수\n",
       "0  ID_2575  201911     한식 음식점업  제주도민    여성  153363  163462\n",
       "1  ID_6637  202305  건강보조식품 소매업    법인  알수없음     136     144"
      ]
     },
     "metadata": {},
     "output_type": "display_data"
    }
   ],
   "source": [
    "import pandas as pd\n",
    "train = pd.read_csv('https://raw.githubusercontent.com/Datamanim/datarepo/main/krdatacertificate/e7_p2_train2.csv')\n",
    "test = pd.read_csv('https://raw.githubusercontent.com/Datamanim/datarepo/main/krdatacertificate/e7_p2_test2.csv')\n",
    "\n",
    "display(train.head(2))\n",
    "display(test.head(2))"
   ]
  },
  {
   "cell_type": "code",
   "execution_count": 63,
   "id": "d9e8f8bb-a0a2-4b51-8824-9714762bdd41",
   "metadata": {},
   "outputs": [
    {
     "name": "stdout",
     "output_type": "stream",
     "text": [
      "<class 'pandas.core.frame.DataFrame'>\n",
      "RangeIndex: 2245 entries, 0 to 2244\n",
      "Data columns (total 8 columns):\n",
      " #   Column  Non-Null Count  Dtype \n",
      "---  ------  --------------  ----- \n",
      " 0   ID      2245 non-null   object\n",
      " 1   연월      2245 non-null   int64 \n",
      " 2   업종명     2245 non-null   object\n",
      " 3   이용자구분   2245 non-null   object\n",
      " 4   성별      2245 non-null   object\n",
      " 5   이용자수    2245 non-null   int64 \n",
      " 6   이용건수    2245 non-null   int64 \n",
      " 7   이용금액    2245 non-null   int64 \n",
      "dtypes: int64(4), object(4)\n",
      "memory usage: 140.4+ KB\n"
     ]
    }
   ],
   "source": [
    "train.info()"
   ]
  },
  {
   "cell_type": "code",
   "execution_count": 64,
   "id": "c52b7961-22dd-44df-9fc5-7a9509e008f3",
   "metadata": {},
   "outputs": [
    {
     "name": "stdout",
     "output_type": "stream",
     "text": [
      "<class 'pandas.core.frame.DataFrame'>\n",
      "RangeIndex: 5020 entries, 0 to 5019\n",
      "Data columns (total 7 columns):\n",
      " #   Column  Non-Null Count  Dtype \n",
      "---  ------  --------------  ----- \n",
      " 0   ID      5020 non-null   object\n",
      " 1   연월      5020 non-null   int64 \n",
      " 2   업종명     5020 non-null   object\n",
      " 3   이용자구분   5020 non-null   object\n",
      " 4   성별      5020 non-null   object\n",
      " 5   이용자수    5020 non-null   int64 \n",
      " 6   이용건수    5020 non-null   int64 \n",
      "dtypes: int64(3), object(4)\n",
      "memory usage: 274.7+ KB\n"
     ]
    }
   ],
   "source": [
    "test.info()"
   ]
  },
  {
   "cell_type": "code",
   "execution_count": 65,
   "id": "5bde78f3-0012-4c94-9db4-584560066b10",
   "metadata": {},
   "outputs": [
    {
     "name": "stdout",
     "output_type": "stream",
     "text": [
      "unique of ID ['ID_5020' 'ID_5021' 'ID_5022' ... 'ID_7262' 'ID_7263' 'ID_7264']\n",
      "unique of 연월 [202201 202202 202203 202204 202205 202206 202207 202208 202209 202210\n",
      " 202211 202212 202301 202302 202303 202304 202305 202306 202307 202308\n",
      " 202309 202310]\n",
      "unique of 업종명 ['여관업' '전시 및 행사 대행업' '체인화 편의점' '피자, 햄버거, 샌드위치 및 유사 음식점업' '한식 음식점업' '호텔업'\n",
      " '화장품 및 방향제 소매업' '건강보조식품 소매업' '기타 대형 종합 소매업' '면세점' '비알콜 음료점업'\n",
      " '빵 및 과자류 소매업' '서양식 음식점업' '슈퍼마켓' '스포츠 및 레크레이션 용품 임대업']\n",
      "unique of 이용자구분 ['법인' '제주도민' '내국인' '중국' '기타외국' '동남아' '일본']\n",
      "unique of 성별 ['알수없음' '남성' '여성']\n",
      "unique of 이용자수 [7693 3990 1495 ...  488 1318 2611]\n",
      "unique of 이용건수 [12105  4291  1620 ...   521  1410  2798]\n",
      "unique of 이용금액 [3049021809  294163241  119277191 ...  103054160  195816205   41815300]\n"
     ]
    }
   ],
   "source": [
    "for col in train.columns:\n",
    "    print(f'unique of {col}', train[col].unique())"
   ]
  },
  {
   "cell_type": "markdown",
   "id": "8575c00a-1a1d-4968-bcf6-663aba7401a1",
   "metadata": {},
   "source": [
    "### 컬럼 요약\n",
    "- ID : id\n",
    "- 연월 : 날짜 숫자형. format='%Y%m'. datetime 변환 후 year, month 파생 변수 생성 활용\n",
    "- 업종명 : 범주형-명목형. 원핫인코딩 수행\n",
    "- 이용자구분 : 범주형-명목형. 원핫인코딩 수행\n",
    "- 성별 : 범주형-명목형. 원핫인코딩 수행\n",
    "- 이용자수 : 수치형-이산형.\n",
    "- 이용건수 : 수치형-이산형.\n",
    "- 이용금액 : 수치형-연속형. 타겟 데이터"
   ]
  },
  {
   "cell_type": "code",
   "execution_count": 66,
   "id": "df9c99dd-34e3-45e6-ab4b-ac5c02cc9b2a",
   "metadata": {},
   "outputs": [],
   "source": [
    "# id 컬럼 드랍 및 타겟 데이터 분리 및 테스트 데이터 id 확보\n",
    "train.drop('ID', axis=1, inplace=True)\n",
    "y = train.pop('이용금액')\n",
    "test_id = test.pop('ID')"
   ]
  },
  {
   "cell_type": "code",
   "execution_count": 67,
   "id": "dceddb15-f9b7-4f9b-ad8d-1392a5e7b3ad",
   "metadata": {},
   "outputs": [],
   "source": [
    "# to_datetime 변환\n",
    "train['연월'] = pd.to_datetime(train['연월'], format='%Y%m')\n",
    "test['연월'] = pd.to_datetime(test['연월'], format='%Y%m')"
   ]
  },
  {
   "cell_type": "code",
   "execution_count": 68,
   "id": "51777616-4878-4925-ae12-53efead4b1d1",
   "metadata": {},
   "outputs": [],
   "source": [
    "# 날짜 파생변수 year, month 생성\n",
    "train['year'] = train['연월'].dt.year\n",
    "train['month'] = train['연월'].dt.month\n",
    "\n",
    "test['year'] = test['연월'].dt.year\n",
    "test['month'] = test['연월'].dt.year\n",
    "\n",
    "train.drop('연월', axis=1, inplace=True)\n",
    "test.drop('연월', axis=1, inplace=True)"
   ]
  },
  {
   "cell_type": "code",
   "execution_count": 69,
   "id": "9a9164d7-083e-4a2d-9652-59a930cfb659",
   "metadata": {},
   "outputs": [
    {
     "data": {
      "text/plain": [
       "Index(['업종명', '이용자구분', '성별'], dtype='object')"
      ]
     },
     "execution_count": 69,
     "metadata": {},
     "output_type": "execute_result"
    }
   ],
   "source": [
    "# 원핫인코딩 대상 컬럼명 확보\n",
    "object_columns = train.select_dtypes(include='object').columns\n",
    "object_columns"
   ]
  },
  {
   "cell_type": "code",
   "execution_count": 70,
   "id": "3bb9c6da-c50c-4558-b89c-f9196c85cf1a",
   "metadata": {},
   "outputs": [],
   "source": [
    "# 업종명, 이용자구분, 성별 컬럼 원핫 인코딩\n",
    "train = pd.get_dummies(train, columns=object_columns)\n",
    "test = pd.get_dummies(test, columns=object_columns)"
   ]
  },
  {
   "cell_type": "code",
   "execution_count": 71,
   "id": "0cf1b732-c47e-4702-ac64-c543a1eea8c4",
   "metadata": {},
   "outputs": [
    {
     "data": {
      "text/plain": [
       "((1796, 29), (449, 29), (1796,), (449,))"
      ]
     },
     "execution_count": 71,
     "metadata": {},
     "output_type": "execute_result"
    }
   ],
   "source": [
    "# 데이터 분리\n",
    "from sklearn.model_selection import train_test_split\n",
    "\n",
    "random_state = 42\n",
    "\n",
    "\n",
    "X_train, X_val, y_train, y_val = train_test_split(train, y, test_size=0.2, random_state=42)\n",
    "X_train.shape, X_val.shape, y_train.shape, y_val.shape"
   ]
  },
  {
   "cell_type": "code",
   "execution_count": 72,
   "id": "e58a7b87-b985-44df-89e7-7210d0778ef6",
   "metadata": {},
   "outputs": [
    {
     "data": {
      "text/plain": [
       "RandomForestRegressor()"
      ]
     },
     "execution_count": 72,
     "metadata": {},
     "output_type": "execute_result"
    }
   ],
   "source": [
    "# 모델 객체 생성 및 학습\n",
    "from sklearn.ensemble import RandomForestRegressor\n",
    "\n",
    "rf = RandomForestRegressor()\n",
    "rf.fit(X_train, y_train)"
   ]
  },
  {
   "cell_type": "code",
   "execution_count": 73,
   "id": "5acf7db3-3917-4784-9e45-d94ca2abdcfe",
   "metadata": {
    "tags": []
   },
   "outputs": [],
   "source": [
    "# 검증 데이터 추론\n",
    "\n",
    "preds = rf.predict(X_val)"
   ]
  },
  {
   "cell_type": "code",
   "execution_count": 74,
   "id": "cd577498-5d0f-4a21-8e23-f5ccc7fe07c6",
   "metadata": {},
   "outputs": [
    {
     "name": "stdout",
     "output_type": "stream",
     "text": [
      "r2: 0.9933733295558609 rmse: 143407431.30887946\n"
     ]
    }
   ],
   "source": [
    "# 평가지표 검증\n",
    "from sklearn.metrics import r2_score, mean_squared_error\n",
    "import numpy as np\n",
    "\n",
    "r2 = r2_score(y_val, preds)\n",
    "rmse = np.sqrt(mean_squared_error(y_val, preds))\n",
    "print('r2:', r2, 'rmse:', rmse)"
   ]
  },
  {
   "cell_type": "code",
   "execution_count": 75,
   "id": "0828346b-bf0c-4fae-9f58-fe41b580353d",
   "metadata": {},
   "outputs": [],
   "source": [
    "# 평가 데이터 추론\n",
    "preds = rf.predict(test)"
   ]
  },
  {
   "cell_type": "code",
   "execution_count": 76,
   "id": "f899dabc-f8a0-4a84-bb0d-5812e9a599f9",
   "metadata": {},
   "outputs": [],
   "source": [
    "# 제출\n",
    "submission = pd.DataFrame({'ID': test_id, 'price': preds})\n",
    "submission.to_csv('submission.csv', index=False)"
   ]
  },
  {
   "cell_type": "markdown",
   "id": "1a193236-7d5a-47b5-863e-ee27dfb3d246",
   "metadata": {},
   "source": [
    "# 작업 유형 3"
   ]
  },
  {
   "cell_type": "code",
   "execution_count": 77,
   "id": "70b29ccc-7d82-4e07-bf73-059b530e7911",
   "metadata": {},
   "outputs": [
    {
     "data": {
      "text/html": [
       "<div>\n",
       "<style scoped>\n",
       "    .dataframe tbody tr th:only-of-type {\n",
       "        vertical-align: middle;\n",
       "    }\n",
       "\n",
       "    .dataframe tbody tr th {\n",
       "        vertical-align: top;\n",
       "    }\n",
       "\n",
       "    .dataframe thead th {\n",
       "        text-align: right;\n",
       "    }\n",
       "</style>\n",
       "<table border=\"1\" class=\"dataframe\">\n",
       "  <thead>\n",
       "    <tr style=\"text-align: right;\">\n",
       "      <th></th>\n",
       "      <th>Target</th>\n",
       "      <th>v1</th>\n",
       "      <th>v2</th>\n",
       "      <th>v3</th>\n",
       "      <th>v4</th>\n",
       "      <th>v5</th>\n",
       "      <th>v6</th>\n",
       "      <th>v7</th>\n",
       "      <th>v8</th>\n",
       "      <th>v9</th>\n",
       "      <th>...</th>\n",
       "      <th>v12</th>\n",
       "      <th>v13</th>\n",
       "      <th>v14</th>\n",
       "      <th>v15</th>\n",
       "      <th>v16</th>\n",
       "      <th>v17</th>\n",
       "      <th>v18</th>\n",
       "      <th>v19</th>\n",
       "      <th>v20</th>\n",
       "      <th>v21</th>\n",
       "    </tr>\n",
       "  </thead>\n",
       "  <tbody>\n",
       "    <tr>\n",
       "      <th>0</th>\n",
       "      <td>21.650072</td>\n",
       "      <td>0.496714</td>\n",
       "      <td>-0.138264</td>\n",
       "      <td>0.647689</td>\n",
       "      <td>1.523030</td>\n",
       "      <td>-0.234153</td>\n",
       "      <td>-0.234137</td>\n",
       "      <td>1.579213</td>\n",
       "      <td>0.767435</td>\n",
       "      <td>-0.469474</td>\n",
       "      <td>...</td>\n",
       "      <td>-0.465730</td>\n",
       "      <td>0.241962</td>\n",
       "      <td>-1.913280</td>\n",
       "      <td>-1.724918</td>\n",
       "      <td>-0.562288</td>\n",
       "      <td>-1.012831</td>\n",
       "      <td>0.314247</td>\n",
       "      <td>-0.908024</td>\n",
       "      <td>-1.412304</td>\n",
       "      <td>1.465649</td>\n",
       "    </tr>\n",
       "    <tr>\n",
       "      <th>1</th>\n",
       "      <td>-19.469855</td>\n",
       "      <td>-0.225776</td>\n",
       "      <td>0.067528</td>\n",
       "      <td>-1.424748</td>\n",
       "      <td>-0.544383</td>\n",
       "      <td>0.110923</td>\n",
       "      <td>-1.150994</td>\n",
       "      <td>0.375698</td>\n",
       "      <td>-0.600639</td>\n",
       "      <td>-0.291694</td>\n",
       "      <td>...</td>\n",
       "      <td>-0.013497</td>\n",
       "      <td>-1.057711</td>\n",
       "      <td>0.822545</td>\n",
       "      <td>-1.220844</td>\n",
       "      <td>0.208864</td>\n",
       "      <td>-1.959670</td>\n",
       "      <td>-1.328186</td>\n",
       "      <td>0.196861</td>\n",
       "      <td>0.738467</td>\n",
       "      <td>0.171368</td>\n",
       "    </tr>\n",
       "    <tr>\n",
       "      <th>2</th>\n",
       "      <td>-24.475600</td>\n",
       "      <td>-0.115648</td>\n",
       "      <td>-0.301104</td>\n",
       "      <td>-1.478522</td>\n",
       "      <td>-0.719844</td>\n",
       "      <td>-0.460639</td>\n",
       "      <td>1.057122</td>\n",
       "      <td>0.343618</td>\n",
       "      <td>-1.763040</td>\n",
       "      <td>0.324084</td>\n",
       "      <td>...</td>\n",
       "      <td>0.611676</td>\n",
       "      <td>1.031000</td>\n",
       "      <td>0.931280</td>\n",
       "      <td>-0.839218</td>\n",
       "      <td>-0.309212</td>\n",
       "      <td>0.331263</td>\n",
       "      <td>0.975545</td>\n",
       "      <td>-0.479174</td>\n",
       "      <td>-0.185659</td>\n",
       "      <td>-1.106335</td>\n",
       "    </tr>\n",
       "    <tr>\n",
       "      <th>3</th>\n",
       "      <td>13.476831</td>\n",
       "      <td>-1.196207</td>\n",
       "      <td>0.812526</td>\n",
       "      <td>1.356240</td>\n",
       "      <td>-0.072010</td>\n",
       "      <td>1.003533</td>\n",
       "      <td>0.361636</td>\n",
       "      <td>-0.645120</td>\n",
       "      <td>0.361396</td>\n",
       "      <td>1.538037</td>\n",
       "      <td>...</td>\n",
       "      <td>-2.619745</td>\n",
       "      <td>0.821903</td>\n",
       "      <td>0.087047</td>\n",
       "      <td>-0.299007</td>\n",
       "      <td>0.091761</td>\n",
       "      <td>-1.987569</td>\n",
       "      <td>-0.219672</td>\n",
       "      <td>0.357113</td>\n",
       "      <td>1.477894</td>\n",
       "      <td>-0.518270</td>\n",
       "    </tr>\n",
       "    <tr>\n",
       "      <th>4</th>\n",
       "      <td>3.505322</td>\n",
       "      <td>-0.808494</td>\n",
       "      <td>-0.501757</td>\n",
       "      <td>0.915402</td>\n",
       "      <td>0.328751</td>\n",
       "      <td>-0.529760</td>\n",
       "      <td>0.513267</td>\n",
       "      <td>0.097078</td>\n",
       "      <td>0.968645</td>\n",
       "      <td>-0.702053</td>\n",
       "      <td>...</td>\n",
       "      <td>-1.463515</td>\n",
       "      <td>0.296120</td>\n",
       "      <td>0.261055</td>\n",
       "      <td>0.005113</td>\n",
       "      <td>-0.234587</td>\n",
       "      <td>-1.415371</td>\n",
       "      <td>-0.420645</td>\n",
       "      <td>-0.342715</td>\n",
       "      <td>-0.802277</td>\n",
       "      <td>-0.161286</td>\n",
       "    </tr>\n",
       "  </tbody>\n",
       "</table>\n",
       "<p>5 rows × 22 columns</p>\n",
       "</div>"
      ],
      "text/plain": [
       "      Target        v1        v2        v3        v4        v5        v6  \\\n",
       "0  21.650072  0.496714 -0.138264  0.647689  1.523030 -0.234153 -0.234137   \n",
       "1 -19.469855 -0.225776  0.067528 -1.424748 -0.544383  0.110923 -1.150994   \n",
       "2 -24.475600 -0.115648 -0.301104 -1.478522 -0.719844 -0.460639  1.057122   \n",
       "3  13.476831 -1.196207  0.812526  1.356240 -0.072010  1.003533  0.361636   \n",
       "4   3.505322 -0.808494 -0.501757  0.915402  0.328751 -0.529760  0.513267   \n",
       "\n",
       "         v7        v8        v9  ...       v12       v13       v14       v15  \\\n",
       "0  1.579213  0.767435 -0.469474  ... -0.465730  0.241962 -1.913280 -1.724918   \n",
       "1  0.375698 -0.600639 -0.291694  ... -0.013497 -1.057711  0.822545 -1.220844   \n",
       "2  0.343618 -1.763040  0.324084  ...  0.611676  1.031000  0.931280 -0.839218   \n",
       "3 -0.645120  0.361396  1.538037  ... -2.619745  0.821903  0.087047 -0.299007   \n",
       "4  0.097078  0.968645 -0.702053  ... -1.463515  0.296120  0.261055  0.005113   \n",
       "\n",
       "        v16       v17       v18       v19       v20       v21  \n",
       "0 -0.562288 -1.012831  0.314247 -0.908024 -1.412304  1.465649  \n",
       "1  0.208864 -1.959670 -1.328186  0.196861  0.738467  0.171368  \n",
       "2 -0.309212  0.331263  0.975545 -0.479174 -0.185659 -1.106335  \n",
       "3  0.091761 -1.987569 -0.219672  0.357113  1.477894 -0.518270  \n",
       "4 -0.234587 -1.415371 -0.420645 -0.342715 -0.802277 -0.161286  \n",
       "\n",
       "[5 rows x 22 columns]"
      ]
     },
     "execution_count": 77,
     "metadata": {},
     "output_type": "execute_result"
    }
   ],
   "source": [
    "import pandas as pd\n",
    "df=pd.read_csv('https://raw.githubusercontent.com/Datamanim/datarepo/main/krdatacertificate/e7_p3_1.csv')\n",
    "df.head()"
   ]
  },
  {
   "cell_type": "markdown",
   "id": "80d849b2-01b6-4d44-9540-320bd03aedc2",
   "metadata": {},
   "source": [
    "## 3-1\n",
    "선형관계 가장 큰 변수 찾아 상관계수를 구하여라"
   ]
  },
  {
   "cell_type": "code",
   "execution_count": 78,
   "id": "3632f5a9-c27d-425b-9005-0f68f75261a3",
   "metadata": {},
   "outputs": [
    {
     "name": "stdout",
     "output_type": "stream",
     "text": [
      "가장 큰 상관계수를 갖는 변수 : v3\n",
      "상관계수 : 0.6270251925517436\n"
     ]
    }
   ],
   "source": [
    "print('가장 큰 상관계수를 갖는 변수 :', df.corr()['Target'].drop('Target').idxmax())\n",
    "print('상관계수 :', df.corr()['Target'].drop('Target').max())"
   ]
  },
  {
   "cell_type": "markdown",
   "id": "dcfd4628-60bc-48fd-94e2-ec74f9f3dbc3",
   "metadata": {},
   "source": [
    "## 3-2\n",
    "Target 변수를 종속변수로 하여 다중선형회귀모델링을 진행했을 때 v2 컬럼의 회귀 계수는?"
   ]
  },
  {
   "cell_type": "markdown",
   "id": "820bd565-f1eb-4fbc-b61a-efca42cadfab",
   "metadata": {},
   "source": [
    "### 최소 제곱법(Least Squares Method)\n",
    "- 회귀 분석에서 사용되는 통계적 방법으로, 주어진 데이터 포인트에 가장 잘 맞는 추세선을 찾기 위해 잔차(residual)의 제곱합을 최소화하는 방식\n",
    "- 잔차는 실제값과 예측값의 차이를 의미하며, 잔차의 제곱합을 최소화함으로써 예측 모델의 정확도를 높이는 것을 목표로 함\n",
    "- 잔차 제곱합(RSS: Residual Sum of Squares)을 최소화하는 회귀 계수 탐색 기법\n",
    "- OLS(Ordinary Least Squares)\n",
    "    - 가장 일반적으로 사용되는 회귀 분석 방법\n",
    "    - 오차항(잔차)의 분산이 동일하다고 가정(등분산 가정 O)\n",
    "- GLS(Generalized Least Squares)\n",
    "    - OLS의 일반화된 형태\n",
    "    - 오차항의 분산이 일정하지 않을 경우 사용(등분산 가정 X)\n",
    "    - 오차항의 분산-공분산 행렬을 고려하여 모델 적합\n",
    "    - 시계열 데이터 같은 시간에 따라 오차항의 분산이 변하는 경우 GLS를 사용하여 적절한 회귀 모델 적합"
   ]
  },
  {
   "cell_type": "code",
   "execution_count": 79,
   "id": "4b67194b-f8f7-4b81-ae30-a1be438da1d7",
   "metadata": {},
   "outputs": [
    {
     "name": "stdout",
     "output_type": "stream",
     "text": [
      "v2 컬럼의 회귀 계수: 6.440301364843064\n"
     ]
    }
   ],
   "source": [
    "# sol2 - import statsmodels.api as sm으로 다중선형회귀모델링. 상수항 수동 입력 필수.\n",
    "import statsmodels.api as sm\n",
    "\n",
    "X = df.drop('Target', axis=1)\n",
    "X = sm.add_constant(X)  # 상수항 추가\n",
    "y = df['Target']\n",
    "model = sm.OLS(y, X).fit()\n",
    "print('v2 컬럼의 회귀 계수:', model.params['v2'])"
   ]
  },
  {
   "cell_type": "code",
   "execution_count": 80,
   "id": "654a80f3-4c7e-45aa-b867-42711f6f1ed1",
   "metadata": {},
   "outputs": [
    {
     "name": "stdout",
     "output_type": "stream",
     "text": [
      "v2 컬럼의 회귀 계수: 6.440301364843064\n"
     ]
    }
   ],
   "source": [
    "# sol3 - from statsmodels.formula.api import smf으로 다중선형회귀모델링. 상수항 자동으로 추가 됨.\n",
    "from statsmodels.formula.api import ols\n",
    "\n",
    "formula = 'Target ~ v1 + v2 + v3 + v4 + v5 + v6 + v7 + v8 + v9 + v10 + v11 + v12 + v12 + v13 + v14 + v15 + v16 + v17 + v18 + v19 + v20 + v21'\n",
    "model = ols(formula=formula, data=df).fit()\n",
    "print('v2 컬럼의 회귀 계수:', model.params['v2'])"
   ]
  },
  {
   "cell_type": "markdown",
   "id": "e9339780-00e0-4475-a050-229c5729967c",
   "metadata": {},
   "source": [
    "\n",
    "## 3-3\n",
    "회귀 계수들이 가지는 p값들 중 최대 값은?\n",
    "- params : 추정된 모델의 회귀 계수(coefficients)\n",
    "- resid : 적합 후의 잔차(residuals)\n",
    "- fittedvalues : 적합된 모델에서 예측한 값\n",
    "    ```python\n",
    "    from sklearn.metrics import mean_squraed_error\n",
    "    mean_squraed_error(y, model.fittedvalues)\n",
    "    ```\n",
    "- rsquared : 결정 계수(coefficient of determination)\n",
    "    - 결정계수란? 통계학에서 추정한 선형 모형이 주어진 자료에 적합한 정도를 재는 척도. 반응 변수의 변동량 중에서 적용한 모형으로 설명가능한 부분의 비율.\n",
    "- rsquared_adj : 조정된 결정 계수. 독립 변수의 수와 데이터 샘플의 수를 고려하여 결정 계수 조정한 값\n",
    "- cov_params() : 모델의 계수에 대한 공분산 행렬(covariance matrix) 반환 메서드\n",
    "- bse : 회귀 계수의 표준 오차\n",
    "- tvalues : 각 회귀 계수의 t-통계량(t-statistics)\n",
    "- pvalues : 각 회귀 계수에 대한 t-통계량에 대한 양측 검정의 p-value"
   ]
  },
  {
   "cell_type": "code",
   "execution_count": 81,
   "id": "1ad95da0-5c42-4d47-8763-ed621f04e43a",
   "metadata": {},
   "outputs": [
    {
     "data": {
      "text/plain": [
       "0.9265545986906214"
      ]
     },
     "execution_count": 81,
     "metadata": {},
     "output_type": "execute_result"
    }
   ],
   "source": [
    "model.pvalues.max()"
   ]
  },
  {
   "cell_type": "markdown",
   "id": "d17eb7fb-63a2-404b-9835-3656139d3fb4",
   "metadata": {},
   "source": [
    "## 3-4\n",
    "train 데이터로 target을 종속변수로 로지스틱 회귀를 진행할 때 age 컬럼의 오즈비를 구하여라"
   ]
  },
  {
   "cell_type": "code",
   "execution_count": 82,
   "id": "bc075beb-c294-45c6-a9f4-42d48df17650",
   "metadata": {},
   "outputs": [
    {
     "data": {
      "text/html": [
       "<div>\n",
       "<style scoped>\n",
       "    .dataframe tbody tr th:only-of-type {\n",
       "        vertical-align: middle;\n",
       "    }\n",
       "\n",
       "    .dataframe tbody tr th {\n",
       "        vertical-align: top;\n",
       "    }\n",
       "\n",
       "    .dataframe thead th {\n",
       "        text-align: right;\n",
       "    }\n",
       "</style>\n",
       "<table border=\"1\" class=\"dataframe\">\n",
       "  <thead>\n",
       "    <tr style=\"text-align: right;\">\n",
       "      <th></th>\n",
       "      <th>age</th>\n",
       "      <th>sex</th>\n",
       "      <th>cp</th>\n",
       "      <th>trestbps</th>\n",
       "      <th>chol</th>\n",
       "      <th>fbs</th>\n",
       "      <th>restecg</th>\n",
       "      <th>thalach</th>\n",
       "      <th>exang</th>\n",
       "      <th>oldpeak</th>\n",
       "      <th>slope</th>\n",
       "      <th>ca</th>\n",
       "      <th>thal</th>\n",
       "      <th>target</th>\n",
       "    </tr>\n",
       "  </thead>\n",
       "  <tbody>\n",
       "    <tr>\n",
       "      <th>0</th>\n",
       "      <td>63.0</td>\n",
       "      <td>1.0</td>\n",
       "      <td>1.0</td>\n",
       "      <td>145.0</td>\n",
       "      <td>233.0</td>\n",
       "      <td>1.0</td>\n",
       "      <td>2.0</td>\n",
       "      <td>150.0</td>\n",
       "      <td>0.0</td>\n",
       "      <td>2.3</td>\n",
       "      <td>3.0</td>\n",
       "      <td>0.0</td>\n",
       "      <td>6.0</td>\n",
       "      <td>0</td>\n",
       "    </tr>\n",
       "    <tr>\n",
       "      <th>1</th>\n",
       "      <td>67.0</td>\n",
       "      <td>1.0</td>\n",
       "      <td>4.0</td>\n",
       "      <td>160.0</td>\n",
       "      <td>286.0</td>\n",
       "      <td>0.0</td>\n",
       "      <td>2.0</td>\n",
       "      <td>108.0</td>\n",
       "      <td>1.0</td>\n",
       "      <td>1.5</td>\n",
       "      <td>2.0</td>\n",
       "      <td>3.0</td>\n",
       "      <td>3.0</td>\n",
       "      <td>1</td>\n",
       "    </tr>\n",
       "    <tr>\n",
       "      <th>2</th>\n",
       "      <td>67.0</td>\n",
       "      <td>1.0</td>\n",
       "      <td>4.0</td>\n",
       "      <td>120.0</td>\n",
       "      <td>229.0</td>\n",
       "      <td>0.0</td>\n",
       "      <td>2.0</td>\n",
       "      <td>129.0</td>\n",
       "      <td>1.0</td>\n",
       "      <td>2.6</td>\n",
       "      <td>2.0</td>\n",
       "      <td>2.0</td>\n",
       "      <td>7.0</td>\n",
       "      <td>1</td>\n",
       "    </tr>\n",
       "    <tr>\n",
       "      <th>3</th>\n",
       "      <td>37.0</td>\n",
       "      <td>1.0</td>\n",
       "      <td>3.0</td>\n",
       "      <td>130.0</td>\n",
       "      <td>250.0</td>\n",
       "      <td>0.0</td>\n",
       "      <td>0.0</td>\n",
       "      <td>187.0</td>\n",
       "      <td>0.0</td>\n",
       "      <td>3.5</td>\n",
       "      <td>3.0</td>\n",
       "      <td>0.0</td>\n",
       "      <td>3.0</td>\n",
       "      <td>0</td>\n",
       "    </tr>\n",
       "    <tr>\n",
       "      <th>4</th>\n",
       "      <td>41.0</td>\n",
       "      <td>0.0</td>\n",
       "      <td>2.0</td>\n",
       "      <td>130.0</td>\n",
       "      <td>204.0</td>\n",
       "      <td>0.0</td>\n",
       "      <td>2.0</td>\n",
       "      <td>172.0</td>\n",
       "      <td>0.0</td>\n",
       "      <td>1.4</td>\n",
       "      <td>1.0</td>\n",
       "      <td>0.0</td>\n",
       "      <td>3.0</td>\n",
       "      <td>0</td>\n",
       "    </tr>\n",
       "  </tbody>\n",
       "</table>\n",
       "</div>"
      ],
      "text/plain": [
       "    age  sex   cp  trestbps   chol  fbs  restecg  thalach  exang  oldpeak  \\\n",
       "0  63.0  1.0  1.0     145.0  233.0  1.0      2.0    150.0    0.0      2.3   \n",
       "1  67.0  1.0  4.0     160.0  286.0  0.0      2.0    108.0    1.0      1.5   \n",
       "2  67.0  1.0  4.0     120.0  229.0  0.0      2.0    129.0    1.0      2.6   \n",
       "3  37.0  1.0  3.0     130.0  250.0  0.0      0.0    187.0    0.0      3.5   \n",
       "4  41.0  0.0  2.0     130.0  204.0  0.0      2.0    172.0    0.0      1.4   \n",
       "\n",
       "   slope   ca  thal  target  \n",
       "0    3.0  0.0   6.0       0  \n",
       "1    2.0  3.0   3.0       1  \n",
       "2    2.0  2.0   7.0       1  \n",
       "3    3.0  0.0   3.0       0  \n",
       "4    1.0  0.0   3.0       0  "
      ]
     },
     "execution_count": 82,
     "metadata": {},
     "output_type": "execute_result"
    }
   ],
   "source": [
    "import pandas as pd \n",
    "df= pd.read_csv('https://raw.githubusercontent.com/Datamanim/datarepo/main/krdatacertificate/e7_p3_t.csv')\n",
    "df.head()"
   ]
  },
  {
   "cell_type": "code",
   "execution_count": 83,
   "id": "905722cf-5f2e-4fd6-9331-2a3a0c31081e",
   "metadata": {},
   "outputs": [
    {
     "name": "stdout",
     "output_type": "stream",
     "text": [
      "Optimization terminated successfully.\n",
      "         Current function value: 0.320236\n",
      "         Iterations 7\n",
      "age 컬럼 오즈비 : 0.9944442574640205\n"
     ]
    }
   ],
   "source": [
    "# sol1\n",
    "import numpy as np\n",
    "import statsmodels.api as sm\n",
    "\n",
    "train = df[: 210]\n",
    "test = df[210: ]\n",
    "\n",
    "# 데이터 분리\n",
    "X = train.drop('target', axis=1)\n",
    "X = sm.add_constant(X)\n",
    "y = train['target']\n",
    "\n",
    "# 로지스틱 회귀모형 적합\n",
    "model = sm.Logit(y, X).fit()\n",
    "\n",
    "# age의 컬럼의 오즈비\n",
    "log_odds_ratio = model.params['age']\n",
    "odds_ratio = np.exp(log_odds_ratio)\n",
    "print('age 컬럼 오즈비 :', odds_ratio)"
   ]
  },
  {
   "cell_type": "code",
   "execution_count": 84,
   "id": "5871e4ab-89bc-492e-a3f0-b9a5114ad23b",
   "metadata": {},
   "outputs": [
    {
     "name": "stdout",
     "output_type": "stream",
     "text": [
      "Optimization terminated successfully.\n",
      "         Current function value: 0.320236\n",
      "         Iterations 7\n",
      "age 컬럼 오즈비 : 0.9944442574640205\n"
     ]
    }
   ],
   "source": [
    "# sol2\n",
    "import numpy as np\n",
    "from statsmodels.formula.api import logit\n",
    "\n",
    "train = df[: 210]\n",
    "test = df[210: ]\n",
    "\n",
    "X = train.drop('target', axis=1)\n",
    "y = train['target']\n",
    "\n",
    "formula = 'target ~ ' + ' + '.join(X.columns.to_list())\n",
    "model = logit(formula=formula, data=train).fit()\n",
    "\n",
    "# age의 컬럼의 오즈비\n",
    "log_odds_ratio = model.params['age']\n",
    "odds_ratio = np.exp(log_odds_ratio)\n",
    "print('age 컬럼 오즈비 :', odds_ratio)"
   ]
  },
  {
   "cell_type": "markdown",
   "id": "f434bc6b-7dd2-4a2c-9a44-a0d269e699ec",
   "metadata": {},
   "source": [
    "## 3-5\n",
    "train으로 로지스틱 회귀 진행했을 경우 잔차 이탈도 (residual deviance)를 계산하라"
   ]
  },
  {
   "cell_type": "code",
   "execution_count": 85,
   "id": "6244918f-0e52-4813-961d-065cd4f06c08",
   "metadata": {},
   "outputs": [],
   "source": [
    "import statsmodels.api as sm"
   ]
  },
  {
   "cell_type": "code",
   "execution_count": 97,
   "id": "e0acbdca-5c00-41d0-af72-18d5a7316bb1",
   "metadata": {},
   "outputs": [],
   "source": [
    "X = train.drop('target', axis=1)\n",
    "X = sm.add_constant(X)\n",
    "y = train['target']"
   ]
  },
  {
   "cell_type": "code",
   "execution_count": 98,
   "id": "26db097c-01ab-4921-9a50-116296b2f7f1",
   "metadata": {},
   "outputs": [],
   "source": [
    "model = sm.GLM(y, X, family=sm.families.Binomial()).fit()"
   ]
  },
  {
   "cell_type": "code",
   "execution_count": 99,
   "id": "5d01a8ba-d320-4c0f-a1d6-194003035e1a",
   "metadata": {},
   "outputs": [
    {
     "data": {
      "text/plain": [
       "134.49903911342716"
      ]
     },
     "execution_count": 99,
     "metadata": {},
     "output_type": "execute_result"
    }
   ],
   "source": [
    "model.deviance"
   ]
  },
  {
   "cell_type": "code",
   "execution_count": 100,
   "id": "86f35c4b-bf5c-4132-b9c6-7ac29b7b58a3",
   "metadata": {},
   "outputs": [
    {
     "data": {
      "text/plain": [
       "134.49903911342716"
      ]
     },
     "execution_count": 100,
     "metadata": {},
     "output_type": "execute_result"
    }
   ],
   "source": [
    "model.llf * (-2)"
   ]
  },
  {
   "cell_type": "markdown",
   "id": "a72c650c-4726-4a5f-8928-e7beea2ed322",
   "metadata": {},
   "source": [
    "## 3-6\n",
    "train으로 로지스틱 회귀 진행했을 경우 로짓 우도값을 도출하라"
   ]
  },
  {
   "cell_type": "code",
   "execution_count": 94,
   "id": "fa0f838e-30c0-4864-a19f-631a9abcf1dd",
   "metadata": {},
   "outputs": [
    {
     "name": "stdout",
     "output_type": "stream",
     "text": [
      "Optimization terminated successfully.\n",
      "         Current function value: 0.320236\n",
      "         Iterations 7\n",
      "-67.24951955671358\n"
     ]
    }
   ],
   "source": [
    "X = train.drop('target', axis=1)\n",
    "X = sm.add_constant(X)\n",
    "y = train['target']\n",
    "\n",
    "model = sm.Logit(y, X).fit()\n",
    "\n",
    "print(model.llf)  # llf : log-likelihood Function의 약자"
   ]
  },
  {
   "cell_type": "code",
   "execution_count": null,
   "id": "801662a6-ab8b-4ee3-a84d-1d4f9373d002",
   "metadata": {},
   "outputs": [
    {
     "data": {
      "text/plain": [
       "134.49903911342716"
      ]
     },
     "execution_count": 95,
     "metadata": {},
     "output_type": "execute_result"
    }
   ],
   "source": []
  },
  {
   "cell_type": "markdown",
   "id": "f3fa7bec-98cc-496c-b2af-bf7dfd61fab8",
   "metadata": {},
   "source": [
    "## 3-7\n",
    "test 데이터의 독립변수로 target 예측 후 오류율을 구하여라"
   ]
  },
  {
   "cell_type": "code",
   "execution_count": 101,
   "id": "cc7da445-d19d-451b-890f-1bd24dbc544f",
   "metadata": {},
   "outputs": [],
   "source": [
    "X = test.drop('target', axis=1)\n",
    "X = sm.add_constant(X)\n",
    "y = test['target']"
   ]
  },
  {
   "cell_type": "code",
   "execution_count": 102,
   "id": "7fdb5ffc-ae06-480b-a5dc-d71c4b0dbca8",
   "metadata": {},
   "outputs": [],
   "source": [
    "pred = model.predict(X)"
   ]
  },
  {
   "cell_type": "code",
   "execution_count": 103,
   "id": "958a6920-072e-4fb7-b731-9de073d43e2c",
   "metadata": {},
   "outputs": [],
   "source": [
    "pred = pred > 0.5"
   ]
  },
  {
   "cell_type": "code",
   "execution_count": 104,
   "id": "0a5c3294-3a14-4e20-97f4-97b90cef8bd6",
   "metadata": {},
   "outputs": [
    {
     "name": "stdout",
     "output_type": "stream",
     "text": [
      "0.1954022988505747\n"
     ]
    }
   ],
   "source": [
    "from sklearn.metrics import accuracy_score\n",
    "\n",
    "error_rate = 1 - accuracy_score(y, pred)\n",
    "print(error_rate)"
   ]
  },
  {
   "cell_type": "code",
   "execution_count": null,
   "id": "e63e8de1-94d6-4795-a3fd-c83a3ade333b",
   "metadata": {},
   "outputs": [],
   "source": []
  }
 ],
 "metadata": {
  "kernelspec": {
   "display_name": "Python 3 (ipykernel)",
   "language": "python",
   "name": "python3"
  },
  "language_info": {
   "codemirror_mode": {
    "name": "ipython",
    "version": 3
   },
   "file_extension": ".py",
   "mimetype": "text/x-python",
   "name": "python",
   "nbconvert_exporter": "python",
   "pygments_lexer": "ipython3",
   "version": "3.7.15"
  }
 },
 "nbformat": 4,
 "nbformat_minor": 5
}
