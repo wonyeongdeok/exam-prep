{
 "cells": [
  {
   "cell_type": "markdown",
   "id": "25e1d573-0969-473b-83c0-d9e22e2be363",
   "metadata": {},
   "source": [
    "# 작업 1유형"
   ]
  },
  {
   "cell_type": "markdown",
   "id": "69a2926f-1448-42ff-ba45-5672bf9db3d3",
   "metadata": {},
   "source": [
    "## 1-1\n",
    "Temperature컬럼에서 숫자가 아닌 문자들을 제거후 숫자 타입으로 바꾸고 3분위수에서 1분위수의 차이를 소숫점 이하 2자리까지 구하여라\n",
    "\n"
   ]
  },
  {
   "cell_type": "code",
   "execution_count": 1,
   "id": "d13814dc-941b-4c7d-b185-ac2c5c4300bc",
   "metadata": {},
   "outputs": [
    {
     "data": {
      "text/html": [
       "<div>\n",
       "<style scoped>\n",
       "    .dataframe tbody tr th:only-of-type {\n",
       "        vertical-align: middle;\n",
       "    }\n",
       "\n",
       "    .dataframe tbody tr th {\n",
       "        vertical-align: top;\n",
       "    }\n",
       "\n",
       "    .dataframe thead th {\n",
       "        text-align: right;\n",
       "    }\n",
       "</style>\n",
       "<table border=\"1\" class=\"dataframe\">\n",
       "  <thead>\n",
       "    <tr style=\"text-align: right;\">\n",
       "      <th></th>\n",
       "      <th>Store</th>\n",
       "      <th>Date</th>\n",
       "      <th>Weekly_Sales</th>\n",
       "      <th>Holiday_Flag</th>\n",
       "      <th>Temperature</th>\n",
       "      <th>Fuel_Price</th>\n",
       "      <th>CPI</th>\n",
       "      <th>Unemployment</th>\n",
       "    </tr>\n",
       "  </thead>\n",
       "  <tbody>\n",
       "    <tr>\n",
       "      <th>0</th>\n",
       "      <td>1</td>\n",
       "      <td>05-02-2010</td>\n",
       "      <td>1643690.90</td>\n",
       "      <td>0</td>\n",
       "      <td>42.31</td>\n",
       "      <td>2.572</td>\n",
       "      <td>211.096358</td>\n",
       "      <td>8.106</td>\n",
       "    </tr>\n",
       "    <tr>\n",
       "      <th>1</th>\n",
       "      <td>1</td>\n",
       "      <td>12-02-2010</td>\n",
       "      <td>1641957.44</td>\n",
       "      <td>1</td>\n",
       "      <td>38.51</td>\n",
       "      <td>2.548</td>\n",
       "      <td>211.242170</td>\n",
       "      <td>8.106</td>\n",
       "    </tr>\n",
       "    <tr>\n",
       "      <th>2</th>\n",
       "      <td>1</td>\n",
       "      <td>19-02-2010</td>\n",
       "      <td>1611968.17</td>\n",
       "      <td>0</td>\n",
       "      <td>39.93</td>\n",
       "      <td>2.514</td>\n",
       "      <td>211.289143</td>\n",
       "      <td>8.106</td>\n",
       "    </tr>\n",
       "    <tr>\n",
       "      <th>3</th>\n",
       "      <td>1</td>\n",
       "      <td>26-02-2010</td>\n",
       "      <td>1409727.59</td>\n",
       "      <td>0</td>\n",
       "      <td>46.63</td>\n",
       "      <td>2.561</td>\n",
       "      <td>211.319643</td>\n",
       "      <td>8.106</td>\n",
       "    </tr>\n",
       "    <tr>\n",
       "      <th>4</th>\n",
       "      <td>1</td>\n",
       "      <td>05-03-2010</td>\n",
       "      <td>1554806.68</td>\n",
       "      <td>0</td>\n",
       "      <td>46.5</td>\n",
       "      <td>2.625</td>\n",
       "      <td>211.350143</td>\n",
       "      <td>8.106</td>\n",
       "    </tr>\n",
       "  </tbody>\n",
       "</table>\n",
       "</div>"
      ],
      "text/plain": [
       "   Store        Date  Weekly_Sales  Holiday_Flag Temperature  Fuel_Price  \\\n",
       "0      1  05-02-2010    1643690.90             0       42.31       2.572   \n",
       "1      1  12-02-2010    1641957.44             1       38.51       2.548   \n",
       "2      1  19-02-2010    1611968.17             0       39.93       2.514   \n",
       "3      1  26-02-2010    1409727.59             0       46.63       2.561   \n",
       "4      1  05-03-2010    1554806.68             0        46.5       2.625   \n",
       "\n",
       "          CPI  Unemployment  \n",
       "0  211.096358         8.106  \n",
       "1  211.242170         8.106  \n",
       "2  211.289143         8.106  \n",
       "3  211.319643         8.106  \n",
       "4  211.350143         8.106  "
      ]
     },
     "execution_count": 1,
     "metadata": {},
     "output_type": "execute_result"
    }
   ],
   "source": [
    "import pandas as pd\n",
    "df = pd.read_csv('https://raw.githubusercontent.com/Datamanim/datarepo/main/krdatacertificate/e4_p1_1.csv')\n",
    "df.head(5)"
   ]
  },
  {
   "cell_type": "code",
   "execution_count": 2,
   "id": "0761dd3c-c7f5-496e-8c95-0ee869a3249b",
   "metadata": {},
   "outputs": [
    {
     "name": "stdout",
     "output_type": "stream",
     "text": [
      "27.48\n"
     ]
    },
    {
     "name": "stderr",
     "output_type": "stream",
     "text": [
      "C:\\Users\\dudejr\\anaconda3\\envs\\kaggle\\lib\\site-packages\\ipykernel_launcher.py:1: FutureWarning: The default value of regex will change from True to False in a future version. In addition, single character regular expressions will *not* be treated as literal strings when regex=True.\n",
      "  \"\"\"Entry point for launching an IPython kernel.\n"
     ]
    }
   ],
   "source": [
    "df = df['Temperature'].str.replace('*', '').astype(float)\n",
    "\n",
    "Q3 = df.quantile(0.75)\n",
    "Q1 = df.quantile(0.25)\n",
    "IQR = Q3 - Q1\n",
    "ans = round(IQR, 2)\n",
    "print(ans)"
   ]
  },
  {
   "cell_type": "markdown",
   "id": "b9c45931-c28a-499e-8386-9742741bea4e",
   "metadata": {},
   "source": [
    "## 1-2\n",
    "Likes를 Comments로 나눈 비율이 20이상이면서 Keyword값이 minecraft인 영상들의 Views값의 평균을 정수로 구하여라"
   ]
  },
  {
   "cell_type": "code",
   "execution_count": 3,
   "id": "334581fa-3e9c-4ee5-a69e-c55944c9ff5c",
   "metadata": {},
   "outputs": [
    {
     "data": {
      "text/html": [
       "<div>\n",
       "<style scoped>\n",
       "    .dataframe tbody tr th:only-of-type {\n",
       "        vertical-align: middle;\n",
       "    }\n",
       "\n",
       "    .dataframe tbody tr th {\n",
       "        vertical-align: top;\n",
       "    }\n",
       "\n",
       "    .dataframe thead th {\n",
       "        text-align: right;\n",
       "    }\n",
       "</style>\n",
       "<table border=\"1\" class=\"dataframe\">\n",
       "  <thead>\n",
       "    <tr style=\"text-align: right;\">\n",
       "      <th></th>\n",
       "      <th>Title</th>\n",
       "      <th>Video ID</th>\n",
       "      <th>Published At</th>\n",
       "      <th>Keyword</th>\n",
       "      <th>Likes</th>\n",
       "      <th>Comments</th>\n",
       "      <th>Views</th>\n",
       "    </tr>\n",
       "  </thead>\n",
       "  <tbody>\n",
       "    <tr>\n",
       "      <th>0</th>\n",
       "      <td>Apple Pay Is Killing the Physical Wallet After...</td>\n",
       "      <td>wAZZ-UWGVHI</td>\n",
       "      <td>2022-08-23</td>\n",
       "      <td>tech</td>\n",
       "      <td>3407.0</td>\n",
       "      <td>672.0</td>\n",
       "      <td>135612.0</td>\n",
       "    </tr>\n",
       "    <tr>\n",
       "      <th>1</th>\n",
       "      <td>The most EXPENSIVE thing I own.</td>\n",
       "      <td>b3x28s61q3c</td>\n",
       "      <td>2022-08-24</td>\n",
       "      <td>tech</td>\n",
       "      <td>76779.0</td>\n",
       "      <td>4306.0</td>\n",
       "      <td>1758063.0</td>\n",
       "    </tr>\n",
       "    <tr>\n",
       "      <th>2</th>\n",
       "      <td>My New House Gaming Setup is SICK!</td>\n",
       "      <td>4mgePWWCAmA</td>\n",
       "      <td>2022-08-23</td>\n",
       "      <td>tech</td>\n",
       "      <td>63825.0</td>\n",
       "      <td>3338.0</td>\n",
       "      <td>1564007.0</td>\n",
       "    </tr>\n",
       "    <tr>\n",
       "      <th>3</th>\n",
       "      <td>Petrol Vs Liquid Nitrogen | Freezing Experimen...</td>\n",
       "      <td>kXiYSI7H2b0</td>\n",
       "      <td>2022-08-23</td>\n",
       "      <td>tech</td>\n",
       "      <td>71566.0</td>\n",
       "      <td>1426.0</td>\n",
       "      <td>922918.0</td>\n",
       "    </tr>\n",
       "    <tr>\n",
       "      <th>4</th>\n",
       "      <td>Best Back to School Tech 2022!</td>\n",
       "      <td>ErMwWXQxHp0</td>\n",
       "      <td>2022-08-08</td>\n",
       "      <td>tech</td>\n",
       "      <td>96513.0</td>\n",
       "      <td>5155.0</td>\n",
       "      <td>1855644.0</td>\n",
       "    </tr>\n",
       "  </tbody>\n",
       "</table>\n",
       "</div>"
      ],
      "text/plain": [
       "                                               Title     Video ID  \\\n",
       "0  Apple Pay Is Killing the Physical Wallet After...  wAZZ-UWGVHI   \n",
       "1                    The most EXPENSIVE thing I own.  b3x28s61q3c   \n",
       "2                 My New House Gaming Setup is SICK!  4mgePWWCAmA   \n",
       "3  Petrol Vs Liquid Nitrogen | Freezing Experimen...  kXiYSI7H2b0   \n",
       "4                     Best Back to School Tech 2022!  ErMwWXQxHp0   \n",
       "\n",
       "  Published At Keyword    Likes  Comments      Views  \n",
       "0   2022-08-23    tech   3407.0     672.0   135612.0  \n",
       "1   2022-08-24    tech  76779.0    4306.0  1758063.0  \n",
       "2   2022-08-23    tech  63825.0    3338.0  1564007.0  \n",
       "3   2022-08-23    tech  71566.0    1426.0   922918.0  \n",
       "4   2022-08-08    tech  96513.0    5155.0  1855644.0  "
      ]
     },
     "execution_count": 3,
     "metadata": {},
     "output_type": "execute_result"
    }
   ],
   "source": [
    "import pandas as pd\n",
    "df = pd.read_csv('https://raw.githubusercontent.com/Datamanim/datarepo/main/krdatacertificate/e4_p1_2.csv')\n",
    "df.head(5)"
   ]
  },
  {
   "cell_type": "code",
   "execution_count": 4,
   "id": "99eeeac1-c90e-4fab-8434-404067f2f9ac",
   "metadata": {},
   "outputs": [],
   "source": [
    "cond1 = df['Likes'] / df['Comments'] >= 20\n",
    "cond2 = df['Keyword'] == 'minecraft'"
   ]
  },
  {
   "cell_type": "code",
   "execution_count": 5,
   "id": "c8aec3e1-473d-4107-b14f-f3cf0c6b1ee2",
   "metadata": {},
   "outputs": [
    {
     "name": "stdout",
     "output_type": "stream",
     "text": [
      "1789084\n"
     ]
    }
   ],
   "source": [
    "ans = int(df[cond1 & cond2]['Views'].mean())\n",
    "print(ans)"
   ]
  },
  {
   "cell_type": "markdown",
   "id": "57b30a2f-3685-4857-ade7-1aab60481657",
   "metadata": {},
   "source": [
    "## 1-3\n",
    "date_added가 2018년 1월 이면서 country가 United Kingdom 단독 제작인 데이터의 갯수\n",
    "\n"
   ]
  },
  {
   "cell_type": "code",
   "execution_count": 6,
   "id": "e59e99ac-7af8-493e-8515-a07b899b91dd",
   "metadata": {},
   "outputs": [
    {
     "data": {
      "text/html": [
       "<div>\n",
       "<style scoped>\n",
       "    .dataframe tbody tr th:only-of-type {\n",
       "        vertical-align: middle;\n",
       "    }\n",
       "\n",
       "    .dataframe tbody tr th {\n",
       "        vertical-align: top;\n",
       "    }\n",
       "\n",
       "    .dataframe thead th {\n",
       "        text-align: right;\n",
       "    }\n",
       "</style>\n",
       "<table border=\"1\" class=\"dataframe\">\n",
       "  <thead>\n",
       "    <tr style=\"text-align: right;\">\n",
       "      <th></th>\n",
       "      <th>show_id</th>\n",
       "      <th>type</th>\n",
       "      <th>title</th>\n",
       "      <th>director</th>\n",
       "      <th>cast</th>\n",
       "      <th>country</th>\n",
       "      <th>date_added</th>\n",
       "      <th>release_year</th>\n",
       "      <th>rating</th>\n",
       "      <th>duration</th>\n",
       "      <th>listed_in</th>\n",
       "      <th>description</th>\n",
       "    </tr>\n",
       "  </thead>\n",
       "  <tbody>\n",
       "    <tr>\n",
       "      <th>0</th>\n",
       "      <td>s1</td>\n",
       "      <td>Movie</td>\n",
       "      <td>Dick Johnson Is Dead</td>\n",
       "      <td>Kirsten Johnson</td>\n",
       "      <td>NaN</td>\n",
       "      <td>United States</td>\n",
       "      <td>September 25, 2021</td>\n",
       "      <td>2020</td>\n",
       "      <td>PG-13</td>\n",
       "      <td>90 min</td>\n",
       "      <td>Documentaries</td>\n",
       "      <td>As her father nears the end of his life, filmm...</td>\n",
       "    </tr>\n",
       "    <tr>\n",
       "      <th>1</th>\n",
       "      <td>s2</td>\n",
       "      <td>TV Show</td>\n",
       "      <td>Blood &amp; Water</td>\n",
       "      <td>NaN</td>\n",
       "      <td>Ama Qamata, Khosi Ngema, Gail Mabalane, Thaban...</td>\n",
       "      <td>South Africa</td>\n",
       "      <td>September 24, 2021</td>\n",
       "      <td>2021</td>\n",
       "      <td>TV-MA</td>\n",
       "      <td>2 Seasons</td>\n",
       "      <td>International TV Shows, TV Dramas, TV Mysteries</td>\n",
       "      <td>After crossing paths at a party, a Cape Town t...</td>\n",
       "    </tr>\n",
       "    <tr>\n",
       "      <th>2</th>\n",
       "      <td>s3</td>\n",
       "      <td>TV Show</td>\n",
       "      <td>Ganglands</td>\n",
       "      <td>Julien Leclercq</td>\n",
       "      <td>Sami Bouajila, Tracy Gotoas, Samuel Jouy, Nabi...</td>\n",
       "      <td>NaN</td>\n",
       "      <td>September 24, 2021</td>\n",
       "      <td>2021</td>\n",
       "      <td>TV-MA</td>\n",
       "      <td>1 Season</td>\n",
       "      <td>Crime TV Shows, International TV Shows, TV Act...</td>\n",
       "      <td>To protect his family from a powerful drug lor...</td>\n",
       "    </tr>\n",
       "    <tr>\n",
       "      <th>3</th>\n",
       "      <td>s4</td>\n",
       "      <td>TV Show</td>\n",
       "      <td>Jailbirds New Orleans</td>\n",
       "      <td>NaN</td>\n",
       "      <td>NaN</td>\n",
       "      <td>NaN</td>\n",
       "      <td>September 24, 2021</td>\n",
       "      <td>2021</td>\n",
       "      <td>TV-MA</td>\n",
       "      <td>1 Season</td>\n",
       "      <td>Docuseries, Reality TV</td>\n",
       "      <td>Feuds, flirtations and toilet talk go down amo...</td>\n",
       "    </tr>\n",
       "    <tr>\n",
       "      <th>4</th>\n",
       "      <td>s5</td>\n",
       "      <td>TV Show</td>\n",
       "      <td>Kota Factory</td>\n",
       "      <td>NaN</td>\n",
       "      <td>Mayur More, Jitendra Kumar, Ranjan Raj, Alam K...</td>\n",
       "      <td>India</td>\n",
       "      <td>September 24, 2021</td>\n",
       "      <td>2021</td>\n",
       "      <td>TV-MA</td>\n",
       "      <td>2 Seasons</td>\n",
       "      <td>International TV Shows, Romantic TV Shows, TV ...</td>\n",
       "      <td>In a city of coaching centers known to train I...</td>\n",
       "    </tr>\n",
       "  </tbody>\n",
       "</table>\n",
       "</div>"
      ],
      "text/plain": [
       "  show_id     type                  title         director  \\\n",
       "0      s1    Movie   Dick Johnson Is Dead  Kirsten Johnson   \n",
       "1      s2  TV Show          Blood & Water              NaN   \n",
       "2      s3  TV Show              Ganglands  Julien Leclercq   \n",
       "3      s4  TV Show  Jailbirds New Orleans              NaN   \n",
       "4      s5  TV Show           Kota Factory              NaN   \n",
       "\n",
       "                                                cast        country  \\\n",
       "0                                                NaN  United States   \n",
       "1  Ama Qamata, Khosi Ngema, Gail Mabalane, Thaban...   South Africa   \n",
       "2  Sami Bouajila, Tracy Gotoas, Samuel Jouy, Nabi...            NaN   \n",
       "3                                                NaN            NaN   \n",
       "4  Mayur More, Jitendra Kumar, Ranjan Raj, Alam K...          India   \n",
       "\n",
       "           date_added  release_year rating   duration  \\\n",
       "0  September 25, 2021          2020  PG-13     90 min   \n",
       "1  September 24, 2021          2021  TV-MA  2 Seasons   \n",
       "2  September 24, 2021          2021  TV-MA   1 Season   \n",
       "3  September 24, 2021          2021  TV-MA   1 Season   \n",
       "4  September 24, 2021          2021  TV-MA  2 Seasons   \n",
       "\n",
       "                                           listed_in  \\\n",
       "0                                      Documentaries   \n",
       "1    International TV Shows, TV Dramas, TV Mysteries   \n",
       "2  Crime TV Shows, International TV Shows, TV Act...   \n",
       "3                             Docuseries, Reality TV   \n",
       "4  International TV Shows, Romantic TV Shows, TV ...   \n",
       "\n",
       "                                         description  \n",
       "0  As her father nears the end of his life, filmm...  \n",
       "1  After crossing paths at a party, a Cape Town t...  \n",
       "2  To protect his family from a powerful drug lor...  \n",
       "3  Feuds, flirtations and toilet talk go down amo...  \n",
       "4  In a city of coaching centers known to train I...  "
      ]
     },
     "execution_count": 6,
     "metadata": {},
     "output_type": "execute_result"
    }
   ],
   "source": [
    "import pandas as pd\n",
    "df = pd.read_csv('https://raw.githubusercontent.com/Datamanim/datarepo/main/krdatacertificate/e4_p1_3.csv')\n",
    "df.head(5)"
   ]
  },
  {
   "cell_type": "code",
   "execution_count": 7,
   "id": "3f82f123-09b3-4210-9df5-ec732302bb73",
   "metadata": {},
   "outputs": [],
   "source": [
    "df['date_added'] = pd.to_datetime(df['date_added'])"
   ]
  },
  {
   "cell_type": "code",
   "execution_count": 8,
   "id": "5af25d09-8336-43a8-b01d-1661ec3aad98",
   "metadata": {},
   "outputs": [],
   "source": [
    "cond1 = df['date_added'].dt.strftime('%Y-%m') == '2018-01'"
   ]
  },
  {
   "cell_type": "code",
   "execution_count": 9,
   "id": "6434b47c-6f3c-4c8c-9ae0-b97f8314644c",
   "metadata": {},
   "outputs": [],
   "source": [
    "cond2 = df['country'] == 'United Kingdom'"
   ]
  },
  {
   "cell_type": "code",
   "execution_count": 10,
   "id": "d1959844-40c8-4101-8caf-c6fec8e08449",
   "metadata": {},
   "outputs": [
    {
     "data": {
      "text/plain": [
       "6"
      ]
     },
     "execution_count": 10,
     "metadata": {},
     "output_type": "execute_result"
    }
   ],
   "source": [
    "df[cond1 & cond2].shape[0]"
   ]
  },
  {
   "cell_type": "markdown",
   "id": "b5b5c732-f77d-4127-aa03-da9888bb2959",
   "metadata": {},
   "source": [
    "# 작업 2유형\n",
    "예측 변수 Segmentation, test.csv에 대해 ID별로 Segmentation의 클래스를 예측해서 저장후 제출, 제출 데이터 컬럼은 ID와 Segmentation 두개만 존재해야함. 평가지표는 macro f1 score"
   ]
  },
  {
   "cell_type": "code",
   "execution_count": 11,
   "id": "3828a204-250c-4de1-b7b9-a24cb36482e4",
   "metadata": {},
   "outputs": [
    {
     "data": {
      "text/html": [
       "<div>\n",
       "<style scoped>\n",
       "    .dataframe tbody tr th:only-of-type {\n",
       "        vertical-align: middle;\n",
       "    }\n",
       "\n",
       "    .dataframe tbody tr th {\n",
       "        vertical-align: top;\n",
       "    }\n",
       "\n",
       "    .dataframe thead th {\n",
       "        text-align: right;\n",
       "    }\n",
       "</style>\n",
       "<table border=\"1\" class=\"dataframe\">\n",
       "  <thead>\n",
       "    <tr style=\"text-align: right;\">\n",
       "      <th></th>\n",
       "      <th>ID</th>\n",
       "      <th>Gender</th>\n",
       "      <th>Ever_Married</th>\n",
       "      <th>Age</th>\n",
       "      <th>Graduated</th>\n",
       "      <th>Profession</th>\n",
       "      <th>Work_Experience</th>\n",
       "      <th>Spending_Score</th>\n",
       "      <th>Family_Size</th>\n",
       "      <th>Var_1</th>\n",
       "      <th>Segmentation</th>\n",
       "    </tr>\n",
       "  </thead>\n",
       "  <tbody>\n",
       "    <tr>\n",
       "      <th>0</th>\n",
       "      <td>464357</td>\n",
       "      <td>Male</td>\n",
       "      <td>No</td>\n",
       "      <td>40</td>\n",
       "      <td>Yes</td>\n",
       "      <td>Artist</td>\n",
       "      <td>7.0</td>\n",
       "      <td>Low</td>\n",
       "      <td>1.0</td>\n",
       "      <td>Cat_6</td>\n",
       "      <td>A</td>\n",
       "    </tr>\n",
       "    <tr>\n",
       "      <th>1</th>\n",
       "      <td>459624</td>\n",
       "      <td>Male</td>\n",
       "      <td>No</td>\n",
       "      <td>18</td>\n",
       "      <td>No</td>\n",
       "      <td>Healthcare</td>\n",
       "      <td>NaN</td>\n",
       "      <td>Low</td>\n",
       "      <td>5.0</td>\n",
       "      <td>Cat_4</td>\n",
       "      <td>D</td>\n",
       "    </tr>\n",
       "  </tbody>\n",
       "</table>\n",
       "</div>"
      ],
      "text/plain": [
       "       ID Gender Ever_Married  Age Graduated  Profession  Work_Experience  \\\n",
       "0  464357   Male           No   40       Yes      Artist              7.0   \n",
       "1  459624   Male           No   18        No  Healthcare              NaN   \n",
       "\n",
       "  Spending_Score  Family_Size  Var_1 Segmentation  \n",
       "0            Low          1.0  Cat_6            A  \n",
       "1            Low          5.0  Cat_4            D  "
      ]
     },
     "metadata": {},
     "output_type": "display_data"
    },
    {
     "data": {
      "text/html": [
       "<div>\n",
       "<style scoped>\n",
       "    .dataframe tbody tr th:only-of-type {\n",
       "        vertical-align: middle;\n",
       "    }\n",
       "\n",
       "    .dataframe tbody tr th {\n",
       "        vertical-align: top;\n",
       "    }\n",
       "\n",
       "    .dataframe thead th {\n",
       "        text-align: right;\n",
       "    }\n",
       "</style>\n",
       "<table border=\"1\" class=\"dataframe\">\n",
       "  <thead>\n",
       "    <tr style=\"text-align: right;\">\n",
       "      <th></th>\n",
       "      <th>ID</th>\n",
       "      <th>Gender</th>\n",
       "      <th>Ever_Married</th>\n",
       "      <th>Age</th>\n",
       "      <th>Graduated</th>\n",
       "      <th>Profession</th>\n",
       "      <th>Work_Experience</th>\n",
       "      <th>Spending_Score</th>\n",
       "      <th>Family_Size</th>\n",
       "      <th>Var_1</th>\n",
       "    </tr>\n",
       "  </thead>\n",
       "  <tbody>\n",
       "    <tr>\n",
       "      <th>0</th>\n",
       "      <td>460406</td>\n",
       "      <td>Male</td>\n",
       "      <td>Yes</td>\n",
       "      <td>36</td>\n",
       "      <td>Yes</td>\n",
       "      <td>Healthcare</td>\n",
       "      <td>3.0</td>\n",
       "      <td>Low</td>\n",
       "      <td>2.0</td>\n",
       "      <td>Cat_6</td>\n",
       "    </tr>\n",
       "    <tr>\n",
       "      <th>1</th>\n",
       "      <td>466890</td>\n",
       "      <td>Male</td>\n",
       "      <td>Yes</td>\n",
       "      <td>47</td>\n",
       "      <td>Yes</td>\n",
       "      <td>Artist</td>\n",
       "      <td>0.0</td>\n",
       "      <td>Average</td>\n",
       "      <td>6.0</td>\n",
       "      <td>Cat_7</td>\n",
       "    </tr>\n",
       "  </tbody>\n",
       "</table>\n",
       "</div>"
      ],
      "text/plain": [
       "       ID Gender Ever_Married  Age Graduated  Profession  Work_Experience  \\\n",
       "0  460406   Male          Yes   36       Yes  Healthcare              3.0   \n",
       "1  466890   Male          Yes   47       Yes      Artist              0.0   \n",
       "\n",
       "  Spending_Score  Family_Size  Var_1  \n",
       "0            Low          2.0  Cat_6  \n",
       "1        Average          6.0  Cat_7  "
      ]
     },
     "execution_count": 11,
     "metadata": {},
     "output_type": "execute_result"
    }
   ],
   "source": [
    "import pandas as pd\n",
    "train = pd.read_csv('https://raw.githubusercontent.com/Datamanim/datarepo/main/krdatacertificate/e4_p2_train.csv')\n",
    "test = pd.read_csv('https://raw.githubusercontent.com/Datamanim/datarepo/main/krdatacertificate/e4_p2_test.csv')\n",
    "\n",
    "display(train.head(2))\n",
    "test.head(2)"
   ]
  },
  {
   "cell_type": "code",
   "execution_count": 12,
   "id": "c8649ef7-2e14-4920-811c-11565eeb6af8",
   "metadata": {},
   "outputs": [
    {
     "name": "stdout",
     "output_type": "stream",
     "text": [
      "<class 'pandas.core.frame.DataFrame'>\n",
      "RangeIndex: 4881 entries, 0 to 4880\n",
      "Data columns (total 11 columns):\n",
      " #   Column           Non-Null Count  Dtype  \n",
      "---  ------           --------------  -----  \n",
      " 0   ID               4881 non-null   int64  \n",
      " 1   Gender           4881 non-null   object \n",
      " 2   Ever_Married     4785 non-null   object \n",
      " 3   Age              4881 non-null   int64  \n",
      " 4   Graduated        4830 non-null   object \n",
      " 5   Profession       4817 non-null   object \n",
      " 6   Work_Experience  4368 non-null   float64\n",
      " 7   Spending_Score   4881 non-null   object \n",
      " 8   Family_Size      4689 non-null   float64\n",
      " 9   Var_1            4831 non-null   object \n",
      " 10  Segmentation     4881 non-null   object \n",
      "dtypes: float64(2), int64(2), object(7)\n",
      "memory usage: 419.6+ KB\n"
     ]
    }
   ],
   "source": [
    "train.info()"
   ]
  },
  {
   "cell_type": "code",
   "execution_count": 13,
   "id": "2458d1ea-8759-46c1-aaaa-e71f57cf21c2",
   "metadata": {},
   "outputs": [
    {
     "name": "stdout",
     "output_type": "stream",
     "text": [
      "<class 'pandas.core.frame.DataFrame'>\n",
      "RangeIndex: 1542 entries, 0 to 1541\n",
      "Data columns (total 10 columns):\n",
      " #   Column           Non-Null Count  Dtype  \n",
      "---  ------           --------------  -----  \n",
      " 0   ID               1542 non-null   int64  \n",
      " 1   Gender           1542 non-null   object \n",
      " 2   Ever_Married     1520 non-null   object \n",
      " 3   Age              1542 non-null   int64  \n",
      " 4   Graduated        1526 non-null   object \n",
      " 5   Profession       1519 non-null   object \n",
      " 6   Work_Experience  1400 non-null   float64\n",
      " 7   Spending_Score   1542 non-null   object \n",
      " 8   Family_Size      1474 non-null   float64\n",
      " 9   Var_1            1530 non-null   object \n",
      "dtypes: float64(2), int64(2), object(6)\n",
      "memory usage: 120.6+ KB\n"
     ]
    }
   ],
   "source": [
    "test.info()"
   ]
  },
  {
   "cell_type": "code",
   "execution_count": 14,
   "id": "137ad34a-b2ee-448f-b4a7-20c951938829",
   "metadata": {},
   "outputs": [
    {
     "name": "stdout",
     "output_type": "stream",
     "text": [
      "unique of ID : [464357 459624 462672 ... 466118 460729 463270]\n",
      "unique of Gender : ['Male' 'Female']\n",
      "unique of Ever_Married : ['No' 'Yes' nan]\n",
      "unique of Age : [40 18 25 46 27 65 47 43 45 33 55 75 32 68 52 56 50 37 31 35 61 30 49 66\n",
      " 48 19 28 36 38 59 51 83 71 42 88 79 81 26 23 41 67 20 73 53 70 62 29 57\n",
      " 22 69 63 80 21 39 60 58 84 76 87 72 89 85 77 86 74 82 78]\n",
      "unique of Graduated : ['Yes' 'No' nan]\n",
      "unique of Profession : ['Artist' 'Healthcare' 'Lawyer' 'Executive' nan 'Doctor' 'Homemaker'\n",
      " 'Entertainment' 'Marketing' 'Engineer']\n",
      "unique of Work_Experience : [ 7. nan  2.  1.  0.  9.  8.  3. 10.  4.  5. 11. 12. 14.  6. 13.]\n",
      "unique of Spending_Score : ['Low' 'Average' 'High']\n",
      "unique of Family_Size : [ 1.  5.  4.  3.  2. nan  6.  8.  9.  7.]\n",
      "unique of Var_1 : ['Cat_6' 'Cat_4' 'Cat_7' 'Cat_3' 'Cat_1' nan 'Cat_2' 'Cat_5']\n",
      "unique of Segmentation : ['A' 'D' 'B' 'C']\n"
     ]
    }
   ],
   "source": [
    "# train 고유값 확인\n",
    "import numpy as np\n",
    "\n",
    "for col in train.columns:\n",
    "    print(f'unique of {col} :', train[col].unique())"
   ]
  },
  {
   "cell_type": "code",
   "execution_count": 15,
   "id": "52bd9083-81c7-4f0e-ba9c-e06ff5385ed6",
   "metadata": {},
   "outputs": [
    {
     "name": "stdout",
     "output_type": "stream",
     "text": [
      "unique of ID : [460406 466890 466145 ... 465689 460401 465215]\n",
      "unique of Gender : ['Male' 'Female']\n",
      "unique of Ever_Married : ['Yes' nan 'No']\n",
      "unique of Age : [36 47 56 50 31 63 57 28 43 22 35 27 62 53 33 23 29 18 55 60 37 59 30 61\n",
      " 71 39 75 40 25 19 20 67 46 51 41 48 72 49 32 42 45 68 76 87 21 66 74 38\n",
      " 84 58 69 73 52 26 78 89 77 85 80 70 83 81 65 79 82 88 86]\n",
      "unique of Graduated : ['Yes' 'No' nan]\n",
      "unique of Profession : ['Healthcare' 'Artist' 'Entertainment' 'Engineer' 'Doctor' 'Executive'\n",
      " 'Lawyer' 'Homemaker' 'Marketing' nan]\n",
      "unique of Work_Experience : [ 3.  0.  1. nan  8.  9.  2.  5.  6.  7.  4. 14. 10. 11. 12. 13.]\n",
      "unique of Spending_Score : ['Low' 'Average' 'High']\n",
      "unique of Family_Size : [ 2.  6.  3.  1.  4.  5.  9. nan  7.  8.]\n",
      "unique of Var_1 : ['Cat_6' 'Cat_7' 'Cat_3' 'Cat_2' 'Cat_4' 'Cat_1' nan 'Cat_5']\n"
     ]
    }
   ],
   "source": [
    "# test 고유값 확인\n",
    "\n",
    "for col in test.columns:\n",
    "    print(f'unique of {col} :', test[col].unique())"
   ]
  },
  {
   "cell_type": "code",
   "execution_count": 16,
   "id": "e635e7c0-e0a6-40da-a592-6b685de4fb00",
   "metadata": {},
   "outputs": [
    {
     "data": {
      "text/plain": [
       "ID                   0\n",
       "Gender               0\n",
       "Ever_Married        96\n",
       "Age                  0\n",
       "Graduated           51\n",
       "Profession          64\n",
       "Work_Experience    513\n",
       "Spending_Score       0\n",
       "Family_Size        192\n",
       "Var_1               50\n",
       "Segmentation         0\n",
       "dtype: int64"
      ]
     },
     "execution_count": 16,
     "metadata": {},
     "output_type": "execute_result"
    }
   ],
   "source": [
    "train.isnull().sum()"
   ]
  },
  {
   "cell_type": "code",
   "execution_count": 17,
   "id": "ef354e97-fe55-4332-ab69-159e2d011b1b",
   "metadata": {},
   "outputs": [
    {
     "data": {
      "text/plain": [
       "ID                   0\n",
       "Gender               0\n",
       "Ever_Married        22\n",
       "Age                  0\n",
       "Graduated           16\n",
       "Profession          23\n",
       "Work_Experience    142\n",
       "Spending_Score       0\n",
       "Family_Size         68\n",
       "Var_1               12\n",
       "dtype: int64"
      ]
     },
     "execution_count": 17,
     "metadata": {},
     "output_type": "execute_result"
    }
   ],
   "source": [
    "# test 결측치 탐지\n",
    "test.isnull().sum()"
   ]
  },
  {
   "cell_type": "markdown",
   "id": "7108c4d1-4be7-4228-8e48-e169ef44b026",
   "metadata": {},
   "source": [
    "## 데이터 정리\n",
    "- ID : ID\n",
    "- Gender : 범주형-명목형.\n",
    "- Ever_Married : 범주형-명목형. 결측치.\n",
    "- Age : 수치형-연속형.\n",
    "- Graduated : 범주형-명목형. 결측치\n",
    "- Profession : 범주형-명목형. 결측치\n",
    "- Work_Experience : 수치형-이산형. 결측치\n",
    "- Spending_Score : 범주형-순서형. 숫자매핑\n",
    "- Family_Size : 수치형-이산형. 결측치\n",
    "- Var_1 : 범주형-명목형. 결측치"
   ]
  },
  {
   "cell_type": "code",
   "execution_count": 18,
   "id": "dc92dd78-a150-4737-b188-fee4e0e84a99",
   "metadata": {},
   "outputs": [],
   "source": [
    "# 범주형 변수 결측치 대체 - 최빈값\n",
    "Ever_Married_mode = train['Ever_Married'].mode()[0]\n",
    "train['Ever_Married'].fillna(Ever_Married_mode, inplace=True)\n",
    "test['Ever_Married'].fillna(Ever_Married_mode, inplace=True)\n",
    "\n",
    "Graduated_mode = train['Graduated'].mode()[0]\n",
    "train['Graduated'].fillna(Graduated_mode, inplace=True)\n",
    "test['Graduated'].fillna(Graduated_mode, inplace=True)\n",
    "\n",
    "Profession_mode = train['Profession'].mode()[0]\n",
    "train['Profession'].fillna(Profession_mode, inplace=True)\n",
    "test['Profession'].fillna(Profession_mode, inplace=True)\n",
    "\n",
    "Var_1_mode = train['Var_1'].mode()[0]\n",
    "train['Var_1'].fillna(Var_1_mode, inplace=True)\n",
    "test['Var_1'].fillna(Var_1_mode, inplace=True)"
   ]
  },
  {
   "cell_type": "code",
   "execution_count": 19,
   "id": "7099eb62-cbd7-4302-9856-082ea40937a6",
   "metadata": {},
   "outputs": [],
   "source": [
    "# 수치형 변수 결측치 대체 - 중앙값\n",
    "Work_Experience_median = train['Work_Experience'].median()\n",
    "train['Work_Experience'].fillna(Work_Experience_median, inplace=True)\n",
    "test['Work_Experience'].fillna(Work_Experience_median, inplace=True)\n",
    "\n",
    "Family_Size_median = train['Family_Size'].median()\n",
    "train['Family_Size'].fillna(Family_Size_median, inplace=True)\n",
    "test['Family_Size'].fillna(Family_Size_median, inplace=True)"
   ]
  },
  {
   "cell_type": "code",
   "execution_count": 20,
   "id": "7f3c49c3-338c-498d-9187-d4703bd0f7e1",
   "metadata": {},
   "outputs": [],
   "source": [
    "# 순서형 변수 숫자 매핑 - Spending_Score\n",
    "dic = {\n",
    "    'Low': 0,\n",
    "    'Average': 1,\n",
    "    'High': 2\n",
    "}\n",
    "train['Spending_Score'] = train['Spending_Score'].map(lambda x: dic[x])\n",
    "test['Spending_Score'] = test['Spending_Score'].map(lambda x: dic[x])"
   ]
  },
  {
   "cell_type": "code",
   "execution_count": 21,
   "id": "c29b47a7-569e-47b1-9b5f-d5e002ca4e69",
   "metadata": {},
   "outputs": [
    {
     "data": {
      "text/plain": [
       "(0, 0)"
      ]
     },
     "execution_count": 21,
     "metadata": {},
     "output_type": "execute_result"
    }
   ],
   "source": [
    "train.isnull().sum().sum(), test.isnull().sum().sum()"
   ]
  },
  {
   "cell_type": "code",
   "execution_count": 22,
   "id": "871f1b84-686e-483e-b852-5ff5a9c5c9fe",
   "metadata": {},
   "outputs": [],
   "source": [
    "# 데이터 분리\n",
    "X = train.drop(['ID', 'Segmentation'], axis=1)\n",
    "y = train['Segmentation']\n",
    "test_id = test.pop('ID')"
   ]
  },
  {
   "cell_type": "code",
   "execution_count": 23,
   "id": "298c11f8-dc85-4646-9b7f-c00b159e55bb",
   "metadata": {},
   "outputs": [],
   "source": [
    "# labelencoding\n",
    "from sklearn.preprocessing import LabelEncoder\n",
    "le = LabelEncoder()\n",
    "y = le.fit_transform(y)"
   ]
  },
  {
   "cell_type": "code",
   "execution_count": 24,
   "id": "aa1607a2-c800-4dbc-9861-deeffb81d5d2",
   "metadata": {},
   "outputs": [
    {
     "data": {
      "text/plain": [
       "(4881, 26)"
      ]
     },
     "execution_count": 24,
     "metadata": {},
     "output_type": "execute_result"
    }
   ],
   "source": [
    "X = pd.get_dummies(X)\n",
    "X.shape"
   ]
  },
  {
   "cell_type": "code",
   "execution_count": 25,
   "id": "5ee79c1a-34bb-4b3a-96ae-af4029f23bfa",
   "metadata": {},
   "outputs": [
    {
     "data": {
      "text/plain": [
       "(1542, 26)"
      ]
     },
     "execution_count": 25,
     "metadata": {},
     "output_type": "execute_result"
    }
   ],
   "source": [
    "test = pd.get_dummies(test)\n",
    "test.shape"
   ]
  },
  {
   "cell_type": "code",
   "execution_count": 26,
   "id": "124723cc-9996-4e2a-9ca8-0a56e345d840",
   "metadata": {},
   "outputs": [],
   "source": [
    "from sklearn.model_selection import train_test_split\n",
    "\n",
    "X_train, X_val, y_train, y_val = train_test_split(X, y)"
   ]
  },
  {
   "cell_type": "code",
   "execution_count": 27,
   "id": "89835af5-86d7-4c6f-997f-32be2208a7e6",
   "metadata": {},
   "outputs": [
    {
     "data": {
      "text/plain": [
       "XGBClassifier(base_score=0.5, booster='gbtree', callbacks=None,\n",
       "              colsample_bylevel=1, colsample_bynode=1, colsample_bytree=1,\n",
       "              early_stopping_rounds=None, enable_categorical=False,\n",
       "              eval_metric=None, gamma=0, gpu_id=-1, grow_policy='depthwise',\n",
       "              importance_type=None, interaction_constraints='',\n",
       "              learning_rate=0.300000012, max_bin=256, max_cat_to_onehot=4,\n",
       "              max_delta_step=0, max_depth=6, max_leaves=0, min_child_weight=1,\n",
       "              missing=nan, monotone_constraints='()', n_estimators=100,\n",
       "              n_jobs=0, num_parallel_tree=1, objective='multi:softprob',\n",
       "              predictor='auto', random_state=0, reg_alpha=0, ...)"
      ]
     },
     "execution_count": 27,
     "metadata": {},
     "output_type": "execute_result"
    }
   ],
   "source": [
    "# from sklearn.ensemble import RandomForestClassifier\n",
    "# model = RandomForestClassifier()\n",
    "\n",
    "from xgboost import XGBClassifier\n",
    "model = XGBClassifier()\n",
    "\n",
    "model.fit(X_train, y_train)"
   ]
  },
  {
   "cell_type": "code",
   "execution_count": 28,
   "id": "25b5c68d-fbc5-4b34-9f9f-024ad1df5946",
   "metadata": {},
   "outputs": [],
   "source": [
    "pred_val = model.predict(X_val)"
   ]
  },
  {
   "cell_type": "code",
   "execution_count": 29,
   "id": "0468c8b9-1808-43ea-aa7b-f5e92cf3fb9e",
   "metadata": {},
   "outputs": [
    {
     "name": "stdout",
     "output_type": "stream",
     "text": [
      "f1 val: 0.42665870276363493\n"
     ]
    }
   ],
   "source": [
    "from sklearn.metrics import f1_score\n",
    "\n",
    "f1 = f1_score(y_val, pred_val, average='macro')\n",
    "print('f1 val:', f1)"
   ]
  },
  {
   "cell_type": "code",
   "execution_count": 30,
   "id": "6a3f341d-9eb5-4ea3-9705-cf757d574c2c",
   "metadata": {},
   "outputs": [
    {
     "data": {
      "text/plain": [
       "array(['D', 'C', 'C', ..., 'D', 'D', 'B'], dtype=object)"
      ]
     },
     "execution_count": 30,
     "metadata": {},
     "output_type": "execute_result"
    }
   ],
   "source": [
    "pred_test = model.predict(test)\n",
    "pred_test= le.inverse_transform(pred_test)\n",
    "pred_test"
   ]
  },
  {
   "cell_type": "code",
   "execution_count": 31,
   "id": "213a4ad7-b636-474a-9164-ec538c4e90e5",
   "metadata": {},
   "outputs": [],
   "source": [
    "submission = pd.DataFrame({'ID': test_id, 'Segmentation': pred_test})\n",
    "submission.to_csv('submission.csv', index=False)"
   ]
  },
  {
   "cell_type": "markdown",
   "id": "8896ebbb-f862-4e27-84c1-ecdd40d05bcb",
   "metadata": {},
   "source": [
    "# 작업 3유형"
   ]
  },
  {
   "cell_type": "markdown",
   "id": "66eef3a8-8412-4e99-8fc4-08a52fe0bcc1",
   "metadata": {},
   "source": [
    "# 3-1"
   ]
  },
  {
   "cell_type": "markdown",
   "id": "85cfdd2b-fa3e-4e7d-9c22-a40f46937591",
   "metadata": {},
   "source": [
    "## 3-1-a\n",
    "학과 평균 인원에 대한 값을 소숫점 이하 3자리까지 구하여라"
   ]
  },
  {
   "cell_type": "code",
   "execution_count": 76,
   "id": "2624a603-0423-47c7-bea1-cbc6a27fb78e",
   "metadata": {},
   "outputs": [
    {
     "data": {
      "text/html": [
       "<div>\n",
       "<style scoped>\n",
       "    .dataframe tbody tr th:only-of-type {\n",
       "        vertical-align: middle;\n",
       "    }\n",
       "\n",
       "    .dataframe tbody tr th {\n",
       "        vertical-align: top;\n",
       "    }\n",
       "\n",
       "    .dataframe thead th {\n",
       "        text-align: right;\n",
       "    }\n",
       "</style>\n",
       "<table border=\"1\" class=\"dataframe\">\n",
       "  <thead>\n",
       "    <tr style=\"text-align: right;\">\n",
       "      <th></th>\n",
       "      <th>학번</th>\n",
       "      <th>학과</th>\n",
       "      <th>성별</th>\n",
       "    </tr>\n",
       "  </thead>\n",
       "  <tbody>\n",
       "    <tr>\n",
       "      <th>0</th>\n",
       "      <td>DFSKJK_1</td>\n",
       "      <td>경영학과</td>\n",
       "      <td>여</td>\n",
       "    </tr>\n",
       "    <tr>\n",
       "      <th>1</th>\n",
       "      <td>DFSKJK_2</td>\n",
       "      <td>사회학과</td>\n",
       "      <td>여</td>\n",
       "    </tr>\n",
       "    <tr>\n",
       "      <th>2</th>\n",
       "      <td>DFSKJK_3</td>\n",
       "      <td>기계공학과</td>\n",
       "      <td>여</td>\n",
       "    </tr>\n",
       "    <tr>\n",
       "      <th>3</th>\n",
       "      <td>DFSKJK_4</td>\n",
       "      <td>경제학과</td>\n",
       "      <td>남</td>\n",
       "    </tr>\n",
       "    <tr>\n",
       "      <th>4</th>\n",
       "      <td>DFSKJK_5</td>\n",
       "      <td>기계공학과</td>\n",
       "      <td>여</td>\n",
       "    </tr>\n",
       "  </tbody>\n",
       "</table>\n",
       "</div>"
      ],
      "text/plain": [
       "         학번     학과 성별\n",
       "0  DFSKJK_1   경영학과  여\n",
       "1  DFSKJK_2   사회학과  여\n",
       "2  DFSKJK_3  기계공학과  여\n",
       "3  DFSKJK_4   경제학과  남\n",
       "4  DFSKJK_5  기계공학과  여"
      ]
     },
     "execution_count": 76,
     "metadata": {},
     "output_type": "execute_result"
    }
   ],
   "source": [
    "import pandas as pd \n",
    "df= pd.read_csv('https://raw.githubusercontent.com/Datamanim/datarepo/main/krdatacertificate/e4_p3_1_.csv')\n",
    "df.head()"
   ]
  },
  {
   "cell_type": "code",
   "execution_count": 53,
   "id": "6ff8c12a-e551-42a5-8cb5-982ef517483f",
   "metadata": {},
   "outputs": [
    {
     "name": "stdout",
     "output_type": "stream",
     "text": [
      "170.333\n"
     ]
    }
   ],
   "source": [
    "ans = round(df.groupby('학과').size().mean(), 3)\n",
    "print(ans)"
   ]
  },
  {
   "cell_type": "markdown",
   "id": "72453d9d-eb1f-4d64-9d11-a7061803e867",
   "metadata": {},
   "source": [
    "## 3-1-b\n",
    "카이제곱검정 독립성 검정 통계량을 소숫점 이하 3자리까지 구하여라"
   ]
  },
  {
   "cell_type": "markdown",
   "id": "4267d071-1b9b-4e50-a00a-b1f7f4f75324",
   "metadata": {},
   "source": [
    "### 카이제곱 독립성 검정(Chi-squared Independence Test)\n",
    "-  두 개 이상의 범주형 변수 사이의 독립성 여부를 평가하며, 두 변수가 서로 독립적인지 아니면 상관 관계가 있는지를 결정하는 데 사용\n",
    "- 귀무가설 : 두 변수는 서로 독립적이다.\n",
    "- 대립가설 : 두 변수는 서로 독립적이지 않다.(상관 관계가 있다.)"
   ]
  },
  {
   "cell_type": "code",
   "execution_count": 55,
   "id": "a40b4fcc-7c02-49a8-9618-2aded6b1d83e",
   "metadata": {},
   "outputs": [],
   "source": [
    "from scipy.stats import chi2_contingency"
   ]
  },
  {
   "cell_type": "code",
   "execution_count": 71,
   "id": "0bf48bcf-a762-460c-b949-707f05a02ddb",
   "metadata": {},
   "outputs": [],
   "source": [
    "crosstab = pd.crosstab(df['학과'], df['성별'])\n",
    "# corsstab = df.groupby(['학과', '성별']).size().unstack()"
   ]
  },
  {
   "cell_type": "code",
   "execution_count": 72,
   "id": "0f59b655-f0f8-49ea-99c0-80b647c07a3e",
   "metadata": {},
   "outputs": [],
   "source": [
    "chi2, p_value, dof, expected = chi2_contingency(crosstab)"
   ]
  },
  {
   "cell_type": "code",
   "execution_count": 73,
   "id": "6f57bfca-9a90-4e2e-9bcf-38bf79e0c887",
   "metadata": {},
   "outputs": [
    {
     "name": "stdout",
     "output_type": "stream",
     "text": [
      "5.646\n"
     ]
    }
   ],
   "source": [
    "ans = round(chi2, 3)\n",
    "print(ans)"
   ]
  },
  {
   "cell_type": "markdown",
   "id": "109f8d16-afe1-460e-8a46-bc019c6c50b8",
   "metadata": {},
   "source": [
    "## 3-1-c\n",
    "카이제곱검정 독립성 검정의 pvalue를 소숫점 이하 3자리까지 구하여라. 유의수준 0.05하에서 귀무가설과 대립가설중 유의한 것을  출력하라"
   ]
  },
  {
   "cell_type": "code",
   "execution_count": 58,
   "id": "c95319f3-c7bc-43e9-9ce6-af3f550f36a7",
   "metadata": {},
   "outputs": [
    {
     "name": "stdout",
     "output_type": "stream",
     "text": [
      "p-value: 0.041\n",
      "대립가설 채택 : 두 변수 학과와 성별은 서로 독립적이지 않다.(상관관계가 있다.)\n"
     ]
    }
   ],
   "source": [
    "p_value = round(p_value, 3)\n",
    "print('p-value:', p_value)\n",
    "\n",
    "alpha = 0.05\n",
    "\n",
    "if p_value < alpha:\n",
    "    print('대립가설 채택 : 두 변수 학과와 성별은 서로 독립적이지 않다.(상관관계가 있다.)')\n",
    "else:\n",
    "    print('귀무가설 채택 : 두 변수 학과와 성별은 서로 독립적이다.')"
   ]
  },
  {
   "cell_type": "markdown",
   "id": "3edada3e-39ed-45a9-ae73-db429c8481b9",
   "metadata": {},
   "source": [
    "## 3-2\n",
    "어느 학교에서 수학 시험을 본 학생 100명 중 60명이 60점 이상을 받았다. 이 학교의 수학 시험의 평균 점수가 50점 이상인지 95%의 신뢰 수준에서 검정하려한다"
   ]
  },
  {
   "cell_type": "markdown",
   "id": "e0624748-3b61-46b5-8fff-7c29b67dc88d",
   "metadata": {},
   "source": [
    "## 3-2-a\n",
    "검정 통계량을 소숫점 이하 3자리에서 구하시오"
   ]
  },
  {
   "cell_type": "code",
   "execution_count": 113,
   "id": "9d668dca-e2ce-4ce5-8677-e78c3afa990a",
   "metadata": {},
   "outputs": [],
   "source": [
    "import numpy as np\n",
    "import scipy.stats as stats"
   ]
  },
  {
   "cell_type": "code",
   "execution_count": 120,
   "id": "f9e8ee9e-c600-4a02-9b5f-5731efc604fb",
   "metadata": {},
   "outputs": [
    {
     "name": "stdout",
     "output_type": "stream",
     "text": [
      "z-value : 2.0\n"
     ]
    }
   ],
   "source": [
    "# 귀무가설 : 수학 시험의 평균 점수가 50점 미만이다.\n",
    "# 대립가설 : 수학 시험의 평균 점수가 50점 이상이다.\n",
    "\n",
    "\n",
    "# 주어진 데이터\n",
    "n = 100  # 학생 수\n",
    "x = 60   # 60점 이상을 받은 학생 수\n",
    "\n",
    "p_hat = x / n  # 샘플 비율 = 100명 중 60점 이상을 받은 학생 수의 비율\n",
    "p = 50 / 100  # 귀무가설에서의 모집단 비율 50점 / 100점 = 0.5\n",
    "\n",
    "# 검정 통계량\n",
    "z = (p_hat - p) / np.sqrt(p * (1 - p) / n)\n",
    "\n",
    "# Z 값 출력 (소수점 이하 3자리)\n",
    "z = round(z, 3)\n",
    "print('z-value :', z)"
   ]
  },
  {
   "cell_type": "markdown",
   "id": "3b81811e-2159-407d-a1bf-42ec6e6bf6d1",
   "metadata": {},
   "source": [
    "## 3-2-b\n",
    "pvalue를 소숫점 이하 3자리까지 구하고 귀무가설과 대립가설중 유의한 것을  출력하라"
   ]
  },
  {
   "cell_type": "code",
   "execution_count": 117,
   "id": "9f58c0fc-ba9a-4833-935e-86e6526d5c77",
   "metadata": {},
   "outputs": [],
   "source": [
    "from scipy.stats import norm"
   ]
  },
  {
   "cell_type": "code",
   "execution_count": 119,
   "id": "350ec586-b52b-4844-b33a-07defe436d14",
   "metadata": {},
   "outputs": [
    {
     "name": "stdout",
     "output_type": "stream",
     "text": [
      "p-value: 0.023\n",
      "대립가설 채택: 평균 점수가 50점 이상이다.\n"
     ]
    }
   ],
   "source": [
    "p_value = round(1 - norm.cdf(z),3)\n",
    "print('p-value:', p_value)\n",
    "\n",
    "alpha = 0.05\n",
    "if p_value < alpha:\n",
    "    print(\"대립가설 채택: 평균 점수가 50점 이상이다.\")\n",
    "else:\n",
    "    print(\"귀무가설 채택: 평균 점수가 50점 미만이다.\")"
   ]
  }
 ],
 "metadata": {
  "kernelspec": {
   "display_name": "Python 3 (ipykernel)",
   "language": "python",
   "name": "python3"
  },
  "language_info": {
   "codemirror_mode": {
    "name": "ipython",
    "version": 3
   },
   "file_extension": ".py",
   "mimetype": "text/x-python",
   "name": "python",
   "nbconvert_exporter": "python",
   "pygments_lexer": "ipython3",
   "version": "3.7.15"
  }
 },
 "nbformat": 4,
 "nbformat_minor": 5
}
