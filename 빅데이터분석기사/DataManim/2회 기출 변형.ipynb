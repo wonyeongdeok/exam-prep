{
 "cells": [
  {
   "cell_type": "markdown",
   "id": "3b8b5406-252b-42dd-8889-57390dc3e6a1",
   "metadata": {},
   "source": [
    "# 작업 1유형"
   ]
  },
  {
   "cell_type": "code",
   "execution_count": 14,
   "id": "a8316661-da5b-432a-aa95-5d9abd45dc81",
   "metadata": {},
   "outputs": [
    {
     "data": {
      "text/html": [
       "<div>\n",
       "<style scoped>\n",
       "    .dataframe tbody tr th:only-of-type {\n",
       "        vertical-align: middle;\n",
       "    }\n",
       "\n",
       "    .dataframe tbody tr th {\n",
       "        vertical-align: top;\n",
       "    }\n",
       "\n",
       "    .dataframe thead th {\n",
       "        text-align: right;\n",
       "    }\n",
       "</style>\n",
       "<table border=\"1\" class=\"dataframe\">\n",
       "  <thead>\n",
       "    <tr style=\"text-align: right;\">\n",
       "      <th></th>\n",
       "      <th>CRIM</th>\n",
       "      <th>ZN</th>\n",
       "      <th>INDUS</th>\n",
       "      <th>CHAS</th>\n",
       "      <th>NOX</th>\n",
       "      <th>RM</th>\n",
       "      <th>AGE</th>\n",
       "      <th>DIS</th>\n",
       "      <th>RAD</th>\n",
       "      <th>TAX</th>\n",
       "      <th>PTRATIO</th>\n",
       "      <th>B</th>\n",
       "      <th>LSTAT</th>\n",
       "      <th>MEDV</th>\n",
       "    </tr>\n",
       "  </thead>\n",
       "  <tbody>\n",
       "    <tr>\n",
       "      <th>0</th>\n",
       "      <td>0.00632</td>\n",
       "      <td>NaN</td>\n",
       "      <td>2.31</td>\n",
       "      <td>0</td>\n",
       "      <td>0.538</td>\n",
       "      <td>6.575</td>\n",
       "      <td>65.2</td>\n",
       "      <td>4.0900</td>\n",
       "      <td>1</td>\n",
       "      <td>296.0</td>\n",
       "      <td>15.3</td>\n",
       "      <td>396.9</td>\n",
       "      <td>4.98</td>\n",
       "      <td>24.0</td>\n",
       "    </tr>\n",
       "    <tr>\n",
       "      <th>1</th>\n",
       "      <td>0.02731</td>\n",
       "      <td>NaN</td>\n",
       "      <td>7.07</td>\n",
       "      <td>0</td>\n",
       "      <td>0.469</td>\n",
       "      <td>6.421</td>\n",
       "      <td>78.9</td>\n",
       "      <td>4.9671</td>\n",
       "      <td>2</td>\n",
       "      <td>242.0</td>\n",
       "      <td>17.8</td>\n",
       "      <td>396.9</td>\n",
       "      <td>9.14</td>\n",
       "      <td>21.6</td>\n",
       "    </tr>\n",
       "  </tbody>\n",
       "</table>\n",
       "</div>"
      ],
      "text/plain": [
       "      CRIM  ZN  INDUS  CHAS    NOX     RM   AGE     DIS  RAD    TAX  PTRATIO  \\\n",
       "0  0.00632 NaN   2.31     0  0.538  6.575  65.2  4.0900    1  296.0     15.3   \n",
       "1  0.02731 NaN   7.07     0  0.469  6.421  78.9  4.9671    2  242.0     17.8   \n",
       "\n",
       "       B  LSTAT  MEDV  \n",
       "0  396.9   4.98  24.0  \n",
       "1  396.9   9.14  21.6  "
      ]
     },
     "execution_count": 14,
     "metadata": {},
     "output_type": "execute_result"
    }
   ],
   "source": [
    "import pandas as pd\n",
    "df = pd.read_csv('https://raw.githubusercontent.com/Datamanim/datarepo/main/krdatacertificate/e2_p1_1.csv')\n",
    "df.head(2)"
   ]
  },
  {
   "cell_type": "markdown",
   "id": "f00a3caf-2749-4813-a909-aa055bf806a2",
   "metadata": {},
   "source": [
    "## 1-1\n",
    "주어진 Dataset에서 CRIM값이 가장 큰 10개의 지역을 구하고\n",
    "10개의 지역의 CRIM값을 그 중 가장 작은 값으로 대체하라. 그리고\n",
    "AGE 컬럼 값이 80이상인 대체 된 CRIM 평균값을 구하라"
   ]
  },
  {
   "cell_type": "code",
   "execution_count": 15,
   "id": "e8b5c29d-020b-46eb-a5ec-569a08f64ec2",
   "metadata": {},
   "outputs": [],
   "source": [
    "df = df.sort_values('CRIM', ascending=False).reset_index(drop=True)"
   ]
  },
  {
   "cell_type": "code",
   "execution_count": 16,
   "id": "d0c70672-6d5b-4522-8f51-e5900b44680f",
   "metadata": {},
   "outputs": [],
   "source": [
    "df.loc[:9, 'CRIM'] = df.loc[:9, 'CRIM'].min()"
   ]
  },
  {
   "cell_type": "code",
   "execution_count": 17,
   "id": "d87fb62f-fe80-4687-bc06-183cbd6b0042",
   "metadata": {},
   "outputs": [
    {
     "data": {
      "text/plain": [
       "5.759386625"
      ]
     },
     "execution_count": 17,
     "metadata": {},
     "output_type": "execute_result"
    }
   ],
   "source": [
    "df[df['AGE'] >= 80]['CRIM'].mean()"
   ]
  },
  {
   "cell_type": "markdown",
   "id": "16a9d161-8e65-47e7-8c8c-1ea48beca736",
   "metadata": {
    "tags": []
   },
   "source": [
    "## 1-2\n",
    "1-1에서 사용한 데이터에서 RM 중앙값으로 해당 컬럼의 결측치를 대체하라\n",
    "그리고 해당 컬럼의 결측치 대치 전후의 표준편차 차이의 절댓값을 소숫점 이하 3째자리 까지 구하라"
   ]
  },
  {
   "cell_type": "code",
   "execution_count": 18,
   "id": "84f6e777-edf4-480e-9883-9f0a7f47f672",
   "metadata": {},
   "outputs": [],
   "source": [
    "std1 = df['RM'].std()"
   ]
  },
  {
   "cell_type": "code",
   "execution_count": 19,
   "id": "87abbcf3-e1da-4fc7-9071-1ffb6ff686fe",
   "metadata": {},
   "outputs": [],
   "source": [
    "df['RM'] = df['RM'].fillna(value=df['RM'].median())"
   ]
  },
  {
   "cell_type": "code",
   "execution_count": 20,
   "id": "4b2da144-3fe2-4cab-876f-d6961ad629dd",
   "metadata": {},
   "outputs": [],
   "source": [
    "std2 = df['RM'].std()"
   ]
  },
  {
   "cell_type": "code",
   "execution_count": 21,
   "id": "11308cba-5cea-47c6-8839-685131dae48f",
   "metadata": {},
   "outputs": [
    {
     "name": "stdout",
     "output_type": "stream",
     "text": [
      "0.027\n"
     ]
    }
   ],
   "source": [
    "ans = round(abs(std1 - std2), 3)\n",
    "print(ans)"
   ]
  },
  {
   "cell_type": "markdown",
   "id": "6ec706fd-b247-4c4e-8e44-6301a80124e2",
   "metadata": {},
   "source": [
    "## 1-3\n",
    "주어진 Dataset의 DIS 평균으로 부터 1.5 * 표준편차를 벗어나는 영역을 이상치라고 판단하고\n",
    "DIS 컬럼의 이상치들의 합을 구하여라."
   ]
  },
  {
   "cell_type": "code",
   "execution_count": 22,
   "id": "605ba620-aa3a-41ba-8592-61eb0924847c",
   "metadata": {},
   "outputs": [],
   "source": [
    "dis_mean = df['DIS'].mean()\n",
    "dis_std = df['DIS'].std()"
   ]
  },
  {
   "cell_type": "code",
   "execution_count": 23,
   "id": "589c936e-7c75-44e9-be56-92dfed3f1ba8",
   "metadata": {},
   "outputs": [],
   "source": [
    "upper_bound = dis_mean + 1.5 * dis_std\n",
    "lower_bound = dis_mean - 1.5 * dis_std"
   ]
  },
  {
   "cell_type": "code",
   "execution_count": 24,
   "id": "93a35e92-b238-4fcc-884b-a51934d44e06",
   "metadata": {},
   "outputs": [],
   "source": [
    "cond1 = df['DIS'] > upper_bound\n",
    "cond2 = df['DIS'] < lower_bound"
   ]
  },
  {
   "cell_type": "code",
   "execution_count": 25,
   "id": "c9bfb62c-e6b4-4fbd-8afd-fd6e95ac142a",
   "metadata": {},
   "outputs": [
    {
     "data": {
      "text/plain": [
       "404.4101"
      ]
     },
     "execution_count": 25,
     "metadata": {},
     "output_type": "execute_result"
    }
   ],
   "source": [
    "df[cond1 | cond2]['DIS'].sum()"
   ]
  },
  {
   "cell_type": "markdown",
   "id": "9a942227-9f45-4012-b56d-0a1104d72dbd",
   "metadata": {},
   "source": [
    "## 작업 2유형\n",
    "x_train 데이터로 학습한 모델을 x_test에 적용하여 예측한 결과를 제출하라. 평가 지표는 f1_score이다.\n",
    "\n"
   ]
  },
  {
   "cell_type": "code",
   "execution_count": 26,
   "id": "7b165349-c10d-421a-a76b-fee19e852e42",
   "metadata": {},
   "outputs": [],
   "source": [
    "import pandas as pd\n",
    "#데이터 로드\n",
    "train = pd.read_csv(\"https://raw.githubusercontent.com/Datamanim/datarepo/main/shipping/X_train.csv\")\n",
    "y = pd.read_csv(\"https://raw.githubusercontent.com/Datamanim/datarepo/main/shipping/y_train.csv\")\n",
    "test = pd.read_csv(\"https://raw.githubusercontent.com/Datamanim/datarepo/main/shipping/X_test.csv\")"
   ]
  },
  {
   "cell_type": "code",
   "execution_count": 27,
   "id": "48d50800-486a-40cb-a459-8ad52210dfa7",
   "metadata": {},
   "outputs": [
    {
     "name": "stdout",
     "output_type": "stream",
     "text": [
      "<class 'pandas.core.frame.DataFrame'>\n",
      "RangeIndex: 6598 entries, 0 to 6597\n",
      "Data columns (total 11 columns):\n",
      " #   Column               Non-Null Count  Dtype \n",
      "---  ------               --------------  ----- \n",
      " 0   ID                   6598 non-null   int64 \n",
      " 1   Warehouse_block      6598 non-null   object\n",
      " 2   Mode_of_Shipment     6598 non-null   object\n",
      " 3   Customer_care_calls  6598 non-null   object\n",
      " 4   Customer_rating      6598 non-null   int64 \n",
      " 5   Cost_of_the_Product  6598 non-null   int64 \n",
      " 6   Prior_purchases      6598 non-null   int64 \n",
      " 7   Product_importance   6598 non-null   object\n",
      " 8   Gender               6598 non-null   object\n",
      " 9   Discount_offered     6598 non-null   int64 \n",
      " 10  Weight_in_gms        6598 non-null   int64 \n",
      "dtypes: int64(6), object(5)\n",
      "memory usage: 567.1+ KB\n"
     ]
    }
   ],
   "source": [
    "train.info()"
   ]
  },
  {
   "cell_type": "code",
   "execution_count": 28,
   "id": "fba0e3ba-cb5a-48d9-bd6f-6c864c8afacb",
   "metadata": {},
   "outputs": [
    {
     "name": "stdout",
     "output_type": "stream",
     "text": [
      "<class 'pandas.core.frame.DataFrame'>\n",
      "RangeIndex: 6598 entries, 0 to 6597\n",
      "Data columns (total 2 columns):\n",
      " #   Column               Non-Null Count  Dtype\n",
      "---  ------               --------------  -----\n",
      " 0   ID                   6598 non-null   int64\n",
      " 1   Reached.on.Time_Y.N  6598 non-null   int64\n",
      "dtypes: int64(2)\n",
      "memory usage: 103.2 KB\n"
     ]
    }
   ],
   "source": [
    "y.info()"
   ]
  },
  {
   "cell_type": "code",
   "execution_count": 29,
   "id": "7459d371-78de-4476-8823-d05f3d3a5ede",
   "metadata": {},
   "outputs": [
    {
     "name": "stdout",
     "output_type": "stream",
     "text": [
      "<class 'pandas.core.frame.DataFrame'>\n",
      "RangeIndex: 4401 entries, 0 to 4400\n",
      "Data columns (total 11 columns):\n",
      " #   Column               Non-Null Count  Dtype \n",
      "---  ------               --------------  ----- \n",
      " 0   ID                   4401 non-null   int64 \n",
      " 1   Warehouse_block      4401 non-null   object\n",
      " 2   Mode_of_Shipment     4401 non-null   object\n",
      " 3   Customer_care_calls  4401 non-null   object\n",
      " 4   Customer_rating      4401 non-null   int64 \n",
      " 5   Cost_of_the_Product  4401 non-null   int64 \n",
      " 6   Prior_purchases      4401 non-null   int64 \n",
      " 7   Product_importance   4401 non-null   object\n",
      " 8   Gender               4401 non-null   object\n",
      " 9   Discount_offered     4401 non-null   int64 \n",
      " 10  Weight_in_gms        4401 non-null   int64 \n",
      "dtypes: int64(6), object(5)\n",
      "memory usage: 378.3+ KB\n"
     ]
    }
   ],
   "source": [
    "test.info()"
   ]
  },
  {
   "cell_type": "code",
   "execution_count": 30,
   "id": "e724e626-f653-48df-90fe-6e0a7baaabcd",
   "metadata": {},
   "outputs": [
    {
     "data": {
      "text/plain": [
       "ID                     0\n",
       "Warehouse_block        0\n",
       "Mode_of_Shipment       0\n",
       "Customer_care_calls    0\n",
       "Customer_rating        0\n",
       "Cost_of_the_Product    0\n",
       "Prior_purchases        0\n",
       "Product_importance     0\n",
       "Gender                 0\n",
       "Discount_offered       0\n",
       "Weight_in_gms          0\n",
       "dtype: int64"
      ]
     },
     "execution_count": 30,
     "metadata": {},
     "output_type": "execute_result"
    }
   ],
   "source": [
    "train.isnull().sum()"
   ]
  },
  {
   "cell_type": "code",
   "execution_count": 31,
   "id": "f0598c0a-adab-4fb2-be44-5c542c4202ed",
   "metadata": {},
   "outputs": [
    {
     "data": {
      "text/plain": [
       "ID                     0\n",
       "Warehouse_block        0\n",
       "Mode_of_Shipment       0\n",
       "Customer_care_calls    0\n",
       "Customer_rating        0\n",
       "Cost_of_the_Product    0\n",
       "Prior_purchases        0\n",
       "Product_importance     0\n",
       "Gender                 0\n",
       "Discount_offered       0\n",
       "Weight_in_gms          0\n",
       "dtype: int64"
      ]
     },
     "execution_count": 31,
     "metadata": {},
     "output_type": "execute_result"
    }
   ],
   "source": [
    "test.isnull().sum()"
   ]
  },
  {
   "cell_type": "code",
   "execution_count": 32,
   "id": "72d0c036-29ce-4870-a089-cdb8bf097f3d",
   "metadata": {},
   "outputs": [
    {
     "name": "stdout",
     "output_type": "stream",
     "text": [
      "unique of ID : [6045   44 7940 ... 5150 3950 5969]\n",
      "unique of Warehouse_block : ['A' 'F' 'C' 'B' 'D']\n",
      "unique of Mode_of_Shipment : ['Flight' 'Ship' 'Road']\n",
      "unique of Customer_care_calls : ['4' '3' '5' '6' '2' '$7']\n",
      "unique of Customer_rating : [3 1 2 5 4]\n",
      "unique of Cost_of_the_Product : [266 174 154 158 175 139 220 160 145 155 226 256 204 207 274 251 267 166\n",
      " 201 303 176 270 258 133 190 277 143 273 285 209 189 167 261 216 254 246\n",
      " 295 229 219 245 247 215 223 164 249 217 173 149 232 181 235 150 198 144\n",
      " 234 141 222 135 179 263 188 260 243 156 187 287 244 100 196 265 259 255\n",
      " 151 199 257 233 224 182 252 205 248 241 162 221 184  98 211 269 183 147\n",
      " 206 116 282 140 153 208 230 227 170 168 293 191 239 228 146  99 157 253\n",
      " 238 280 218 152 137 214 161 305 250 115 210 242 291 225 193 202 200 275\n",
      " 105 236 142 231 262 264 276 203 185 172 237 192 163 171 180 159 186 178\n",
      " 240 268 213 310 290 302 134 132 195 272 169 138 102 194 296 112 197 117\n",
      " 294 165 129 103 292 281 278 148 128 301 212 271 306 123 118 108 136 279\n",
      " 121 177  96 110 286 283 308 299 101 126 289 284  97 114 106 122 297 111\n",
      " 113 298 104 307 288 130 125 124 127 304 300 119 109 309 131 120 107]\n",
      "unique of Prior_purchases : [ 5  2 10  3  4  6  7  8]\n",
      "unique of Product_importance : ['high' 'low' 'medium']\n",
      "unique of Gender : ['F' 'M']\n",
      "unique of Discount_offered : [ 5 44 10 27  7 17  4  9  3  6 20  8 48 37 12 49  1 32  2 22 45 16 13 43\n",
      " 63 18 58 47 14 42 50 23 33 61 29 51 21 25 35 65 36 55 40 60 59 38 54 39\n",
      " 46 57 56 34 19 64 62 31 53 52 15 41 11 24 30 28 26]\n",
      "unique of Weight_in_gms : [1590 1556 5674 ... 4684 2148 1513]\n"
     ]
    }
   ],
   "source": [
    "for col in train.columns:\n",
    "    print(f'unique of {col} :', train[col].unique())"
   ]
  },
  {
   "cell_type": "code",
   "execution_count": 33,
   "id": "cd56cb36-da1d-47c5-b6e2-67d1df55ad4f",
   "metadata": {},
   "outputs": [
    {
     "name": "stdout",
     "output_type": "stream",
     "text": [
      "unique of ID : [ 6811  4320  5732 ... 10395  3646   573]\n",
      "unique of Warehouse_block : ['D' 'F' 'C' 'A' 'B']\n",
      "unique of Mode_of_Shipment : ['Ship' 'Road' 'Flight']\n",
      "unique of Customer_care_calls : ['5' '3' '4' '6' '$7' '2']\n",
      "unique of Customer_rating : [2 5 4 1 3]\n",
      "unique of Cost_of_the_Product : [259 133 191 221 230 254 250 273 253 249 255 218 144 177 260 252 199 198\n",
      " 192 257 244 286 206 236 140 183 215 145 195 167 193 205 127 231 222 291\n",
      " 170 233 266 182 208 155 241 139 156 209 184 143 239 217 174 276 242 169\n",
      " 309 248 165 240 110 211 154 262 226 176 268 102 269 166 202 264 178 200\n",
      " 187 261 223 274 214 232 141 235 190 229 149 164 168 263 185 270 243 153\n",
      " 219 283 305 201 152 245 304 251 162 292 147 159 246 146 234 109 189 228\n",
      " 271 247 197 256 204 117 134 100 216 279 142 180 112 287 105 136 265 194\n",
      " 282 113 272 161 213 275 220 238 179 104 258 129 157 151 212 237 150 285\n",
      " 138 148 307 296 196 111 181 306 172 225 278 188 171 163 132 160 267 224\n",
      " 135 116 175 300 227 294 301 158 173 118 284 298 280 101 137 186 210 103\n",
      " 207 310 295 125 289 107 308 124 123 203  96 120 303 121 277 299 290 281\n",
      " 106 114 293  98 115  97 130 131 119 288 128  99 126 302 297 108]\n",
      "unique of Prior_purchases : [ 5  3  2  6  4  8  7 10]\n",
      "unique of Product_importance : ['low' 'medium' 'high']\n",
      "unique of Gender : ['F' 'M']\n",
      "unique of Discount_offered : [ 7  4 10 38  5  2  8  1  6 36 32 65  3 21 47 43 52 16 63 33  9 55 12 45\n",
      " 39 28 15 23 18 13 59 30 37 58 35 48 26 27 54 24 42 50 46 19 64 17 40 22\n",
      " 44 56 60 53 41 31 61 57 49 29 11 34 62 20 51 14 25]\n",
      "unique of Weight_in_gms : [1032 5902 4243 ... 1216 3715 5536]\n"
     ]
    }
   ],
   "source": [
    "for col in test.columns:\n",
    "    print(f'unique of {col} :', test[col].unique())"
   ]
  },
  {
   "cell_type": "code",
   "execution_count": 34,
   "id": "1488bb22-8c93-4b11-8368-0a19656d6435",
   "metadata": {},
   "outputs": [
    {
     "name": "stdout",
     "output_type": "stream",
     "text": [
      "unique of ID : [6045   44 7940 ... 5150 3950 5969]\n",
      "unique of Reached.on.Time_Y.N : [0 1]\n"
     ]
    }
   ],
   "source": [
    "for col in y.columns:\n",
    "    print(f'unique of {col} :', y[col].unique())"
   ]
  },
  {
   "cell_type": "code",
   "execution_count": 35,
   "id": "a926277c-bfdb-417c-8d1b-551be9f14ab2",
   "metadata": {},
   "outputs": [],
   "source": [
    "# 데이터 정리\n",
    "# ID : id\n",
    "# Warehouse_block : 범주형-명목형. 원핫인코딩\n",
    "# Mode_of_Shipment : 범주형-명목형. 원핫인코딩\n",
    "# Customer_care_calls : 범주형-명목형. 원핫인코딩\n",
    "# Customer_rating : 범주형-순서형\n",
    "# Cost_of_the_Product : 수치형-이산형\n",
    "# Prior_purchases : 수치형-이산형\n",
    "# Product_importance : 범주형-순서형. 숫자 매핑\n",
    "# Gender : 범주형-명목형. 이진데이터. 오디널 인코딩\n",
    "# Discount_offered : 수치형-이산형\n",
    "# Weight_in_gms : 수치형-이산형\n",
    "# Reached.on.Time_Y.N : 범주형-명목형. 타겟 데이터"
   ]
  },
  {
   "cell_type": "code",
   "execution_count": 36,
   "id": "7249dda4-d58e-4819-a55c-9cf5a604b192",
   "metadata": {},
   "outputs": [],
   "source": [
    "# 데이터 분리\n",
    "X = train.drop('ID', axis=1)\n",
    "y = y.drop('ID', axis=1)\n",
    "test_id = test.pop('ID')"
   ]
  },
  {
   "cell_type": "code",
   "execution_count": 37,
   "id": "14253bde-5b57-4cc1-9bec-362fc0e7957d",
   "metadata": {},
   "outputs": [],
   "source": [
    "# 원핫인코딩\n",
    "X = pd.get_dummies(X)\n",
    "test = pd.get_dummies(test)"
   ]
  },
  {
   "cell_type": "code",
   "execution_count": 38,
   "id": "27ef052b-2716-4189-87ec-d6fd426f38b3",
   "metadata": {},
   "outputs": [],
   "source": [
    "# 학습 데이터 - 검증 데이터 분리\n",
    "from sklearn.model_selection import train_test_split\n",
    "\n",
    "X_train, X_val, y_train, y_val = train_test_split(X, y, stratify=y)"
   ]
  },
  {
   "cell_type": "code",
   "execution_count": 39,
   "id": "14a46650-e5f5-49eb-a6ce-321dfc90bf04",
   "metadata": {},
   "outputs": [
    {
     "name": "stderr",
     "output_type": "stream",
     "text": [
      "C:\\Users\\dudejr\\anaconda3\\envs\\kaggle\\lib\\site-packages\\ipykernel_launcher.py:6: DataConversionWarning: A column-vector y was passed when a 1d array was expected. Please change the shape of y to (n_samples,), for example using ravel().\n",
      "  \n"
     ]
    },
    {
     "data": {
      "text/plain": [
       "RandomForestClassifier(random_state=42)"
      ]
     },
     "execution_count": 39,
     "metadata": {},
     "output_type": "execute_result"
    }
   ],
   "source": [
    "# 모델 학습\n",
    "from sklearn.ensemble import RandomForestClassifier\n",
    "\n",
    "random_state = 42\n",
    "model = RandomForestClassifier(random_state=random_state)\n",
    "model.fit(X_train, y_train)"
   ]
  },
  {
   "cell_type": "code",
   "execution_count": 40,
   "id": "10786df5-60ee-4c65-ba5c-e59093173640",
   "metadata": {},
   "outputs": [],
   "source": [
    "# 검증 데이터 추론\n",
    "pred_val = model.predict(X_val)"
   ]
  },
  {
   "cell_type": "code",
   "execution_count": 41,
   "id": "37bf642a-e21c-4d1d-9e6a-8593f69133ca",
   "metadata": {},
   "outputs": [
    {
     "name": "stdout",
     "output_type": "stream",
     "text": [
      "f1score : 0.6904109589041098\n"
     ]
    }
   ],
   "source": [
    "# 검증 데이터 평가\n",
    "from sklearn.metrics import f1_score\n",
    "\n",
    "f1score = f1_score(y_val, pred_val)\n",
    "print('f1score :', f1score)"
   ]
  },
  {
   "cell_type": "code",
   "execution_count": 42,
   "id": "f70854a1-f32c-4835-8d6f-111b45cff650",
   "metadata": {},
   "outputs": [],
   "source": [
    "# 테스트 데이터 추론\n",
    "pred_test = model.predict(test)"
   ]
  },
  {
   "cell_type": "code",
   "execution_count": 43,
   "id": "09c0bbbe-5d2d-43c5-8454-97623b990ff9",
   "metadata": {},
   "outputs": [],
   "source": [
    "# 제출\n",
    "submission = pd.DataFrame({'ID': test_id, 'Reached.on.Time_Y.N': pred_test})\n",
    "submission.to_csv('0000.csv', index=False)"
   ]
  },
  {
   "cell_type": "markdown",
   "id": "821192eb-8a5c-436f-84e8-f8938b399a38",
   "metadata": {},
   "source": [
    "# 작업 3유형"
   ]
  },
  {
   "cell_type": "markdown",
   "id": "2b5a48d2-86cd-4976-8528-9efab04cfa0c",
   "metadata": {},
   "source": [
    "## 3-1"
   ]
  },
  {
   "cell_type": "code",
   "execution_count": 44,
   "id": "af2931b4-b5a0-4401-a91a-557b6034ffd8",
   "metadata": {},
   "outputs": [
    {
     "data": {
      "text/html": [
       "<div>\n",
       "<style scoped>\n",
       "    .dataframe tbody tr th:only-of-type {\n",
       "        vertical-align: middle;\n",
       "    }\n",
       "\n",
       "    .dataframe tbody tr th {\n",
       "        vertical-align: top;\n",
       "    }\n",
       "\n",
       "    .dataframe thead th {\n",
       "        text-align: right;\n",
       "    }\n",
       "</style>\n",
       "<table border=\"1\" class=\"dataframe\">\n",
       "  <thead>\n",
       "    <tr style=\"text-align: right;\">\n",
       "      <th></th>\n",
       "      <th>fish</th>\n",
       "      <th>height</th>\n",
       "    </tr>\n",
       "  </thead>\n",
       "  <tbody>\n",
       "    <tr>\n",
       "      <th>0</th>\n",
       "      <td>fish_1</td>\n",
       "      <td>33.74cm</td>\n",
       "    </tr>\n",
       "    <tr>\n",
       "      <th>1</th>\n",
       "      <td>fish_2</td>\n",
       "      <td>31.64cm</td>\n",
       "    </tr>\n",
       "    <tr>\n",
       "      <th>2</th>\n",
       "      <td>fish_3</td>\n",
       "      <td>27.49cm</td>\n",
       "    </tr>\n",
       "    <tr>\n",
       "      <th>3</th>\n",
       "      <td>fish_4</td>\n",
       "      <td>31.43cm</td>\n",
       "    </tr>\n",
       "    <tr>\n",
       "      <th>4</th>\n",
       "      <td>fish_5</td>\n",
       "      <td>27.56cm</td>\n",
       "    </tr>\n",
       "  </tbody>\n",
       "</table>\n",
       "</div>"
      ],
      "text/plain": [
       "     fish   height\n",
       "0  fish_1  33.74cm\n",
       "1  fish_2  31.64cm\n",
       "2  fish_3  27.49cm\n",
       "3  fish_4  31.43cm\n",
       "4  fish_5  27.56cm"
      ]
     },
     "execution_count": 44,
     "metadata": {},
     "output_type": "execute_result"
    }
   ],
   "source": [
    "import pandas as pd\n",
    "df = pd.read_csv('https://raw.githubusercontent.com/Datamanim/datarepo/main/krdatacertificate/e2_p3_1.csv')\n",
    "df.head(5)"
   ]
  },
  {
   "cell_type": "markdown",
   "id": "a5e5f471-a06c-43c5-b6cf-3edd83e5c307",
   "metadata": {},
   "source": [
    "### 3-1-a\n",
    "122마리의 height 평균값을 m(미터) 단위로 소숫점 이하 5자리까지 실수 값만  출력하라\n",
    "\n"
   ]
  },
  {
   "cell_type": "code",
   "execution_count": 45,
   "id": "38ea7cb7-7a73-44c3-b6cf-eb93ab6bf7e3",
   "metadata": {},
   "outputs": [
    {
     "name": "stdout",
     "output_type": "stream",
     "text": [
      "0.29951\n"
     ]
    }
   ],
   "source": [
    "df['height'] = df['height'].str.replace('cm', '').astype(float)\n",
    "ans = round(df['height'].mean() * 0.01, 5)\n",
    "print(ans)"
   ]
  },
  {
   "cell_type": "markdown",
   "id": "e30b3a63-ac89-434d-9cc9-3d7b9c7e1d83",
   "metadata": {},
   "source": [
    "### 3-1-b\n",
    "모집단의 평균 길이가 30cm 인지 확인하려 일표본 t 검정을 시행하여 확인하려한다. 검정통계량을 소숫점 이하 3째자리까지 구하여라"
   ]
  },
  {
   "cell_type": "markdown",
   "id": "0981a951-2c25-407b-90fb-988a88192d01",
   "metadata": {},
   "source": [
    "### 일표본 t 검정(One-Sample t-test)\n",
    "- 모집단의 평균에 대한 추정이나 비교를 목적\n",
    "- 주로 모집단의 평균이 어떤 특정한 값과 같은지를 검정하는 데 사용\n",
    "- 귀무가설 (H0) : 모집단의 평균은 X이다.\n",
    "- 대립가설 (H1) : 모집단의 평균은 X가 아니다."
   ]
  },
  {
   "cell_type": "code",
   "execution_count": 46,
   "id": "738ae443-550e-4758-8745-f65e862a0dad",
   "metadata": {},
   "outputs": [
    {
     "name": "stdout",
     "output_type": "stream",
     "text": [
      "일표본 t 검정 통계량: -0.217\n"
     ]
    }
   ],
   "source": [
    "from scipy.stats import ttest_1samp\n",
    "\n",
    "s, p_value = ttest_1samp(df['height'], 30)\n",
    "ans = round(s, 3)\n",
    "print('일표본 t 검정 통계량:', ans)"
   ]
  },
  {
   "cell_type": "markdown",
   "id": "e9608ebf-8596-4502-880c-8c973a2ce4cf",
   "metadata": {},
   "source": [
    "### 3-1-c\n",
    "위의 통계량에 대한 p-값을 구하고 (반올림하여 소숫점 이하 3째자리), 유의수준 0.05하에서 귀무가설과 대립가설중 유의한 가설을 하나를 선택하시오(귀무/대립)"
   ]
  },
  {
   "cell_type": "code",
   "execution_count": 47,
   "id": "ad8b5ec5-cc28-4340-8720-4661db025e04",
   "metadata": {},
   "outputs": [
    {
     "name": "stdout",
     "output_type": "stream",
     "text": [
      "p-value: 0.829\n",
      "귀무가설 채택: 모집단의 평균 길이가 30cm이다.\n"
     ]
    }
   ],
   "source": [
    "print('p-value:', round(p_value, 3))\n",
    "\n",
    "alpha = 0.05\n",
    "\n",
    "if p_value < alpha:\n",
    "    print('대립가설 채택: 모집단의 평균 길이가 30cm가 아니다.')\n",
    "else:\n",
    "    print('귀무가설 채택: 모집단의 평균 길이가 30cm이다.')"
   ]
  },
  {
   "cell_type": "markdown",
   "id": "b97052bc-9244-4c0b-82ff-792fa8873c9b",
   "metadata": {
    "tags": []
   },
   "source": [
    "## 3-2\n",
    "조사결과 70%의 성인 남성이 3년 동안에 적어도 1번 치과를 찾는다고 할때, 21명의 성인 남성이 임의로 추출되었다고 하자."
   ]
  },
  {
   "cell_type": "markdown",
   "id": "540d1b7e-249d-4561-b338-b291d1d1e14b",
   "metadata": {},
   "source": [
    "### 3-2-a\n",
    "21명 중 16명 미만이 치과를 찾았을 확률(반올림하여 소숫점 이하 3자리)\n",
    "\n"
   ]
  },
  {
   "cell_type": "markdown",
   "id": "2944d9a4-3ad5-49a0-9d7f-fcdddce76c6e",
   "metadata": {},
   "source": [
    "### 이항분포\n",
    "- 이항분포는 베르누이 시행을 여러 번 반복하여 발생한 성공 횟수에 대한 확률 분포를 나타냄\n",
    "- 확률 질량 함수(PMF: Probability Mass Function)\n",
    "    - 성공 확률이 p이고 시행 횟수가 n일 때 성공 횟수가 <U>k일 확률</U> 계산\n",
    "- 누적 분포 함수(CDF: Cumulative Distribution Funtion)\n",
    "    - 성공 확률이 p이고 시행 횟수가 n일 때 성공 횟수가 <U>k 이하일 확률</U> 계산"
   ]
  },
  {
   "cell_type": "code",
   "execution_count": 48,
   "id": "03d78ed8-b7cd-4865-8a83-9f63bcba0289",
   "metadata": {},
   "outputs": [
    {
     "name": "stdout",
     "output_type": "stream",
     "text": [
      "0.637\n"
     ]
    }
   ],
   "source": [
    "from scipy.stats import binom\n",
    "\n",
    "n = 21  # 시행 횟수\n",
    "p = 0.7  # 성공 확률\n",
    "k = 15  # 성공 횟수\n",
    "\n",
    "prob = binom.cdf(k, n, p)\n",
    "print(round(prob, 3))"
   ]
  },
  {
   "cell_type": "markdown",
   "id": "b42be8d6-b66c-47c9-91c2-9d9e13c4e2c5",
   "metadata": {},
   "source": [
    "### 3-2-b\n",
    "적어도 19명이 치과를 찾았을 확률(반올림하여 소숫점 이하 3자리)"
   ]
  },
  {
   "cell_type": "code",
   "execution_count": 49,
   "id": "28dbbd40-e08e-4129-8eae-fb7ba9642ed8",
   "metadata": {},
   "outputs": [],
   "source": [
    "from scipy.stats import binom"
   ]
  },
  {
   "cell_type": "code",
   "execution_count": 50,
   "id": "210287f3-b6f0-4342-9eaf-dd62c1938635",
   "metadata": {},
   "outputs": [
    {
     "name": "stdout",
     "output_type": "stream",
     "text": [
      "0.027\n"
     ]
    }
   ],
   "source": [
    "n = 21  # 시행 횟수\n",
    "p = 0.7  # 성공 확률\n",
    "k = 18  # 성공 횟수\n",
    "\n",
    "prob = 1 - binom.cdf(k, n, p)  # 전체 확률에서 18명 이하가 치과를 찾았을 확률을 뺌\n",
    "print(round(prob, 3))"
   ]
  }
 ],
 "metadata": {
  "kernelspec": {
   "display_name": "Python 3 (ipykernel)",
   "language": "python",
   "name": "python3"
  },
  "language_info": {
   "codemirror_mode": {
    "name": "ipython",
    "version": 3
   },
   "file_extension": ".py",
   "mimetype": "text/x-python",
   "name": "python",
   "nbconvert_exporter": "python",
   "pygments_lexer": "ipython3",
   "version": "3.7.15"
  }
 },
 "nbformat": 4,
 "nbformat_minor": 5
}
