{
 "cells": [
  {
   "cell_type": "markdown",
   "id": "b10fc7ce",
   "metadata": {
    "papermill": {
     "duration": 0.008374,
     "end_time": "2023-11-03T19:30:03.177495",
     "exception": false,
     "start_time": "2023-11-03T19:30:03.169121",
     "status": "completed"
    },
    "tags": []
   },
   "source": [
    "## 문제: 두 교육 방법의 효과 비교\n",
    "연구자는 두 가지 다른 교육 방법이 학생들의 성적에 미치는 영향을 비교하고자 합니다. 연구자는 무작위로 선발된 20명의 학생들을 두 그룹으로 나누어 한 그룹에는 교육 방법 A를, 다른 그룹에는 교육 방법 B를 적용합니다. 교육이 끝난 후, 두 그룹의 성적을 비교하기 위해 독립 표본 t-검정과 ANOVA F-검정을 실시하려고 합니다.\n",
    "\n",
    "다음은 두 그룹의 성적입니다:\n",
    "다음의 두 가지 검정을 사용하여 두 교육 방법 간의 성적 차이가 통계적으로 유의한지를 검증하세요\n",
    "\n",
    "1. 독립 표본 t-검정을 실시하여 t 통계량을 구하세요.\n",
    "2. 독립 표본 t-검정을 실시하여 p-값을 구하세요.\n",
    "3. ANOVA F-검정을 실시하여 F 통계량을 구하세요.\n",
    "4. ANOVA F-검정을 실시하여 p-값을 구하세요.\n"
   ]
  },
  {
   "cell_type": "markdown",
   "id": "d6860d1d-5c9c-4d52-8544-7530fb541536",
   "metadata": {},
   "source": [
    "## 독립 표본 t-검정\n",
    "- t-검정 통계량 : 두 그룹의 평균 차이를 표춘 오차로 나눈 값. t-분포를 따름\n",
    "- p-값 : 귀무가설이 참일 때, 관찰된 평균 차이 이상을 관찰할 확률. p-값이 작을수록 두 그룹의 평균 차이가 우연히 발생할 가능성이 적다."
   ]
  },
  {
   "cell_type": "markdown",
   "id": "ac0dc4c8-cfc0-4ea0-95bc-d0d08db1a3e0",
   "metadata": {},
   "source": [
    "## ANOVA F-검정(일원 분산 분석)\n",
    "- F-검정 통계량 : 그룹 간 분산과 그룹 내 분산의 비율. 값이 클수록 그룹 간 평균 차이가 크다는 것을 나타냄.\n",
    "- p-값 : 귀무가설이 참일 때, 관찰된 그룹 간 분산 이상을 관찰할 확률. p-값이 작을수록 그룹 간 평균 차이가 우연히 발생할 가능성이 적다."
   ]
  },
  {
   "cell_type": "code",
   "execution_count": 5,
   "id": "66066d0e-ede3-4197-96d8-0dc2c032b761",
   "metadata": {
    "papermill": {
     "duration": 0.446378,
     "end_time": "2023-11-03T19:30:03.631079",
     "exception": false,
     "start_time": "2023-11-03T19:30:03.184701",
     "status": "completed"
    },
    "tags": []
   },
   "outputs": [],
   "source": [
    "import pandas as pd\n",
    "from scipy.stats import ttest_ind, f_oneway"
   ]
  },
  {
   "cell_type": "code",
   "execution_count": 6,
   "id": "35c33214-f550-4853-814d-ea9ed0347dba",
   "metadata": {
    "papermill": {
     "duration": 0.446378,
     "end_time": "2023-11-03T19:30:03.631079",
     "exception": false,
     "start_time": "2023-11-03T19:30:03.184701",
     "status": "completed"
    },
    "tags": []
   },
   "outputs": [],
   "source": [
    "df = pd.DataFrame({\n",
    "    'A':[77, 75, 82, 80, 81, 83, 84, 76, 75, 87],\n",
    "    'B':[80, 74, 77, 79, 71, 74, 78, 69, 70, 72]})"
   ]
  },
  {
   "cell_type": "code",
   "execution_count": 7,
   "id": "10ae00ed-8b08-403d-84ca-bac8c9e97d5f",
   "metadata": {
    "papermill": {
     "duration": 0.446378,
     "end_time": "2023-11-03T19:30:03.631079",
     "exception": false,
     "start_time": "2023-11-03T19:30:03.184701",
     "status": "completed"
    },
    "tags": []
   },
   "outputs": [],
   "source": [
    "# 유의 수준 설정\n",
    "alpha = 0.05"
   ]
  },
  {
   "cell_type": "code",
   "execution_count": 3,
   "id": "c6860b56-34b2-4337-b56c-5c6554d3ded3",
   "metadata": {
    "papermill": {
     "duration": 0.446378,
     "end_time": "2023-11-03T19:30:03.631079",
     "exception": false,
     "start_time": "2023-11-03T19:30:03.184701",
     "status": "completed"
    },
    "tags": []
   },
   "outputs": [
    {
     "data": {
      "text/plain": [
       "(3.1068522301122954, 0.006087373605949963)"
      ]
     },
     "execution_count": 3,
     "metadata": {},
     "output_type": "execute_result"
    }
   ],
   "source": [
    "# 독립 표본 t-검정 실시 후 t 통계량과 p-value\n",
    "t_stat, p_value_t = ttest_ind(df['A'], df['B'])"
   ]
  },
  {
   "cell_type": "code",
   "execution_count": 10,
   "id": "12e6dfd2-f82b-4be4-8584-9ebc588865d0",
   "metadata": {},
   "outputs": [
    {
     "name": "stdout",
     "output_type": "stream",
     "text": [
      "<독립 표본 t-검정 결과>\n",
      "t 통계량: 3.1068522301122954\n",
      "p-값: 0.006087373605949963\n",
      "두 그룹 간의 차이가 통계적으로 유의합니다 (p < 0.05).\n"
     ]
    }
   ],
   "source": [
    "print(\"<독립 표본 t-검정 결과>\")\n",
    "print(\"t 통계량:\", t_stat)\n",
    "print(\"p-값:\", p_value_t)\n",
    "if p_value_t < alpha:\n",
    "    print(\"두 그룹 간의 차이가 통계적으로 유의합니다 (p < 0.05).\")\n",
    "else:\n",
    "    print(\"두 그룹 간의 차이가 통계적으로 유의하지 않습니다 (p ≥ 0.05).\")"
   ]
  },
  {
   "cell_type": "code",
   "execution_count": 12,
   "id": "3ca3bf23-4acb-4a68-b9c1-01358af436a7",
   "metadata": {
    "papermill": {
     "duration": 0.446378,
     "end_time": "2023-11-03T19:30:03.631079",
     "exception": false,
     "start_time": "2023-11-03T19:30:03.184701",
     "status": "completed"
    },
    "tags": []
   },
   "outputs": [],
   "source": [
    "# ANOVA F-검정 실시 후 F통계량과 p-value\n",
    "f_stat, p_value_f = f_oneway(df['A'], df['B'])"
   ]
  },
  {
   "cell_type": "code",
   "execution_count": 15,
   "id": "93745220-cfa6-47f2-9dd9-4241162305b1",
   "metadata": {},
   "outputs": [
    {
     "name": "stdout",
     "output_type": "stream",
     "text": [
      "<ANOVA F-검정 결과>\n",
      "F 통계량: 9.652530779753763\n",
      "p-값: 0.006087373605949924\n",
      "두 그룹 간의 차이가 통계적으로 유의합니다 (p < 0.05).\n"
     ]
    }
   ],
   "source": [
    "print(\"<ANOVA F-검정 결과>\")\n",
    "print(\"F 통계량:\", f_stat)\n",
    "print(\"p-값:\", p_value_f)\n",
    "if p_value_f < alpha:\n",
    "    print(\"두 그룹 간의 차이가 통계적으로 유의합니다 (p < 0.05).\")\n",
    "else:\n",
    "    print(\"두 그룹 간의 차이가 통계적으로 유의하지 않습니다 (p ≥ 0.05).\")"
   ]
  },
  {
   "cell_type": "code",
   "execution_count": null,
   "id": "4eea6943-d1c7-434e-9a66-105446ea5d7a",
   "metadata": {},
   "outputs": [],
   "source": []
  }
 ],
 "metadata": {
  "kernelspec": {
   "display_name": "Python 3 (ipykernel)",
   "language": "python",
   "name": "python3"
  },
  "language_info": {
   "codemirror_mode": {
    "name": "ipython",
    "version": 3
   },
   "file_extension": ".py",
   "mimetype": "text/x-python",
   "name": "python",
   "nbconvert_exporter": "python",
   "pygments_lexer": "ipython3",
   "version": "3.7.15"
  },
  "papermill": {
   "default_parameters": {},
   "duration": 6.217318,
   "end_time": "2023-11-03T19:30:05.609264",
   "environment_variables": {},
   "exception": null,
   "input_path": "__notebook__.ipynb",
   "output_path": "__notebook__.ipynb",
   "parameters": {},
   "start_time": "2023-11-03T19:29:59.391946",
   "version": "2.4.0"
  }
 },
 "nbformat": 4,
 "nbformat_minor": 5
}
