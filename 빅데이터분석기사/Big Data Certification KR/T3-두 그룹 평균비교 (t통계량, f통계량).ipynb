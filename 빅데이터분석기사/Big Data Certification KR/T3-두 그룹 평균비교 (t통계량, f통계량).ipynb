{
 "cells": [
  {
   "cell_type": "markdown",
   "id": "b10fc7ce",
   "metadata": {
    "papermill": {
     "duration": 0.008374,
     "end_time": "2023-11-03T19:30:03.177495",
     "exception": false,
     "start_time": "2023-11-03T19:30:03.169121",
     "status": "completed"
    },
    "tags": []
   },
   "source": [
    "## 문제: 두 교육 방법의 효과 비교\n",
    "연구자는 두 가지 다른 교육 방법이 학생들의 성적에 미치는 영향을 비교하고자 합니다. 연구자는 무작위로 선발된 20명의 학생들을 두 그룹으로 나누어 한 그룹에는 교육 방법 A를, 다른 그룹에는 교육 방법 B를 적용합니다. 교육이 끝난 후, 두 그룹의 성적을 비교하기 위해 독립 표본 t-검정과 ANOVA F-검정을 실시하려고 합니다.\n",
    "\n",
    "다음은 두 그룹의 성적입니다:\n",
    "다음의 두 가지 검정을 사용하여 두 교육 방법 간의 성적 차이가 통계적으로 유의한지를 검증하세요\n",
    "\n",
    "1. 독립 표본 t-검정을 실시하여 t 통계량을 구하세요.\n",
    "2. 독립 표본 t-검정을 실시하여 p-값을 구하세요.\n",
    "3. ANOVA F-검정을 실시하여 F 통계량을 구하세요.\n",
    "4. ANOVA F-검정을 실시하여 p-값을 구하세요.\n"
   ]
  },
  {
   "cell_type": "code",
   "execution_count": 12,
   "id": "3508329c-4041-4d4d-a699-6adcc9a2a51e",
   "metadata": {
    "papermill": {
     "duration": 0.446378,
     "end_time": "2023-11-03T19:30:03.631079",
     "exception": false,
     "start_time": "2023-11-03T19:30:03.184701",
     "status": "completed"
    },
    "tags": []
   },
   "outputs": [],
   "source": [
    "import pandas as pd\n",
    "from scipy.stats import ttest_ind, f_oneway\n",
    "\n",
    "df = pd.DataFrame({\n",
    "    'A':[77, 75, 82, 80, 81, 83, 84, 76, 75, 87],\n",
    "    'B':[80, 74, 77, 79, 71, 74, 78, 69, 70, 72]})"
   ]
  },
  {
   "cell_type": "code",
   "execution_count": 13,
   "id": "c6860b56-34b2-4337-b56c-5c6554d3ded3",
   "metadata": {
    "papermill": {
     "duration": 0.446378,
     "end_time": "2023-11-03T19:30:03.631079",
     "exception": false,
     "start_time": "2023-11-03T19:30:03.184701",
     "status": "completed"
    },
    "tags": []
   },
   "outputs": [
    {
     "data": {
      "text/plain": [
       "Ttest_indResult(statistic=3.1068522301122954, pvalue=0.006087373605949963)"
      ]
     },
     "execution_count": 13,
     "metadata": {},
     "output_type": "execute_result"
    }
   ],
   "source": [
    "# 독립 표본 t-검정 실시 후 t 통계량과 p-value\n",
    "ttest_ind(df['A'], df['B'])"
   ]
  },
  {
   "cell_type": "code",
   "execution_count": 14,
   "id": "3ca3bf23-4acb-4a68-b9c1-01358af436a7",
   "metadata": {
    "papermill": {
     "duration": 0.446378,
     "end_time": "2023-11-03T19:30:03.631079",
     "exception": false,
     "start_time": "2023-11-03T19:30:03.184701",
     "status": "completed"
    },
    "tags": []
   },
   "outputs": [
    {
     "data": {
      "text/plain": [
       "F_onewayResult(statistic=9.652530779753763, pvalue=0.006087373605949924)"
      ]
     },
     "execution_count": 14,
     "metadata": {},
     "output_type": "execute_result"
    }
   ],
   "source": [
    "# ANOVA F-검정 실시 후 F통계량과 p-value\n",
    "f_oneway(df['A'], df['B'])"
   ]
  },
  {
   "cell_type": "code",
   "execution_count": null,
   "id": "93745220-cfa6-47f2-9dd9-4241162305b1",
   "metadata": {},
   "outputs": [],
   "source": []
  }
 ],
 "metadata": {
  "kernelspec": {
   "display_name": "Python 3 (ipykernel)",
   "language": "python",
   "name": "python3"
  },
  "language_info": {
   "codemirror_mode": {
    "name": "ipython",
    "version": 3
   },
   "file_extension": ".py",
   "mimetype": "text/x-python",
   "name": "python",
   "nbconvert_exporter": "python",
   "pygments_lexer": "ipython3",
   "version": "3.7.15"
  },
  "papermill": {
   "default_parameters": {},
   "duration": 6.217318,
   "end_time": "2023-11-03T19:30:05.609264",
   "environment_variables": {},
   "exception": null,
   "input_path": "__notebook__.ipynb",
   "output_path": "__notebook__.ipynb",
   "parameters": {},
   "start_time": "2023-11-03T19:29:59.391946",
   "version": "2.4.0"
  }
 },
 "nbformat": 4,
 "nbformat_minor": 5
}
