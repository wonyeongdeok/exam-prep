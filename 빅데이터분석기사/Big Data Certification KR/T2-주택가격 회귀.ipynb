{
 "cells": [
  {
   "cell_type": "markdown",
   "id": "227ca914",
   "metadata": {
    "papermill": {
     "duration": 0.006286,
     "end_time": "2024-05-29T04:35:53.202429",
     "exception": false,
     "start_time": "2024-05-29T04:35:53.196143",
     "status": "completed"
    },
    "tags": []
   },
   "source": [
    "# [회귀] 주택 가격 예측\n",
    "예측할 값(y): SalePrice<br>\n",
    "평가지표: RMSE<br>\n",
    "제출 형식\n",
    "```\n",
    "Id,SalePrice\n",
    "1461,169000.1\n",
    "1462,187724.1233\n",
    "1463,175221\n",
    "etc.\n",
    "```"
   ]
  },
  {
   "cell_type": "code",
   "execution_count": 1,
   "id": "5486d8aa",
   "metadata": {
    "_cell_guid": "b1076dfc-b9ad-4769-8c92-a6c4dae69d19",
    "_uuid": "8f2839f25d086af736a60e9eeb907d3b93b6e0e5",
    "execution": {
     "iopub.execute_input": "2024-05-29T04:35:53.215730Z",
     "iopub.status.busy": "2024-05-29T04:35:53.215235Z",
     "iopub.status.idle": "2024-05-29T04:35:55.943853Z",
     "shell.execute_reply": "2024-05-29T04:35:55.942567Z"
    },
    "papermill": {
     "duration": 2.73843,
     "end_time": "2024-05-29T04:35:55.946664",
     "exception": false,
     "start_time": "2024-05-29T04:35:53.208234",
     "status": "completed"
    },
    "tags": []
   },
   "outputs": [],
   "source": [
    "import pandas as pd\n",
    "import numpy as np\n",
    "from sklearn.model_selection import train_test_split\n",
    "from sklearn.ensemble import RandomForestRegressor\n",
    "from sklearn.metrics import mean_squared_error\n",
    "from sklearn.impute import SimpleImputer"
   ]
  },
  {
   "cell_type": "code",
   "execution_count": 2,
   "id": "def8e0d5",
   "metadata": {
    "_cell_guid": "b1076dfc-b9ad-4769-8c92-a6c4dae69d19",
    "_uuid": "8f2839f25d086af736a60e9eeb907d3b93b6e0e5",
    "execution": {
     "iopub.execute_input": "2024-05-29T04:35:55.959866Z",
     "iopub.status.busy": "2024-05-29T04:35:55.959261Z",
     "iopub.status.idle": "2024-05-29T04:35:56.025149Z",
     "shell.execute_reply": "2024-05-29T04:35:56.023865Z"
    },
    "papermill": {
     "duration": 0.07584,
     "end_time": "2024-05-29T04:35:56.028095",
     "exception": false,
     "start_time": "2024-05-29T04:35:55.952255",
     "status": "completed"
    },
    "tags": []
   },
   "outputs": [],
   "source": [
    "train = pd.read_csv(\"/kaggle/input/big-data-analytics-certification-kr-2024-3/train.csv\")\n",
    "test = pd.read_csv(\"/kaggle/input/big-data-analytics-certification-kr-2024-3/test.csv\")"
   ]
  },
  {
   "cell_type": "markdown",
   "id": "2bb36c41",
   "metadata": {
    "execution": {
     "iopub.execute_input": "2024-05-29T03:46:37.898497Z",
     "iopub.status.busy": "2024-05-29T03:46:37.898089Z",
     "iopub.status.idle": "2024-05-29T03:46:37.903978Z",
     "shell.execute_reply": "2024-05-29T03:46:37.902902Z",
     "shell.execute_reply.started": "2024-05-29T03:46:37.898468Z"
    },
    "papermill": {
     "duration": 0.005058,
     "end_time": "2024-05-29T04:35:56.038892",
     "exception": false,
     "start_time": "2024-05-29T04:35:56.033834",
     "status": "completed"
    },
    "tags": []
   },
   "source": [
    "# 전처리"
   ]
  },
  {
   "cell_type": "code",
   "execution_count": 3,
   "id": "4473d062",
   "metadata": {
    "execution": {
     "iopub.execute_input": "2024-05-29T04:35:56.051551Z",
     "iopub.status.busy": "2024-05-29T04:35:56.051131Z",
     "iopub.status.idle": "2024-05-29T04:35:56.058652Z",
     "shell.execute_reply": "2024-05-29T04:35:56.057428Z"
    },
    "papermill": {
     "duration": 0.016981,
     "end_time": "2024-05-29T04:35:56.061214",
     "exception": false,
     "start_time": "2024-05-29T04:35:56.044233",
     "status": "completed"
    },
    "tags": []
   },
   "outputs": [],
   "source": [
    "# 범주형 데이터 제외\n",
    "train = train.select_dtypes(exclude=['object'])\n",
    "test = test.select_dtypes(exclude=['object'])"
   ]
  },
  {
   "cell_type": "code",
   "execution_count": 4,
   "id": "fecfef7a",
   "metadata": {
    "execution": {
     "iopub.execute_input": "2024-05-29T04:35:56.074090Z",
     "iopub.status.busy": "2024-05-29T04:35:56.073677Z",
     "iopub.status.idle": "2024-05-29T04:35:56.092798Z",
     "shell.execute_reply": "2024-05-29T04:35:56.091644Z"
    },
    "papermill": {
     "duration": 0.029058,
     "end_time": "2024-05-29T04:35:56.095769",
     "exception": false,
     "start_time": "2024-05-29T04:35:56.066711",
     "status": "completed"
    },
    "tags": []
   },
   "outputs": [],
   "source": [
    "# 데이터 분리\n",
    "X = train.drop(['Id', 'SalePrice'], axis=1)\n",
    "y = train['SalePrice']\n",
    "test_id = test.pop('Id')"
   ]
  },
  {
   "cell_type": "code",
   "execution_count": 5,
   "id": "86d9f03a",
   "metadata": {
    "execution": {
     "iopub.execute_input": "2024-05-29T04:35:56.108764Z",
     "iopub.status.busy": "2024-05-29T04:35:56.108287Z",
     "iopub.status.idle": "2024-05-29T04:35:56.128970Z",
     "shell.execute_reply": "2024-05-29T04:35:56.127761Z"
    },
    "papermill": {
     "duration": 0.030606,
     "end_time": "2024-05-29T04:35:56.131953",
     "exception": false,
     "start_time": "2024-05-29T04:35:56.101347",
     "status": "completed"
    },
    "tags": []
   },
   "outputs": [],
   "source": [
    "# 결측치 채우기\n",
    "imp = SimpleImputer()\n",
    "X = imp.fit_transform(X)\n",
    "test = imp.transform(test)"
   ]
  },
  {
   "cell_type": "code",
   "execution_count": 6,
   "id": "5fefdf60",
   "metadata": {
    "execution": {
     "iopub.execute_input": "2024-05-29T04:35:56.144939Z",
     "iopub.status.busy": "2024-05-29T04:35:56.144509Z",
     "iopub.status.idle": "2024-05-29T04:35:56.153459Z",
     "shell.execute_reply": "2024-05-29T04:35:56.152236Z"
    },
    "papermill": {
     "duration": 0.018709,
     "end_time": "2024-05-29T04:35:56.156188",
     "exception": false,
     "start_time": "2024-05-29T04:35:56.137479",
     "status": "completed"
    },
    "tags": []
   },
   "outputs": [],
   "source": [
    "X_train, X_val, y_train, y_val = train_test_split(X, y, test_size=0.1)"
   ]
  },
  {
   "cell_type": "code",
   "execution_count": 7,
   "id": "6a9a9b5a",
   "metadata": {
    "execution": {
     "iopub.execute_input": "2024-05-29T04:35:56.169279Z",
     "iopub.status.busy": "2024-05-29T04:35:56.168490Z",
     "iopub.status.idle": "2024-05-29T04:35:56.173710Z",
     "shell.execute_reply": "2024-05-29T04:35:56.172470Z"
    },
    "papermill": {
     "duration": 0.014206,
     "end_time": "2024-05-29T04:35:56.176157",
     "exception": false,
     "start_time": "2024-05-29T04:35:56.161951",
     "status": "completed"
    },
    "tags": []
   },
   "outputs": [],
   "source": [
    "model = RandomForestRegressor()"
   ]
  },
  {
   "cell_type": "code",
   "execution_count": 8,
   "id": "3dac0226",
   "metadata": {
    "execution": {
     "iopub.execute_input": "2024-05-29T04:35:56.188506Z",
     "iopub.status.busy": "2024-05-29T04:35:56.188145Z",
     "iopub.status.idle": "2024-05-29T04:35:57.501019Z",
     "shell.execute_reply": "2024-05-29T04:35:57.499910Z"
    },
    "papermill": {
     "duration": 1.322929,
     "end_time": "2024-05-29T04:35:57.504445",
     "exception": false,
     "start_time": "2024-05-29T04:35:56.181516",
     "status": "completed"
    },
    "tags": []
   },
   "outputs": [
    {
     "data": {
      "text/html": [
       "<style>#sk-container-id-1 {color: black;background-color: white;}#sk-container-id-1 pre{padding: 0;}#sk-container-id-1 div.sk-toggleable {background-color: white;}#sk-container-id-1 label.sk-toggleable__label {cursor: pointer;display: block;width: 100%;margin-bottom: 0;padding: 0.3em;box-sizing: border-box;text-align: center;}#sk-container-id-1 label.sk-toggleable__label-arrow:before {content: \"▸\";float: left;margin-right: 0.25em;color: #696969;}#sk-container-id-1 label.sk-toggleable__label-arrow:hover:before {color: black;}#sk-container-id-1 div.sk-estimator:hover label.sk-toggleable__label-arrow:before {color: black;}#sk-container-id-1 div.sk-toggleable__content {max-height: 0;max-width: 0;overflow: hidden;text-align: left;background-color: #f0f8ff;}#sk-container-id-1 div.sk-toggleable__content pre {margin: 0.2em;color: black;border-radius: 0.25em;background-color: #f0f8ff;}#sk-container-id-1 input.sk-toggleable__control:checked~div.sk-toggleable__content {max-height: 200px;max-width: 100%;overflow: auto;}#sk-container-id-1 input.sk-toggleable__control:checked~label.sk-toggleable__label-arrow:before {content: \"▾\";}#sk-container-id-1 div.sk-estimator input.sk-toggleable__control:checked~label.sk-toggleable__label {background-color: #d4ebff;}#sk-container-id-1 div.sk-label input.sk-toggleable__control:checked~label.sk-toggleable__label {background-color: #d4ebff;}#sk-container-id-1 input.sk-hidden--visually {border: 0;clip: rect(1px 1px 1px 1px);clip: rect(1px, 1px, 1px, 1px);height: 1px;margin: -1px;overflow: hidden;padding: 0;position: absolute;width: 1px;}#sk-container-id-1 div.sk-estimator {font-family: monospace;background-color: #f0f8ff;border: 1px dotted black;border-radius: 0.25em;box-sizing: border-box;margin-bottom: 0.5em;}#sk-container-id-1 div.sk-estimator:hover {background-color: #d4ebff;}#sk-container-id-1 div.sk-parallel-item::after {content: \"\";width: 100%;border-bottom: 1px solid gray;flex-grow: 1;}#sk-container-id-1 div.sk-label:hover label.sk-toggleable__label {background-color: #d4ebff;}#sk-container-id-1 div.sk-serial::before {content: \"\";position: absolute;border-left: 1px solid gray;box-sizing: border-box;top: 0;bottom: 0;left: 50%;z-index: 0;}#sk-container-id-1 div.sk-serial {display: flex;flex-direction: column;align-items: center;background-color: white;padding-right: 0.2em;padding-left: 0.2em;position: relative;}#sk-container-id-1 div.sk-item {position: relative;z-index: 1;}#sk-container-id-1 div.sk-parallel {display: flex;align-items: stretch;justify-content: center;background-color: white;position: relative;}#sk-container-id-1 div.sk-item::before, #sk-container-id-1 div.sk-parallel-item::before {content: \"\";position: absolute;border-left: 1px solid gray;box-sizing: border-box;top: 0;bottom: 0;left: 50%;z-index: -1;}#sk-container-id-1 div.sk-parallel-item {display: flex;flex-direction: column;z-index: 1;position: relative;background-color: white;}#sk-container-id-1 div.sk-parallel-item:first-child::after {align-self: flex-end;width: 50%;}#sk-container-id-1 div.sk-parallel-item:last-child::after {align-self: flex-start;width: 50%;}#sk-container-id-1 div.sk-parallel-item:only-child::after {width: 0;}#sk-container-id-1 div.sk-dashed-wrapped {border: 1px dashed gray;margin: 0 0.4em 0.5em 0.4em;box-sizing: border-box;padding-bottom: 0.4em;background-color: white;}#sk-container-id-1 div.sk-label label {font-family: monospace;font-weight: bold;display: inline-block;line-height: 1.2em;}#sk-container-id-1 div.sk-label-container {text-align: center;}#sk-container-id-1 div.sk-container {/* jupyter's `normalize.less` sets `[hidden] { display: none; }` but bootstrap.min.css set `[hidden] { display: none !important; }` so we also need the `!important` here to be able to override the default hidden behavior on the sphinx rendered scikit-learn.org. See: https://github.com/scikit-learn/scikit-learn/issues/21755 */display: inline-block !important;position: relative;}#sk-container-id-1 div.sk-text-repr-fallback {display: none;}</style><div id=\"sk-container-id-1\" class=\"sk-top-container\"><div class=\"sk-text-repr-fallback\"><pre>RandomForestRegressor()</pre><b>In a Jupyter environment, please rerun this cell to show the HTML representation or trust the notebook. <br />On GitHub, the HTML representation is unable to render, please try loading this page with nbviewer.org.</b></div><div class=\"sk-container\" hidden><div class=\"sk-item\"><div class=\"sk-estimator sk-toggleable\"><input class=\"sk-toggleable__control sk-hidden--visually\" id=\"sk-estimator-id-1\" type=\"checkbox\" checked><label for=\"sk-estimator-id-1\" class=\"sk-toggleable__label sk-toggleable__label-arrow\">RandomForestRegressor</label><div class=\"sk-toggleable__content\"><pre>RandomForestRegressor()</pre></div></div></div></div></div>"
      ],
      "text/plain": [
       "RandomForestRegressor()"
      ]
     },
     "execution_count": 8,
     "metadata": {},
     "output_type": "execute_result"
    }
   ],
   "source": [
    "model.fit(X_train, y_train)"
   ]
  },
  {
   "cell_type": "code",
   "execution_count": 9,
   "id": "0a791c0b",
   "metadata": {
    "execution": {
     "iopub.execute_input": "2024-05-29T04:35:57.518404Z",
     "iopub.status.busy": "2024-05-29T04:35:57.518016Z",
     "iopub.status.idle": "2024-05-29T04:35:57.535173Z",
     "shell.execute_reply": "2024-05-29T04:35:57.533851Z"
    },
    "papermill": {
     "duration": 0.027063,
     "end_time": "2024-05-29T04:35:57.537841",
     "exception": false,
     "start_time": "2024-05-29T04:35:57.510778",
     "status": "completed"
    },
    "tags": []
   },
   "outputs": [
    {
     "name": "stdout",
     "output_type": "stream",
     "text": [
      "RMSE : 21749.262825912323\n"
     ]
    }
   ],
   "source": [
    "# 검증 데이터 추론\n",
    "preds = model.predict(X_val)\n",
    "mse = mean_squared_error(y_val, preds)\n",
    "rmse = np.sqrt(mse)\n",
    "print('RMSE :', rmse)"
   ]
  },
  {
   "cell_type": "code",
   "execution_count": 10,
   "id": "9e3e5ca3",
   "metadata": {
    "execution": {
     "iopub.execute_input": "2024-05-29T04:35:57.551415Z",
     "iopub.status.busy": "2024-05-29T04:35:57.550964Z",
     "iopub.status.idle": "2024-05-29T04:35:57.569612Z",
     "shell.execute_reply": "2024-05-29T04:35:57.568469Z"
    },
    "papermill": {
     "duration": 0.02881,
     "end_time": "2024-05-29T04:35:57.572610",
     "exception": false,
     "start_time": "2024-05-29T04:35:57.543800",
     "status": "completed"
    },
    "tags": []
   },
   "outputs": [],
   "source": [
    "# test 데이터 추론\n",
    "preds = model.predict(test)"
   ]
  },
  {
   "cell_type": "code",
   "execution_count": 11,
   "id": "e89a9b6c",
   "metadata": {
    "execution": {
     "iopub.execute_input": "2024-05-29T04:35:57.586807Z",
     "iopub.status.busy": "2024-05-29T04:35:57.586173Z",
     "iopub.status.idle": "2024-05-29T04:35:57.604678Z",
     "shell.execute_reply": "2024-05-29T04:35:57.603357Z"
    },
    "papermill": {
     "duration": 0.028966,
     "end_time": "2024-05-29T04:35:57.607449",
     "exception": false,
     "start_time": "2024-05-29T04:35:57.578483",
     "status": "completed"
    },
    "tags": []
   },
   "outputs": [
    {
     "data": {
      "text/html": [
       "<div>\n",
       "<style scoped>\n",
       "    .dataframe tbody tr th:only-of-type {\n",
       "        vertical-align: middle;\n",
       "    }\n",
       "\n",
       "    .dataframe tbody tr th {\n",
       "        vertical-align: top;\n",
       "    }\n",
       "\n",
       "    .dataframe thead th {\n",
       "        text-align: right;\n",
       "    }\n",
       "</style>\n",
       "<table border=\"1\" class=\"dataframe\">\n",
       "  <thead>\n",
       "    <tr style=\"text-align: right;\">\n",
       "      <th></th>\n",
       "      <th>Id</th>\n",
       "      <th>SalePrice</th>\n",
       "    </tr>\n",
       "  </thead>\n",
       "  <tbody>\n",
       "    <tr>\n",
       "      <th>0</th>\n",
       "      <td>86</td>\n",
       "      <td>280658.03</td>\n",
       "    </tr>\n",
       "    <tr>\n",
       "      <th>1</th>\n",
       "      <td>227</td>\n",
       "      <td>271934.10</td>\n",
       "    </tr>\n",
       "  </tbody>\n",
       "</table>\n",
       "</div>"
      ],
      "text/plain": [
       "    Id  SalePrice\n",
       "0   86  280658.03\n",
       "1  227  271934.10"
      ]
     },
     "execution_count": 11,
     "metadata": {},
     "output_type": "execute_result"
    }
   ],
   "source": [
    "submission = pd.DataFrame(data={'Id': test_id,\n",
    "                                'SalePrice': preds})\n",
    "submission.head(2)"
   ]
  },
  {
   "cell_type": "code",
   "execution_count": 12,
   "id": "b5de7eaa",
   "metadata": {
    "execution": {
     "iopub.execute_input": "2024-05-29T04:35:57.622205Z",
     "iopub.status.busy": "2024-05-29T04:35:57.621672Z",
     "iopub.status.idle": "2024-05-29T04:35:57.631025Z",
     "shell.execute_reply": "2024-05-29T04:35:57.630034Z"
    },
    "papermill": {
     "duration": 0.019476,
     "end_time": "2024-05-29T04:35:57.633715",
     "exception": false,
     "start_time": "2024-05-29T04:35:57.614239",
     "status": "completed"
    },
    "tags": []
   },
   "outputs": [],
   "source": [
    "submission.to_csv('submission.csv', index=False)"
   ]
  }
 ],
 "metadata": {
  "kaggle": {
   "accelerator": "none",
   "dataSources": [
    {
     "databundleVersionId": 8679044,
     "sourceId": 80704,
     "sourceType": "competition"
    }
   ],
   "dockerImageVersionId": 30698,
   "isGpuEnabled": false,
   "isInternetEnabled": true,
   "language": "python",
   "sourceType": "notebook"
  },
  "kernelspec": {
   "display_name": "Python 3",
   "language": "python",
   "name": "python3"
  },
  "language_info": {
   "codemirror_mode": {
    "name": "ipython",
    "version": 3
   },
   "file_extension": ".py",
   "mimetype": "text/x-python",
   "name": "python",
   "nbconvert_exporter": "python",
   "pygments_lexer": "ipython3",
   "version": "3.10.13"
  },
  "papermill": {
   "default_parameters": {},
   "duration": 8.186881,
   "end_time": "2024-05-29T04:35:58.261785",
   "environment_variables": {},
   "exception": null,
   "input_path": "__notebook__.ipynb",
   "output_path": "__notebook__.ipynb",
   "parameters": {},
   "start_time": "2024-05-29T04:35:50.074904",
   "version": "2.5.0"
  }
 },
 "nbformat": 4,
 "nbformat_minor": 5
}
