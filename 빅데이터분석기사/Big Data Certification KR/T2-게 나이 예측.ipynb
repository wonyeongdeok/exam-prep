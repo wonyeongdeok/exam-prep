{
 "cells": [
  {
   "cell_type": "code",
   "execution_count": 1,
   "id": "ef931de0",
   "metadata": {
    "_cell_guid": "b1076dfc-b9ad-4769-8c92-a6c4dae69d19",
    "_uuid": "8f2839f25d086af736a60e9eeb907d3b93b6e0e5",
    "execution": {
     "iopub.execute_input": "2024-06-06T14:20:43.732826Z",
     "iopub.status.busy": "2024-06-06T14:20:43.732391Z",
     "iopub.status.idle": "2024-06-06T14:20:46.561264Z",
     "shell.execute_reply": "2024-06-06T14:20:46.559888Z"
    },
    "papermill": {
     "duration": 2.840153,
     "end_time": "2024-06-06T14:20:46.564445",
     "exception": false,
     "start_time": "2024-06-06T14:20:43.724292",
     "status": "completed"
    },
    "tags": []
   },
   "outputs": [],
   "source": [
    "import pandas as pd\n",
    "from sklearn.model_selection import train_test_split\n",
    "from sklearn.ensemble import RandomForestRegressor\n",
    "from sklearn.metrics import mean_squared_error\n",
    "from sklearn.preprocessing import StandardScaler, MinMaxScaler, RobustScaler"
   ]
  },
  {
   "cell_type": "code",
   "execution_count": 2,
   "id": "b4efc2d5",
   "metadata": {
    "_cell_guid": "b1076dfc-b9ad-4769-8c92-a6c4dae69d19",
    "_uuid": "8f2839f25d086af736a60e9eeb907d3b93b6e0e5",
    "execution": {
     "iopub.execute_input": "2024-06-06T14:20:46.577731Z",
     "iopub.status.busy": "2024-06-06T14:20:46.577184Z",
     "iopub.status.idle": "2024-06-06T14:20:46.654958Z",
     "shell.execute_reply": "2024-06-06T14:20:46.653825Z"
    },
    "papermill": {
     "duration": 0.087681,
     "end_time": "2024-06-06T14:20:46.657967",
     "exception": false,
     "start_time": "2024-06-06T14:20:46.570286",
     "status": "completed"
    },
    "tags": []
   },
   "outputs": [],
   "source": [
    "train = pd.read_csv('/kaggle/input/2024-4-big-data-analytics-certification-kr/train.csv')\n",
    "test = pd.read_csv('/kaggle/input/2024-4-big-data-analytics-certification-kr/test.csv')"
   ]
  },
  {
   "cell_type": "code",
   "execution_count": 3,
   "id": "919393bd",
   "metadata": {
    "execution": {
     "iopub.execute_input": "2024-06-06T14:20:46.671512Z",
     "iopub.status.busy": "2024-06-06T14:20:46.671066Z",
     "iopub.status.idle": "2024-06-06T14:20:46.707943Z",
     "shell.execute_reply": "2024-06-06T14:20:46.706519Z"
    },
    "papermill": {
     "duration": 0.047542,
     "end_time": "2024-06-06T14:20:46.711383",
     "exception": false,
     "start_time": "2024-06-06T14:20:46.663841",
     "status": "completed"
    },
    "tags": []
   },
   "outputs": [
    {
     "name": "stdout",
     "output_type": "stream",
     "text": [
      "<class 'pandas.core.frame.DataFrame'>\n",
      "RangeIndex: 15000 entries, 0 to 14999\n",
      "Data columns (total 10 columns):\n",
      " #   Column          Non-Null Count  Dtype  \n",
      "---  ------          --------------  -----  \n",
      " 0   id              15000 non-null  int64  \n",
      " 1   Sex             15000 non-null  object \n",
      " 2   Length          15000 non-null  float64\n",
      " 3   Diameter        15000 non-null  float64\n",
      " 4   Height          15000 non-null  float64\n",
      " 5   Weight          15000 non-null  float64\n",
      " 6   Shucked Weight  15000 non-null  float64\n",
      " 7   Viscera Weight  15000 non-null  float64\n",
      " 8   Shell Weight    15000 non-null  float64\n",
      " 9   Age             15000 non-null  float64\n",
      "dtypes: float64(8), int64(1), object(1)\n",
      "memory usage: 1.1+ MB\n"
     ]
    }
   ],
   "source": [
    "train.info()"
   ]
  },
  {
   "cell_type": "code",
   "execution_count": 4,
   "id": "82e90bdc",
   "metadata": {
    "execution": {
     "iopub.execute_input": "2024-06-06T14:20:46.724746Z",
     "iopub.status.busy": "2024-06-06T14:20:46.724313Z",
     "iopub.status.idle": "2024-06-06T14:20:46.738932Z",
     "shell.execute_reply": "2024-06-06T14:20:46.737362Z"
    },
    "papermill": {
     "duration": 0.03411,
     "end_time": "2024-06-06T14:20:46.751371",
     "exception": false,
     "start_time": "2024-06-06T14:20:46.717261",
     "status": "completed"
    },
    "tags": []
   },
   "outputs": [
    {
     "name": "stdout",
     "output_type": "stream",
     "text": [
      "<class 'pandas.core.frame.DataFrame'>\n",
      "RangeIndex: 10000 entries, 0 to 9999\n",
      "Data columns (total 9 columns):\n",
      " #   Column          Non-Null Count  Dtype  \n",
      "---  ------          --------------  -----  \n",
      " 0   id              10000 non-null  int64  \n",
      " 1   Sex             10000 non-null  object \n",
      " 2   Length          10000 non-null  float64\n",
      " 3   Diameter        10000 non-null  float64\n",
      " 4   Height          10000 non-null  float64\n",
      " 5   Weight          10000 non-null  float64\n",
      " 6   Shucked Weight  10000 non-null  float64\n",
      " 7   Viscera Weight  10000 non-null  float64\n",
      " 8   Shell Weight    10000 non-null  float64\n",
      "dtypes: float64(7), int64(1), object(1)\n",
      "memory usage: 703.2+ KB\n"
     ]
    }
   ],
   "source": [
    "test.info()"
   ]
  },
  {
   "cell_type": "code",
   "execution_count": 5,
   "id": "b260bb1a",
   "metadata": {
    "execution": {
     "iopub.execute_input": "2024-06-06T14:20:46.765349Z",
     "iopub.status.busy": "2024-06-06T14:20:46.764818Z",
     "iopub.status.idle": "2024-06-06T14:20:46.796382Z",
     "shell.execute_reply": "2024-06-06T14:20:46.795030Z"
    },
    "papermill": {
     "duration": 0.041608,
     "end_time": "2024-06-06T14:20:46.799167",
     "exception": false,
     "start_time": "2024-06-06T14:20:46.757559",
     "status": "completed"
    },
    "tags": []
   },
   "outputs": [
    {
     "data": {
      "text/html": [
       "<div>\n",
       "<style scoped>\n",
       "    .dataframe tbody tr th:only-of-type {\n",
       "        vertical-align: middle;\n",
       "    }\n",
       "\n",
       "    .dataframe tbody tr th {\n",
       "        vertical-align: top;\n",
       "    }\n",
       "\n",
       "    .dataframe thead th {\n",
       "        text-align: right;\n",
       "    }\n",
       "</style>\n",
       "<table border=\"1\" class=\"dataframe\">\n",
       "  <thead>\n",
       "    <tr style=\"text-align: right;\">\n",
       "      <th></th>\n",
       "      <th>id</th>\n",
       "      <th>Sex</th>\n",
       "      <th>Length</th>\n",
       "      <th>Diameter</th>\n",
       "      <th>Height</th>\n",
       "      <th>Weight</th>\n",
       "      <th>Shucked Weight</th>\n",
       "      <th>Viscera Weight</th>\n",
       "      <th>Shell Weight</th>\n",
       "      <th>Age</th>\n",
       "    </tr>\n",
       "  </thead>\n",
       "  <tbody>\n",
       "    <tr>\n",
       "      <th>0</th>\n",
       "      <td>0</td>\n",
       "      <td>F</td>\n",
       "      <td>1.3750</td>\n",
       "      <td>1.05</td>\n",
       "      <td>0.2875</td>\n",
       "      <td>20.879407</td>\n",
       "      <td>9.823102</td>\n",
       "      <td>4.819415</td>\n",
       "      <td>5.102910</td>\n",
       "      <td>9.0</td>\n",
       "    </tr>\n",
       "    <tr>\n",
       "      <th>1</th>\n",
       "      <td>1</td>\n",
       "      <td>M</td>\n",
       "      <td>1.2375</td>\n",
       "      <td>0.95</td>\n",
       "      <td>0.3125</td>\n",
       "      <td>16.839603</td>\n",
       "      <td>7.540967</td>\n",
       "      <td>3.713785</td>\n",
       "      <td>4.394172</td>\n",
       "      <td>10.0</td>\n",
       "    </tr>\n",
       "  </tbody>\n",
       "</table>\n",
       "</div>"
      ],
      "text/plain": [
       "   id Sex  Length  Diameter  Height     Weight  Shucked Weight  \\\n",
       "0   0   F  1.3750      1.05  0.2875  20.879407        9.823102   \n",
       "1   1   M  1.2375      0.95  0.3125  16.839603        7.540967   \n",
       "\n",
       "   Viscera Weight  Shell Weight   Age  \n",
       "0        4.819415      5.102910   9.0  \n",
       "1        3.713785      4.394172  10.0  "
      ]
     },
     "execution_count": 5,
     "metadata": {},
     "output_type": "execute_result"
    }
   ],
   "source": [
    "train.head(2)"
   ]
  },
  {
   "cell_type": "code",
   "execution_count": 6,
   "id": "740f3aa4",
   "metadata": {
    "execution": {
     "iopub.execute_input": "2024-06-06T14:20:46.812801Z",
     "iopub.status.busy": "2024-06-06T14:20:46.812383Z",
     "iopub.status.idle": "2024-06-06T14:20:46.827754Z",
     "shell.execute_reply": "2024-06-06T14:20:46.826627Z"
    },
    "papermill": {
     "duration": 0.025196,
     "end_time": "2024-06-06T14:20:46.830138",
     "exception": false,
     "start_time": "2024-06-06T14:20:46.804942",
     "status": "completed"
    },
    "tags": []
   },
   "outputs": [
    {
     "data": {
      "text/html": [
       "<div>\n",
       "<style scoped>\n",
       "    .dataframe tbody tr th:only-of-type {\n",
       "        vertical-align: middle;\n",
       "    }\n",
       "\n",
       "    .dataframe tbody tr th {\n",
       "        vertical-align: top;\n",
       "    }\n",
       "\n",
       "    .dataframe thead th {\n",
       "        text-align: right;\n",
       "    }\n",
       "</style>\n",
       "<table border=\"1\" class=\"dataframe\">\n",
       "  <thead>\n",
       "    <tr style=\"text-align: right;\">\n",
       "      <th></th>\n",
       "      <th>id</th>\n",
       "      <th>Sex</th>\n",
       "      <th>Length</th>\n",
       "      <th>Diameter</th>\n",
       "      <th>Height</th>\n",
       "      <th>Weight</th>\n",
       "      <th>Shucked Weight</th>\n",
       "      <th>Viscera Weight</th>\n",
       "      <th>Shell Weight</th>\n",
       "    </tr>\n",
       "  </thead>\n",
       "  <tbody>\n",
       "    <tr>\n",
       "      <th>0</th>\n",
       "      <td>15000</td>\n",
       "      <td>I</td>\n",
       "      <td>1.325</td>\n",
       "      <td>1.0625</td>\n",
       "      <td>0.375</td>\n",
       "      <td>21.970862</td>\n",
       "      <td>10.602713</td>\n",
       "      <td>4.562909</td>\n",
       "      <td>5.244657</td>\n",
       "    </tr>\n",
       "    <tr>\n",
       "      <th>1</th>\n",
       "      <td>15001</td>\n",
       "      <td>M</td>\n",
       "      <td>0.925</td>\n",
       "      <td>0.7125</td>\n",
       "      <td>0.250</td>\n",
       "      <td>7.555142</td>\n",
       "      <td>2.721552</td>\n",
       "      <td>1.502523</td>\n",
       "      <td>2.126212</td>\n",
       "    </tr>\n",
       "  </tbody>\n",
       "</table>\n",
       "</div>"
      ],
      "text/plain": [
       "      id Sex  Length  Diameter  Height     Weight  Shucked Weight  \\\n",
       "0  15000   I   1.325    1.0625   0.375  21.970862       10.602713   \n",
       "1  15001   M   0.925    0.7125   0.250   7.555142        2.721552   \n",
       "\n",
       "   Viscera Weight  Shell Weight  \n",
       "0        4.562909      5.244657  \n",
       "1        1.502523      2.126212  "
      ]
     },
     "execution_count": 6,
     "metadata": {},
     "output_type": "execute_result"
    }
   ],
   "source": [
    "test.head(2)"
   ]
  },
  {
   "cell_type": "code",
   "execution_count": 7,
   "id": "be89bc18",
   "metadata": {
    "execution": {
     "iopub.execute_input": "2024-06-06T14:20:46.844896Z",
     "iopub.status.busy": "2024-06-06T14:20:46.843580Z",
     "iopub.status.idle": "2024-06-06T14:20:46.865454Z",
     "shell.execute_reply": "2024-06-06T14:20:46.863969Z"
    },
    "papermill": {
     "duration": 0.032493,
     "end_time": "2024-06-06T14:20:46.868430",
     "exception": false,
     "start_time": "2024-06-06T14:20:46.835937",
     "status": "completed"
    },
    "tags": []
   },
   "outputs": [],
   "source": [
    "#성별 컬럼 원-핫 인코딩\n",
    "train = pd.get_dummies(train, columns=['Sex'])\n",
    "test = pd.get_dummies(test, columns=['Sex'])"
   ]
  },
  {
   "cell_type": "code",
   "execution_count": 8,
   "id": "b5fbd4b5",
   "metadata": {
    "execution": {
     "iopub.execute_input": "2024-06-06T14:20:46.882139Z",
     "iopub.status.busy": "2024-06-06T14:20:46.881664Z",
     "iopub.status.idle": "2024-06-06T14:20:46.896265Z",
     "shell.execute_reply": "2024-06-06T14:20:46.894910Z"
    },
    "papermill": {
     "duration": 0.025051,
     "end_time": "2024-06-06T14:20:46.899399",
     "exception": false,
     "start_time": "2024-06-06T14:20:46.874348",
     "status": "completed"
    },
    "tags": []
   },
   "outputs": [
    {
     "name": "stdout",
     "output_type": "stream",
     "text": [
      "<class 'pandas.core.frame.DataFrame'>\n",
      "RangeIndex: 15000 entries, 0 to 14999\n",
      "Data columns (total 12 columns):\n",
      " #   Column          Non-Null Count  Dtype  \n",
      "---  ------          --------------  -----  \n",
      " 0   id              15000 non-null  int64  \n",
      " 1   Length          15000 non-null  float64\n",
      " 2   Diameter        15000 non-null  float64\n",
      " 3   Height          15000 non-null  float64\n",
      " 4   Weight          15000 non-null  float64\n",
      " 5   Shucked Weight  15000 non-null  float64\n",
      " 6   Viscera Weight  15000 non-null  float64\n",
      " 7   Shell Weight    15000 non-null  float64\n",
      " 8   Age             15000 non-null  float64\n",
      " 9   Sex_F           15000 non-null  bool   \n",
      " 10  Sex_I           15000 non-null  bool   \n",
      " 11  Sex_M           15000 non-null  bool   \n",
      "dtypes: bool(3), float64(8), int64(1)\n",
      "memory usage: 1.1 MB\n"
     ]
    }
   ],
   "source": [
    "train.info()"
   ]
  },
  {
   "cell_type": "code",
   "execution_count": 9,
   "id": "31d77146",
   "metadata": {
    "execution": {
     "iopub.execute_input": "2024-06-06T14:20:46.914667Z",
     "iopub.status.busy": "2024-06-06T14:20:46.913235Z",
     "iopub.status.idle": "2024-06-06T14:20:46.922050Z",
     "shell.execute_reply": "2024-06-06T14:20:46.920778Z"
    },
    "papermill": {
     "duration": 0.019431,
     "end_time": "2024-06-06T14:20:46.925154",
     "exception": false,
     "start_time": "2024-06-06T14:20:46.905723",
     "status": "completed"
    },
    "tags": []
   },
   "outputs": [],
   "source": [
    "# train ID 컬럼 제외, test ID 컬럼 보관\n",
    "train = train.drop(['id'], axis=1)\n",
    "test_id = test.pop('id')"
   ]
  },
  {
   "cell_type": "code",
   "execution_count": 10,
   "id": "9eb587a1",
   "metadata": {
    "execution": {
     "iopub.execute_input": "2024-06-06T14:20:46.941292Z",
     "iopub.status.busy": "2024-06-06T14:20:46.940228Z",
     "iopub.status.idle": "2024-06-06T14:20:46.948221Z",
     "shell.execute_reply": "2024-06-06T14:20:46.946611Z"
    },
    "papermill": {
     "duration": 0.019781,
     "end_time": "2024-06-06T14:20:46.950889",
     "exception": false,
     "start_time": "2024-06-06T14:20:46.931108",
     "status": "completed"
    },
    "tags": []
   },
   "outputs": [],
   "source": [
    "# 학습 데이터 X, y 분리\n",
    "X = train.drop(['Age'], axis=1)\n",
    "y = train['Age']"
   ]
  },
  {
   "cell_type": "code",
   "execution_count": 11,
   "id": "36d95dae",
   "metadata": {
    "execution": {
     "iopub.execute_input": "2024-06-06T14:20:46.965753Z",
     "iopub.status.busy": "2024-06-06T14:20:46.964582Z",
     "iopub.status.idle": "2024-06-06T14:20:46.999204Z",
     "shell.execute_reply": "2024-06-06T14:20:46.997580Z"
    },
    "papermill": {
     "duration": 0.045223,
     "end_time": "2024-06-06T14:20:47.002078",
     "exception": false,
     "start_time": "2024-06-06T14:20:46.956855",
     "status": "completed"
    },
    "tags": []
   },
   "outputs": [],
   "source": [
    "# 스케일링\n",
    "# StandardScaler : 데이터의 평균을 0, 분산을 1로 조정합니다. 데이터가 정규 분포를 따를 때 적합\n",
    "# MinMaxScaler : 데이터의 최소값을 0, 최대값을 1로 조정합니다. 데이터가 특정 범위 내에 있어야 할 때 적합\n",
    "# RobustScaler : 중앙값과 IQR을 사용하여 데이터를 스케일링합니다. 이상치에 민감한 데이터를 처리할 때 적합\n",
    "scaler = MinMaxScaler()\n",
    "X = scaler.fit_transform(X)\n",
    "test = scaler.transform(test)"
   ]
  },
  {
   "cell_type": "code",
   "execution_count": 12,
   "id": "59224a9c",
   "metadata": {
    "execution": {
     "iopub.execute_input": "2024-06-06T14:20:47.016879Z",
     "iopub.status.busy": "2024-06-06T14:20:47.016389Z",
     "iopub.status.idle": "2024-06-06T14:20:47.028425Z",
     "shell.execute_reply": "2024-06-06T14:20:47.027231Z"
    },
    "papermill": {
     "duration": 0.022537,
     "end_time": "2024-06-06T14:20:47.031349",
     "exception": false,
     "start_time": "2024-06-06T14:20:47.008812",
     "status": "completed"
    },
    "tags": []
   },
   "outputs": [],
   "source": [
    "random_state = 42\n",
    "X_train, X_val, y_train, y_val = train_test_split(X, y, test_size=0.2, shuffle=True, random_state=random_state)"
   ]
  },
  {
   "cell_type": "code",
   "execution_count": 13,
   "id": "87a0dd9b",
   "metadata": {
    "execution": {
     "iopub.execute_input": "2024-06-06T14:20:47.046222Z",
     "iopub.status.busy": "2024-06-06T14:20:47.045735Z",
     "iopub.status.idle": "2024-06-06T14:20:47.051433Z",
     "shell.execute_reply": "2024-06-06T14:20:47.050179Z"
    },
    "papermill": {
     "duration": 0.015986,
     "end_time": "2024-06-06T14:20:47.053809",
     "exception": false,
     "start_time": "2024-06-06T14:20:47.037823",
     "status": "completed"
    },
    "tags": []
   },
   "outputs": [],
   "source": [
    "model = RandomForestRegressor()"
   ]
  },
  {
   "cell_type": "code",
   "execution_count": 14,
   "id": "16bbce23",
   "metadata": {
    "execution": {
     "iopub.execute_input": "2024-06-06T14:20:47.070105Z",
     "iopub.status.busy": "2024-06-06T14:20:47.069378Z",
     "iopub.status.idle": "2024-06-06T14:20:52.974493Z",
     "shell.execute_reply": "2024-06-06T14:20:52.973134Z"
    },
    "papermill": {
     "duration": 5.917447,
     "end_time": "2024-06-06T14:20:52.977626",
     "exception": false,
     "start_time": "2024-06-06T14:20:47.060179",
     "status": "completed"
    },
    "tags": []
   },
   "outputs": [
    {
     "data": {
      "text/html": [
       "<style>#sk-container-id-1 {color: black;background-color: white;}#sk-container-id-1 pre{padding: 0;}#sk-container-id-1 div.sk-toggleable {background-color: white;}#sk-container-id-1 label.sk-toggleable__label {cursor: pointer;display: block;width: 100%;margin-bottom: 0;padding: 0.3em;box-sizing: border-box;text-align: center;}#sk-container-id-1 label.sk-toggleable__label-arrow:before {content: \"▸\";float: left;margin-right: 0.25em;color: #696969;}#sk-container-id-1 label.sk-toggleable__label-arrow:hover:before {color: black;}#sk-container-id-1 div.sk-estimator:hover label.sk-toggleable__label-arrow:before {color: black;}#sk-container-id-1 div.sk-toggleable__content {max-height: 0;max-width: 0;overflow: hidden;text-align: left;background-color: #f0f8ff;}#sk-container-id-1 div.sk-toggleable__content pre {margin: 0.2em;color: black;border-radius: 0.25em;background-color: #f0f8ff;}#sk-container-id-1 input.sk-toggleable__control:checked~div.sk-toggleable__content {max-height: 200px;max-width: 100%;overflow: auto;}#sk-container-id-1 input.sk-toggleable__control:checked~label.sk-toggleable__label-arrow:before {content: \"▾\";}#sk-container-id-1 div.sk-estimator input.sk-toggleable__control:checked~label.sk-toggleable__label {background-color: #d4ebff;}#sk-container-id-1 div.sk-label input.sk-toggleable__control:checked~label.sk-toggleable__label {background-color: #d4ebff;}#sk-container-id-1 input.sk-hidden--visually {border: 0;clip: rect(1px 1px 1px 1px);clip: rect(1px, 1px, 1px, 1px);height: 1px;margin: -1px;overflow: hidden;padding: 0;position: absolute;width: 1px;}#sk-container-id-1 div.sk-estimator {font-family: monospace;background-color: #f0f8ff;border: 1px dotted black;border-radius: 0.25em;box-sizing: border-box;margin-bottom: 0.5em;}#sk-container-id-1 div.sk-estimator:hover {background-color: #d4ebff;}#sk-container-id-1 div.sk-parallel-item::after {content: \"\";width: 100%;border-bottom: 1px solid gray;flex-grow: 1;}#sk-container-id-1 div.sk-label:hover label.sk-toggleable__label {background-color: #d4ebff;}#sk-container-id-1 div.sk-serial::before {content: \"\";position: absolute;border-left: 1px solid gray;box-sizing: border-box;top: 0;bottom: 0;left: 50%;z-index: 0;}#sk-container-id-1 div.sk-serial {display: flex;flex-direction: column;align-items: center;background-color: white;padding-right: 0.2em;padding-left: 0.2em;position: relative;}#sk-container-id-1 div.sk-item {position: relative;z-index: 1;}#sk-container-id-1 div.sk-parallel {display: flex;align-items: stretch;justify-content: center;background-color: white;position: relative;}#sk-container-id-1 div.sk-item::before, #sk-container-id-1 div.sk-parallel-item::before {content: \"\";position: absolute;border-left: 1px solid gray;box-sizing: border-box;top: 0;bottom: 0;left: 50%;z-index: -1;}#sk-container-id-1 div.sk-parallel-item {display: flex;flex-direction: column;z-index: 1;position: relative;background-color: white;}#sk-container-id-1 div.sk-parallel-item:first-child::after {align-self: flex-end;width: 50%;}#sk-container-id-1 div.sk-parallel-item:last-child::after {align-self: flex-start;width: 50%;}#sk-container-id-1 div.sk-parallel-item:only-child::after {width: 0;}#sk-container-id-1 div.sk-dashed-wrapped {border: 1px dashed gray;margin: 0 0.4em 0.5em 0.4em;box-sizing: border-box;padding-bottom: 0.4em;background-color: white;}#sk-container-id-1 div.sk-label label {font-family: monospace;font-weight: bold;display: inline-block;line-height: 1.2em;}#sk-container-id-1 div.sk-label-container {text-align: center;}#sk-container-id-1 div.sk-container {/* jupyter's `normalize.less` sets `[hidden] { display: none; }` but bootstrap.min.css set `[hidden] { display: none !important; }` so we also need the `!important` here to be able to override the default hidden behavior on the sphinx rendered scikit-learn.org. See: https://github.com/scikit-learn/scikit-learn/issues/21755 */display: inline-block !important;position: relative;}#sk-container-id-1 div.sk-text-repr-fallback {display: none;}</style><div id=\"sk-container-id-1\" class=\"sk-top-container\"><div class=\"sk-text-repr-fallback\"><pre>RandomForestRegressor()</pre><b>In a Jupyter environment, please rerun this cell to show the HTML representation or trust the notebook. <br />On GitHub, the HTML representation is unable to render, please try loading this page with nbviewer.org.</b></div><div class=\"sk-container\" hidden><div class=\"sk-item\"><div class=\"sk-estimator sk-toggleable\"><input class=\"sk-toggleable__control sk-hidden--visually\" id=\"sk-estimator-id-1\" type=\"checkbox\" checked><label for=\"sk-estimator-id-1\" class=\"sk-toggleable__label sk-toggleable__label-arrow\">RandomForestRegressor</label><div class=\"sk-toggleable__content\"><pre>RandomForestRegressor()</pre></div></div></div></div></div>"
      ],
      "text/plain": [
       "RandomForestRegressor()"
      ]
     },
     "execution_count": 14,
     "metadata": {},
     "output_type": "execute_result"
    }
   ],
   "source": [
    "model.fit(X_train, y_train)"
   ]
  },
  {
   "cell_type": "code",
   "execution_count": 15,
   "id": "4beed9e5",
   "metadata": {
    "execution": {
     "iopub.execute_input": "2024-06-06T14:20:52.993977Z",
     "iopub.status.busy": "2024-06-06T14:20:52.992798Z",
     "iopub.status.idle": "2024-06-06T14:20:53.084536Z",
     "shell.execute_reply": "2024-06-06T14:20:53.083282Z"
    },
    "papermill": {
     "duration": 0.102467,
     "end_time": "2024-06-06T14:20:53.087370",
     "exception": false,
     "start_time": "2024-06-06T14:20:52.984903",
     "status": "completed"
    },
    "tags": []
   },
   "outputs": [],
   "source": [
    "# 검증 데이터 추론\n",
    "preds = model.predict(X_val)"
   ]
  },
  {
   "cell_type": "code",
   "execution_count": 16,
   "id": "dc9fbf82",
   "metadata": {
    "execution": {
     "iopub.execute_input": "2024-06-06T14:20:53.102073Z",
     "iopub.status.busy": "2024-06-06T14:20:53.101503Z",
     "iopub.status.idle": "2024-06-06T14:20:53.111216Z",
     "shell.execute_reply": "2024-06-06T14:20:53.109685Z"
    },
    "papermill": {
     "duration": 0.020285,
     "end_time": "2024-06-06T14:20:53.113802",
     "exception": false,
     "start_time": "2024-06-06T14:20:53.093517",
     "status": "completed"
    },
    "tags": []
   },
   "outputs": [
    {
     "data": {
      "text/plain": [
       "4.116695543037037"
      ]
     },
     "execution_count": 16,
     "metadata": {},
     "output_type": "execute_result"
    }
   ],
   "source": [
    "mse = mean_squared_error(y_val, preds)\n",
    "mse"
   ]
  },
  {
   "cell_type": "code",
   "execution_count": 17,
   "id": "9f35c2c2",
   "metadata": {
    "execution": {
     "iopub.execute_input": "2024-06-06T14:20:53.129405Z",
     "iopub.status.busy": "2024-06-06T14:20:53.128901Z",
     "iopub.status.idle": "2024-06-06T14:20:53.363001Z",
     "shell.execute_reply": "2024-06-06T14:20:53.361431Z"
    },
    "papermill": {
     "duration": 0.245524,
     "end_time": "2024-06-06T14:20:53.365966",
     "exception": false,
     "start_time": "2024-06-06T14:20:53.120442",
     "status": "completed"
    },
    "tags": []
   },
   "outputs": [],
   "source": [
    "# test 데이터 추론\n",
    "preds = model.predict(test)"
   ]
  },
  {
   "cell_type": "code",
   "execution_count": 18,
   "id": "3a5bf5c2",
   "metadata": {
    "execution": {
     "iopub.execute_input": "2024-06-06T14:20:53.380728Z",
     "iopub.status.busy": "2024-06-06T14:20:53.380239Z",
     "iopub.status.idle": "2024-06-06T14:20:53.406790Z",
     "shell.execute_reply": "2024-06-06T14:20:53.405489Z"
    },
    "papermill": {
     "duration": 0.037512,
     "end_time": "2024-06-06T14:20:53.409823",
     "exception": false,
     "start_time": "2024-06-06T14:20:53.372311",
     "status": "completed"
    },
    "tags": []
   },
   "outputs": [],
   "source": [
    "submission = pd.DataFrame({'id': test_id,\n",
    "                           'yield': preds})\n",
    "submission.to_csv('submission.csv', index=False)"
   ]
  },
  {
   "cell_type": "code",
   "execution_count": 19,
   "id": "57b61531",
   "metadata": {
    "execution": {
     "iopub.execute_input": "2024-06-06T14:20:53.425450Z",
     "iopub.status.busy": "2024-06-06T14:20:53.424118Z",
     "iopub.status.idle": "2024-06-06T14:20:53.429909Z",
     "shell.execute_reply": "2024-06-06T14:20:53.428603Z"
    },
    "papermill": {
     "duration": 0.016442,
     "end_time": "2024-06-06T14:20:53.432463",
     "exception": false,
     "start_time": "2024-06-06T14:20:53.416021",
     "status": "completed"
    },
    "tags": []
   },
   "outputs": [],
   "source": [
    "# MinMaxScaler   : 1.39015\n",
    "# StandardScaler : 1.39836\n",
    "# RobustScaler   : 1.39884\n",
    "# no scaler      : 1.39972"
   ]
  },
  {
   "cell_type": "code",
   "execution_count": null,
   "id": "bac7064d",
   "metadata": {
    "papermill": {
     "duration": 0.005893,
     "end_time": "2024-06-06T14:20:53.444696",
     "exception": false,
     "start_time": "2024-06-06T14:20:53.438803",
     "status": "completed"
    },
    "tags": []
   },
   "outputs": [],
   "source": []
  }
 ],
 "metadata": {
  "kaggle": {
   "accelerator": "none",
   "dataSources": [
    {
     "databundleVersionId": 8550922,
     "sourceId": 77845,
     "sourceType": "competition"
    }
   ],
   "dockerImageVersionId": 30732,
   "isGpuEnabled": false,
   "isInternetEnabled": true,
   "language": "python",
   "sourceType": "notebook"
  },
  "kernelspec": {
   "display_name": "Python 3 (ipykernel)",
   "language": "python",
   "name": "python3"
  },
  "language_info": {
   "codemirror_mode": {
    "name": "ipython",
    "version": 3
   },
   "file_extension": ".py",
   "mimetype": "text/x-python",
   "name": "python",
   "nbconvert_exporter": "python",
   "pygments_lexer": "ipython3",
   "version": "3.7.15"
  },
  "papermill": {
   "default_parameters": {},
   "duration": 13.490261,
   "end_time": "2024-06-06T14:20:54.074389",
   "environment_variables": {},
   "exception": null,
   "input_path": "__notebook__.ipynb",
   "output_path": "__notebook__.ipynb",
   "parameters": {},
   "start_time": "2024-06-06T14:20:40.584128",
   "version": "2.5.0"
  }
 },
 "nbformat": 4,
 "nbformat_minor": 5
}
