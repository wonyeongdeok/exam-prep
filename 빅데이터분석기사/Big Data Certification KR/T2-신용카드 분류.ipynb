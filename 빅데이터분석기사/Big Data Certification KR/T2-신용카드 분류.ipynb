{
 "cells": [
  {
   "cell_type": "code",
   "execution_count": 1,
   "id": "ccf3319c",
   "metadata": {
    "_cell_guid": "b1076dfc-b9ad-4769-8c92-a6c4dae69d19",
    "_uuid": "8f2839f25d086af736a60e9eeb907d3b93b6e0e5",
    "execution": {
     "iopub.execute_input": "2024-05-29T03:42:35.045262Z",
     "iopub.status.busy": "2024-05-29T03:42:35.044793Z",
     "iopub.status.idle": "2024-05-29T03:42:37.790302Z",
     "shell.execute_reply": "2024-05-29T03:42:37.789320Z"
    },
    "papermill": {
     "duration": 2.755876,
     "end_time": "2024-05-29T03:42:37.793394",
     "exception": false,
     "start_time": "2024-05-29T03:42:35.037518",
     "status": "completed"
    },
    "tags": []
   },
   "outputs": [],
   "source": [
    "import numpy as np\n",
    "import pandas as pd\n",
    "from sklearn.ensemble import RandomForestClassifier\n",
    "from sklearn.metrics import roc_auc_score\n",
    "from sklearn.model_selection import train_test_split"
   ]
  },
  {
   "cell_type": "code",
   "execution_count": 2,
   "id": "82886e47",
   "metadata": {
    "_cell_guid": "b1076dfc-b9ad-4769-8c92-a6c4dae69d19",
    "_uuid": "8f2839f25d086af736a60e9eeb907d3b93b6e0e5",
    "execution": {
     "iopub.execute_input": "2024-05-29T03:42:37.805494Z",
     "iopub.status.busy": "2024-05-29T03:42:37.804946Z",
     "iopub.status.idle": "2024-05-29T03:42:42.131385Z",
     "shell.execute_reply": "2024-05-29T03:42:42.130464Z"
    },
    "papermill": {
     "duration": 4.335799,
     "end_time": "2024-05-29T03:42:42.134542",
     "exception": false,
     "start_time": "2024-05-29T03:42:37.798743",
     "status": "completed"
    },
    "tags": []
   },
   "outputs": [],
   "source": [
    "train = pd.read_csv('/kaggle/input/big-data-analytics-certification-kr-2024-2/train.csv')\n",
    "test = pd.read_csv('/kaggle/input/big-data-analytics-certification-kr-2024-2/test.csv')"
   ]
  },
  {
   "cell_type": "code",
   "execution_count": 3,
   "id": "1797d7b8",
   "metadata": {
    "execution": {
     "iopub.execute_input": "2024-05-29T03:42:42.146613Z",
     "iopub.status.busy": "2024-05-29T03:42:42.146210Z",
     "iopub.status.idle": "2024-05-29T03:42:42.184565Z",
     "shell.execute_reply": "2024-05-29T03:42:42.183376Z"
    },
    "papermill": {
     "duration": 0.047832,
     "end_time": "2024-05-29T03:42:42.187515",
     "exception": false,
     "start_time": "2024-05-29T03:42:42.139683",
     "status": "completed"
    },
    "tags": []
   },
   "outputs": [],
   "source": [
    "X = train.drop(['id', 'Class'], axis=1)"
   ]
  },
  {
   "cell_type": "code",
   "execution_count": 4,
   "id": "93982ace",
   "metadata": {
    "execution": {
     "iopub.execute_input": "2024-05-29T03:42:42.199505Z",
     "iopub.status.busy": "2024-05-29T03:42:42.199058Z",
     "iopub.status.idle": "2024-05-29T03:42:42.204312Z",
     "shell.execute_reply": "2024-05-29T03:42:42.203225Z"
    },
    "papermill": {
     "duration": 0.014005,
     "end_time": "2024-05-29T03:42:42.206683",
     "exception": false,
     "start_time": "2024-05-29T03:42:42.192678",
     "status": "completed"
    },
    "tags": []
   },
   "outputs": [],
   "source": [
    "y = train['Class']"
   ]
  },
  {
   "cell_type": "code",
   "execution_count": 5,
   "id": "6ca8122c",
   "metadata": {
    "execution": {
     "iopub.execute_input": "2024-05-29T03:42:42.218067Z",
     "iopub.status.busy": "2024-05-29T03:42:42.217684Z",
     "iopub.status.idle": "2024-05-29T03:42:42.282447Z",
     "shell.execute_reply": "2024-05-29T03:42:42.281458Z"
    },
    "papermill": {
     "duration": 0.07359,
     "end_time": "2024-05-29T03:42:42.285218",
     "exception": false,
     "start_time": "2024-05-29T03:42:42.211628",
     "status": "completed"
    },
    "tags": []
   },
   "outputs": [],
   "source": [
    "# 학습/검증 데이터 분리\n",
    "X_train, X_val, y_train, y_val = train_test_split(X, y, test_size=0.3, random_state=42, shuffle=True)"
   ]
  },
  {
   "cell_type": "code",
   "execution_count": 6,
   "id": "4711f691",
   "metadata": {
    "execution": {
     "iopub.execute_input": "2024-05-29T03:42:42.296898Z",
     "iopub.status.busy": "2024-05-29T03:42:42.296502Z",
     "iopub.status.idle": "2024-05-29T03:44:19.540694Z",
     "shell.execute_reply": "2024-05-29T03:44:19.539522Z"
    },
    "papermill": {
     "duration": 97.25799,
     "end_time": "2024-05-29T03:44:19.548297",
     "exception": false,
     "start_time": "2024-05-29T03:42:42.290307",
     "status": "completed"
    },
    "tags": []
   },
   "outputs": [
    {
     "data": {
      "text/html": [
       "<style>#sk-container-id-1 {color: black;background-color: white;}#sk-container-id-1 pre{padding: 0;}#sk-container-id-1 div.sk-toggleable {background-color: white;}#sk-container-id-1 label.sk-toggleable__label {cursor: pointer;display: block;width: 100%;margin-bottom: 0;padding: 0.3em;box-sizing: border-box;text-align: center;}#sk-container-id-1 label.sk-toggleable__label-arrow:before {content: \"▸\";float: left;margin-right: 0.25em;color: #696969;}#sk-container-id-1 label.sk-toggleable__label-arrow:hover:before {color: black;}#sk-container-id-1 div.sk-estimator:hover label.sk-toggleable__label-arrow:before {color: black;}#sk-container-id-1 div.sk-toggleable__content {max-height: 0;max-width: 0;overflow: hidden;text-align: left;background-color: #f0f8ff;}#sk-container-id-1 div.sk-toggleable__content pre {margin: 0.2em;color: black;border-radius: 0.25em;background-color: #f0f8ff;}#sk-container-id-1 input.sk-toggleable__control:checked~div.sk-toggleable__content {max-height: 200px;max-width: 100%;overflow: auto;}#sk-container-id-1 input.sk-toggleable__control:checked~label.sk-toggleable__label-arrow:before {content: \"▾\";}#sk-container-id-1 div.sk-estimator input.sk-toggleable__control:checked~label.sk-toggleable__label {background-color: #d4ebff;}#sk-container-id-1 div.sk-label input.sk-toggleable__control:checked~label.sk-toggleable__label {background-color: #d4ebff;}#sk-container-id-1 input.sk-hidden--visually {border: 0;clip: rect(1px 1px 1px 1px);clip: rect(1px, 1px, 1px, 1px);height: 1px;margin: -1px;overflow: hidden;padding: 0;position: absolute;width: 1px;}#sk-container-id-1 div.sk-estimator {font-family: monospace;background-color: #f0f8ff;border: 1px dotted black;border-radius: 0.25em;box-sizing: border-box;margin-bottom: 0.5em;}#sk-container-id-1 div.sk-estimator:hover {background-color: #d4ebff;}#sk-container-id-1 div.sk-parallel-item::after {content: \"\";width: 100%;border-bottom: 1px solid gray;flex-grow: 1;}#sk-container-id-1 div.sk-label:hover label.sk-toggleable__label {background-color: #d4ebff;}#sk-container-id-1 div.sk-serial::before {content: \"\";position: absolute;border-left: 1px solid gray;box-sizing: border-box;top: 0;bottom: 0;left: 50%;z-index: 0;}#sk-container-id-1 div.sk-serial {display: flex;flex-direction: column;align-items: center;background-color: white;padding-right: 0.2em;padding-left: 0.2em;position: relative;}#sk-container-id-1 div.sk-item {position: relative;z-index: 1;}#sk-container-id-1 div.sk-parallel {display: flex;align-items: stretch;justify-content: center;background-color: white;position: relative;}#sk-container-id-1 div.sk-item::before, #sk-container-id-1 div.sk-parallel-item::before {content: \"\";position: absolute;border-left: 1px solid gray;box-sizing: border-box;top: 0;bottom: 0;left: 50%;z-index: -1;}#sk-container-id-1 div.sk-parallel-item {display: flex;flex-direction: column;z-index: 1;position: relative;background-color: white;}#sk-container-id-1 div.sk-parallel-item:first-child::after {align-self: flex-end;width: 50%;}#sk-container-id-1 div.sk-parallel-item:last-child::after {align-self: flex-start;width: 50%;}#sk-container-id-1 div.sk-parallel-item:only-child::after {width: 0;}#sk-container-id-1 div.sk-dashed-wrapped {border: 1px dashed gray;margin: 0 0.4em 0.5em 0.4em;box-sizing: border-box;padding-bottom: 0.4em;background-color: white;}#sk-container-id-1 div.sk-label label {font-family: monospace;font-weight: bold;display: inline-block;line-height: 1.2em;}#sk-container-id-1 div.sk-label-container {text-align: center;}#sk-container-id-1 div.sk-container {/* jupyter's `normalize.less` sets `[hidden] { display: none; }` but bootstrap.min.css set `[hidden] { display: none !important; }` so we also need the `!important` here to be able to override the default hidden behavior on the sphinx rendered scikit-learn.org. See: https://github.com/scikit-learn/scikit-learn/issues/21755 */display: inline-block !important;position: relative;}#sk-container-id-1 div.sk-text-repr-fallback {display: none;}</style><div id=\"sk-container-id-1\" class=\"sk-top-container\"><div class=\"sk-text-repr-fallback\"><pre>RandomForestClassifier()</pre><b>In a Jupyter environment, please rerun this cell to show the HTML representation or trust the notebook. <br />On GitHub, the HTML representation is unable to render, please try loading this page with nbviewer.org.</b></div><div class=\"sk-container\" hidden><div class=\"sk-item\"><div class=\"sk-estimator sk-toggleable\"><input class=\"sk-toggleable__control sk-hidden--visually\" id=\"sk-estimator-id-1\" type=\"checkbox\" checked><label for=\"sk-estimator-id-1\" class=\"sk-toggleable__label sk-toggleable__label-arrow\">RandomForestClassifier</label><div class=\"sk-toggleable__content\"><pre>RandomForestClassifier()</pre></div></div></div></div></div>"
      ],
      "text/plain": [
       "RandomForestClassifier()"
      ]
     },
     "execution_count": 6,
     "metadata": {},
     "output_type": "execute_result"
    }
   ],
   "source": [
    "# 로지스틱 회귀 모델 학습\n",
    "model = RandomForestClassifier()\n",
    "model.fit(X_train, y_train)"
   ]
  },
  {
   "cell_type": "code",
   "execution_count": 7,
   "id": "74bb59a5",
   "metadata": {
    "execution": {
     "iopub.execute_input": "2024-05-29T03:44:19.560593Z",
     "iopub.status.busy": "2024-05-29T03:44:19.560203Z",
     "iopub.status.idle": "2024-05-29T03:44:20.041448Z",
     "shell.execute_reply": "2024-05-29T03:44:20.040444Z"
    },
    "papermill": {
     "duration": 0.490427,
     "end_time": "2024-05-29T03:44:20.044070",
     "exception": false,
     "start_time": "2024-05-29T03:44:19.553643",
     "status": "completed"
    },
    "tags": []
   },
   "outputs": [
    {
     "data": {
      "text/plain": [
       "array([[1., 0.],\n",
       "       [1., 0.],\n",
       "       [1., 0.],\n",
       "       ...,\n",
       "       [1., 0.],\n",
       "       [1., 0.],\n",
       "       [1., 0.]])"
      ]
     },
     "execution_count": 7,
     "metadata": {},
     "output_type": "execute_result"
    }
   ],
   "source": [
    "# 검증 데이터에 대한 예측\n",
    "preds = model.predict_proba(X_val)\n",
    "preds"
   ]
  },
  {
   "cell_type": "code",
   "execution_count": 8,
   "id": "0b4f95b1",
   "metadata": {
    "execution": {
     "iopub.execute_input": "2024-05-29T03:44:20.056815Z",
     "iopub.status.busy": "2024-05-29T03:44:20.056423Z",
     "iopub.status.idle": "2024-05-29T03:44:20.063596Z",
     "shell.execute_reply": "2024-05-29T03:44:20.062549Z"
    },
    "papermill": {
     "duration": 0.016223,
     "end_time": "2024-05-29T03:44:20.065887",
     "exception": false,
     "start_time": "2024-05-29T03:44:20.049664",
     "status": "completed"
    },
    "tags": []
   },
   "outputs": [
    {
     "data": {
      "text/plain": [
       "array([0., 0., 0., ..., 0., 0., 0.])"
      ]
     },
     "execution_count": 8,
     "metadata": {},
     "output_type": "execute_result"
    }
   ],
   "source": [
    "preds_probs = preds[:, 1]\n",
    "preds_probs"
   ]
  },
  {
   "cell_type": "code",
   "execution_count": 9,
   "id": "68c5990c",
   "metadata": {
    "execution": {
     "iopub.execute_input": "2024-05-29T03:44:20.078734Z",
     "iopub.status.busy": "2024-05-29T03:44:20.078343Z",
     "iopub.status.idle": "2024-05-29T03:44:20.102241Z",
     "shell.execute_reply": "2024-05-29T03:44:20.101210Z"
    },
    "papermill": {
     "duration": 0.033247,
     "end_time": "2024-05-29T03:44:20.104652",
     "exception": false,
     "start_time": "2024-05-29T03:44:20.071405",
     "status": "completed"
    },
    "tags": []
   },
   "outputs": [
    {
     "data": {
      "text/plain": [
       "0.9708776511690189"
      ]
     },
     "execution_count": 9,
     "metadata": {},
     "output_type": "execute_result"
    }
   ],
   "source": [
    "roc_auc = roc_auc_score(y_val, preds_probs)\n",
    "roc_auc"
   ]
  },
  {
   "cell_type": "code",
   "execution_count": 10,
   "id": "7b6ae9d7",
   "metadata": {
    "execution": {
     "iopub.execute_input": "2024-05-29T03:44:20.117671Z",
     "iopub.status.busy": "2024-05-29T03:44:20.117286Z",
     "iopub.status.idle": "2024-05-29T03:44:21.214009Z",
     "shell.execute_reply": "2024-05-29T03:44:21.212799Z"
    },
    "papermill": {
     "duration": 1.106646,
     "end_time": "2024-05-29T03:44:21.217018",
     "exception": false,
     "start_time": "2024-05-29T03:44:20.110372",
     "status": "completed"
    },
    "tags": []
   },
   "outputs": [],
   "source": [
    "# test 데이터 예측\n",
    "X = test.drop(['id'], axis=1)\n",
    "preds = model.predict_proba(X)\n",
    "preds_probs = preds[:, 1]"
   ]
  },
  {
   "cell_type": "code",
   "execution_count": 11,
   "id": "f3fa099f",
   "metadata": {
    "execution": {
     "iopub.execute_input": "2024-05-29T03:44:21.230706Z",
     "iopub.status.busy": "2024-05-29T03:44:21.230305Z",
     "iopub.status.idle": "2024-05-29T03:44:21.449337Z",
     "shell.execute_reply": "2024-05-29T03:44:21.448248Z"
    },
    "papermill": {
     "duration": 0.229073,
     "end_time": "2024-05-29T03:44:21.452097",
     "exception": false,
     "start_time": "2024-05-29T03:44:21.223024",
     "status": "completed"
    },
    "tags": []
   },
   "outputs": [],
   "source": [
    "# 제출 파일 생성\n",
    "submission = pd.DataFrame({'id': test['id'], 'Class': preds_probs})\n",
    "submission.to_csv('submission.csv', index=False)"
   ]
  },
  {
   "cell_type": "markdown",
   "id": "91fb46f8",
   "metadata": {
    "papermill": {
     "duration": 0.005622,
     "end_time": "2024-05-29T03:44:21.463553",
     "exception": false,
     "start_time": "2024-05-29T03:44:21.457931",
     "status": "completed"
    },
    "tags": []
   },
   "source": []
  },
  {
   "cell_type": "code",
   "execution_count": null,
   "id": "10d66def",
   "metadata": {
    "papermill": {
     "duration": 0.00541,
     "end_time": "2024-05-29T03:44:21.474707",
     "exception": false,
     "start_time": "2024-05-29T03:44:21.469297",
     "status": "completed"
    },
    "tags": []
   },
   "outputs": [],
   "source": []
  }
 ],
 "metadata": {
  "kaggle": {
   "accelerator": "none",
   "dataSources": [
    {
     "databundleVersionId": 8672016,
     "sourceId": 80687,
     "sourceType": "competition"
    }
   ],
   "dockerImageVersionId": 30698,
   "isGpuEnabled": false,
   "isInternetEnabled": true,
   "language": "python",
   "sourceType": "notebook"
  },
  "kernelspec": {
   "display_name": "Python 3",
   "language": "python",
   "name": "python3"
  },
  "language_info": {
   "codemirror_mode": {
    "name": "ipython",
    "version": 3
   },
   "file_extension": ".py",
   "mimetype": "text/x-python",
   "name": "python",
   "nbconvert_exporter": "python",
   "pygments_lexer": "ipython3",
   "version": "3.10.13"
  },
  "papermill": {
   "default_parameters": {},
   "duration": 110.043177,
   "end_time": "2024-05-29T03:44:22.104517",
   "environment_variables": {},
   "exception": null,
   "input_path": "__notebook__.ipynb",
   "output_path": "__notebook__.ipynb",
   "parameters": {},
   "start_time": "2024-05-29T03:42:32.061340",
   "version": "2.5.0"
  }
 },
 "nbformat": 4,
 "nbformat_minor": 5
}
