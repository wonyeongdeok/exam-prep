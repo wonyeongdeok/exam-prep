{
 "cells": [
  {
   "cell_type": "markdown",
   "id": "4c20de17",
   "metadata": {
    "papermill": {
     "duration": 0.00838,
     "end_time": "2022-11-23T06:39:46.342233",
     "exception": false,
     "start_time": "2022-11-23T06:39:46.333853",
     "status": "completed"
    },
    "tags": []
   },
   "source": [
    "### 주어진 데이터(basic2.csv)에서 \"pv\"컬럼으로 1일 시차(lag)가 있는 새로운 컬럼을 만들고(예: 1월 2일에는 1월 1일 pv데이터를 넣고, 1월 3일에는 1월 2일 pv데이터를 넣음),새로운 컬럼의 1월 1일은 다음날(1월 2일)데이터로 결측치를 채운 다음, Events가 1이면서 Sales가 1000000이하인 조건에 맞는 새로운 컬럼 합을 구하시오\n",
    "- 데이터셋 : basic2.csv\n",
    "- 오른쪽 상단 copy&edit 클릭 -> 예상문제 풀이 시작"
   ]
  },
  {
   "cell_type": "code",
   "execution_count": 1,
   "id": "28f0dcf4",
   "metadata": {
    "execution": {
     "iopub.execute_input": "2022-11-23T06:39:46.369452Z",
     "iopub.status.busy": "2022-11-23T06:39:46.360852Z",
     "iopub.status.idle": "2022-11-23T06:39:46.373256Z",
     "shell.execute_reply": "2022-11-23T06:39:46.372542Z",
     "shell.execute_reply.started": "2022-11-23T06:34:39.561720Z"
    },
    "papermill": {
     "duration": 0.023954,
     "end_time": "2022-11-23T06:39:46.373445",
     "exception": false,
     "start_time": "2022-11-23T06:39:46.349491",
     "status": "completed"
    },
    "tags": []
   },
   "outputs": [],
   "source": [
    "import pandas as pd"
   ]
  },
  {
   "cell_type": "code",
   "execution_count": 2,
   "id": "004c916d",
   "metadata": {
    "execution": {
     "iopub.execute_input": "2022-11-23T06:39:46.392431Z",
     "iopub.status.busy": "2022-11-23T06:39:46.391600Z",
     "iopub.status.idle": "2022-11-23T06:39:46.432266Z",
     "shell.execute_reply": "2022-11-23T06:39:46.432807Z",
     "shell.execute_reply.started": "2022-11-23T06:34:39.585042Z"
    },
    "papermill": {
     "duration": 0.052642,
     "end_time": "2022-11-23T06:39:46.432993",
     "exception": false,
     "start_time": "2022-11-23T06:39:46.380351",
     "status": "completed"
    },
    "tags": []
   },
   "outputs": [
    {
     "data": {
      "text/html": [
       "<div>\n",
       "<style scoped>\n",
       "    .dataframe tbody tr th:only-of-type {\n",
       "        vertical-align: middle;\n",
       "    }\n",
       "\n",
       "    .dataframe tbody tr th {\n",
       "        vertical-align: top;\n",
       "    }\n",
       "\n",
       "    .dataframe thead th {\n",
       "        text-align: right;\n",
       "    }\n",
       "</style>\n",
       "<table border=\"1\" class=\"dataframe\">\n",
       "  <thead>\n",
       "    <tr style=\"text-align: right;\">\n",
       "      <th></th>\n",
       "      <th>Date</th>\n",
       "      <th>Sales</th>\n",
       "      <th>PV</th>\n",
       "      <th>UV</th>\n",
       "      <th>Events</th>\n",
       "    </tr>\n",
       "  </thead>\n",
       "  <tbody>\n",
       "    <tr>\n",
       "      <th>0</th>\n",
       "      <td>2022-01-01</td>\n",
       "      <td>22711525</td>\n",
       "      <td>397349</td>\n",
       "      <td>4421.0</td>\n",
       "      <td>1</td>\n",
       "    </tr>\n",
       "    <tr>\n",
       "      <th>1</th>\n",
       "      <td>2022-01-02</td>\n",
       "      <td>36779</td>\n",
       "      <td>3969</td>\n",
       "      <td>2289.0</td>\n",
       "      <td>0</td>\n",
       "    </tr>\n",
       "    <tr>\n",
       "      <th>2</th>\n",
       "      <td>2022-01-03</td>\n",
       "      <td>13943875</td>\n",
       "      <td>373890</td>\n",
       "      <td>NaN</td>\n",
       "      <td>1</td>\n",
       "    </tr>\n",
       "    <tr>\n",
       "      <th>3</th>\n",
       "      <td>2022-01-04</td>\n",
       "      <td>8088593</td>\n",
       "      <td>142054</td>\n",
       "      <td>2157.0</td>\n",
       "      <td>0</td>\n",
       "    </tr>\n",
       "    <tr>\n",
       "      <th>4</th>\n",
       "      <td>2022-01-05</td>\n",
       "      <td>2395374</td>\n",
       "      <td>190684</td>\n",
       "      <td>NaN</td>\n",
       "      <td>0</td>\n",
       "    </tr>\n",
       "    <tr>\n",
       "      <th>...</th>\n",
       "      <td>...</td>\n",
       "      <td>...</td>\n",
       "      <td>...</td>\n",
       "      <td>...</td>\n",
       "      <td>...</td>\n",
       "    </tr>\n",
       "    <tr>\n",
       "      <th>725</th>\n",
       "      <td>2023-12-27</td>\n",
       "      <td>33846609</td>\n",
       "      <td>415067</td>\n",
       "      <td>7360.0</td>\n",
       "      <td>1</td>\n",
       "    </tr>\n",
       "    <tr>\n",
       "      <th>726</th>\n",
       "      <td>2023-12-28</td>\n",
       "      <td>3659566</td>\n",
       "      <td>208601</td>\n",
       "      <td>2262.0</td>\n",
       "      <td>1</td>\n",
       "    </tr>\n",
       "    <tr>\n",
       "      <th>727</th>\n",
       "      <td>2023-12-29</td>\n",
       "      <td>1164008</td>\n",
       "      <td>14309</td>\n",
       "      <td>193.0</td>\n",
       "      <td>0</td>\n",
       "    </tr>\n",
       "    <tr>\n",
       "      <th>728</th>\n",
       "      <td>2023-12-30</td>\n",
       "      <td>3977696</td>\n",
       "      <td>60935</td>\n",
       "      <td>NaN</td>\n",
       "      <td>0</td>\n",
       "    </tr>\n",
       "    <tr>\n",
       "      <th>729</th>\n",
       "      <td>2023-12-31</td>\n",
       "      <td>3719764</td>\n",
       "      <td>60963</td>\n",
       "      <td>1507.0</td>\n",
       "      <td>0</td>\n",
       "    </tr>\n",
       "  </tbody>\n",
       "</table>\n",
       "<p>730 rows × 5 columns</p>\n",
       "</div>"
      ],
      "text/plain": [
       "           Date     Sales      PV      UV  Events\n",
       "0    2022-01-01  22711525  397349  4421.0       1\n",
       "1    2022-01-02     36779    3969  2289.0       0\n",
       "2    2022-01-03  13943875  373890     NaN       1\n",
       "3    2022-01-04   8088593  142054  2157.0       0\n",
       "4    2022-01-05   2395374  190684     NaN       0\n",
       "..          ...       ...     ...     ...     ...\n",
       "725  2023-12-27  33846609  415067  7360.0       1\n",
       "726  2023-12-28   3659566  208601  2262.0       1\n",
       "727  2023-12-29   1164008   14309   193.0       0\n",
       "728  2023-12-30   3977696   60935     NaN       0\n",
       "729  2023-12-31   3719764   60963  1507.0       0\n",
       "\n",
       "[730 rows x 5 columns]"
      ]
     },
     "execution_count": 2,
     "metadata": {},
     "output_type": "execute_result"
    }
   ],
   "source": [
    "df = pd.read_csv(\"../input/bigdatacertificationkr/basic2.csv\")\n",
    "df"
   ]
  },
  {
   "cell_type": "code",
   "execution_count": 3,
   "id": "0a3d6a7f",
   "metadata": {
    "execution": {
     "iopub.execute_input": "2022-11-23T06:39:46.456371Z",
     "iopub.status.busy": "2022-11-23T06:39:46.454250Z",
     "iopub.status.idle": "2022-11-23T06:39:46.461889Z",
     "shell.execute_reply": "2022-11-23T06:39:46.462448Z",
     "shell.execute_reply.started": "2022-11-23T06:34:39.626449Z"
    },
    "papermill": {
     "duration": 0.021936,
     "end_time": "2022-11-23T06:39:46.462688",
     "exception": false,
     "start_time": "2022-11-23T06:39:46.440752",
     "status": "completed"
    },
    "tags": []
   },
   "outputs": [
    {
     "data": {
      "text/plain": [
       "Date       0\n",
       "Sales      0\n",
       "PV         0\n",
       "UV        46\n",
       "Events     0\n",
       "dtype: int64"
      ]
     },
     "execution_count": 3,
     "metadata": {},
     "output_type": "execute_result"
    }
   ],
   "source": [
    "# 결측치 확인\n",
    "df.isnull().sum()"
   ]
  },
  {
   "cell_type": "code",
   "execution_count": 4,
   "id": "35f41ee4",
   "metadata": {
    "execution": {
     "iopub.execute_input": "2022-11-23T06:39:46.486462Z",
     "iopub.status.busy": "2022-11-23T06:39:46.481539Z",
     "iopub.status.idle": "2022-11-23T06:39:46.499247Z",
     "shell.execute_reply": "2022-11-23T06:39:46.499805Z",
     "shell.execute_reply.started": "2022-11-23T06:34:39.636270Z"
    },
    "papermill": {
     "duration": 0.02924,
     "end_time": "2022-11-23T06:39:46.499990",
     "exception": false,
     "start_time": "2022-11-23T06:39:46.470750",
     "status": "completed"
    },
    "tags": []
   },
   "outputs": [
    {
     "data": {
      "text/html": [
       "<div>\n",
       "<style scoped>\n",
       "    .dataframe tbody tr th:only-of-type {\n",
       "        vertical-align: middle;\n",
       "    }\n",
       "\n",
       "    .dataframe tbody tr th {\n",
       "        vertical-align: top;\n",
       "    }\n",
       "\n",
       "    .dataframe thead th {\n",
       "        text-align: right;\n",
       "    }\n",
       "</style>\n",
       "<table border=\"1\" class=\"dataframe\">\n",
       "  <thead>\n",
       "    <tr style=\"text-align: right;\">\n",
       "      <th></th>\n",
       "      <th>Date</th>\n",
       "      <th>Sales</th>\n",
       "      <th>PV</th>\n",
       "      <th>UV</th>\n",
       "      <th>Events</th>\n",
       "      <th>previous_PV</th>\n",
       "    </tr>\n",
       "  </thead>\n",
       "  <tbody>\n",
       "    <tr>\n",
       "      <th>0</th>\n",
       "      <td>2022-01-01</td>\n",
       "      <td>22711525</td>\n",
       "      <td>397349</td>\n",
       "      <td>4421.0</td>\n",
       "      <td>1</td>\n",
       "      <td>NaN</td>\n",
       "    </tr>\n",
       "    <tr>\n",
       "      <th>1</th>\n",
       "      <td>2022-01-02</td>\n",
       "      <td>36779</td>\n",
       "      <td>3969</td>\n",
       "      <td>2289.0</td>\n",
       "      <td>0</td>\n",
       "      <td>397349.0</td>\n",
       "    </tr>\n",
       "    <tr>\n",
       "      <th>2</th>\n",
       "      <td>2022-01-03</td>\n",
       "      <td>13943875</td>\n",
       "      <td>373890</td>\n",
       "      <td>NaN</td>\n",
       "      <td>1</td>\n",
       "      <td>3969.0</td>\n",
       "    </tr>\n",
       "    <tr>\n",
       "      <th>3</th>\n",
       "      <td>2022-01-04</td>\n",
       "      <td>8088593</td>\n",
       "      <td>142054</td>\n",
       "      <td>2157.0</td>\n",
       "      <td>0</td>\n",
       "      <td>373890.0</td>\n",
       "    </tr>\n",
       "    <tr>\n",
       "      <th>4</th>\n",
       "      <td>2022-01-05</td>\n",
       "      <td>2395374</td>\n",
       "      <td>190684</td>\n",
       "      <td>NaN</td>\n",
       "      <td>0</td>\n",
       "      <td>142054.0</td>\n",
       "    </tr>\n",
       "  </tbody>\n",
       "</table>\n",
       "</div>"
      ],
      "text/plain": [
       "         Date     Sales      PV      UV  Events  previous_PV\n",
       "0  2022-01-01  22711525  397349  4421.0       1          NaN\n",
       "1  2022-01-02     36779    3969  2289.0       0     397349.0\n",
       "2  2022-01-03  13943875  373890     NaN       1       3969.0\n",
       "3  2022-01-04   8088593  142054  2157.0       0     373890.0\n",
       "4  2022-01-05   2395374  190684     NaN       0     142054.0"
      ]
     },
     "execution_count": 4,
     "metadata": {},
     "output_type": "execute_result"
    }
   ],
   "source": [
    "#1일 차이가 나는 시차 특성 만들기\n",
    "df['previous_PV'] = df['PV'].shift(1)\n",
    "df.head()"
   ]
  },
  {
   "cell_type": "code",
   "execution_count": 5,
   "id": "2c8e4185",
   "metadata": {
    "execution": {
     "iopub.execute_input": "2022-11-23T06:39:46.526121Z",
     "iopub.status.busy": "2022-11-23T06:39:46.525095Z",
     "iopub.status.idle": "2022-11-23T06:39:46.536065Z",
     "shell.execute_reply": "2022-11-23T06:39:46.536608Z",
     "shell.execute_reply.started": "2022-11-23T06:34:39.656768Z"
    },
    "papermill": {
     "duration": 0.028601,
     "end_time": "2022-11-23T06:39:46.536802",
     "exception": false,
     "start_time": "2022-11-23T06:39:46.508201",
     "status": "completed"
    },
    "tags": []
   },
   "outputs": [
    {
     "data": {
      "text/html": [
       "<div>\n",
       "<style scoped>\n",
       "    .dataframe tbody tr th:only-of-type {\n",
       "        vertical-align: middle;\n",
       "    }\n",
       "\n",
       "    .dataframe tbody tr th {\n",
       "        vertical-align: top;\n",
       "    }\n",
       "\n",
       "    .dataframe thead th {\n",
       "        text-align: right;\n",
       "    }\n",
       "</style>\n",
       "<table border=\"1\" class=\"dataframe\">\n",
       "  <thead>\n",
       "    <tr style=\"text-align: right;\">\n",
       "      <th></th>\n",
       "      <th>Date</th>\n",
       "      <th>Sales</th>\n",
       "      <th>PV</th>\n",
       "      <th>UV</th>\n",
       "      <th>Events</th>\n",
       "      <th>previous_PV</th>\n",
       "    </tr>\n",
       "  </thead>\n",
       "  <tbody>\n",
       "    <tr>\n",
       "      <th>0</th>\n",
       "      <td>2022-01-01</td>\n",
       "      <td>22711525</td>\n",
       "      <td>397349</td>\n",
       "      <td>4421.0</td>\n",
       "      <td>1</td>\n",
       "      <td>397349.0</td>\n",
       "    </tr>\n",
       "    <tr>\n",
       "      <th>1</th>\n",
       "      <td>2022-01-02</td>\n",
       "      <td>36779</td>\n",
       "      <td>3969</td>\n",
       "      <td>2289.0</td>\n",
       "      <td>0</td>\n",
       "      <td>397349.0</td>\n",
       "    </tr>\n",
       "    <tr>\n",
       "      <th>2</th>\n",
       "      <td>2022-01-03</td>\n",
       "      <td>13943875</td>\n",
       "      <td>373890</td>\n",
       "      <td>NaN</td>\n",
       "      <td>1</td>\n",
       "      <td>3969.0</td>\n",
       "    </tr>\n",
       "    <tr>\n",
       "      <th>3</th>\n",
       "      <td>2022-01-04</td>\n",
       "      <td>8088593</td>\n",
       "      <td>142054</td>\n",
       "      <td>2157.0</td>\n",
       "      <td>0</td>\n",
       "      <td>373890.0</td>\n",
       "    </tr>\n",
       "    <tr>\n",
       "      <th>4</th>\n",
       "      <td>2022-01-05</td>\n",
       "      <td>2395374</td>\n",
       "      <td>190684</td>\n",
       "      <td>NaN</td>\n",
       "      <td>0</td>\n",
       "      <td>142054.0</td>\n",
       "    </tr>\n",
       "  </tbody>\n",
       "</table>\n",
       "</div>"
      ],
      "text/plain": [
       "         Date     Sales      PV      UV  Events  previous_PV\n",
       "0  2022-01-01  22711525  397349  4421.0       1     397349.0\n",
       "1  2022-01-02     36779    3969  2289.0       0     397349.0\n",
       "2  2022-01-03  13943875  373890     NaN       1       3969.0\n",
       "3  2022-01-04   8088593  142054  2157.0       0     373890.0\n",
       "4  2022-01-05   2395374  190684     NaN       0     142054.0"
      ]
     },
     "execution_count": 5,
     "metadata": {},
     "output_type": "execute_result"
    }
   ],
   "source": [
    "# 1일 씩 미뤘음으로 가장 앞이 결측값이 됨 (바로 뒤의 값으로 채움)\n",
    "df['previous_PV'] = df['previous_PV'].fillna(method = 'bfill')\n",
    "df.head()"
   ]
  },
  {
   "cell_type": "code",
   "execution_count": 6,
   "id": "ad4db528",
   "metadata": {
    "execution": {
     "iopub.execute_input": "2022-11-23T06:39:46.557673Z",
     "iopub.status.busy": "2022-11-23T06:39:46.556684Z",
     "iopub.status.idle": "2022-11-23T06:39:46.566906Z",
     "shell.execute_reply": "2022-11-23T06:39:46.566135Z",
     "shell.execute_reply.started": "2022-11-23T06:34:39.673388Z"
    },
    "papermill": {
     "duration": 0.021785,
     "end_time": "2022-11-23T06:39:46.567119",
     "exception": false,
     "start_time": "2022-11-23T06:39:46.545334",
     "status": "completed"
    },
    "tags": []
   },
   "outputs": [
    {
     "name": "stdout",
     "output_type": "stream",
     "text": [
      "1894876.0\n"
     ]
    }
   ],
   "source": [
    "# 조건에 맞는 1일 이전 PV의 합\n",
    "cond = (df['Events'] == 1) & (df['Sales'] <= 1000000)\n",
    "print(df[cond]['previous_PV'].sum())"
   ]
  },
  {
   "cell_type": "code",
   "execution_count": null,
   "id": "7cdc7942",
   "metadata": {
    "papermill": {
     "duration": 0.009019,
     "end_time": "2022-11-23T06:39:46.585795",
     "exception": false,
     "start_time": "2022-11-23T06:39:46.576776",
     "status": "completed"
    },
    "tags": []
   },
   "outputs": [],
   "source": []
  }
 ],
 "metadata": {
  "kernelspec": {
   "display_name": "Python 3 (ipykernel)",
   "language": "python",
   "name": "python3"
  },
  "language_info": {
   "codemirror_mode": {
    "name": "ipython",
    "version": 3
   },
   "file_extension": ".py",
   "mimetype": "text/x-python",
   "name": "python",
   "nbconvert_exporter": "python",
   "pygments_lexer": "ipython3",
   "version": "3.7.15"
  },
  "papermill": {
   "default_parameters": {},
   "duration": 10.075311,
   "end_time": "2022-11-23T06:39:47.205394",
   "environment_variables": {},
   "exception": null,
   "input_path": "__notebook__.ipynb",
   "output_path": "__notebook__.ipynb",
   "parameters": {},
   "start_time": "2022-11-23T06:39:37.130083",
   "version": "2.3.3"
  }
 },
 "nbformat": 4,
 "nbformat_minor": 5
}
