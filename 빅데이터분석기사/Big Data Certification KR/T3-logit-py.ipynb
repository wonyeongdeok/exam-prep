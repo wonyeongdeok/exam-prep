{
 "cells": [
  {
   "cell_type": "markdown",
   "id": "53438ea7",
   "metadata": {
    "papermill": {
     "duration": 0.005157,
     "end_time": "2024-06-08T05:40:55.472956",
     "exception": false,
     "start_time": "2024-06-08T05:40:55.467799",
     "status": "completed"
    },
    "tags": []
   },
   "source": [
    "고객 정보를 나타낸 데이터이다. 주어진 데이터에서 500개 중 앞에서부터 350개는 train으로, 150개는 test 데이터로 나눈다. 모델을 학습(적합)할 때는 train 데이터를 사용하고, 예측할 때는 test 데이터를 사용한다. 모델은 로지스틱 회귀를 써서 고객이 특정 제품을 구매할지 여부를 예측하되, 페널티는 부과하지 않는다.\n",
    "\n",
    "종속변수: purchase (0: 구매 안 함, 1: 구매 함)\n",
    "\n",
    "- 문제 1-1. income 변수를 독립변수로 purchase를 종속변수로 사용하여 로지스틱 회귀 모형을 만들고, income 변수가 한 단위 증가할 때 구매할 오즈비 값을 계산하시오. (반올림하여 소수 넷째자리까지 계산)\n",
    "\n",
    "- 문제 1-2. 독립변수 income만 사용해 학습한 모델에서 test 데이터의 purchase를 예측하고, accuracy (정확도)를 구하시오. (반올림하여 소수 셋째자리까지 계산)\n",
    "\n",
    "- 문제 1-3. 독립변수 income만 사용해 학습한 모델의 로짓 우도를 계산하시오.\n",
    "\n",
    "- 문제 1-4. 독립변수 income만 사용해 학습한 모델의 유의확률(p-value)를 구하시오."
   ]
  },
  {
   "cell_type": "code",
   "execution_count": 9,
   "id": "7df09441-f700-4dfe-a8db-c6025890d6cf",
   "metadata": {
    "_cell_guid": "b1076dfc-b9ad-4769-8c92-a6c4dae69d19",
    "_uuid": "8f2839f25d086af736a60e9eeb907d3b93b6e0e5",
    "papermill": {
     "duration": 0.957466,
     "end_time": "2024-06-08T05:40:56.435438",
     "exception": false,
     "start_time": "2024-06-08T05:40:55.477972",
     "status": "completed"
    },
    "tags": []
   },
   "outputs": [],
   "source": [
    "import pandas as pd\n",
    "import numpy as np\n",
    "from statsmodels.formula.api import logit"
   ]
  },
  {
   "cell_type": "code",
   "execution_count": 5,
   "id": "5b912b50-38f9-487d-a28b-67d5dfa56f5a",
   "metadata": {
    "_cell_guid": "b1076dfc-b9ad-4769-8c92-a6c4dae69d19",
    "_uuid": "8f2839f25d086af736a60e9eeb907d3b93b6e0e5",
    "papermill": {
     "duration": 0.957466,
     "end_time": "2024-06-08T05:40:56.435438",
     "exception": false,
     "start_time": "2024-06-08T05:40:55.477972",
     "status": "completed"
    },
    "tags": []
   },
   "outputs": [],
   "source": [
    "df = pd.read_csv(\"dataset/Customer_Data.csv\")"
   ]
  },
  {
   "cell_type": "code",
   "execution_count": 6,
   "id": "2f5b7794",
   "metadata": {
    "papermill": {
     "duration": 0.004379,
     "end_time": "2024-06-08T05:40:56.444651",
     "exception": false,
     "start_time": "2024-06-08T05:40:56.440272",
     "status": "completed"
    },
    "tags": []
   },
   "outputs": [
    {
     "data": {
      "text/html": [
       "<div>\n",
       "<style scoped>\n",
       "    .dataframe tbody tr th:only-of-type {\n",
       "        vertical-align: middle;\n",
       "    }\n",
       "\n",
       "    .dataframe tbody tr th {\n",
       "        vertical-align: top;\n",
       "    }\n",
       "\n",
       "    .dataframe thead th {\n",
       "        text-align: right;\n",
       "    }\n",
       "</style>\n",
       "<table border=\"1\" class=\"dataframe\">\n",
       "  <thead>\n",
       "    <tr style=\"text-align: right;\">\n",
       "      <th></th>\n",
       "      <th>age</th>\n",
       "      <th>income</th>\n",
       "      <th>marital_status</th>\n",
       "      <th>children</th>\n",
       "      <th>gender</th>\n",
       "      <th>purchase</th>\n",
       "    </tr>\n",
       "  </thead>\n",
       "  <tbody>\n",
       "    <tr>\n",
       "      <th>0</th>\n",
       "      <td>62</td>\n",
       "      <td>111980</td>\n",
       "      <td>1</td>\n",
       "      <td>2</td>\n",
       "      <td>1</td>\n",
       "      <td>0</td>\n",
       "    </tr>\n",
       "    <tr>\n",
       "      <th>1</th>\n",
       "      <td>65</td>\n",
       "      <td>107314</td>\n",
       "      <td>0</td>\n",
       "      <td>3</td>\n",
       "      <td>1</td>\n",
       "      <td>0</td>\n",
       "    </tr>\n",
       "    <tr>\n",
       "      <th>2</th>\n",
       "      <td>18</td>\n",
       "      <td>56209</td>\n",
       "      <td>1</td>\n",
       "      <td>1</td>\n",
       "      <td>1</td>\n",
       "      <td>1</td>\n",
       "    </tr>\n",
       "    <tr>\n",
       "      <th>3</th>\n",
       "      <td>21</td>\n",
       "      <td>28010</td>\n",
       "      <td>1</td>\n",
       "      <td>3</td>\n",
       "      <td>0</td>\n",
       "      <td>1</td>\n",
       "    </tr>\n",
       "    <tr>\n",
       "      <th>4</th>\n",
       "      <td>21</td>\n",
       "      <td>79618</td>\n",
       "      <td>0</td>\n",
       "      <td>2</td>\n",
       "      <td>0</td>\n",
       "      <td>1</td>\n",
       "    </tr>\n",
       "  </tbody>\n",
       "</table>\n",
       "</div>"
      ],
      "text/plain": [
       "   age  income  marital_status  children  gender  purchase\n",
       "0   62  111980               1         2       1         0\n",
       "1   65  107314               0         3       1         0\n",
       "2   18   56209               1         1       1         1\n",
       "3   21   28010               1         3       0         1\n",
       "4   21   79618               0         2       0         1"
      ]
     },
     "execution_count": 6,
     "metadata": {},
     "output_type": "execute_result"
    }
   ],
   "source": [
    "df.head()"
   ]
  },
  {
   "cell_type": "code",
   "execution_count": 3,
   "id": "c31bcfc6",
   "metadata": {
    "papermill": {
     "duration": 0.004438,
     "end_time": "2024-06-08T05:40:56.453768",
     "exception": false,
     "start_time": "2024-06-08T05:40:56.449330",
     "status": "completed"
    },
    "tags": []
   },
   "outputs": [
    {
     "name": "stdout",
     "output_type": "stream",
     "text": [
      "<class 'pandas.core.frame.DataFrame'>\n",
      "RangeIndex: 500 entries, 0 to 499\n",
      "Data columns (total 6 columns):\n",
      " #   Column          Non-Null Count  Dtype\n",
      "---  ------          --------------  -----\n",
      " 0   age             500 non-null    int64\n",
      " 1   income          500 non-null    int64\n",
      " 2   marital_status  500 non-null    int64\n",
      " 3   children        500 non-null    int64\n",
      " 4   gender          500 non-null    int64\n",
      " 5   purchase        500 non-null    int64\n",
      "dtypes: int64(6)\n",
      "memory usage: 23.6 KB\n"
     ]
    }
   ],
   "source": [
    "df.info()"
   ]
  },
  {
   "cell_type": "code",
   "execution_count": 7,
   "id": "066d6844-ab36-4c16-a648-235899317ef8",
   "metadata": {
    "papermill": {
     "duration": 1.661616,
     "end_time": "2024-06-08T05:40:58.181494",
     "exception": false,
     "start_time": "2024-06-08T05:40:56.519878",
     "status": "completed"
    },
    "tags": []
   },
   "outputs": [],
   "source": [
    "# 데이터셋 분할\n",
    "train = df.iloc[:350]\n",
    "test = df.iloc[350:]"
   ]
  },
  {
   "cell_type": "code",
   "execution_count": 35,
   "id": "57577b9e-3a2d-4934-8b97-7c0909d1448e",
   "metadata": {
    "papermill": {
     "duration": 1.661616,
     "end_time": "2024-06-08T05:40:58.181494",
     "exception": false,
     "start_time": "2024-06-08T05:40:56.519878",
     "status": "completed"
    },
    "tags": []
   },
   "outputs": [
    {
     "name": "stdout",
     "output_type": "stream",
     "text": [
      "Optimization terminated successfully.\n",
      "         Current function value: 0.692599\n",
      "         Iterations 3\n",
      "1.0\n"
     ]
    }
   ],
   "source": [
    "# 문제 1-1: income 변수를 독립변수로 purchase를 종속변수로 사용하여 로지스틱 회귀 모형을 만들고, income 변수가 한 단위 증가할 때 구매할 오즈비 값을 계산\n",
    "formula = 'purchase ~ income'\n",
    "model = logit(formula=formula, data=train).fit()\n",
    "odds = np.exp(model.params['income'])\n",
    "\n",
    "print(round(odds, 4))"
   ]
  },
  {
   "cell_type": "code",
   "execution_count": null,
   "id": "7751cc10-af6a-411d-903b-00310fd4b6ed",
   "metadata": {},
   "outputs": [],
   "source": []
  },
  {
   "cell_type": "code",
   "execution_count": null,
   "id": "7c26807a-d448-4f21-bea6-60eb2accfc52",
   "metadata": {},
   "outputs": [],
   "source": []
  },
  {
   "cell_type": "code",
   "execution_count": null,
   "id": "d22e4bd6-ad9c-4900-8d8f-b19922fa7f75",
   "metadata": {},
   "outputs": [],
   "source": []
  },
  {
   "cell_type": "code",
   "execution_count": 2,
   "id": "f5d90b4b-9aec-4147-ae20-517d8565b830",
   "metadata": {
    "execution": {
     "iopub.execute_input": "2024-06-08T05:40:56.526403Z",
     "iopub.status.busy": "2024-06-08T05:40:56.525702Z",
     "iopub.status.idle": "2024-06-08T05:40:58.178718Z",
     "shell.execute_reply": "2024-06-08T05:40:58.177225Z"
    },
    "papermill": {
     "duration": 1.661616,
     "end_time": "2024-06-08T05:40:58.181494",
     "exception": false,
     "start_time": "2024-06-08T05:40:56.519878",
     "status": "completed"
    },
    "tags": []
   },
   "outputs": [
    {
     "name": "stdout",
     "output_type": "stream",
     "text": [
      "Optimization terminated successfully.\n",
      "         Current function value: 0.692599\n",
      "         Iterations 3\n"
     ]
    },
    {
     "data": {
      "text/plain": [
       "(1.0000019601805765,\n",
       " 0.5066666666666667,\n",
       " -242.40981957168498,\n",
       " 0.5964910811075119)"
      ]
     },
     "execution_count": 2,
     "metadata": {},
     "output_type": "execute_result"
    }
   ],
   "source": [
    "# 문제 1-2: 독립변수 income만 사용해 학습한 모델에서 test 데이터의 purchase를 예측하고, 정확도 계산\n",
    "predictions_income = result_income.predict(test)\n",
    "predicted_classes_income = (predictions_income > 0.5).astype(int)\n",
    "\n",
    "# 정확도 계산\n",
    "accuracy_income = (predicted_classes_income == test['purchase']).mean()\n",
    "\n",
    "# 문제 1-3: 독립변수 income만 사용해 학습한 모델의 로짓 우도 계산\n",
    "log_likelihood_income = result_income.llf\n",
    "\n",
    "# 문제 1-4: 독립변수 income만 사용해 학습한 모델의 유의확률(p-value) 계산\n",
    "p_value_income = result_income.pvalues['income']\n",
    "\n",
    "odds_ratio_income, accuracy_income, log_likelihood_income, p_value_income"
   ]
  },
  {
   "cell_type": "code",
   "execution_count": 3,
   "id": "c1037066",
   "metadata": {
    "execution": {
     "iopub.execute_input": "2024-06-08T05:40:58.195027Z",
     "iopub.status.busy": "2024-06-08T05:40:58.193433Z",
     "iopub.status.idle": "2024-06-08T05:40:58.544327Z",
     "shell.execute_reply": "2024-06-08T05:40:58.543124Z"
    },
    "papermill": {
     "duration": 0.360306,
     "end_time": "2024-06-08T05:40:58.546881",
     "exception": false,
     "start_time": "2024-06-08T05:40:58.186575",
     "status": "completed"
    },
    "tags": []
   },
   "outputs": [
    {
     "data": {
      "text/plain": [
       "0.5066666666666667"
      ]
     },
     "execution_count": 3,
     "metadata": {},
     "output_type": "execute_result"
    }
   ],
   "source": [
    "# 정확도 사이킷런 활용\n",
    "from sklearn.metrics import accuracy_score\n",
    "accuracy_score(test['purchase'], predicted_classes_income)"
   ]
  },
  {
   "cell_type": "code",
   "execution_count": null,
   "id": "a8369a17",
   "metadata": {
    "papermill": {
     "duration": 0.004885,
     "end_time": "2024-06-08T05:40:58.557030",
     "exception": false,
     "start_time": "2024-06-08T05:40:58.552145",
     "status": "completed"
    },
    "tags": []
   },
   "outputs": [],
   "source": []
  }
 ],
 "metadata": {
  "kaggle": {
   "accelerator": "none",
   "dataSources": [
    {
     "datasetId": 1633303,
     "sourceId": 8636545,
     "sourceType": "datasetVersion"
    }
   ],
   "dockerImageVersionId": 30732,
   "isGpuEnabled": false,
   "isInternetEnabled": true,
   "language": "python",
   "sourceType": "notebook"
  },
  "kernelspec": {
   "display_name": "Python 3 (ipykernel)",
   "language": "python",
   "name": "python3"
  },
  "language_info": {
   "codemirror_mode": {
    "name": "ipython",
    "version": 3
   },
   "file_extension": ".py",
   "mimetype": "text/x-python",
   "name": "python",
   "nbconvert_exporter": "python",
   "pygments_lexer": "ipython3",
   "version": "3.7.15"
  },
  "papermill": {
   "default_parameters": {},
   "duration": 6.73322,
   "end_time": "2024-06-08T05:40:59.184770",
   "environment_variables": {},
   "exception": null,
   "input_path": "__notebook__.ipynb",
   "output_path": "__notebook__.ipynb",
   "parameters": {},
   "start_time": "2024-06-08T05:40:52.451550",
   "version": "2.5.0"
  }
 },
 "nbformat": 4,
 "nbformat_minor": 5
}
