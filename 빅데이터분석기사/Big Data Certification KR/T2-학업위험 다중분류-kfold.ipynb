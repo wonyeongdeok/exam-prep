{
 "cells": [
  {
   "cell_type": "code",
   "execution_count": 1,
   "id": "c31cde07-d732-4171-a7d9-3037816b8367",
   "metadata": {},
   "outputs": [],
   "source": [
    "import numpy as np\n",
    "import pandas as pd\n",
    "from sklearn.preprocessing import MinMaxScaler, StandardScaler, RobustScaler\n",
    "from sklearn.model_selection import StratifiedKFold\n",
    "from sklearn.ensemble import (VotingClassifier,\n",
    "                              RandomForestClassifier,\n",
    "                              GradientBoostingClassifier,\n",
    "                              AdaBoostClassifier,\n",
    "                              BaggingClassifier)\n",
    "from sklearn.tree import DecisionTreeClassifier\n",
    "from sklearn.svm import SVC\n",
    "from sklearn.neighbors import KNeighborsClassifier\n",
    "from sklearn.naive_bayes import GaussianNB\n",
    "from sklearn.linear_model import LogisticRegression\n",
    "\n",
    "from sklearn.metrics import accuracy_score\n",
    "\n",
    "from xgboost import XGBClassifier\n",
    "from lightgbm import LGBMClassifier\n",
    "from catboost import CatBoostClassifier"
   ]
  },
  {
   "cell_type": "code",
   "execution_count": 2,
   "id": "c5af2a66-687a-497e-973e-a6b1350fed54",
   "metadata": {},
   "outputs": [],
   "source": [
    "random_state = 42"
   ]
  },
  {
   "cell_type": "code",
   "execution_count": 3,
   "id": "f5f45b64-916a-4aa3-9ded-f22db12cc424",
   "metadata": {},
   "outputs": [],
   "source": [
    "# 데이터 로드\n",
    "train = pd.read_csv('dataset/학업위험 예측(다중분류)/train.csv')\n",
    "test = pd.read_csv('dataset/학업위험 예측(다중분류)/test.csv')"
   ]
  },
  {
   "cell_type": "code",
   "execution_count": 4,
   "id": "ea66c16c-d17e-44cc-8b16-e141263db7bf",
   "metadata": {
    "tags": []
   },
   "outputs": [
    {
     "name": "stdout",
     "output_type": "stream",
     "text": [
      "<class 'pandas.core.frame.DataFrame'>\n",
      "RangeIndex: 76518 entries, 0 to 76517\n",
      "Data columns (total 38 columns):\n",
      " #   Column                                          Non-Null Count  Dtype  \n",
      "---  ------                                          --------------  -----  \n",
      " 0   id                                              76518 non-null  int64  \n",
      " 1   Marital status                                  76518 non-null  int64  \n",
      " 2   Application mode                                76518 non-null  int64  \n",
      " 3   Application order                               76518 non-null  int64  \n",
      " 4   Course                                          76518 non-null  int64  \n",
      " 5   Daytime/evening attendance                      76518 non-null  int64  \n",
      " 6   Previous qualification                          76518 non-null  int64  \n",
      " 7   Previous qualification (grade)                  76518 non-null  float64\n",
      " 8   Nacionality                                     76518 non-null  int64  \n",
      " 9   Mother's qualification                          76518 non-null  int64  \n",
      " 10  Father's qualification                          76518 non-null  int64  \n",
      " 11  Mother's occupation                             76518 non-null  int64  \n",
      " 12  Father's occupation                             76518 non-null  int64  \n",
      " 13  Admission grade                                 76518 non-null  float64\n",
      " 14  Displaced                                       76518 non-null  int64  \n",
      " 15  Educational special needs                       76518 non-null  int64  \n",
      " 16  Debtor                                          76518 non-null  int64  \n",
      " 17  Tuition fees up to date                         76518 non-null  int64  \n",
      " 18  Gender                                          76518 non-null  int64  \n",
      " 19  Scholarship holder                              76518 non-null  int64  \n",
      " 20  Age at enrollment                               76518 non-null  int64  \n",
      " 21  International                                   76518 non-null  int64  \n",
      " 22  Curricular units 1st sem (credited)             76518 non-null  int64  \n",
      " 23  Curricular units 1st sem (enrolled)             76518 non-null  int64  \n",
      " 24  Curricular units 1st sem (evaluations)          76518 non-null  int64  \n",
      " 25  Curricular units 1st sem (approved)             76518 non-null  int64  \n",
      " 26  Curricular units 1st sem (grade)                76518 non-null  float64\n",
      " 27  Curricular units 1st sem (without evaluations)  76518 non-null  int64  \n",
      " 28  Curricular units 2nd sem (credited)             76518 non-null  int64  \n",
      " 29  Curricular units 2nd sem (enrolled)             76518 non-null  int64  \n",
      " 30  Curricular units 2nd sem (evaluations)          76518 non-null  int64  \n",
      " 31  Curricular units 2nd sem (approved)             76518 non-null  int64  \n",
      " 32  Curricular units 2nd sem (grade)                76518 non-null  float64\n",
      " 33  Curricular units 2nd sem (without evaluations)  76518 non-null  int64  \n",
      " 34  Unemployment rate                               76518 non-null  float64\n",
      " 35  Inflation rate                                  76518 non-null  float64\n",
      " 36  GDP                                             76518 non-null  float64\n",
      " 37  Target                                          76518 non-null  object \n",
      "dtypes: float64(7), int64(30), object(1)\n",
      "memory usage: 22.2+ MB\n"
     ]
    }
   ],
   "source": [
    "train.info()"
   ]
  },
  {
   "cell_type": "code",
   "execution_count": 5,
   "id": "aba73968-3731-4fcb-8c1d-7046326937b6",
   "metadata": {},
   "outputs": [],
   "source": [
    "# 데이터 분리\n",
    "# kfold 수행 시 DataFrame 객체를 numpy 객체로 변환 필수\n",
    "X = train.drop(['id', 'Target'], axis=1)\n",
    "y = train['Target']\n",
    "test_id = test.pop('id')"
   ]
  },
  {
   "cell_type": "code",
   "execution_count": 6,
   "id": "aa604f64-ed8d-4bdd-9391-6214eed18337",
   "metadata": {},
   "outputs": [
    {
     "name": "stdout",
     "output_type": "stream",
     "text": [
      "(76518, 36)\n",
      "(76518,)\n"
     ]
    }
   ],
   "source": [
    "print(X.shape)\n",
    "print(y.shape)"
   ]
  },
  {
   "cell_type": "code",
   "execution_count": 7,
   "id": "ee5887e4-6440-440b-a54f-da61b62df9d1",
   "metadata": {},
   "outputs": [],
   "source": [
    "# float64 타입 컬럼명 추출\n",
    "float_columns = X.select_dtypes(include=['float64']).columns"
   ]
  },
  {
   "cell_type": "code",
   "execution_count": 8,
   "id": "6703cce4-9a86-4f74-8336-29ae25a5ebb9",
   "metadata": {},
   "outputs": [],
   "source": [
    "# float64 데이터 스케일링\n",
    "scaler = RobustScaler()\n",
    "scaled_float_X = scaler.fit_transform(X[float_columns])\n",
    "scaled_float_X = pd.DataFrame(scaled_float_X, columns=float_columns)\n",
    "scaled_float_test = scaler.transform(test[float_columns])\n",
    "scaled_float_test = pd.DataFrame(scaled_float_test, columns=float_columns)"
   ]
  },
  {
   "cell_type": "code",
   "execution_count": 9,
   "id": "10dd3ac6-182e-4129-8aef-8be90a94674e",
   "metadata": {},
   "outputs": [],
   "source": [
    "# int 데이터와 스케일링 데이터 합치기\n",
    "int_columns = X.select_dtypes(include=['int64']).columns\n",
    "X = pd.concat([scaled_float_X, X[int_columns]], axis=1).to_numpy()\n",
    "test = pd.concat([scaled_float_test, test[int_columns]], axis=1).to_numpy()"
   ]
  },
  {
   "cell_type": "markdown",
   "id": "5cba1fe6-e6ad-44c4-920c-ed72732230bb",
   "metadata": {},
   "source": [
    "### RandomForestClassifer\n",
    "- n_estimators : 트리 개수. 일반적으로 값이 클수록 모델의 성능이 향상 됨\n",
    "- max_depth : 트리 최대 깊이\n",
    "- min_samples_split : 각 노드에서 분할을 위해 필요한 최소 샘플 수\n",
    "- min_samples_leaf : 리프 노드에 필요한 최소 샘플 수\n",
    "- criterion : 불순도 기준"
   ]
  },
  {
   "cell_type": "code",
   "execution_count": 10,
   "id": "98242c0d-ea09-4765-b69b-12c575d0af08",
   "metadata": {},
   "outputs": [],
   "source": [
    "# 모델 객체 생성\n",
    "rf = RandomForestClassifier(criterion='entropy', random_state=random_state)\n",
    "lgbm = LGBMClassifier(verbose=-1)\n",
    "gb = GradientBoostingClassifier()\n",
    "bagging = BaggingClassifier()\n",
    "xgb = XGBClassifier()\n",
    "catboost = CatBoostClassifier(verbose=False)\n",
    "\n",
    "# ada = AdaBoostClassifier()\n",
    "# gnb = GaussianNB()\n",
    "# knn = KNeighborsClassifier()\n",
    "# svm = SVC(probability=True)\n",
    "# lg = LogisticRegression()\n",
    "# dc = DecisionTreeClassifier()\n",
    "\n",
    "# model = VotingClassifier(estimators=[('rf', rf), ('gb', gb), ('dc', dc),\n",
    "#                                      ('ada', ada), ('xgb', xgb),('lgbm', lgbm),\n",
    "#                                      ('catboost', catboost), ('bagging', bagging),\n",
    "#                                      ('gnb', gnb), ('knn', knn), ('svm', svm), ('lg', lg)],\n",
    "#                          voting='hard')  # 소프트 보팅을 사용하여 predict_proba를 기반으로 앙상블\n",
    "\n",
    "model = VotingClassifier(estimators=[('rf', rf), ('gb', gb),('xgb', xgb),('lgbm', lgbm),\n",
    "                                     ('catboost', catboost), ('bagging', bagging),],\n",
    "                         voting='soft')  # 소프트 보팅을 사용하여 predict_proba를 기반으로 앙상블"
   ]
  },
  {
   "cell_type": "markdown",
   "id": "36e8ed76-62b0-4b7f-8d20-ba03d0dd0868",
   "metadata": {},
   "source": [
    "### StratifiedKFold vs ReapeatedStratifiedKFold\n",
    "- StratifiedKFold\n",
    "    - 각 클래스 비율을 각 폴드에서 동일하게 유지\n",
    "    - 각 폴드가 전체 데이터셋의 클래스 분포를 대표함\n",
    "- ReapeatedStratifiedKFold\n",
    "    - skf와 동일하나 n_repeats 각 반복마다 데이터를 다르게 분할하여 더 신뢰할 수 있는 결과 확보"
   ]
  },
  {
   "cell_type": "code",
   "execution_count": 11,
   "id": "f4e48e01-0cd0-49e1-9b21-a624cfbbff36",
   "metadata": {},
   "outputs": [],
   "source": [
    "# 계층화 K-fold 교차 검증 객체 생성\n",
    "skf = StratifiedKFold(n_splits=5, shuffle=True, random_state=random_state)"
   ]
  },
  {
   "cell_type": "code",
   "execution_count": 12,
   "id": "571e8d1c-e171-4be6-b4fa-33ebd5bba2be",
   "metadata": {
    "tags": []
   },
   "outputs": [],
   "source": [
    "# from sklearn.model_selection import cross_val_score\n",
    "# cross_val_score(model, X, y, cv=skf, scoring=\"accuracy\")"
   ]
  },
  {
   "cell_type": "code",
   "execution_count": 13,
   "id": "8bb9acc7-2793-4d52-ab77-4999593057f5",
   "metadata": {
    "tags": []
   },
   "outputs": [
    {
     "name": "stdout",
     "output_type": "stream",
     "text": [
      "0.8335729221118662\n",
      "0.8322660742289597\n",
      "0.8309592263460533\n",
      "0.8290531268378749\n",
      "0.8304907534470365\n"
     ]
    }
   ],
   "source": [
    "best_acc = 0.\n",
    "acc_lst = []\n",
    "\n",
    "for train_idx, val_idx in skf.split(X, y):\n",
    "    X_train, X_val = X[train_idx], X[val_idx]\n",
    "    y_train, y_val = y[train_idx], y[val_idx]\n",
    "    \n",
    "    model.fit(X_train, y_train)\n",
    "    preds_val = model.predict(X_val)\n",
    "    acc_val = accuracy_score(y_val, preds_val)\n",
    "    print(acc_val)\n",
    "    acc_lst.append(acc_val)"
   ]
  },
  {
   "cell_type": "code",
   "execution_count": 14,
   "id": "e270514a-117e-4e47-bff9-951674628e79",
   "metadata": {
    "tags": []
   },
   "outputs": [
    {
     "name": "stdout",
     "output_type": "stream",
     "text": [
      "Mean CV accuracy: 0.8312684205943581\n"
     ]
    }
   ],
   "source": [
    "print('Mean CV accuracy:', np.mean(acc_lst))"
   ]
  },
  {
   "cell_type": "code",
   "execution_count": 15,
   "id": "17a93e2b-4e15-448c-9876-73707c86cd2e",
   "metadata": {},
   "outputs": [
    {
     "data": {
      "text/plain": [
       "VotingClassifier(estimators=[('rf',\n",
       "                              RandomForestClassifier(criterion='entropy',\n",
       "                                                     random_state=42)),\n",
       "                             ('gb', GradientBoostingClassifier()),\n",
       "                             ('xgb',\n",
       "                              XGBClassifier(base_score=None, booster=None,\n",
       "                                            callbacks=None,\n",
       "                                            colsample_bylevel=None,\n",
       "                                            colsample_bynode=None,\n",
       "                                            colsample_bytree=None,\n",
       "                                            early_stopping_rounds=None,\n",
       "                                            enable_categorical=False,\n",
       "                                            eval_metric=None, gamma=None,\n",
       "                                            gpu_id...\n",
       "                                            max_leaves=None,\n",
       "                                            min_child_weight=None, missing=nan,\n",
       "                                            monotone_constraints=None,\n",
       "                                            n_estimators=100, n_jobs=None,\n",
       "                                            num_parallel_tree=None,\n",
       "                                            predictor=None, random_state=None,\n",
       "                                            reg_alpha=None, reg_lambda=None, ...)),\n",
       "                             ('lgbm', LGBMClassifier(verbose=-1)),\n",
       "                             ('catboost',\n",
       "                              <catboost.core.CatBoostClassifier object at 0x00000209228EB108>),\n",
       "                             ('bagging', BaggingClassifier())],\n",
       "                 voting='soft')"
      ]
     },
     "execution_count": 15,
     "metadata": {},
     "output_type": "execute_result"
    }
   ],
   "source": [
    "# 전체 훈련 데이터로 최종 모델 학습\n",
    "model.fit(X, y)"
   ]
  },
  {
   "cell_type": "code",
   "execution_count": 16,
   "id": "8b1eaf87-9584-496f-8cf2-3a4204bd8cae",
   "metadata": {},
   "outputs": [],
   "source": [
    "# 테스트 데이터 추론\n",
    "preds_test = model.predict(test)"
   ]
  },
  {
   "cell_type": "code",
   "execution_count": 17,
   "id": "a3dea5ed-9090-422a-b9e0-dfe149666e76",
   "metadata": {},
   "outputs": [],
   "source": [
    "# 제출\n",
    "submission = pd.DataFrame({'id': test_id, 'Target': preds_test})\n",
    "submission.to_csv('submission_skfold_ensemble.csv', index=False)"
   ]
  },
  {
   "cell_type": "code",
   "execution_count": 18,
   "id": "78b64436-8a59-4197-888c-d2b81455d270",
   "metadata": {},
   "outputs": [],
   "source": [
    "# skt, MinMaxScaler, voting(일부), only 연속형 데이터 스케일링 : 0.83346\n",
    "# skt, StandardScaler, voting(일부), only 연속형 데이터 스케일링 : 0.83267\n",
    "# skt, StandardScaler, voting(전부) : 0.83003\n",
    "# outlier, oversampling, skt, StandardScaler : 별로\n",
    "# skt, StandardScaler : 0.82915\n",
    "# skt, MinMaxScaler : 0.82915\n",
    "# skt         : 0.82846\n",
    "# no          : 0.82650"
   ]
  },
  {
   "cell_type": "code",
   "execution_count": 13,
   "id": "7b4ec027-6cdb-40d5-a879-c16e7ccae02a",
   "metadata": {},
   "outputs": [
    {
     "data": {
      "text/plain": [
       "(0,\n",
       " 0    anyio\n",
       " 1    3.6.2\n",
       " Name: 0, dtype: object)"
      ]
     },
     "execution_count": 13,
     "metadata": {},
     "output_type": "execute_result"
    }
   ],
   "source": [
    "row"
   ]
  },
  {
   "cell_type": "code",
   "execution_count": null,
   "id": "301eb24a-a8ee-4929-b0fc-8df70fe42853",
   "metadata": {},
   "outputs": [],
   "source": []
  }
 ],
 "metadata": {
  "kernelspec": {
   "display_name": "Python 3 (ipykernel)",
   "language": "python",
   "name": "python3"
  },
  "language_info": {
   "codemirror_mode": {
    "name": "ipython",
    "version": 3
   },
   "file_extension": ".py",
   "mimetype": "text/x-python",
   "name": "python",
   "nbconvert_exporter": "python",
   "pygments_lexer": "ipython3",
   "version": "3.7.15"
  }
 },
 "nbformat": 4,
 "nbformat_minor": 5
}
