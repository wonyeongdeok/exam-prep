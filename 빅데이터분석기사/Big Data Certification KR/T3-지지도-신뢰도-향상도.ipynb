{
 "cells": [
  {
   "cell_type": "markdown",
   "id": "6d40f119",
   "metadata": {
    "papermill": {
     "duration": 0.004692,
     "end_time": "2023-11-11T13:25:31.294397",
     "exception": false,
     "start_time": "2023-11-11T13:25:31.289705",
     "status": "completed"
    },
    "tags": []
   },
   "source": [
    "## 지지도, 신뢰도, 향상도\n",
    "- 1. '빼빼로'와 '딴짓초코'가 함께 팔린 거래의 지지도를 계산하세요.\n",
    "- 2. '빼빼로'가 팔린 거래 중에서 '빼빼로'와 '오징어칩'이 함께 팔린 거래의 신뢰도를 계산하세요.\n",
    "- 3. '빼빼로'와 '양조위빵'의 향상도를 계산하세요."
   ]
  },
  {
   "cell_type": "markdown",
   "id": "cc99ced8",
   "metadata": {
    "papermill": {
     "duration": 0.004018,
     "end_time": "2023-11-11T13:25:31.303132",
     "exception": false,
     "start_time": "2023-11-11T13:25:31.299114",
     "status": "completed"
    },
    "tags": []
   },
   "source": [
    "- 지지도(A,B): A와 B가 함께 팔린 거래 횟수 / 전체 거래 횟수\n",
    "- 신뢰도(A->B): A와 B가 함께 팔린 거래 횟수 / A가 팔린 거래 횟수\n",
    "- 향상도(A,B): 신뢰도(A->B) / 지지도(B)"
   ]
  },
  {
   "cell_type": "code",
   "execution_count": 1,
   "id": "62126d65",
   "metadata": {
    "execution": {
     "iopub.execute_input": "2023-11-11T13:25:31.313827Z",
     "iopub.status.busy": "2023-11-11T13:25:31.313385Z",
     "iopub.status.idle": "2023-11-11T13:25:31.688330Z",
     "shell.execute_reply": "2023-11-11T13:25:31.687298Z"
    },
    "papermill": {
     "duration": 0.383116,
     "end_time": "2023-11-11T13:25:31.690882",
     "exception": false,
     "start_time": "2023-11-11T13:25:31.307766",
     "status": "completed"
    },
    "tags": []
   },
   "outputs": [
    {
     "data": {
      "text/html": [
       "<div>\n",
       "<style scoped>\n",
       "    .dataframe tbody tr th:only-of-type {\n",
       "        vertical-align: middle;\n",
       "    }\n",
       "\n",
       "    .dataframe tbody tr th {\n",
       "        vertical-align: top;\n",
       "    }\n",
       "\n",
       "    .dataframe thead th {\n",
       "        text-align: right;\n",
       "    }\n",
       "</style>\n",
       "<table border=\"1\" class=\"dataframe\">\n",
       "  <thead>\n",
       "    <tr style=\"text-align: right;\">\n",
       "      <th></th>\n",
       "      <th>transaction</th>\n",
       "      <th>빼빼로</th>\n",
       "      <th>딴짓초코</th>\n",
       "      <th>양조위빵</th>\n",
       "      <th>오징어칩</th>\n",
       "      <th>초코파이</th>\n",
       "    </tr>\n",
       "  </thead>\n",
       "  <tbody>\n",
       "    <tr>\n",
       "      <th>0</th>\n",
       "      <td>1</td>\n",
       "      <td>1</td>\n",
       "      <td>0</td>\n",
       "      <td>1</td>\n",
       "      <td>0</td>\n",
       "      <td>1</td>\n",
       "    </tr>\n",
       "    <tr>\n",
       "      <th>1</th>\n",
       "      <td>2</td>\n",
       "      <td>0</td>\n",
       "      <td>1</td>\n",
       "      <td>0</td>\n",
       "      <td>1</td>\n",
       "      <td>1</td>\n",
       "    </tr>\n",
       "    <tr>\n",
       "      <th>2</th>\n",
       "      <td>3</td>\n",
       "      <td>1</td>\n",
       "      <td>1</td>\n",
       "      <td>0</td>\n",
       "      <td>1</td>\n",
       "      <td>0</td>\n",
       "    </tr>\n",
       "    <tr>\n",
       "      <th>3</th>\n",
       "      <td>4</td>\n",
       "      <td>1</td>\n",
       "      <td>0</td>\n",
       "      <td>1</td>\n",
       "      <td>0</td>\n",
       "      <td>0</td>\n",
       "    </tr>\n",
       "    <tr>\n",
       "      <th>4</th>\n",
       "      <td>5</td>\n",
       "      <td>0</td>\n",
       "      <td>1</td>\n",
       "      <td>1</td>\n",
       "      <td>0</td>\n",
       "      <td>1</td>\n",
       "    </tr>\n",
       "    <tr>\n",
       "      <th>5</th>\n",
       "      <td>6</td>\n",
       "      <td>1</td>\n",
       "      <td>0</td>\n",
       "      <td>1</td>\n",
       "      <td>1</td>\n",
       "      <td>0</td>\n",
       "    </tr>\n",
       "    <tr>\n",
       "      <th>6</th>\n",
       "      <td>7</td>\n",
       "      <td>1</td>\n",
       "      <td>1</td>\n",
       "      <td>0</td>\n",
       "      <td>0</td>\n",
       "      <td>1</td>\n",
       "    </tr>\n",
       "    <tr>\n",
       "      <th>7</th>\n",
       "      <td>8</td>\n",
       "      <td>0</td>\n",
       "      <td>1</td>\n",
       "      <td>0</td>\n",
       "      <td>1</td>\n",
       "      <td>1</td>\n",
       "    </tr>\n",
       "    <tr>\n",
       "      <th>8</th>\n",
       "      <td>9</td>\n",
       "      <td>1</td>\n",
       "      <td>0</td>\n",
       "      <td>1</td>\n",
       "      <td>1</td>\n",
       "      <td>0</td>\n",
       "    </tr>\n",
       "    <tr>\n",
       "      <th>9</th>\n",
       "      <td>10</td>\n",
       "      <td>1</td>\n",
       "      <td>0</td>\n",
       "      <td>0</td>\n",
       "      <td>1</td>\n",
       "      <td>0</td>\n",
       "    </tr>\n",
       "  </tbody>\n",
       "</table>\n",
       "</div>"
      ],
      "text/plain": [
       "   transaction  빼빼로  딴짓초코  양조위빵  오징어칩  초코파이\n",
       "0            1    1     0     1     0     1\n",
       "1            2    0     1     0     1     1\n",
       "2            3    1     1     0     1     0\n",
       "3            4    1     0     1     0     0\n",
       "4            5    0     1     1     0     1\n",
       "5            6    1     0     1     1     0\n",
       "6            7    1     1     0     0     1\n",
       "7            8    0     1     0     1     1\n",
       "8            9    1     0     1     1     0\n",
       "9           10    1     0     0     1     0"
      ]
     },
     "execution_count": 1,
     "metadata": {},
     "output_type": "execute_result"
    }
   ],
   "source": [
    "import pandas as pd\n",
    "# 데이터\n",
    "df = pd.DataFrame({\n",
    "    'transaction': [1, 2, 3, 4, 5, 6, 7, 8, 9, 10],\n",
    "    '빼빼로': [1, 0, 1, 1, 0, 1, 1, 0, 1, 1],\n",
    "    '딴짓초코': [0, 1, 1, 0, 1, 0, 1, 1, 0, 0],\n",
    "    '양조위빵': [1, 0, 0, 1, 1, 1, 0, 0, 1, 0],\n",
    "    '오징어칩': [0, 1, 1, 0, 0, 1, 0, 1, 1, 1],\n",
    "    '초코파이': [1, 1, 0, 0, 1, 0, 1, 1, 0, 0]\n",
    "})\n",
    "df"
   ]
  },
  {
   "cell_type": "code",
   "execution_count": null,
   "id": "ffe244cb",
   "metadata": {
    "papermill": {
     "duration": 0.004296,
     "end_time": "2023-11-11T13:25:31.701819",
     "exception": false,
     "start_time": "2023-11-11T13:25:31.697523",
     "status": "completed"
    },
    "tags": []
   },
   "outputs": [],
   "source": []
  },
  {
   "cell_type": "code",
   "execution_count": null,
   "id": "2138f3a2",
   "metadata": {
    "papermill": {
     "duration": 0.004179,
     "end_time": "2023-11-11T13:25:31.710461",
     "exception": false,
     "start_time": "2023-11-11T13:25:31.706282",
     "status": "completed"
    },
    "tags": []
   },
   "outputs": [],
   "source": []
  },
  {
   "cell_type": "code",
   "execution_count": null,
   "id": "570c7934",
   "metadata": {
    "papermill": {
     "duration": 0.004237,
     "end_time": "2023-11-11T13:25:31.719075",
     "exception": false,
     "start_time": "2023-11-11T13:25:31.714838",
     "status": "completed"
    },
    "tags": []
   },
   "outputs": [],
   "source": []
  },
  {
   "cell_type": "code",
   "execution_count": null,
   "id": "e9db603f",
   "metadata": {
    "papermill": {
     "duration": 0.004216,
     "end_time": "2023-11-11T13:25:31.727734",
     "exception": false,
     "start_time": "2023-11-11T13:25:31.723518",
     "status": "completed"
    },
    "tags": []
   },
   "outputs": [],
   "source": []
  },
  {
   "cell_type": "code",
   "execution_count": null,
   "id": "572ec9ba",
   "metadata": {
    "papermill": {
     "duration": 0.004361,
     "end_time": "2023-11-11T13:25:31.737080",
     "exception": false,
     "start_time": "2023-11-11T13:25:31.732719",
     "status": "completed"
    },
    "tags": []
   },
   "outputs": [],
   "source": []
  },
  {
   "cell_type": "code",
   "execution_count": null,
   "id": "1f81f243",
   "metadata": {
    "papermill": {
     "duration": 0.004205,
     "end_time": "2023-11-11T13:25:31.745720",
     "exception": false,
     "start_time": "2023-11-11T13:25:31.741515",
     "status": "completed"
    },
    "tags": []
   },
   "outputs": [],
   "source": []
  },
  {
   "cell_type": "code",
   "execution_count": null,
   "id": "802183c8",
   "metadata": {
    "papermill": {
     "duration": 0.004138,
     "end_time": "2023-11-11T13:25:31.754158",
     "exception": false,
     "start_time": "2023-11-11T13:25:31.750020",
     "status": "completed"
    },
    "tags": []
   },
   "outputs": [],
   "source": []
  },
  {
   "cell_type": "code",
   "execution_count": null,
   "id": "09bf5e8f",
   "metadata": {
    "papermill": {
     "duration": 0.004263,
     "end_time": "2023-11-11T13:25:31.762809",
     "exception": false,
     "start_time": "2023-11-11T13:25:31.758546",
     "status": "completed"
    },
    "tags": []
   },
   "outputs": [],
   "source": []
  },
  {
   "cell_type": "code",
   "execution_count": null,
   "id": "b91485ea",
   "metadata": {
    "papermill": {
     "duration": 0.004188,
     "end_time": "2023-11-11T13:25:31.771466",
     "exception": false,
     "start_time": "2023-11-11T13:25:31.767278",
     "status": "completed"
    },
    "tags": []
   },
   "outputs": [],
   "source": []
  },
  {
   "cell_type": "code",
   "execution_count": null,
   "id": "7982da6a",
   "metadata": {
    "papermill": {
     "duration": 0.004186,
     "end_time": "2023-11-11T13:25:31.780124",
     "exception": false,
     "start_time": "2023-11-11T13:25:31.775938",
     "status": "completed"
    },
    "tags": []
   },
   "outputs": [],
   "source": []
  },
  {
   "cell_type": "code",
   "execution_count": null,
   "id": "b0e2576b",
   "metadata": {
    "papermill": {
     "duration": 0.004169,
     "end_time": "2023-11-11T13:25:31.788677",
     "exception": false,
     "start_time": "2023-11-11T13:25:31.784508",
     "status": "completed"
    },
    "tags": []
   },
   "outputs": [],
   "source": []
  },
  {
   "cell_type": "code",
   "execution_count": null,
   "id": "6eba4fb3",
   "metadata": {
    "papermill": {
     "duration": 0.004135,
     "end_time": "2023-11-11T13:25:31.797109",
     "exception": false,
     "start_time": "2023-11-11T13:25:31.792974",
     "status": "completed"
    },
    "tags": []
   },
   "outputs": [],
   "source": []
  },
  {
   "cell_type": "code",
   "execution_count": null,
   "id": "9c4eab03",
   "metadata": {
    "papermill": {
     "duration": 0.00421,
     "end_time": "2023-11-11T13:25:31.805560",
     "exception": false,
     "start_time": "2023-11-11T13:25:31.801350",
     "status": "completed"
    },
    "tags": []
   },
   "outputs": [],
   "source": []
  },
  {
   "cell_type": "code",
   "execution_count": null,
   "id": "35b75175",
   "metadata": {
    "papermill": {
     "duration": 0.004117,
     "end_time": "2023-11-11T13:25:31.813957",
     "exception": false,
     "start_time": "2023-11-11T13:25:31.809840",
     "status": "completed"
    },
    "tags": []
   },
   "outputs": [],
   "source": []
  },
  {
   "cell_type": "code",
   "execution_count": null,
   "id": "a111e123",
   "metadata": {
    "papermill": {
     "duration": 0.004165,
     "end_time": "2023-11-11T13:25:31.822494",
     "exception": false,
     "start_time": "2023-11-11T13:25:31.818329",
     "status": "completed"
    },
    "tags": []
   },
   "outputs": [],
   "source": []
  },
  {
   "cell_type": "code",
   "execution_count": null,
   "id": "e9e34aec",
   "metadata": {
    "papermill": {
     "duration": 0.00432,
     "end_time": "2023-11-11T13:25:31.831277",
     "exception": false,
     "start_time": "2023-11-11T13:25:31.826957",
     "status": "completed"
    },
    "tags": []
   },
   "outputs": [],
   "source": []
  },
  {
   "cell_type": "code",
   "execution_count": null,
   "id": "955d5b83",
   "metadata": {
    "papermill": {
     "duration": 0.004201,
     "end_time": "2023-11-11T13:25:31.839991",
     "exception": false,
     "start_time": "2023-11-11T13:25:31.835790",
     "status": "completed"
    },
    "tags": []
   },
   "outputs": [],
   "source": []
  },
  {
   "cell_type": "code",
   "execution_count": 2,
   "id": "7a959613",
   "metadata": {
    "execution": {
     "iopub.execute_input": "2023-11-11T13:25:31.851001Z",
     "iopub.status.busy": "2023-11-11T13:25:31.850488Z",
     "iopub.status.idle": "2023-11-11T13:25:31.871612Z",
     "shell.execute_reply": "2023-11-11T13:25:31.870210Z"
    },
    "papermill": {
     "duration": 0.029476,
     "end_time": "2023-11-11T13:25:31.873923",
     "exception": false,
     "start_time": "2023-11-11T13:25:31.844447",
     "status": "completed"
    },
    "tags": []
   },
   "outputs": [
    {
     "name": "stdout",
     "output_type": "stream",
     "text": [
      "0.2\n",
      "0.5714285714285714\n",
      "1.1428571428571428\n"
     ]
    }
   ],
   "source": [
    "import pandas as pd\n",
    "\n",
    "# 데이터\n",
    "df = pd.DataFrame({\n",
    "    'transaction': [1, 2, 3, 4, 5, 6, 7, 8, 9, 10],\n",
    "    '빼빼로': [1, 0, 1, 1, 0, 1, 1, 0, 1, 1],\n",
    "    '딴짓초코': [0, 1, 1, 0, 1, 0, 1, 1, 0, 0],\n",
    "    '양조위빵': [1, 0, 0, 1, 1, 1, 0, 0, 1, 0],\n",
    "    '오징어칩': [0, 1, 1, 0, 0, 1, 0, 1, 1, 1],\n",
    "    '초코파이': [1, 1, 0, 0, 1, 0, 1, 1, 0, 0]\n",
    "})\n",
    "\n",
    "\n",
    "# 각 문제의 계산을 위한 데이터 준비\n",
    "total = df.shape[0]\n",
    "pepero = df['빼빼로'].sum()\n",
    "\n",
    "# 문제 1: 빼빼로와 딴짓초코가 함께 팔린 거래의 지지도\n",
    "pepero_and_choco = len(df[(df['빼빼로'] == 1) & (df['딴짓초코'] == 1)])\n",
    "print(pepero_and_choco / total)\n",
    "\n",
    "# 문제 2: 빼빼로가 팔린 거래 중 빼빼로와 오징어칩이 함께 팔린 거래의 신뢰도\n",
    "pepero_and_squid = len(df[(df['빼빼로'] == 1) & (df['오징어칩'] == 1)])\n",
    "print(pepero_and_squid / pepero)\n",
    "\n",
    "# 문제 3: 빼빼로와 양조위빵의 향상도\n",
    "pepero_and_bread = len(df[(df['빼빼로'] == 1) & (df['양조위빵'] == 1)])\n",
    "bread = df['양조위빵'].sum()\n",
    "print((pepero_and_bread / pepero) / (bread / total))"
   ]
  },
  {
   "cell_type": "code",
   "execution_count": null,
   "id": "188afeeb",
   "metadata": {
    "papermill": {
     "duration": 0.004525,
     "end_time": "2023-11-11T13:25:31.883216",
     "exception": false,
     "start_time": "2023-11-11T13:25:31.878691",
     "status": "completed"
    },
    "tags": []
   },
   "outputs": [],
   "source": []
  }
 ],
 "metadata": {
  "kernelspec": {
   "display_name": "Python 3 (ipykernel)",
   "language": "python",
   "name": "python3"
  },
  "language_info": {
   "codemirror_mode": {
    "name": "ipython",
    "version": 3
   },
   "file_extension": ".py",
   "mimetype": "text/x-python",
   "name": "python",
   "nbconvert_exporter": "python",
   "pygments_lexer": "ipython3",
   "version": "3.7.15"
  },
  "papermill": {
   "default_parameters": {},
   "duration": 3.943926,
   "end_time": "2023-11-11T13:25:32.307183",
   "environment_variables": {},
   "exception": null,
   "input_path": "__notebook__.ipynb",
   "output_path": "__notebook__.ipynb",
   "parameters": {},
   "start_time": "2023-11-11T13:25:28.363257",
   "version": "2.4.0"
  }
 },
 "nbformat": 4,
 "nbformat_minor": 5
}
