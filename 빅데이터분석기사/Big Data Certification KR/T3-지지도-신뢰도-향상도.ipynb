{
 "cells": [
  {
   "cell_type": "markdown",
   "id": "6d40f119",
   "metadata": {
    "papermill": {
     "duration": 0.004692,
     "end_time": "2023-11-11T13:25:31.294397",
     "exception": false,
     "start_time": "2023-11-11T13:25:31.289705",
     "status": "completed"
    },
    "tags": []
   },
   "source": [
    "## 지지도, 신뢰도, 향상도\n",
    "- 1. '빼빼로'와 '딴짓초코'가 함께 팔린 거래의 지지도를 계산하세요.\n",
    "- 2. '빼빼로'가 팔린 거래 중에서 '빼빼로'와 '오징어칩'이 함께 팔린 거래의 신뢰도를 계산하세요.\n",
    "- 3. '빼빼로'와 '양조위빵'의 향상도를 계산하세요."
   ]
  },
  {
   "cell_type": "markdown",
   "id": "cc99ced8",
   "metadata": {
    "papermill": {
     "duration": 0.004018,
     "end_time": "2023-11-11T13:25:31.303132",
     "exception": false,
     "start_time": "2023-11-11T13:25:31.299114",
     "status": "completed"
    },
    "tags": []
   },
   "source": [
    "- 지지도(A,B): A와 B가 함께 팔린 거래 횟수 / 전체 거래 횟수\n",
    "- 신뢰도(A->B): A와 B가 함께 팔린 거래 횟수 / A가 팔린 거래 횟수\n",
    "- 향상도(A,B): 신뢰도(A->B) / 지지도(B)"
   ]
  },
  {
   "cell_type": "code",
   "execution_count": 24,
   "id": "62126d65",
   "metadata": {
    "papermill": {
     "duration": 0.383116,
     "end_time": "2023-11-11T13:25:31.690882",
     "exception": false,
     "start_time": "2023-11-11T13:25:31.307766",
     "status": "completed"
    },
    "tags": []
   },
   "outputs": [
    {
     "data": {
      "text/html": [
       "<div>\n",
       "<style scoped>\n",
       "    .dataframe tbody tr th:only-of-type {\n",
       "        vertical-align: middle;\n",
       "    }\n",
       "\n",
       "    .dataframe tbody tr th {\n",
       "        vertical-align: top;\n",
       "    }\n",
       "\n",
       "    .dataframe thead th {\n",
       "        text-align: right;\n",
       "    }\n",
       "</style>\n",
       "<table border=\"1\" class=\"dataframe\">\n",
       "  <thead>\n",
       "    <tr style=\"text-align: right;\">\n",
       "      <th></th>\n",
       "      <th>transaction</th>\n",
       "      <th>빼빼로</th>\n",
       "      <th>딴짓초코</th>\n",
       "      <th>양조위빵</th>\n",
       "      <th>오징어칩</th>\n",
       "      <th>초코파이</th>\n",
       "    </tr>\n",
       "  </thead>\n",
       "  <tbody>\n",
       "    <tr>\n",
       "      <th>0</th>\n",
       "      <td>1</td>\n",
       "      <td>1</td>\n",
       "      <td>0</td>\n",
       "      <td>1</td>\n",
       "      <td>0</td>\n",
       "      <td>1</td>\n",
       "    </tr>\n",
       "    <tr>\n",
       "      <th>1</th>\n",
       "      <td>2</td>\n",
       "      <td>0</td>\n",
       "      <td>1</td>\n",
       "      <td>0</td>\n",
       "      <td>1</td>\n",
       "      <td>1</td>\n",
       "    </tr>\n",
       "    <tr>\n",
       "      <th>2</th>\n",
       "      <td>3</td>\n",
       "      <td>1</td>\n",
       "      <td>1</td>\n",
       "      <td>0</td>\n",
       "      <td>1</td>\n",
       "      <td>0</td>\n",
       "    </tr>\n",
       "    <tr>\n",
       "      <th>3</th>\n",
       "      <td>4</td>\n",
       "      <td>1</td>\n",
       "      <td>0</td>\n",
       "      <td>1</td>\n",
       "      <td>0</td>\n",
       "      <td>0</td>\n",
       "    </tr>\n",
       "    <tr>\n",
       "      <th>4</th>\n",
       "      <td>5</td>\n",
       "      <td>0</td>\n",
       "      <td>1</td>\n",
       "      <td>1</td>\n",
       "      <td>0</td>\n",
       "      <td>1</td>\n",
       "    </tr>\n",
       "    <tr>\n",
       "      <th>5</th>\n",
       "      <td>6</td>\n",
       "      <td>1</td>\n",
       "      <td>0</td>\n",
       "      <td>1</td>\n",
       "      <td>1</td>\n",
       "      <td>0</td>\n",
       "    </tr>\n",
       "    <tr>\n",
       "      <th>6</th>\n",
       "      <td>7</td>\n",
       "      <td>1</td>\n",
       "      <td>1</td>\n",
       "      <td>0</td>\n",
       "      <td>0</td>\n",
       "      <td>1</td>\n",
       "    </tr>\n",
       "    <tr>\n",
       "      <th>7</th>\n",
       "      <td>8</td>\n",
       "      <td>0</td>\n",
       "      <td>1</td>\n",
       "      <td>0</td>\n",
       "      <td>1</td>\n",
       "      <td>1</td>\n",
       "    </tr>\n",
       "    <tr>\n",
       "      <th>8</th>\n",
       "      <td>9</td>\n",
       "      <td>1</td>\n",
       "      <td>0</td>\n",
       "      <td>1</td>\n",
       "      <td>1</td>\n",
       "      <td>0</td>\n",
       "    </tr>\n",
       "    <tr>\n",
       "      <th>9</th>\n",
       "      <td>10</td>\n",
       "      <td>1</td>\n",
       "      <td>0</td>\n",
       "      <td>0</td>\n",
       "      <td>1</td>\n",
       "      <td>0</td>\n",
       "    </tr>\n",
       "  </tbody>\n",
       "</table>\n",
       "</div>"
      ],
      "text/plain": [
       "   transaction  빼빼로  딴짓초코  양조위빵  오징어칩  초코파이\n",
       "0            1    1     0     1     0     1\n",
       "1            2    0     1     0     1     1\n",
       "2            3    1     1     0     1     0\n",
       "3            4    1     0     1     0     0\n",
       "4            5    0     1     1     0     1\n",
       "5            6    1     0     1     1     0\n",
       "6            7    1     1     0     0     1\n",
       "7            8    0     1     0     1     1\n",
       "8            9    1     0     1     1     0\n",
       "9           10    1     0     0     1     0"
      ]
     },
     "execution_count": 24,
     "metadata": {},
     "output_type": "execute_result"
    }
   ],
   "source": [
    "import pandas as pd\n",
    "# 데이터\n",
    "df = pd.DataFrame({\n",
    "    'transaction': [1, 2, 3, 4, 5, 6, 7, 8, 9, 10],\n",
    "    '빼빼로': [1, 0, 1, 1, 0, 1, 1, 0, 1, 1],\n",
    "    '딴짓초코': [0, 1, 1, 0, 1, 0, 1, 1, 0, 0],\n",
    "    '양조위빵': [1, 0, 0, 1, 1, 1, 0, 0, 1, 0],\n",
    "    '오징어칩': [0, 1, 1, 0, 0, 1, 0, 1, 1, 1],\n",
    "    '초코파이': [1, 1, 0, 0, 1, 0, 1, 1, 0, 0]\n",
    "})\n",
    "df"
   ]
  },
  {
   "cell_type": "markdown",
   "id": "aeef01d3-258c-44a8-a540-31fa970eac21",
   "metadata": {},
   "source": [
    "### 지지도(A,B)\n",
    "- A와 B가 함께 팔린 거래 횟수 / 전체 거래 횟수"
   ]
  },
  {
   "cell_type": "code",
   "execution_count": 25,
   "id": "616bc061-ce20-4bee-b4dc-16d1783e1273",
   "metadata": {},
   "outputs": [
    {
     "data": {
      "text/plain": [
       "0.2"
      ]
     },
     "execution_count": 25,
     "metadata": {},
     "output_type": "execute_result"
    }
   ],
   "source": [
    "# 1. '빼빼로'와 '딴짓초코'가 함께 팔린 거래의 지지도를 계산하세요.\n",
    "cond1 = df['빼빼로'] == 1\n",
    "cond2 = df['딴짓초코'] == 1\n",
    "cond = cond1 & cond2\n",
    "df[cond].shape[0] / df.shape[0]"
   ]
  },
  {
   "cell_type": "markdown",
   "id": "e055f2fb-f0ed-4ea0-9786-2fb3cf107a3b",
   "metadata": {},
   "source": [
    "### 신뢰도(A->B)\n",
    "- A와 B가 함께 팔린 거래 횟수 / A가 팔린 거래 횟수"
   ]
  },
  {
   "cell_type": "code",
   "execution_count": 26,
   "id": "3708a37e-9312-47e2-8960-15a2ca3c8a59",
   "metadata": {},
   "outputs": [],
   "source": [
    "# 2. '빼빼로'가 팔린 거래 중에서 '빼빼로'와 '오징어칩'이 함께 팔린 거래의 신뢰도를 계산하세요."
   ]
  },
  {
   "cell_type": "code",
   "execution_count": 27,
   "id": "b3dd80b7-dded-4fec-8b72-28328f3614e6",
   "metadata": {},
   "outputs": [],
   "source": [
    "cond1 = df['빼빼로'] == 1\n",
    "cond2 = df['오징어칩'] == 1\n",
    "cond = cond1 & cond2"
   ]
  },
  {
   "cell_type": "code",
   "execution_count": 28,
   "id": "4052c928-8f4b-4812-9681-886e7b0e7f34",
   "metadata": {},
   "outputs": [
    {
     "data": {
      "text/plain": [
       "0.5714285714285714"
      ]
     },
     "execution_count": 28,
     "metadata": {},
     "output_type": "execute_result"
    }
   ],
   "source": [
    "df[cond].shape[0] / df[cond1].shape[0]"
   ]
  },
  {
   "cell_type": "markdown",
   "id": "379fe1d8-b56d-48bb-a980-766ac20af5a3",
   "metadata": {},
   "source": [
    "### 향상도(A,B)\n",
    "- 신뢰도(A->B) / 지지도(B)"
   ]
  },
  {
   "cell_type": "code",
   "execution_count": 29,
   "id": "3549f8df-b30b-4693-9f6f-2f4efbd8300e",
   "metadata": {},
   "outputs": [],
   "source": [
    "# 3. '빼빼로'와 '양조위빵'의 향상도를 계산하세요."
   ]
  },
  {
   "cell_type": "code",
   "execution_count": 36,
   "id": "7a978bfb-42c3-46e6-b83d-d6d344383ff8",
   "metadata": {},
   "outputs": [],
   "source": [
    "# 신뢰도(A->B)\n",
    "cond1 = df['빼빼로'] == 1\n",
    "cond2 = df['양조위빵'] == 1\n",
    "cond = cond1 & cond2\n",
    "df[cond].shape[0] / df[cond1].shape[0]"
   ]
  },
  {
   "cell_type": "code",
   "execution_count": 37,
   "id": "ca0d9628-8563-44af-81c2-92def832124f",
   "metadata": {},
   "outputs": [],
   "source": [
    "# 지지도(B)\n",
    "df[df['양조위빵'] == 1].shape[0] / df.shape[0]"
   ]
  },
  {
   "cell_type": "code",
   "execution_count": 43,
   "id": "e4023d50-af4e-4570-9eec-8999a5a3e076",
   "metadata": {},
   "outputs": [
    {
     "data": {
      "text/plain": [
       "1.1428571428571428"
      ]
     },
     "execution_count": 43,
     "metadata": {},
     "output_type": "execute_result"
    }
   ],
   "source": [
    "# 향상도\n",
    "(df[cond].shape[0] / df[cond1].shape[0]) / (df[df['양조위빵'] == 1].shape[0] / df.shape[0])"
   ]
  },
  {
   "cell_type": "code",
   "execution_count": null,
   "id": "2ef2fe6a-44c2-4dff-ae97-70663836bcfa",
   "metadata": {},
   "outputs": [],
   "source": []
  },
  {
   "cell_type": "code",
   "execution_count": null,
   "id": "8577bbc8-a81c-4939-ab5c-9fc06b55801b",
   "metadata": {},
   "outputs": [],
   "source": []
  },
  {
   "cell_type": "code",
   "execution_count": null,
   "id": "188afeeb",
   "metadata": {
    "papermill": {
     "duration": 0.004525,
     "end_time": "2023-11-11T13:25:31.883216",
     "exception": false,
     "start_time": "2023-11-11T13:25:31.878691",
     "status": "completed"
    },
    "tags": []
   },
   "outputs": [],
   "source": []
  }
 ],
 "metadata": {
  "kernelspec": {
   "display_name": "Python 3 (ipykernel)",
   "language": "python",
   "name": "python3"
  },
  "language_info": {
   "codemirror_mode": {
    "name": "ipython",
    "version": 3
   },
   "file_extension": ".py",
   "mimetype": "text/x-python",
   "name": "python",
   "nbconvert_exporter": "python",
   "pygments_lexer": "ipython3",
   "version": "3.7.15"
  },
  "papermill": {
   "default_parameters": {},
   "duration": 3.943926,
   "end_time": "2023-11-11T13:25:32.307183",
   "environment_variables": {},
   "exception": null,
   "input_path": "__notebook__.ipynb",
   "output_path": "__notebook__.ipynb",
   "parameters": {},
   "start_time": "2023-11-11T13:25:28.363257",
   "version": "2.4.0"
  }
 },
 "nbformat": 4,
 "nbformat_minor": 5
}
