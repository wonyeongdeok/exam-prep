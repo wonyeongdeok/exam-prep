{
 "cells": [
  {
   "cell_type": "code",
   "execution_count": 1,
   "id": "411455f8",
   "metadata": {
    "_cell_guid": "b1076dfc-b9ad-4769-8c92-a6c4dae69d19",
    "_uuid": "8f2839f25d086af736a60e9eeb907d3b93b6e0e5",
    "execution": {
     "iopub.execute_input": "2024-05-30T18:15:21.498691Z",
     "iopub.status.busy": "2024-05-30T18:15:21.497889Z",
     "iopub.status.idle": "2024-05-30T18:15:22.525766Z",
     "shell.execute_reply": "2024-05-30T18:15:22.524683Z"
    },
    "papermill": {
     "duration": 1.035036,
     "end_time": "2024-05-30T18:15:22.528284",
     "exception": false,
     "start_time": "2024-05-30T18:15:21.493248",
     "status": "completed"
    },
    "tags": []
   },
   "outputs": [
    {
     "data": {
      "text/plain": [
       "'MiscVal'"
      ]
     },
     "execution_count": 1,
     "metadata": {},
     "output_type": "execute_result"
    }
   ],
   "source": [
    "import numpy as np\n",
    "import pandas as pd\n",
    "\n",
    "df = pd.read_csv(\"dataset/주택가격 회귀/train.csv\")\n",
    "\n",
    "# 수치형 데이터만 사용\n",
    "df = df.select_dtypes(exclude='object')\n",
    "\n",
    "# 중앙값으로 결측치 채우기\n",
    "df = df.fillna(df.median())\n",
    "\n",
    "# 왜도 구하기 (1)\n",
    "skewness = df.skew()\n",
    "max_skew = skewness.max()\n",
    "max_skew_col = skewness[skewness == max_skew].index[0]\n",
    "max_skew_col\n",
    "\n",
    "# 왜도 구하기 (2)\n",
    "skewness = df.skew()\n",
    "skewness.idxmax()"
   ]
  },
  {
   "cell_type": "code",
   "execution_count": null,
   "id": "0939fd5f",
   "metadata": {
    "papermill": {
     "duration": 0.001611,
     "end_time": "2024-05-30T18:15:22.531957",
     "exception": false,
     "start_time": "2024-05-30T18:15:22.530346",
     "status": "completed"
    },
    "tags": []
   },
   "outputs": [],
   "source": []
  }
 ],
 "metadata": {
  "kaggle": {
   "accelerator": "none",
   "dataSources": [
    {
     "databundleVersionId": 8679044,
     "sourceId": 80704,
     "sourceType": "competition"
    }
   ],
   "dockerImageVersionId": 30698,
   "isGpuEnabled": false,
   "isInternetEnabled": true,
   "language": "python",
   "sourceType": "notebook"
  },
  "kernelspec": {
   "display_name": "Python 3",
   "language": "python",
   "name": "python3"
  },
  "language_info": {
   "codemirror_mode": {
    "name": "ipython",
    "version": 3
   },
   "file_extension": ".py",
   "mimetype": "text/x-python",
   "name": "python",
   "nbconvert_exporter": "python",
   "pygments_lexer": "ipython3",
   "version": "3.10.13"
  },
  "papermill": {
   "default_parameters": {},
   "duration": 4.454882,
   "end_time": "2024-05-30T18:15:23.056711",
   "environment_variables": {},
   "exception": null,
   "input_path": "__notebook__.ipynb",
   "output_path": "__notebook__.ipynb",
   "parameters": {},
   "start_time": "2024-05-30T18:15:18.601829",
   "version": "2.5.0"
  }
 },
 "nbformat": 4,
 "nbformat_minor": 5
}
