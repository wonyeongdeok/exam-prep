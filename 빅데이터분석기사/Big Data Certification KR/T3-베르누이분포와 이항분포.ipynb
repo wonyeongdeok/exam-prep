{
 "cells": [
  {
   "cell_type": "markdown",
   "id": "582022d4",
   "metadata": {
    "papermill": {
     "duration": 0.005981,
     "end_time": "2023-11-23T02:46:18.200344",
     "exception": false,
     "start_time": "2023-11-23T02:46:18.194363",
     "status": "completed"
    },
    "tags": []
   },
   "source": [
    "## 베르누이 분포와 이항분포**\n",
    "1. [베르누이 분포] 다음 데이터는 100번의 시도에서 각각 성공(1) 또는 실패(0)를 나타냅니다. 이 데이터를 바탕으로 각 시도의 성공 확률을 계산하시오.\n",
    "2. [이항분포] 1번 문제에서 계산한 성공 확률을 사용하여, 100번의 시도 중 정확히 60번 성공할 확률을 계산하시오."
   ]
  },
  {
   "cell_type": "markdown",
   "id": "3ffd91c6",
   "metadata": {
    "papermill": {
     "duration": 0.004129,
     "end_time": "2023-11-23T02:46:19.284688",
     "exception": false,
     "start_time": "2023-11-23T02:46:19.280559",
     "status": "completed"
    },
    "tags": []
   },
   "source": [
    "binom.pmf(k, n, p) 함수는 이항 분포의 확률 질량 함수(Probability Mass Function, PMF)를 계산하는 데 사용됩니다. 이 함수는 이산 확률 분포인 이항 분포에서 특정한 성공 횟수 k가 나타날 확률을 계산합니다. 함수의 각 매개변수는 다음과 같은 의미를 가집니다:\n",
    "\n",
    "- k: 관측하고자 하는 성공 횟수입니다.\n",
    "- n: 전체 시도 횟수입니다.\n",
    "- p: 각 시도에서 성공할 확률입니다."
   ]
  },
  {
   "cell_type": "code",
   "execution_count": 22,
   "id": "cfd66024-59ac-4be0-bbc8-9846afa8c61f",
   "metadata": {
    "papermill": {
     "duration": 0.003555,
     "end_time": "2023-11-23T02:46:18.215169",
     "exception": false,
     "start_time": "2023-11-23T02:46:18.211614",
     "status": "completed"
    },
    "tags": []
   },
   "outputs": [
    {
     "data": {
      "text/plain": [
       "100"
      ]
     },
     "execution_count": 22,
     "metadata": {},
     "output_type": "execute_result"
    }
   ],
   "source": [
    "import pandas as pd\n",
    "from scipy.stats import binom\n",
    "\n",
    "df = pd.read_csv(\"dataset/t3_success.csv\")\n",
    "\n",
    "# 1. 베르누이 분포: 각 시도의 성공 확률 계산\n",
    "total_attempts = df.shape[0]\n",
    "total_attempts"
   ]
  },
  {
   "cell_type": "code",
   "execution_count": 33,
   "id": "d7c8b749-ba79-442f-9e78-da8341baf90b",
   "metadata": {},
   "outputs": [
    {
     "data": {
      "text/plain": [
       "0.62"
      ]
     },
     "execution_count": 33,
     "metadata": {},
     "output_type": "execute_result"
    }
   ],
   "source": []
  },
  {
   "cell_type": "code",
   "execution_count": 16,
   "id": "e4a9c926-e296-4c8b-93d6-af838cf78524",
   "metadata": {
    "papermill": {
     "duration": 0.003555,
     "end_time": "2023-11-23T02:46:18.215169",
     "exception": false,
     "start_time": "2023-11-23T02:46:18.211614",
     "status": "completed"
    },
    "tags": []
   },
   "outputs": [],
   "source": [
    "success_sum = df['Success'].sum()  # df['Success'].value_counts(normalize=True).loc[1]"
   ]
  },
  {
   "cell_type": "code",
   "execution_count": 20,
   "id": "9840d18b-39c2-45f0-ab60-1ba23893a491",
   "metadata": {
    "papermill": {
     "duration": 0.003555,
     "end_time": "2023-11-23T02:46:18.215169",
     "exception": false,
     "start_time": "2023-11-23T02:46:18.211614",
     "status": "completed"
    },
    "tags": []
   },
   "outputs": [
    {
     "name": "stdout",
     "output_type": "stream",
     "text": [
      "0.62\n"
     ]
    }
   ],
   "source": [
    "susccess_prob = success_sum / total_attempts  # 성공 확률\n",
    "print(susccess_prob)"
   ]
  },
  {
   "cell_type": "code",
   "execution_count": 21,
   "id": "b75e99f2",
   "metadata": {
    "papermill": {
     "duration": 0.00354,
     "end_time": "2023-11-23T02:46:18.222478",
     "exception": false,
     "start_time": "2023-11-23T02:46:18.218938",
     "status": "completed"
    },
    "tags": []
   },
   "outputs": [],
   "source": [
    "# 2. 이항분포\n",
    "n = 100  # 실행 횟수\n",
    "k = 60  # 성공 횟수\n",
    "\n",
    "from scipy.stats import binom"
   ]
  },
  {
   "cell_type": "code",
   "execution_count": 19,
   "id": "98db63e3",
   "metadata": {
    "papermill": {
     "duration": 0.003539,
     "end_time": "2023-11-23T02:46:18.229803",
     "exception": false,
     "start_time": "2023-11-23T02:46:18.226264",
     "status": "completed"
    },
    "tags": []
   },
   "outputs": [
    {
     "name": "stdout",
     "output_type": "stream",
     "text": [
      "0.07464985555860272\n"
     ]
    }
   ],
   "source": [
    "ans = binom.pmf(k, n, susccess_prob)\n",
    "print(ans)"
   ]
  }
 ],
 "metadata": {
  "kaggle": {
   "accelerator": "none",
   "dataSources": [
    {
     "datasetId": 1633303,
     "sourceId": 7031209,
     "sourceType": "datasetVersion"
    }
   ],
   "dockerImageVersionId": 30587,
   "isGpuEnabled": false,
   "isInternetEnabled": true,
   "language": "python",
   "sourceType": "notebook"
  },
  "kernelspec": {
   "display_name": "Python 3 (ipykernel)",
   "language": "python",
   "name": "python3"
  },
  "language_info": {
   "codemirror_mode": {
    "name": "ipython",
    "version": 3
   },
   "file_extension": ".py",
   "mimetype": "text/x-python",
   "name": "python",
   "nbconvert_exporter": "python",
   "pygments_lexer": "ipython3",
   "version": "3.7.15"
  },
  "papermill": {
   "default_parameters": {},
   "duration": 3.731715,
   "end_time": "2023-11-23T02:46:19.620440",
   "environment_variables": {},
   "exception": null,
   "input_path": "__notebook__.ipynb",
   "output_path": "__notebook__.ipynb",
   "parameters": {},
   "start_time": "2023-11-23T02:46:15.888725",
   "version": "2.4.0"
  }
 },
 "nbformat": 4,
 "nbformat_minor": 5
}
