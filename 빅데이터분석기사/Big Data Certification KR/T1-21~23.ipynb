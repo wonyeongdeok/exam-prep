{
 "cells": [
  {
   "cell_type": "markdown",
   "id": "c612d963-fe2f-4b46-9b9c-d7df01a29314",
   "metadata": {
    "tags": []
   },
   "source": [
    "### T1-21\n",
    "나이 구간 나누기\n",
    "basic1 데이터 중 'age'컬럼 이상치를 제거하고, 동일한 개수로 나이 순으로 3그룹으로 나눈 뒤 각 그룹의 중앙값을 더하시오<br>\n",
    "(이상치는 음수(0포함), 소수점 값)"
   ]
  },
  {
   "cell_type": "code",
   "execution_count": 110,
   "id": "893dc4cb-ebe9-4709-bd91-7a44286bd5d9",
   "metadata": {},
   "outputs": [
    {
     "name": "stdout",
     "output_type": "stream",
     "text": [
      "group1    30\n",
      "group2    30\n",
      "group3    30\n",
      "Name: age_group, dtype: int64\n",
      "165.0\n"
     ]
    }
   ],
   "source": [
    "import pandas as pd\n",
    "\n",
    "df = pd.read_csv('dataset/basic1.csv')\n",
    "\n",
    "# 'age' 컬럼 이상치 제거 - 음수(0포함), 소수점 값\n",
    "df = df[~(df['age'] <= 0)]\n",
    "df = df[df['age'] % 1 == 0]\n",
    "\n",
    "# 동일한 개수로 나이 순으로 3그룹 나누기\n",
    "df['age_group'] = pd.qcut(df['age'], q=3, labels=['group1', 'group2', 'group3'])\n",
    "print(df['age_group'].value_counts())\n",
    "\n",
    "# 각 그룹의 중앙값 더하기\n",
    "group1_median = df[df['age_group'] == 'group1']['age'].median()\n",
    "group2_median = df[df['age_group'] == 'group2']['age'].median()\n",
    "group3_median = df[df['age_group'] == 'group3']['age'].median()\n",
    "ans = group1_median + group2_median + group3_median\n",
    "print(ans)"
   ]
  },
  {
   "cell_type": "markdown",
   "id": "41fb2855-6599-4798-9adf-e74d0d08bc16",
   "metadata": {
    "tags": []
   },
   "source": [
    "### T1-22\n",
    "주어진 데이터(basic2.csv)에서 주 단위 Sales의 합계를 구하고, 가장 큰 값을 가진 주와 작은 값을 가진 주의 차이를 구하시오(절대값)"
   ]
  },
  {
   "cell_type": "code",
   "execution_count": 112,
   "id": "ad4d32c3-9aeb-4bc5-b954-52ce46c2a969",
   "metadata": {},
   "outputs": [],
   "source": [
    "import pandas as pd\n",
    "\n",
    "df = pd.read_csv('dataset/basic2.csv')\n",
    "\n",
    "# 'Date' 컬럼을 datetime 형식으로 변환\n",
    "df['Date'] = pd.to_datetime(df['Date'])\n",
    "\n",
    "# 'Date' 컬럼을 인덱스로 설정\n",
    "df.set_index('Date', inplace=True)\n",
    "\n",
    "# 주 단위로 Sales 합계 구하기\n",
    "weekly_sales = df['Sales'].resample('w').sum()\n",
    "\n",
    "# 가장 큰 값을 가진 주와 작은 값을 가진 주의 차이(절대값)\n",
    "min_week = weekly_sales.min()\n",
    "max_week = weekly_sales.max()\n",
    "print(abs(min_week - max_week))"
   ]
  },
  {
   "cell_type": "markdown",
   "id": "e9ab7629-0e04-4f05-93a3-7b739abf6c03",
   "metadata": {
    "tags": []
   },
   "source": [
    "### T1-23\n",
    "f1의 결측치를 채운 후 age 컬럼의 중복 제거 전과 후의 'f1' 중앙값 차이를 구하시오\n",
    "- 결측치는 f1의 데이터 중 10번째로 큰 값으로 채움\n",
    "- 중복 데이터 발생시 뒤에 나오는 데이터를 삭제함\n",
    "- 최종 결과값은 절대값으로 출력"
   ]
  },
  {
   "cell_type": "code",
   "execution_count": 140,
   "id": "2730e8bc-dddb-4ed8-974f-2c6e8563f6a8",
   "metadata": {},
   "outputs": [],
   "source": [
    "import pandas as pd\n",
    "\n",
    "df = pd.read_csv('dataset/basic1.csv')\n",
    "df.head()\n",
    "\n",
    "# f1 결측치 채우기 - f1의 데이터 중 10번째로 큰 값으로 채움\n",
    "val_10 = df['f1'].dropna().sort_values(ascending=False).iloc[9]\n",
    "df['f1'].fillna(val_10, inplace=True)\n",
    "\n",
    "# age 컬럼 중복 제거\n",
    "new_df = df.drop_duplicates(subset=['age'], keep='first')\n",
    "\n",
    "# age 컬럼 중복 제거 전과 후의 f1 중앙값 차이를 절대값으로 출력\n",
    "before_f1_med = df['f1'].median()\n",
    "after_f1_med = new_df['f1'].median()\n",
    "print(abs(before_f1_med - after_f1_med))"
   ]
  }
 ],
 "metadata": {
  "kernelspec": {
   "display_name": "Python 3 (ipykernel)",
   "language": "python",
   "name": "python3"
  },
  "language_info": {
   "codemirror_mode": {
    "name": "ipython",
    "version": 3
   },
   "file_extension": ".py",
   "mimetype": "text/x-python",
   "name": "python",
   "nbconvert_exporter": "python",
   "pygments_lexer": "ipython3",
   "version": "3.7.15"
  }
 },
 "nbformat": 4,
 "nbformat_minor": 5
}
