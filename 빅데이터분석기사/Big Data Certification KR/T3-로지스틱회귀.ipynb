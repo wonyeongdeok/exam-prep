{
 "cells": [
  {
   "cell_type": "markdown",
   "id": "36ab777d",
   "metadata": {
    "papermill": {
     "duration": 0.005092,
     "end_time": "2023-11-16T02:14:32.133926",
     "exception": false,
     "start_time": "2023-11-16T02:14:32.128834",
     "status": "completed"
    },
    "tags": []
   },
   "source": [
    "### Pclass, Gender, sibsp, parch를 독립변수로 사용하여 로지스틱 회귀모형을 실시하였을 때, parch변수의 계수값은?\n",
    "(반올림하여 소수 셋째 자리까지 계산)"
   ]
  },
  {
   "cell_type": "markdown",
   "id": "58e7dd1b-f166-4d6c-9977-582249599ae5",
   "metadata": {
    "tags": []
   },
   "source": [
    "### 로지스틱 회귀 방정식"
   ]
  },
  {
   "cell_type": "markdown",
   "id": "a132fc1c-cab4-4a18-aa14-739fdd8bb4f8",
   "metadata": {},
   "source": [
    "<center>$logit(P) = ln(\\frac{P}{1-P}) = \\beta_0 + \\beta_1X_1 + \\beta_2X_2 + ... + \\beta_nX_n$"
   ]
  },
  {
   "cell_type": "markdown",
   "id": "730371cb-fda0-41bc-bd39-c1c9393a91bc",
   "metadata": {},
   "source": [
    "- 로지스틱 회귀란, 독립 변수들의 선형 결합을 사용하여 로그 오즈를 계산하고, 이를 시그모이드 함수를 통해 확률로 변환하여 이진 종속 변수를 예측하는 모델\n",
    "- **이진 종속 변수**를 **여러 개의 독립 변수**를 사용하여 예측 시 사용\n",
    "- 적용 분야 : 스팸 메일 분류, 환자의 질병 여부\n",
    "- $logit(P)$ 는 성공 확률 P의 로그 오즈($log-odds$). 즉, $logit(P) = ln(\\frac{P}{1-P})$\n",
    "    - 오즈 : 성공확률 P와 실패 확률 1-P의 비율로 정의. $odds = \\frac{P}{1-P}$\n",
    "    - 로그 오즈 : 오즈에 자연로그를 취한 값. 이를 통해 선형 회귀와 유사한 형태의 모델 만듬\n",
    "- $\\beta_0$는 절편(intercept)\n",
    "- $\\beta_1, \\beta_2, ..., \\beta_n$은 각 독립 변수 $X_1, X_2, ..., X_n$의 계수"
   ]
  },
  {
   "cell_type": "markdown",
   "id": "5628bf5f-c8e9-4338-ac72-8521439d6ac7",
   "metadata": {},
   "source": [
    "- 왜 로그 오즈를 사용하는가?\n",
    "    - 선형 관계 유지: 로그 오즈를 사용하면 독립 변수와 종속 변수 간의 선형 관계를 유지할 수 있습니다. 이는 선형 회귀 분석의 기본 개념을 로지스틱 회귀에 적용할 수 있게 합니다.\n",
    "    - 확률 변환: 로그 오즈는 모든 실수 값을 가질 수 있으며, 이는 독립 변수들의 선형 조합으로 표현될 수 있습니다. 이후 이 값을 확률로 변환하여 예측할 수 있습니다."
   ]
  },
  {
   "cell_type": "code",
   "execution_count": 16,
   "id": "c4beb6d9-a303-44a1-99b8-d57c81a7487a",
   "metadata": {},
   "outputs": [],
   "source": [
    "import pandas as pd\n",
    "from statsmodels.formula.api import logit"
   ]
  },
  {
   "cell_type": "code",
   "execution_count": 19,
   "id": "1fc686ad-be86-47fa-8b52-b360361503b0",
   "metadata": {},
   "outputs": [
    {
     "name": "stdout",
     "output_type": "stream",
     "text": [
      "<class 'pandas.core.frame.DataFrame'>\n",
      "RangeIndex: 891 entries, 0 to 890\n",
      "Data columns (total 12 columns):\n",
      " #   Column       Non-Null Count  Dtype  \n",
      "---  ------       --------------  -----  \n",
      " 0   PassengerId  891 non-null    int64  \n",
      " 1   Survived     891 non-null    int64  \n",
      " 2   Pclass       891 non-null    int64  \n",
      " 3   Name         891 non-null    object \n",
      " 4   Gender       891 non-null    object \n",
      " 5   Age          714 non-null    float64\n",
      " 6   SibSp        891 non-null    int64  \n",
      " 7   Parch        891 non-null    int64  \n",
      " 8   Ticket       891 non-null    object \n",
      " 9   Fare         891 non-null    float64\n",
      " 10  Cabin        204 non-null    object \n",
      " 11  Embarked     889 non-null    object \n",
      "dtypes: float64(2), int64(5), object(5)\n",
      "memory usage: 83.7+ KB\n"
     ]
    }
   ],
   "source": [
    "df = pd.read_csv(\"dataset/Titanic.csv\")\n",
    "df.info()"
   ]
  },
  {
   "cell_type": "code",
   "execution_count": 20,
   "id": "07901538-4d58-4b45-9eeb-2d90973687f7",
   "metadata": {},
   "outputs": [
    {
     "data": {
      "text/html": [
       "<div>\n",
       "<style scoped>\n",
       "    .dataframe tbody tr th:only-of-type {\n",
       "        vertical-align: middle;\n",
       "    }\n",
       "\n",
       "    .dataframe tbody tr th {\n",
       "        vertical-align: top;\n",
       "    }\n",
       "\n",
       "    .dataframe thead th {\n",
       "        text-align: right;\n",
       "    }\n",
       "</style>\n",
       "<table border=\"1\" class=\"dataframe\">\n",
       "  <thead>\n",
       "    <tr style=\"text-align: right;\">\n",
       "      <th></th>\n",
       "      <th>Survived</th>\n",
       "      <th>Pclass</th>\n",
       "      <th>Gender</th>\n",
       "      <th>SibSp</th>\n",
       "      <th>Parch</th>\n",
       "    </tr>\n",
       "  </thead>\n",
       "  <tbody>\n",
       "    <tr>\n",
       "      <th>0</th>\n",
       "      <td>0</td>\n",
       "      <td>3</td>\n",
       "      <td>male</td>\n",
       "      <td>1</td>\n",
       "      <td>0</td>\n",
       "    </tr>\n",
       "    <tr>\n",
       "      <th>1</th>\n",
       "      <td>1</td>\n",
       "      <td>1</td>\n",
       "      <td>female</td>\n",
       "      <td>1</td>\n",
       "      <td>0</td>\n",
       "    </tr>\n",
       "  </tbody>\n",
       "</table>\n",
       "</div>"
      ],
      "text/plain": [
       "   Survived  Pclass  Gender  SibSp  Parch\n",
       "0         0       3    male      1      0\n",
       "1         1       1  female      1      0"
      ]
     },
     "execution_count": 20,
     "metadata": {},
     "output_type": "execute_result"
    }
   ],
   "source": [
    "df = df[['Survived', 'Pclass', 'Gender', 'SibSp', 'Parch']]\n",
    "df.head(2)"
   ]
  },
  {
   "cell_type": "code",
   "execution_count": 22,
   "id": "552f78e6-44f2-4ef4-858d-0ede93b7e810",
   "metadata": {},
   "outputs": [
    {
     "name": "stdout",
     "output_type": "stream",
     "text": [
      "Optimization terminated successfully.\n",
      "         Current function value: 0.459565\n",
      "         Iterations 6\n"
     ]
    },
    {
     "data": {
      "text/plain": [
       "Intercept         2.492\n",
       "C(Pclass)[T.2]   -0.848\n",
       "C(Pclass)[T.3]   -1.867\n",
       "Gender[T.male]   -2.760\n",
       "SibSp            -0.233\n",
       "Parch            -0.050\n",
       "dtype: float64"
      ]
     },
     "execution_count": 22,
     "metadata": {},
     "output_type": "execute_result"
    }
   ],
   "source": [
    "formula = 'Survived ~ C(Pclass) + Gender + SibSp + Parch'\n",
    "model = logit(formula, data=df).fit()\n",
    "\n",
    "round(model.params, 3)"
   ]
  },
  {
   "cell_type": "markdown",
   "id": "c55318da-db69-4b24-a818-fb434c69d71d",
   "metadata": {},
   "source": [
    "### 로지스틱 모델 피팅 결과 해석\n",
    "- intercept : 모든 독립 변수가 0일 때 종속 변수가 발생할 로그 오즈의 추정치\n",
    "- C(Pclass)[T.2], C(Pclass)[T.3] : 이들은 Pclass(승객의 좌석 등급)에 대한 더미 변수입니다. 각 등급에 대해 비교되는 기준 등급은 1등급입니다. 즉, Pclass가 2인 경우에는 Pclass가 1인 경우보다 로그 오즈가 -0.848만큼 낮고, Pclass가 3인 경우에는 -1.867만큼 낮다는 것을 의미합니다.\n",
    "- C(Gender)[T.male]: 이것은 Gender(성별)에 대한 더미 변수입니다. 여성을 기준으로 비교되며, 남성일 경우 로그 오즈가 -2.760만큼 낮다는 것을 의미합니다. 즉, 여성이 남성보다 생존할 확률이 높습니다.\n",
    "- SibSp, Parch: 이들은 각각 형제자매/배우자의 수와 부모/자녀의 수에 대한 수치형-이산형 변수입니다. 이들의 계수는 해당 변수가 한 단위 증가할 때 로그 오즈의 변화를 나타냅니다. 예를 들어, SibSp가 1 증가할 때마다 로그 오즈가 -0.233만큼 감소하고, Parch가 1 증가할 때마다 -0.050만큼 감소한다는 것을 의미합니다."
   ]
  }
 ],
 "metadata": {
  "kaggle": {
   "accelerator": "none",
   "dataSources": [
    {
     "datasetId": 1633303,
     "sourceId": 6865804,
     "sourceType": "datasetVersion"
    }
   ],
   "dockerImageVersionId": 30527,
   "isGpuEnabled": false,
   "isInternetEnabled": true,
   "language": "python",
   "sourceType": "notebook"
  },
  "kernelspec": {
   "display_name": "Python 3 (ipykernel)",
   "language": "python",
   "name": "python3"
  },
  "language_info": {
   "codemirror_mode": {
    "name": "ipython",
    "version": 3
   },
   "file_extension": ".py",
   "mimetype": "text/x-python",
   "name": "python",
   "nbconvert_exporter": "python",
   "pygments_lexer": "ipython3",
   "version": "3.7.15"
  },
  "papermill": {
   "default_parameters": {},
   "duration": 14.990024,
   "end_time": "2023-11-16T02:14:34.886422",
   "environment_variables": {},
   "exception": null,
   "input_path": "__notebook__.ipynb",
   "output_path": "__notebook__.ipynb",
   "parameters": {},
   "start_time": "2023-11-16T02:14:19.896398",
   "version": "2.4.0"
  }
 },
 "nbformat": 4,
 "nbformat_minor": 5
}
