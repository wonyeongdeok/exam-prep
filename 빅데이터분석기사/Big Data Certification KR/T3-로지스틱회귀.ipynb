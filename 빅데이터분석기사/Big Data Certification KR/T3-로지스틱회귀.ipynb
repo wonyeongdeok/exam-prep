{
 "cells": [
  {
   "cell_type": "markdown",
   "id": "36ab777d",
   "metadata": {
    "papermill": {
     "duration": 0.005092,
     "end_time": "2023-11-16T02:14:32.133926",
     "exception": false,
     "start_time": "2023-11-16T02:14:32.128834",
     "status": "completed"
    },
    "tags": []
   },
   "source": [
    "### Pclass, Gender, sibsp, parch를 독립변수로 사용하여 로지스틱 회귀모형을 실시하였을 때, parch변수의 계수값은?\n",
    "(반올림하여 소수 셋째 자리까지 계산)"
   ]
  },
  {
   "cell_type": "markdown",
   "id": "58e7dd1b-f166-4d6c-9977-582249599ae5",
   "metadata": {
    "tags": []
   },
   "source": [
    "### 로지스틱 회귀 방정식"
   ]
  },
  {
   "cell_type": "markdown",
   "id": "a132fc1c-cab4-4a18-aa14-739fdd8bb4f8",
   "metadata": {},
   "source": [
    "## $logit(P) = ln(\\frac{P}{1-P}) = \\beta_0 + \\beta_1X_1 + \\beta_2X_2 + ... + \\beta_nX_n$"
   ]
  },
  {
   "cell_type": "markdown",
   "id": "730371cb-fda0-41bc-bd39-c1c9393a91bc",
   "metadata": {},
   "source": [
    "- 로지스틱 회귀란, 독립 변수들의 선형 결합을 사용하여 로그 오즈를 계산하고, 이를 시그모이드 함수를 통해 확률로 변환하여 이진 종속 변수를 예측하는 모델\n",
    "- **이진 종속 변수**를 **여러 개의 독립 변수**를 사용하여 예측 시 사용\n",
    "- 적용 분야 : 스팸 메일 분류, 환자의 질병 여부\n",
    "- $logit(P)$ 는 성공 확률 P의 로그 오즈($log-odds$). 즉, $logit(P) = ln(\\frac{P}{1-P})$\n",
    "    - 오즈 : 성공확률 P와 실패 확률 1-P의 비율로 정의. $odds = \\frac{P}{1-P}$\n",
    "    - 로그 오즈 : 오즈에 자연로그를 취한 값. 이를 통해 선형 회귀와 유사한 형태의 모델 만듬\n",
    "- $\\beta_0$는 절편(intercept)\n",
    "- $\\beta_1, \\beta_2, ..., \\beta_n$은 각 독립 변수 $X_1, X_2, ..., X_n$의 계수"
   ]
  },
  {
   "cell_type": "markdown",
   "id": "5628bf5f-c8e9-4338-ac72-8521439d6ac7",
   "metadata": {},
   "source": [
    "- 왜 로그 오즈를 사용하는가?\n",
    "    - 선형 관계 유지: 로그 오즈를 사용하면 독립 변수와 종속 변수 간의 선형 관계를 유지할 수 있습니다. 이는 선형 회귀 분석의 기본 개념을 로지스틱 회귀에 적용할 수 있게 합니다.\n",
    "    - 확률 변환: 로그 오즈는 모든 실수 값을 가질 수 있으며, 이는 독립 변수들의 선형 조합으로 표현될 수 있습니다. 이후 이 값을 확률로 변환하여 예측할 수 있습니다."
   ]
  },
  {
   "cell_type": "code",
   "execution_count": 51,
   "id": "c4beb6d9-a303-44a1-99b8-d57c81a7487a",
   "metadata": {},
   "outputs": [],
   "source": [
    "import pandas as pd\n",
    "from statsmodels.formula.api import logit"
   ]
  },
  {
   "cell_type": "code",
   "execution_count": 52,
   "id": "1fc686ad-be86-47fa-8b52-b360361503b0",
   "metadata": {},
   "outputs": [
    {
     "name": "stdout",
     "output_type": "stream",
     "text": [
      "<class 'pandas.core.frame.DataFrame'>\n",
      "RangeIndex: 891 entries, 0 to 890\n",
      "Data columns (total 12 columns):\n",
      " #   Column       Non-Null Count  Dtype  \n",
      "---  ------       --------------  -----  \n",
      " 0   PassengerId  891 non-null    int64  \n",
      " 1   Survived     891 non-null    int64  \n",
      " 2   Pclass       891 non-null    int64  \n",
      " 3   Name         891 non-null    object \n",
      " 4   Gender       891 non-null    object \n",
      " 5   Age          714 non-null    float64\n",
      " 6   SibSp        891 non-null    int64  \n",
      " 7   Parch        891 non-null    int64  \n",
      " 8   Ticket       891 non-null    object \n",
      " 9   Fare         891 non-null    float64\n",
      " 10  Cabin        204 non-null    object \n",
      " 11  Embarked     889 non-null    object \n",
      "dtypes: float64(2), int64(5), object(5)\n",
      "memory usage: 83.7+ KB\n"
     ]
    }
   ],
   "source": [
    "df = pd.read_csv(\"dataset/Titanic.csv\")\n",
    "df.info()"
   ]
  },
  {
   "cell_type": "code",
   "execution_count": 53,
   "id": "e77bf434-61b5-4cdc-bf09-15b60cc8f61d",
   "metadata": {},
   "outputs": [
    {
     "data": {
      "text/html": [
       "<div>\n",
       "<style scoped>\n",
       "    .dataframe tbody tr th:only-of-type {\n",
       "        vertical-align: middle;\n",
       "    }\n",
       "\n",
       "    .dataframe tbody tr th {\n",
       "        vertical-align: top;\n",
       "    }\n",
       "\n",
       "    .dataframe thead th {\n",
       "        text-align: right;\n",
       "    }\n",
       "</style>\n",
       "<table border=\"1\" class=\"dataframe\">\n",
       "  <thead>\n",
       "    <tr style=\"text-align: right;\">\n",
       "      <th></th>\n",
       "      <th>PassengerId</th>\n",
       "      <th>Survived</th>\n",
       "      <th>Pclass</th>\n",
       "      <th>Name</th>\n",
       "      <th>Gender</th>\n",
       "      <th>Age</th>\n",
       "      <th>SibSp</th>\n",
       "      <th>Parch</th>\n",
       "      <th>Ticket</th>\n",
       "      <th>Fare</th>\n",
       "      <th>Cabin</th>\n",
       "      <th>Embarked</th>\n",
       "    </tr>\n",
       "  </thead>\n",
       "  <tbody>\n",
       "    <tr>\n",
       "      <th>0</th>\n",
       "      <td>1</td>\n",
       "      <td>0</td>\n",
       "      <td>3</td>\n",
       "      <td>Braund, Mr. Owen Harris</td>\n",
       "      <td>male</td>\n",
       "      <td>22.0</td>\n",
       "      <td>1</td>\n",
       "      <td>0</td>\n",
       "      <td>A/5 21171</td>\n",
       "      <td>7.2500</td>\n",
       "      <td>NaN</td>\n",
       "      <td>S</td>\n",
       "    </tr>\n",
       "    <tr>\n",
       "      <th>1</th>\n",
       "      <td>2</td>\n",
       "      <td>1</td>\n",
       "      <td>1</td>\n",
       "      <td>Cumings, Mrs. John Bradley (Florence Briggs Th...</td>\n",
       "      <td>female</td>\n",
       "      <td>38.0</td>\n",
       "      <td>1</td>\n",
       "      <td>0</td>\n",
       "      <td>PC 17599</td>\n",
       "      <td>71.2833</td>\n",
       "      <td>C85</td>\n",
       "      <td>C</td>\n",
       "    </tr>\n",
       "    <tr>\n",
       "      <th>2</th>\n",
       "      <td>3</td>\n",
       "      <td>1</td>\n",
       "      <td>3</td>\n",
       "      <td>Heikkinen, Miss. Laina</td>\n",
       "      <td>female</td>\n",
       "      <td>26.0</td>\n",
       "      <td>0</td>\n",
       "      <td>0</td>\n",
       "      <td>STON/O2. 3101282</td>\n",
       "      <td>7.9250</td>\n",
       "      <td>NaN</td>\n",
       "      <td>S</td>\n",
       "    </tr>\n",
       "    <tr>\n",
       "      <th>3</th>\n",
       "      <td>4</td>\n",
       "      <td>1</td>\n",
       "      <td>1</td>\n",
       "      <td>Futrelle, Mrs. Jacques Heath (Lily May Peel)</td>\n",
       "      <td>female</td>\n",
       "      <td>35.0</td>\n",
       "      <td>1</td>\n",
       "      <td>0</td>\n",
       "      <td>113803</td>\n",
       "      <td>53.1000</td>\n",
       "      <td>C123</td>\n",
       "      <td>S</td>\n",
       "    </tr>\n",
       "    <tr>\n",
       "      <th>4</th>\n",
       "      <td>5</td>\n",
       "      <td>0</td>\n",
       "      <td>3</td>\n",
       "      <td>Allen, Mr. William Henry</td>\n",
       "      <td>male</td>\n",
       "      <td>35.0</td>\n",
       "      <td>0</td>\n",
       "      <td>0</td>\n",
       "      <td>373450</td>\n",
       "      <td>8.0500</td>\n",
       "      <td>NaN</td>\n",
       "      <td>S</td>\n",
       "    </tr>\n",
       "  </tbody>\n",
       "</table>\n",
       "</div>"
      ],
      "text/plain": [
       "   PassengerId  Survived  Pclass  \\\n",
       "0            1         0       3   \n",
       "1            2         1       1   \n",
       "2            3         1       3   \n",
       "3            4         1       1   \n",
       "4            5         0       3   \n",
       "\n",
       "                                                Name  Gender   Age  SibSp  \\\n",
       "0                            Braund, Mr. Owen Harris    male  22.0      1   \n",
       "1  Cumings, Mrs. John Bradley (Florence Briggs Th...  female  38.0      1   \n",
       "2                             Heikkinen, Miss. Laina  female  26.0      0   \n",
       "3       Futrelle, Mrs. Jacques Heath (Lily May Peel)  female  35.0      1   \n",
       "4                           Allen, Mr. William Henry    male  35.0      0   \n",
       "\n",
       "   Parch            Ticket     Fare Cabin Embarked  \n",
       "0      0         A/5 21171   7.2500   NaN        S  \n",
       "1      0          PC 17599  71.2833   C85        C  \n",
       "2      0  STON/O2. 3101282   7.9250   NaN        S  \n",
       "3      0            113803  53.1000  C123        S  \n",
       "4      0            373450   8.0500   NaN        S  "
      ]
     },
     "execution_count": 53,
     "metadata": {},
     "output_type": "execute_result"
    }
   ],
   "source": [
    "df.head()"
   ]
  },
  {
   "cell_type": "code",
   "execution_count": 54,
   "id": "9c147025-6da5-49d0-9ce8-16c0e9a04359",
   "metadata": {},
   "outputs": [
    {
     "name": "stdout",
     "output_type": "stream",
     "text": [
      "Optimization terminated successfully.\n",
      "         Current function value: 0.459565\n",
      "         Iterations 6\n"
     ]
    }
   ],
   "source": [
    "formula = 'Survived ~ C(Pclass) + C(Gender) + SibSp + Parch'\n",
    "from statsmodels.formula.api import logit\n",
    "model = logit(formula, data=df).fit()"
   ]
  },
  {
   "cell_type": "code",
   "execution_count": 61,
   "id": "b89184f6-0dec-4925-bc5f-c7f0b83889f8",
   "metadata": {},
   "outputs": [
    {
     "data": {
      "text/html": [
       "<table class=\"simpletable\">\n",
       "<caption>Logit Regression Results</caption>\n",
       "<tr>\n",
       "  <th>Dep. Variable:</th>       <td>Survived</td>     <th>  No. Observations:  </th>  <td>   891</td>  \n",
       "</tr>\n",
       "<tr>\n",
       "  <th>Model:</th>                 <td>Logit</td>      <th>  Df Residuals:      </th>  <td>   885</td>  \n",
       "</tr>\n",
       "<tr>\n",
       "  <th>Method:</th>                 <td>MLE</td>       <th>  Df Model:          </th>  <td>     5</td>  \n",
       "</tr>\n",
       "<tr>\n",
       "  <th>Date:</th>            <td>Fri, 21 Jun 2024</td> <th>  Pseudo R-squ.:     </th>  <td>0.3099</td>  \n",
       "</tr>\n",
       "<tr>\n",
       "  <th>Time:</th>                <td>19:52:42</td>     <th>  Log-Likelihood:    </th> <td> -409.47</td> \n",
       "</tr>\n",
       "<tr>\n",
       "  <th>converged:</th>             <td>True</td>       <th>  LL-Null:           </th> <td> -593.33</td> \n",
       "</tr>\n",
       "<tr>\n",
       "  <th>Covariance Type:</th>     <td>nonrobust</td>    <th>  LLR p-value:       </th> <td>2.687e-77</td>\n",
       "</tr>\n",
       "</table>\n",
       "<table class=\"simpletable\">\n",
       "<tr>\n",
       "          <td></td>             <th>coef</th>     <th>std err</th>      <th>z</th>      <th>P>|z|</th>  <th>[0.025</th>    <th>0.975]</th>  \n",
       "</tr>\n",
       "<tr>\n",
       "  <th>Intercept</th>         <td>    2.4917</td> <td>    0.239</td> <td>   10.432</td> <td> 0.000</td> <td>    2.024</td> <td>    2.960</td>\n",
       "</tr>\n",
       "<tr>\n",
       "  <th>C(Pclass)[T.2]</th>    <td>   -0.8482</td> <td>    0.247</td> <td>   -3.439</td> <td> 0.001</td> <td>   -1.331</td> <td>   -0.365</td>\n",
       "</tr>\n",
       "<tr>\n",
       "  <th>C(Pclass)[T.3]</th>    <td>   -1.8669</td> <td>    0.215</td> <td>   -8.682</td> <td> 0.000</td> <td>   -2.288</td> <td>   -1.445</td>\n",
       "</tr>\n",
       "<tr>\n",
       "  <th>C(Gender)[T.male]</th> <td>   -2.7603</td> <td>    0.196</td> <td>  -14.116</td> <td> 0.000</td> <td>   -3.144</td> <td>   -2.377</td>\n",
       "</tr>\n",
       "<tr>\n",
       "  <th>SibSp</th>             <td>   -0.2326</td> <td>    0.099</td> <td>   -2.341</td> <td> 0.019</td> <td>   -0.427</td> <td>   -0.038</td>\n",
       "</tr>\n",
       "<tr>\n",
       "  <th>Parch</th>             <td>   -0.0498</td> <td>    0.110</td> <td>   -0.451</td> <td> 0.652</td> <td>   -0.266</td> <td>    0.167</td>\n",
       "</tr>\n",
       "</table>"
      ],
      "text/plain": [
       "<class 'statsmodels.iolib.summary.Summary'>\n",
       "\"\"\"\n",
       "                           Logit Regression Results                           \n",
       "==============================================================================\n",
       "Dep. Variable:               Survived   No. Observations:                  891\n",
       "Model:                          Logit   Df Residuals:                      885\n",
       "Method:                           MLE   Df Model:                            5\n",
       "Date:                Fri, 21 Jun 2024   Pseudo R-squ.:                  0.3099\n",
       "Time:                        19:52:42   Log-Likelihood:                -409.47\n",
       "converged:                       True   LL-Null:                       -593.33\n",
       "Covariance Type:            nonrobust   LLR p-value:                 2.687e-77\n",
       "=====================================================================================\n",
       "                        coef    std err          z      P>|z|      [0.025      0.975]\n",
       "-------------------------------------------------------------------------------------\n",
       "Intercept             2.4917      0.239     10.432      0.000       2.024       2.960\n",
       "C(Pclass)[T.2]       -0.8482      0.247     -3.439      0.001      -1.331      -0.365\n",
       "C(Pclass)[T.3]       -1.8669      0.215     -8.682      0.000      -2.288      -1.445\n",
       "C(Gender)[T.male]    -2.7603      0.196    -14.116      0.000      -3.144      -2.377\n",
       "SibSp                -0.2326      0.099     -2.341      0.019      -0.427      -0.038\n",
       "Parch                -0.0498      0.110     -0.451      0.652      -0.266       0.167\n",
       "=====================================================================================\n",
       "\"\"\""
      ]
     },
     "execution_count": 61,
     "metadata": {},
     "output_type": "execute_result"
    }
   ],
   "source": [
    "model.summary()"
   ]
  },
  {
   "cell_type": "code",
   "execution_count": 55,
   "id": "87d099c7-3cdf-4a86-8c79-cf45e713f896",
   "metadata": {},
   "outputs": [
    {
     "name": "stdout",
     "output_type": "stream",
     "text": [
      "Intercept            2.492\n",
      "C(Pclass)[T.2]      -0.848\n",
      "C(Pclass)[T.3]      -1.867\n",
      "C(Gender)[T.male]   -2.760\n",
      "SibSp               -0.233\n",
      "Parch               -0.050\n",
      "dtype: float64\n"
     ]
    }
   ],
   "source": [
    "print(round(model.params, 3))"
   ]
  },
  {
   "cell_type": "code",
   "execution_count": 56,
   "id": "affebbe4-57b5-4276-97ec-14f4e8f95c1f",
   "metadata": {},
   "outputs": [
    {
     "name": "stdout",
     "output_type": "stream",
     "text": [
      "-0.05\n"
     ]
    }
   ],
   "source": [
    "ans = round(model.params['Parch'], 3)\n",
    "print(ans)"
   ]
  },
  {
   "cell_type": "code",
   "execution_count": 57,
   "id": "910f54b5-4149-484c-8e4d-096b1e53064d",
   "metadata": {},
   "outputs": [
    {
     "data": {
      "text/plain": [
       "-409.47222632753983"
      ]
     },
     "execution_count": 57,
     "metadata": {},
     "output_type": "execute_result"
    }
   ],
   "source": [
    "model.llf"
   ]
  },
  {
   "cell_type": "code",
   "execution_count": 58,
   "id": "b8ddda5f-07af-4f86-9a2d-f5c34761087c",
   "metadata": {},
   "outputs": [
    {
     "data": {
      "text/plain": [
       "818.9444526550797"
      ]
     },
     "execution_count": 58,
     "metadata": {},
     "output_type": "execute_result"
    }
   ],
   "source": [
    "model.llf * (-2)"
   ]
  },
  {
   "cell_type": "code",
   "execution_count": 76,
   "id": "2a71c009-aad7-449e-808a-d2d818a9fab9",
   "metadata": {},
   "outputs": [
    {
     "data": {
      "text/plain": [
       "Intercept            1.771727e-25\n",
       "C(Pclass)[T.2]       5.832502e-04\n",
       "C(Pclass)[T.3]       3.899724e-18\n",
       "C(Gender)[T.male]    3.020052e-45\n",
       "SibSp                1.924205e-02\n",
       "Parch                6.517780e-01\n",
       "dtype: float64"
      ]
     },
     "execution_count": 76,
     "metadata": {},
     "output_type": "execute_result"
    }
   ],
   "source": [
    "model.pvalues"
   ]
  },
  {
   "cell_type": "markdown",
   "id": "c55318da-db69-4b24-a818-fb434c69d71d",
   "metadata": {},
   "source": [
    "### 로지스틱 모델 피팅 결과 해석\n",
    "- intercept : 모든 독립 변수가 0일 때 종속 변수가 발생할 로그 오즈의 추정치\n",
    "- C(Pclass)[T.2], C(Pclass)[T.3] : 이들은 Pclass(승객의 좌석 등급)에 대한 더미 변수입니다. 각 등급에 대해 비교되는 기준 등급은 1등급입니다. 즉, Pclass가 2인 경우에는 Pclass가 1인 경우보다 로그 오즈가 -0.848만큼 낮고, Pclass가 3인 경우에는 -1.867만큼 낮다는 것을 의미합니다.\n",
    "- C(Gender)[T.male]: 이것은 Gender(성별)에 대한 더미 변수입니다. 여성을 기준으로 비교되며, 남성일 경우 로그 오즈가 -2.760만큼 낮다는 것을 의미합니다. 즉, 여성이 남성보다 생존할 확률이 높습니다.\n",
    "- SibSp, Parch: 이들은 각각 형제자매/배우자의 수와 부모/자녀의 수에 대한 수치형-이산형 변수입니다. 이들의 계수는 해당 변수가 한 단위 증가할 때 로그 오즈의 변화를 나타냅니다. 예를 들어, SibSp가 1 증가할 때마다 로그 오즈가 -0.233만큼 감소하고, Parch가 1 증가할 때마다 -0.050만큼 감소한다는 것을 의미합니다."
   ]
  },
  {
   "cell_type": "code",
   "execution_count": null,
   "id": "ab9314ed-5e80-4ca3-8840-367714413dad",
   "metadata": {},
   "outputs": [],
   "source": []
  }
 ],
 "metadata": {
  "kaggle": {
   "accelerator": "none",
   "dataSources": [
    {
     "datasetId": 1633303,
     "sourceId": 6865804,
     "sourceType": "datasetVersion"
    }
   ],
   "dockerImageVersionId": 30527,
   "isGpuEnabled": false,
   "isInternetEnabled": true,
   "language": "python",
   "sourceType": "notebook"
  },
  "kernelspec": {
   "display_name": "Python 3 (ipykernel)",
   "language": "python",
   "name": "python3"
  },
  "language_info": {
   "codemirror_mode": {
    "name": "ipython",
    "version": 3
   },
   "file_extension": ".py",
   "mimetype": "text/x-python",
   "name": "python",
   "nbconvert_exporter": "python",
   "pygments_lexer": "ipython3",
   "version": "3.7.15"
  },
  "papermill": {
   "default_parameters": {},
   "duration": 14.990024,
   "end_time": "2023-11-16T02:14:34.886422",
   "environment_variables": {},
   "exception": null,
   "input_path": "__notebook__.ipynb",
   "output_path": "__notebook__.ipynb",
   "parameters": {},
   "start_time": "2023-11-16T02:14:19.896398",
   "version": "2.4.0"
  }
 },
 "nbformat": 4,
 "nbformat_minor": 5
}
