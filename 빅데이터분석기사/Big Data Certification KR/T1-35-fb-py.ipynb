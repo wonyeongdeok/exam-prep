{
 "cells": [
  {
   "cell_type": "markdown",
   "id": "8f8aac5a",
   "metadata": {
    "papermill": {
     "duration": 0.005842,
     "end_time": "2024-05-06T08:03:30.677315",
     "exception": false,
     "start_time": "2024-05-06T08:03:30.671473",
     "status": "completed"
    },
    "tags": []
   },
   "source": [
    "1 각 피드백 중에서 가장 긴 피드백을 작성한 UserID를 찾고 해당 UserID가 주문을 몇 번 했는지 구하시오 (3)\n",
    "\n",
    "2 주어진 데이터에서 '제품'이라는 단어가 가장 많이 포함된 카테고리(그룹)을 찾고, 해당 카테고리에 속한 피드백들의 평균 배송 시간(분)을 구하시오. (9048.75)"
   ]
  },
  {
   "cell_type": "code",
   "execution_count": 50,
   "id": "7a3cff10",
   "metadata": {
    "papermill": {
     "duration": 0.987914,
     "end_time": "2024-05-06T08:03:31.672475",
     "exception": false,
     "start_time": "2024-05-06T08:03:30.684561",
     "status": "completed"
    },
    "tags": []
   },
   "outputs": [],
   "source": [
    "import pandas as pd\n",
    "df = pd.read_csv(\"dataset/e-commerce.csv\")"
   ]
  },
  {
   "cell_type": "code",
   "execution_count": 51,
   "id": "1ce09187",
   "metadata": {
    "papermill": {
     "duration": 0.005447,
     "end_time": "2024-05-06T08:03:31.683622",
     "exception": false,
     "start_time": "2024-05-06T08:03:31.678175",
     "status": "completed"
    },
    "tags": []
   },
   "outputs": [
    {
     "data": {
      "text/html": [
       "<div>\n",
       "<style scoped>\n",
       "    .dataframe tbody tr th:only-of-type {\n",
       "        vertical-align: middle;\n",
       "    }\n",
       "\n",
       "    .dataframe tbody tr th {\n",
       "        vertical-align: top;\n",
       "    }\n",
       "\n",
       "    .dataframe thead th {\n",
       "        text-align: right;\n",
       "    }\n",
       "</style>\n",
       "<table border=\"1\" class=\"dataframe\">\n",
       "  <thead>\n",
       "    <tr style=\"text-align: right;\">\n",
       "      <th></th>\n",
       "      <th>Feedback</th>\n",
       "      <th>Category</th>\n",
       "      <th>OrderDate</th>\n",
       "      <th>ArrivalDate</th>\n",
       "      <th>UserID</th>\n",
       "      <th>ProductID</th>\n",
       "    </tr>\n",
       "  </thead>\n",
       "  <tbody>\n",
       "    <tr>\n",
       "      <th>0</th>\n",
       "      <td>제품이 실용적입니다</td>\n",
       "      <td>가격</td>\n",
       "      <td>2022-11-23 02:00:00</td>\n",
       "      <td>2022-12-01 17:00:00</td>\n",
       "      <td>13</td>\n",
       "      <td>132</td>\n",
       "    </tr>\n",
       "    <tr>\n",
       "      <th>1</th>\n",
       "      <td>고객 서비스가 탁월합니다</td>\n",
       "      <td>배송</td>\n",
       "      <td>2022-02-21 05:00:00</td>\n",
       "      <td>2022-02-23 06:00:00</td>\n",
       "      <td>16</td>\n",
       "      <td>165</td>\n",
       "    </tr>\n",
       "  </tbody>\n",
       "</table>\n",
       "</div>"
      ],
      "text/plain": [
       "        Feedback Category            OrderDate          ArrivalDate  UserID  \\\n",
       "0     제품이 실용적입니다       가격  2022-11-23 02:00:00  2022-12-01 17:00:00      13   \n",
       "1  고객 서비스가 탁월합니다       배송  2022-02-21 05:00:00  2022-02-23 06:00:00      16   \n",
       "\n",
       "   ProductID  \n",
       "0        132  \n",
       "1        165  "
      ]
     },
     "execution_count": 51,
     "metadata": {},
     "output_type": "execute_result"
    }
   ],
   "source": [
    "df.head(2)"
   ]
  },
  {
   "cell_type": "code",
   "execution_count": 52,
   "id": "6d630865",
   "metadata": {
    "papermill": {
     "duration": 0.004904,
     "end_time": "2024-05-06T08:03:31.693971",
     "exception": false,
     "start_time": "2024-05-06T08:03:31.689067",
     "status": "completed"
    },
    "tags": []
   },
   "outputs": [
    {
     "name": "stdout",
     "output_type": "stream",
     "text": [
      "<class 'pandas.core.frame.DataFrame'>\n",
      "RangeIndex: 30 entries, 0 to 29\n",
      "Data columns (total 6 columns):\n",
      " #   Column       Non-Null Count  Dtype \n",
      "---  ------       --------------  ----- \n",
      " 0   Feedback     30 non-null     object\n",
      " 1   Category     30 non-null     object\n",
      " 2   OrderDate    30 non-null     object\n",
      " 3   ArrivalDate  30 non-null     object\n",
      " 4   UserID       30 non-null     int64 \n",
      " 5   ProductID    30 non-null     int64 \n",
      "dtypes: int64(2), object(4)\n",
      "memory usage: 1.5+ KB\n"
     ]
    }
   ],
   "source": [
    "df.info()"
   ]
  },
  {
   "cell_type": "markdown",
   "id": "750419af-2ace-49b4-b314-a8fa214b363a",
   "metadata": {
    "papermill": {
     "duration": 0.004828,
     "end_time": "2024-05-06T08:03:31.703930",
     "exception": false,
     "start_time": "2024-05-06T08:03:31.699102",
     "status": "completed"
    },
    "tags": []
   },
   "source": [
    "### 1"
   ]
  },
  {
   "cell_type": "code",
   "execution_count": 53,
   "id": "7fbef614",
   "metadata": {
    "papermill": {
     "duration": 0.004994,
     "end_time": "2024-05-06T08:03:31.734594",
     "exception": false,
     "start_time": "2024-05-06T08:03:31.729600",
     "status": "completed"
    },
    "tags": []
   },
   "outputs": [
    {
     "data": {
      "text/plain": [
       "3"
      ]
     },
     "execution_count": 53,
     "metadata": {},
     "output_type": "execute_result"
    }
   ],
   "source": [
    "df['feedback_len'] = df['Feedback'].str.len()\n",
    "idx = df['feedback_len'].idxmax()\n",
    "user_id = df.iloc[idx]['UserID']\n",
    "df[df['UserID'] == user_id].shape[0]"
   ]
  },
  {
   "cell_type": "markdown",
   "id": "bf516474-fbc7-4c9f-bc26-5f00bc2822a4",
   "metadata": {
    "papermill": {
     "duration": 0.004915,
     "end_time": "2024-05-06T08:03:31.745086",
     "exception": false,
     "start_time": "2024-05-06T08:03:31.740171",
     "status": "completed"
    },
    "tags": []
   },
   "source": [
    "### 2"
   ]
  },
  {
   "cell_type": "code",
   "execution_count": 54,
   "id": "091bb956-5b38-4dac-9923-530f0bc21f50",
   "metadata": {
    "papermill": {
     "duration": 0.004751,
     "end_time": "2024-05-06T08:03:31.754905",
     "exception": false,
     "start_time": "2024-05-06T08:03:31.750154",
     "status": "completed"
    },
    "tags": []
   },
   "outputs": [],
   "source": [
    "df['is_product'] = df['Feedback'].str.contains('제품')\n",
    "\n",
    "category = df.groupby(by=['Category'])['is_product'].sum().idxmax()\n",
    "\n",
    "df['OrderDate'] = pd.to_datetime(df['OrderDate'])\n",
    "df['ArrivalDate'] = pd.to_datetime(df['ArrivalDate'])\n",
    "\n",
    "df['DeliveryTime'] = (df['ArrivalDate'] - df['OrderDate']).dt.total_seconds() / 60\n",
    "\n",
    "df[df['Category'] == category]['DeliveryTime'].mean()"
   ]
  },
  {
   "cell_type": "code",
   "execution_count": null,
   "id": "471b01f5",
   "metadata": {
    "papermill": {
     "duration": 0.005426,
     "end_time": "2024-05-06T08:03:31.893619",
     "exception": false,
     "start_time": "2024-05-06T08:03:31.888193",
     "status": "completed"
    },
    "tags": []
   },
   "outputs": [],
   "source": []
  }
 ],
 "metadata": {
  "kaggle": {
   "accelerator": "none",
   "dataSources": [
    {
     "datasetId": 1633303,
     "sourceId": 7099002,
     "sourceType": "datasetVersion"
    }
   ],
   "dockerImageVersionId": 30587,
   "isGpuEnabled": false,
   "isInternetEnabled": true,
   "language": "python",
   "sourceType": "notebook"
  },
  "kernelspec": {
   "display_name": "Python 3 (ipykernel)",
   "language": "python",
   "name": "python3"
  },
  "language_info": {
   "codemirror_mode": {
    "name": "ipython",
    "version": 3
   },
   "file_extension": ".py",
   "mimetype": "text/x-python",
   "name": "python",
   "nbconvert_exporter": "python",
   "pygments_lexer": "ipython3",
   "version": "3.7.15"
  },
  "papermill": {
   "default_parameters": {},
   "duration": 6.024009,
   "end_time": "2024-05-06T08:03:32.421077",
   "environment_variables": {},
   "exception": null,
   "input_path": "__notebook__.ipynb",
   "output_path": "__notebook__.ipynb",
   "parameters": {},
   "start_time": "2024-05-06T08:03:26.397068",
   "version": "2.4.0"
  }
 },
 "nbformat": 4,
 "nbformat_minor": 5
}
