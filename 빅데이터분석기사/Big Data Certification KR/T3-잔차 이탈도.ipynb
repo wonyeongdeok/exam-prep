{
 "cells": [
  {
   "cell_type": "markdown",
   "id": "87c45e61",
   "metadata": {
    "papermill": {
     "duration": 0.004353,
     "end_time": "2024-06-20T00:46:51.212202",
     "exception": false,
     "start_time": "2024-06-20T00:46:51.207849",
     "status": "completed"
    },
    "tags": []
   },
   "source": [
    "### 잔차이탈도를 구하시오\n",
    "고객 정보를 나타낸 데이터이다. 주어진 데이터에서 500개 중 앞에서부터 300개는 train으로, 200개는 test 데이터로 나눈다. 모델을 학습(적합)할 때는 train 데이터를 사용하고, 예측할 때는 test 데이터를 사용한다. 모델은 로지스틱 회귀를 써서 고객이 특정 제품을 구매할지 여부를 예측하되, 페널티는 부과하지 않는다.\n",
    "\n",
    "종속변수: purchase (0: 구매 안 함, 1: 구매 함)\n",
    "\n",
    "Q. age, income, marital_status 변수를 독립변수로 purchase를 종속변수로 사용하여 로지스틱 회귀 모형을 만들고, 잔차이탈도를 구하시오. (반올림하여 소수 넷째자리까지 계산)"
   ]
  },
  {
   "cell_type": "code",
   "execution_count": 90,
   "id": "28406c24-2b42-49cb-973f-4e34e476a035",
   "metadata": {
    "papermill": {
     "duration": 0.986429,
     "end_time": "2024-06-20T00:46:52.203204",
     "exception": false,
     "start_time": "2024-06-20T00:46:51.216775",
     "status": "completed"
    },
    "tags": []
   },
   "outputs": [],
   "source": [
    "import pandas as pd"
   ]
  },
  {
   "cell_type": "code",
   "execution_count": 84,
   "id": "16df3ec6-736f-4d61-9e1e-2482e90cde36",
   "metadata": {
    "papermill": {
     "duration": 0.986429,
     "end_time": "2024-06-20T00:46:52.203204",
     "exception": false,
     "start_time": "2024-06-20T00:46:51.216775",
     "status": "completed"
    },
    "tags": []
   },
   "outputs": [
    {
     "data": {
      "text/html": [
       "<div>\n",
       "<style scoped>\n",
       "    .dataframe tbody tr th:only-of-type {\n",
       "        vertical-align: middle;\n",
       "    }\n",
       "\n",
       "    .dataframe tbody tr th {\n",
       "        vertical-align: top;\n",
       "    }\n",
       "\n",
       "    .dataframe thead th {\n",
       "        text-align: right;\n",
       "    }\n",
       "</style>\n",
       "<table border=\"1\" class=\"dataframe\">\n",
       "  <thead>\n",
       "    <tr style=\"text-align: right;\">\n",
       "      <th></th>\n",
       "      <th>age</th>\n",
       "      <th>income</th>\n",
       "      <th>marital_status</th>\n",
       "      <th>children</th>\n",
       "      <th>gender</th>\n",
       "      <th>purchase</th>\n",
       "    </tr>\n",
       "  </thead>\n",
       "  <tbody>\n",
       "    <tr>\n",
       "      <th>0</th>\n",
       "      <td>62</td>\n",
       "      <td>111980</td>\n",
       "      <td>1</td>\n",
       "      <td>2</td>\n",
       "      <td>1</td>\n",
       "      <td>0</td>\n",
       "    </tr>\n",
       "    <tr>\n",
       "      <th>1</th>\n",
       "      <td>65</td>\n",
       "      <td>107314</td>\n",
       "      <td>0</td>\n",
       "      <td>3</td>\n",
       "      <td>1</td>\n",
       "      <td>0</td>\n",
       "    </tr>\n",
       "    <tr>\n",
       "      <th>2</th>\n",
       "      <td>18</td>\n",
       "      <td>56209</td>\n",
       "      <td>1</td>\n",
       "      <td>1</td>\n",
       "      <td>1</td>\n",
       "      <td>1</td>\n",
       "    </tr>\n",
       "    <tr>\n",
       "      <th>3</th>\n",
       "      <td>21</td>\n",
       "      <td>28010</td>\n",
       "      <td>1</td>\n",
       "      <td>3</td>\n",
       "      <td>0</td>\n",
       "      <td>1</td>\n",
       "    </tr>\n",
       "    <tr>\n",
       "      <th>4</th>\n",
       "      <td>21</td>\n",
       "      <td>79618</td>\n",
       "      <td>0</td>\n",
       "      <td>2</td>\n",
       "      <td>0</td>\n",
       "      <td>1</td>\n",
       "    </tr>\n",
       "  </tbody>\n",
       "</table>\n",
       "</div>"
      ],
      "text/plain": [
       "   age  income  marital_status  children  gender  purchase\n",
       "0   62  111980               1         2       1         0\n",
       "1   65  107314               0         3       1         0\n",
       "2   18   56209               1         1       1         1\n",
       "3   21   28010               1         3       0         1\n",
       "4   21   79618               0         2       0         1"
      ]
     },
     "execution_count": 84,
     "metadata": {},
     "output_type": "execute_result"
    }
   ],
   "source": [
    "df = pd.read_csv(\"dataset/Customer_Data.csv\")\n",
    "df.head()"
   ]
  },
  {
   "cell_type": "code",
   "execution_count": 85,
   "id": "8e256a61-5f4d-4d18-bb9e-ee2cd8466025",
   "metadata": {},
   "outputs": [],
   "source": [
    "df = sm.add_constant(df)"
   ]
  },
  {
   "cell_type": "code",
   "execution_count": 86,
   "id": "fc8b6426",
   "metadata": {
    "papermill": {
     "duration": 0.003843,
     "end_time": "2024-06-20T00:46:52.212044",
     "exception": false,
     "start_time": "2024-06-20T00:46:52.208201",
     "status": "completed"
    },
    "tags": []
   },
   "outputs": [],
   "source": [
    "train = df[: 300].reset_index(drop=True)\n",
    "test = df[300: ].reset_index(drop=True)"
   ]
  },
  {
   "cell_type": "code",
   "execution_count": 87,
   "id": "ccce44c6-62a0-4ad2-895c-297d590a77de",
   "metadata": {},
   "outputs": [],
   "source": [
    "de_cols = ['const', 'age', 'income', 'marital_status']\n",
    "inde_cols = ['purchase']"
   ]
  },
  {
   "cell_type": "code",
   "execution_count": 88,
   "id": "170e74e1-82f5-4e40-a0d2-d6e0119c76f7",
   "metadata": {},
   "outputs": [
    {
     "data": {
      "text/html": [
       "<div>\n",
       "<style scoped>\n",
       "    .dataframe tbody tr th:only-of-type {\n",
       "        vertical-align: middle;\n",
       "    }\n",
       "\n",
       "    .dataframe tbody tr th {\n",
       "        vertical-align: top;\n",
       "    }\n",
       "\n",
       "    .dataframe thead th {\n",
       "        text-align: right;\n",
       "    }\n",
       "</style>\n",
       "<table border=\"1\" class=\"dataframe\">\n",
       "  <thead>\n",
       "    <tr style=\"text-align: right;\">\n",
       "      <th></th>\n",
       "      <th>const</th>\n",
       "      <th>age</th>\n",
       "      <th>income</th>\n",
       "      <th>marital_status</th>\n",
       "    </tr>\n",
       "  </thead>\n",
       "  <tbody>\n",
       "    <tr>\n",
       "      <th>0</th>\n",
       "      <td>1.0</td>\n",
       "      <td>62</td>\n",
       "      <td>111980</td>\n",
       "      <td>1</td>\n",
       "    </tr>\n",
       "    <tr>\n",
       "      <th>1</th>\n",
       "      <td>1.0</td>\n",
       "      <td>65</td>\n",
       "      <td>107314</td>\n",
       "      <td>0</td>\n",
       "    </tr>\n",
       "    <tr>\n",
       "      <th>2</th>\n",
       "      <td>1.0</td>\n",
       "      <td>18</td>\n",
       "      <td>56209</td>\n",
       "      <td>1</td>\n",
       "    </tr>\n",
       "    <tr>\n",
       "      <th>3</th>\n",
       "      <td>1.0</td>\n",
       "      <td>21</td>\n",
       "      <td>28010</td>\n",
       "      <td>1</td>\n",
       "    </tr>\n",
       "    <tr>\n",
       "      <th>4</th>\n",
       "      <td>1.0</td>\n",
       "      <td>21</td>\n",
       "      <td>79618</td>\n",
       "      <td>0</td>\n",
       "    </tr>\n",
       "  </tbody>\n",
       "</table>\n",
       "</div>"
      ],
      "text/plain": [
       "   const  age  income  marital_status\n",
       "0    1.0   62  111980               1\n",
       "1    1.0   65  107314               0\n",
       "2    1.0   18   56209               1\n",
       "3    1.0   21   28010               1\n",
       "4    1.0   21   79618               0"
      ]
     },
     "execution_count": 88,
     "metadata": {},
     "output_type": "execute_result"
    }
   ],
   "source": [
    "X = train[de_cols]\n",
    "X.head()"
   ]
  },
  {
   "cell_type": "code",
   "execution_count": 89,
   "id": "2ec6f8b2-d92e-48eb-b6c8-c0ae63e8e12d",
   "metadata": {
    "tags": []
   },
   "outputs": [
    {
     "data": {
      "text/html": [
       "<div>\n",
       "<style scoped>\n",
       "    .dataframe tbody tr th:only-of-type {\n",
       "        vertical-align: middle;\n",
       "    }\n",
       "\n",
       "    .dataframe tbody tr th {\n",
       "        vertical-align: top;\n",
       "    }\n",
       "\n",
       "    .dataframe thead th {\n",
       "        text-align: right;\n",
       "    }\n",
       "</style>\n",
       "<table border=\"1\" class=\"dataframe\">\n",
       "  <thead>\n",
       "    <tr style=\"text-align: right;\">\n",
       "      <th></th>\n",
       "      <th>purchase</th>\n",
       "    </tr>\n",
       "  </thead>\n",
       "  <tbody>\n",
       "    <tr>\n",
       "      <th>0</th>\n",
       "      <td>0</td>\n",
       "    </tr>\n",
       "    <tr>\n",
       "      <th>1</th>\n",
       "      <td>0</td>\n",
       "    </tr>\n",
       "    <tr>\n",
       "      <th>2</th>\n",
       "      <td>1</td>\n",
       "    </tr>\n",
       "    <tr>\n",
       "      <th>3</th>\n",
       "      <td>1</td>\n",
       "    </tr>\n",
       "    <tr>\n",
       "      <th>4</th>\n",
       "      <td>1</td>\n",
       "    </tr>\n",
       "  </tbody>\n",
       "</table>\n",
       "</div>"
      ],
      "text/plain": [
       "   purchase\n",
       "0         0\n",
       "1         0\n",
       "2         1\n",
       "3         1\n",
       "4         1"
      ]
     },
     "execution_count": 89,
     "metadata": {},
     "output_type": "execute_result"
    }
   ],
   "source": [
    "y = train[inde_cols]\n",
    "y.head()"
   ]
  },
  {
   "cell_type": "markdown",
   "id": "649e2520-bf68-4b9f-b1af-6c3d9c98e3c4",
   "metadata": {
    "tags": []
   },
   "source": [
    "# sol 1"
   ]
  },
  {
   "cell_type": "code",
   "execution_count": 77,
   "id": "10627aba-f333-417e-877b-2125351593e9",
   "metadata": {},
   "outputs": [],
   "source": [
    "import statsmodels.api as sm"
   ]
  },
  {
   "cell_type": "code",
   "execution_count": 93,
   "id": "5d004503-99ab-4248-aa1b-b84d44c40fbf",
   "metadata": {},
   "outputs": [
    {
     "name": "stdout",
     "output_type": "stream",
     "text": [
      "Optimization terminated successfully.\n",
      "         Current function value: 0.687415\n",
      "         Iterations 4\n"
     ]
    }
   ],
   "source": [
    "model = sm.Logit(y, X).fit()"
   ]
  },
  {
   "cell_type": "code",
   "execution_count": 97,
   "id": "f12e1784-3508-4999-829c-668374ba8b95",
   "metadata": {},
   "outputs": [
    {
     "name": "stdout",
     "output_type": "stream",
     "text": [
      "412.449\n"
     ]
    }
   ],
   "source": [
    "deviance = round(model.llf * -2, 4)\n",
    "print(deviance)"
   ]
  },
  {
   "cell_type": "markdown",
   "id": "59af7815-19fc-4683-a8fd-1eebb6657e73",
   "metadata": {},
   "source": [
    "# sol 2"
   ]
  },
  {
   "cell_type": "code",
   "execution_count": 72,
   "id": "1d6de90d-41d7-4d86-9016-8758aaa4a458",
   "metadata": {},
   "outputs": [],
   "source": [
    "model = sm.GLM(y, X, family=sm.families.Binomial()).fit()"
   ]
  },
  {
   "cell_type": "code",
   "execution_count": 73,
   "id": "e7fa1395-f47c-476f-926d-cdd67314a41e",
   "metadata": {},
   "outputs": [
    {
     "name": "stdout",
     "output_type": "stream",
     "text": [
      "412.449\n"
     ]
    }
   ],
   "source": [
    "ans = round(model.deviance, 4)  # model.deviance == model.llf * -2\n",
    "print(ans)"
   ]
  },
  {
   "cell_type": "markdown",
   "id": "ca72340b-81e4-4db2-ba4e-f67bcb239f1f",
   "metadata": {},
   "source": [
    "# sol 3\n",
    "log_loss 사용 시 값 불일치\n"
   ]
  },
  {
   "cell_type": "code",
   "execution_count": 111,
   "id": "c0d1a334-555c-4d55-ac70-f3b0f402b2f1",
   "metadata": {},
   "outputs": [],
   "source": [
    "from sklearn.linear_model import LogisticRegression\n",
    "from sklearn.metrics import log_loss"
   ]
  },
  {
   "cell_type": "code",
   "execution_count": 103,
   "id": "b349051e-2ad5-493e-a8b9-49b6531fd556",
   "metadata": {},
   "outputs": [],
   "source": [
    "model = LogisticRegression()"
   ]
  },
  {
   "cell_type": "code",
   "execution_count": 104,
   "id": "5b363c50-9abc-4f8e-a895-285b9fa6ba18",
   "metadata": {},
   "outputs": [
    {
     "name": "stderr",
     "output_type": "stream",
     "text": [
      "C:\\Users\\dudejr\\anaconda3\\envs\\kaggle\\lib\\site-packages\\sklearn\\utils\\validation.py:993: DataConversionWarning: A column-vector y was passed when a 1d array was expected. Please change the shape of y to (n_samples, ), for example using ravel().\n",
      "  y = column_or_1d(y, warn=True)\n"
     ]
    },
    {
     "data": {
      "text/plain": [
       "LogisticRegression()"
      ]
     },
     "execution_count": 104,
     "metadata": {},
     "output_type": "execute_result"
    }
   ],
   "source": [
    "model.fit(X, y)"
   ]
  },
  {
   "cell_type": "code",
   "execution_count": 108,
   "id": "fee4fb9d-0af4-4910-ae68-18f61cc25c02",
   "metadata": {},
   "outputs": [],
   "source": [
    "pred_prob = model.predict_proba(X)[:, 1]"
   ]
  },
  {
   "cell_type": "code",
   "execution_count": 110,
   "id": "5fd1021d-a2e4-4252-b3a9-378edf280750",
   "metadata": {},
   "outputs": [
    {
     "data": {
      "text/plain": [
       "413.62182157384876"
      ]
     },
     "execution_count": 110,
     "metadata": {},
     "output_type": "execute_result"
    }
   ],
   "source": [
    "log_loss(y, pred_prob) * len(y) * 2"
   ]
  },
  {
   "cell_type": "code",
   "execution_count": null,
   "id": "4058e4d4-1f40-48c3-b580-1ae052fc3a0e",
   "metadata": {},
   "outputs": [],
   "source": []
  }
 ],
 "metadata": {
  "kaggle": {
   "accelerator": "none",
   "dataSources": [
    {
     "datasetId": 1633303,
     "sourceId": 8636545,
     "sourceType": "datasetVersion"
    }
   ],
   "dockerImageVersionId": 30732,
   "isGpuEnabled": false,
   "isInternetEnabled": true,
   "language": "python",
   "sourceType": "notebook"
  },
  "kernelspec": {
   "display_name": "Python 3 (ipykernel)",
   "language": "python",
   "name": "python3"
  },
  "language_info": {
   "codemirror_mode": {
    "name": "ipython",
    "version": 3
   },
   "file_extension": ".py",
   "mimetype": "text/x-python",
   "name": "python",
   "nbconvert_exporter": "python",
   "pygments_lexer": "ipython3",
   "version": "3.7.15"
  },
  "papermill": {
   "default_parameters": {},
   "duration": 7.873165,
   "end_time": "2024-06-20T00:46:56.144201",
   "environment_variables": {},
   "exception": null,
   "input_path": "__notebook__.ipynb",
   "output_path": "__notebook__.ipynb",
   "parameters": {},
   "start_time": "2024-06-20T00:46:48.271036",
   "version": "2.5.0"
  }
 },
 "nbformat": 4,
 "nbformat_minor": 5
}
