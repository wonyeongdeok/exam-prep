{
 "cells": [
  {
   "cell_type": "code",
   "execution_count": 1,
   "id": "37bf156a",
   "metadata": {
    "_cell_guid": "b1076dfc-b9ad-4769-8c92-a6c4dae69d19",
    "_uuid": "8f2839f25d086af736a60e9eeb907d3b93b6e0e5",
    "execution": {
     "iopub.execute_input": "2024-06-14T06:53:22.988334Z",
     "iopub.status.busy": "2024-06-14T06:53:22.987938Z",
     "iopub.status.idle": "2024-06-14T06:53:23.810912Z",
     "shell.execute_reply": "2024-06-14T06:53:23.809970Z"
    },
    "papermill": {
     "duration": 0.832848,
     "end_time": "2024-06-14T06:53:23.813403",
     "exception": false,
     "start_time": "2024-06-14T06:53:22.980555",
     "status": "completed"
    },
    "tags": []
   },
   "outputs": [],
   "source": [
    "import numpy as np\n",
    "import pandas as pd"
   ]
  },
  {
   "cell_type": "code",
   "execution_count": 2,
   "id": "34404e01",
   "metadata": {
    "_cell_guid": "b1076dfc-b9ad-4769-8c92-a6c4dae69d19",
    "_uuid": "8f2839f25d086af736a60e9eeb907d3b93b6e0e5",
    "execution": {
     "iopub.execute_input": "2024-06-14T06:53:23.825901Z",
     "iopub.status.busy": "2024-06-14T06:53:23.825423Z",
     "iopub.status.idle": "2024-06-14T06:53:23.832788Z",
     "shell.execute_reply": "2024-06-14T06:53:23.831578Z"
    },
    "papermill": {
     "duration": 0.016192,
     "end_time": "2024-06-14T06:53:23.835074",
     "exception": false,
     "start_time": "2024-06-14T06:53:23.818882",
     "status": "completed"
    },
    "tags": []
   },
   "outputs": [
    {
     "name": "stdout",
     "output_type": "stream",
     "text": [
      "/kaggle/input/big-data-analytics-certification/t2-2-y_train.csv\n",
      "/kaggle/input/big-data-analytics-certification/t1-data1.csv\n",
      "/kaggle/input/big-data-analytics-certification/t2-2-X_train.csv\n",
      "/kaggle/input/big-data-analytics-certification/t2-1-sample_submission.csv\n",
      "/kaggle/input/big-data-analytics-certification/t1-data2.csv\n",
      "/kaggle/input/big-data-analytics-certification/t2-1-test.csv\n",
      "/kaggle/input/big-data-analytics-certification/t2-2-X_test.csv\n",
      "/kaggle/input/big-data-analytics-certification/t2-1-train.csv\n"
     ]
    }
   ],
   "source": [
    "import os\n",
    "for dirname, _, filenames in os.walk('/kaggle/input'):\n",
    "    for filename in filenames:\n",
    "        print(os.path.join(dirname, filename))"
   ]
  },
  {
   "cell_type": "code",
   "execution_count": 3,
   "id": "46c62c0f",
   "metadata": {
    "execution": {
     "iopub.execute_input": "2024-06-14T06:53:23.847282Z",
     "iopub.status.busy": "2024-06-14T06:53:23.846912Z",
     "iopub.status.idle": "2024-06-14T06:53:23.876293Z",
     "shell.execute_reply": "2024-06-14T06:53:23.875171Z"
    },
    "papermill": {
     "duration": 0.038399,
     "end_time": "2024-06-14T06:53:23.878833",
     "exception": false,
     "start_time": "2024-06-14T06:53:23.840434",
     "status": "completed"
    },
    "tags": []
   },
   "outputs": [],
   "source": [
    "train = pd.read_csv('/kaggle/input/big-data-analytics-certification/t2-1-train.csv')\n",
    "test = pd.read_csv('/kaggle/input/big-data-analytics-certification/t2-1-test.csv')"
   ]
  },
  {
   "cell_type": "code",
   "execution_count": 4,
   "id": "402474cd",
   "metadata": {
    "execution": {
     "iopub.execute_input": "2024-06-14T06:53:23.891558Z",
     "iopub.status.busy": "2024-06-14T06:53:23.890626Z",
     "iopub.status.idle": "2024-06-14T06:53:23.923688Z",
     "shell.execute_reply": "2024-06-14T06:53:23.922442Z"
    },
    "papermill": {
     "duration": 0.041965,
     "end_time": "2024-06-14T06:53:23.926250",
     "exception": false,
     "start_time": "2024-06-14T06:53:23.884285",
     "status": "completed"
    },
    "tags": []
   },
   "outputs": [
    {
     "name": "stdout",
     "output_type": "stream",
     "text": [
      "<class 'pandas.core.frame.DataFrame'>\n",
      "RangeIndex: 1490 entries, 0 to 1489\n",
      "Data columns (total 10 columns):\n",
      " #   Column               Non-Null Count  Dtype  \n",
      "---  ------               --------------  -----  \n",
      " 0   id                   1490 non-null   int64  \n",
      " 1   Age                  1490 non-null   int64  \n",
      " 2   Employment Type      1490 non-null   object \n",
      " 3   GraduateOrNot        1490 non-null   object \n",
      " 4   AnnualIncome         1486 non-null   float64\n",
      " 5   FamilyMembers        1490 non-null   int64  \n",
      " 6   ChronicDiseases      1490 non-null   int64  \n",
      " 7   FrequentFlyer        1490 non-null   object \n",
      " 8   EverTravelledAbroad  1490 non-null   object \n",
      " 9   TravelInsurance      1490 non-null   int64  \n",
      "dtypes: float64(1), int64(5), object(4)\n",
      "memory usage: 116.5+ KB\n"
     ]
    }
   ],
   "source": [
    "train.info()"
   ]
  },
  {
   "cell_type": "code",
   "execution_count": 5,
   "id": "b0beb72e",
   "metadata": {
    "execution": {
     "iopub.execute_input": "2024-06-14T06:53:23.943329Z",
     "iopub.status.busy": "2024-06-14T06:53:23.942694Z",
     "iopub.status.idle": "2024-06-14T06:53:23.956729Z",
     "shell.execute_reply": "2024-06-14T06:53:23.955205Z"
    },
    "papermill": {
     "duration": 0.025288,
     "end_time": "2024-06-14T06:53:23.959092",
     "exception": false,
     "start_time": "2024-06-14T06:53:23.933804",
     "status": "completed"
    },
    "tags": []
   },
   "outputs": [
    {
     "name": "stdout",
     "output_type": "stream",
     "text": [
      "id unique values : [10000 10001 10002 ... 11487 11488 11489]\n",
      "----------------------------------------------------------------------------------------------------\n",
      "Age unique values : [28 31 29 33 30 26 25 27 34 32 35]\n",
      "----------------------------------------------------------------------------------------------------\n",
      "Employment Type unique values : ['Private Sector/Self Employed' 'Government Sector']\n",
      "----------------------------------------------------------------------------------------------------\n",
      "GraduateOrNot unique values : ['Yes' 'No']\n",
      "----------------------------------------------------------------------------------------------------\n",
      "AnnualIncome unique values : [1250000. 1200000.  650000.  800000.  550000. 1400000. 1150000. 1050000.\n",
      "  400000. 1000000.      nan 1450000. 1100000. 1500000.  300000.  500000.\n",
      "  600000. 1300000.  350000.  900000. 1350000. 1750000.  700000.  750000.\n",
      "  950000.  850000. 1700000.  450000. 1800000. 1550000. 1650000.]\n",
      "----------------------------------------------------------------------------------------------------\n",
      "FamilyMembers unique values : [6 7 4 8 9 3 2 5]\n",
      "----------------------------------------------------------------------------------------------------\n",
      "ChronicDiseases unique values : [1 0]\n",
      "----------------------------------------------------------------------------------------------------\n",
      "FrequentFlyer unique values : ['No' 'Yes']\n",
      "----------------------------------------------------------------------------------------------------\n",
      "EverTravelledAbroad unique values : ['No' 'Yes']\n",
      "----------------------------------------------------------------------------------------------------\n",
      "TravelInsurance unique values : [0 1]\n",
      "----------------------------------------------------------------------------------------------------\n"
     ]
    }
   ],
   "source": [
    "for col in train.columns:\n",
    "    print(f'{col} unique values :', train[col].unique())\n",
    "    print('-'*100)"
   ]
  },
  {
   "cell_type": "markdown",
   "id": "970a9a40",
   "metadata": {
    "papermill": {
     "duration": 0.005197,
     "end_time": "2024-06-14T06:53:23.969966",
     "exception": false,
     "start_time": "2024-06-14T06:53:23.964769",
     "status": "completed"
    },
    "tags": []
   },
   "source": [
    "데이터 요약\n",
    "- id : 이산형, 개별 데이터 id\n",
    "- Age : 이산형\n",
    "- Employment Type : 명목형 이진 데이터, 숫자 매핑 필요(0,1 매핑 or labelencoder)\n",
    "- GraduateOrNot  : 명목형 이진 데이터, 숫자 매핑 필요(0,1 매핑 or labelencoder)\n",
    "- AnnualIncome : 연속형, 대체로 수입 관련 데이터는 정규분포를 따르지 않으므로 최소-최대정규화 적용 예정이나 shapiro wilk 테스트 또는 QQ플롯으로 확인 해볼것. 확인 결과 정규분포 따름. 표준화, 정규화 모두 사용 가능\n",
    "- FamilyMembers : 이산형\n",
    "- ChronicDiseases : 이산형 이진 데이터\n",
    "- FrequentFlyer : 명목형 이진 데이터, 숫자 매핑 필요(0,1 매핑 or labelencoder)\n",
    "- EverTravelledAbroad : 명목형 이진 데이터, 숫자 매핑 필요(0,1 매핑 or labelencoder)\n",
    "- TravelInsurance : 이산형 이진 데이터, 타켓 데이터"
   ]
  },
  {
   "cell_type": "code",
   "execution_count": 6,
   "id": "c01ef0eb",
   "metadata": {
    "execution": {
     "iopub.execute_input": "2024-06-14T06:53:23.983232Z",
     "iopub.status.busy": "2024-06-14T06:53:23.982170Z",
     "iopub.status.idle": "2024-06-14T06:53:23.994452Z",
     "shell.execute_reply": "2024-06-14T06:53:23.993331Z"
    },
    "papermill": {
     "duration": 0.02133,
     "end_time": "2024-06-14T06:53:23.996729",
     "exception": false,
     "start_time": "2024-06-14T06:53:23.975399",
     "status": "completed"
    },
    "tags": []
   },
   "outputs": [
    {
     "data": {
      "text/plain": [
       "id                     0\n",
       "Age                    0\n",
       "Employment Type        0\n",
       "GraduateOrNot          0\n",
       "AnnualIncome           4\n",
       "FamilyMembers          0\n",
       "ChronicDiseases        0\n",
       "FrequentFlyer          0\n",
       "EverTravelledAbroad    0\n",
       "TravelInsurance        0\n",
       "dtype: int64"
      ]
     },
     "execution_count": 6,
     "metadata": {},
     "output_type": "execute_result"
    }
   ],
   "source": [
    "# 결측치 파악\n",
    "train.isnull().sum()"
   ]
  },
  {
   "cell_type": "code",
   "execution_count": 7,
   "id": "e37ea824",
   "metadata": {
    "execution": {
     "iopub.execute_input": "2024-06-14T06:53:24.014485Z",
     "iopub.status.busy": "2024-06-14T06:53:24.013733Z",
     "iopub.status.idle": "2024-06-14T06:53:24.022541Z",
     "shell.execute_reply": "2024-06-14T06:53:24.021348Z"
    },
    "papermill": {
     "duration": 0.020472,
     "end_time": "2024-06-14T06:53:24.024882",
     "exception": false,
     "start_time": "2024-06-14T06:53:24.004410",
     "status": "completed"
    },
    "tags": []
   },
   "outputs": [
    {
     "data": {
      "text/plain": [
       "id                     0\n",
       "Age                    0\n",
       "Employment Type        0\n",
       "GraduateOrNot          0\n",
       "AnnualIncome           3\n",
       "FamilyMembers          0\n",
       "ChronicDiseases        0\n",
       "FrequentFlyer          0\n",
       "EverTravelledAbroad    0\n",
       "dtype: int64"
      ]
     },
     "execution_count": 7,
     "metadata": {},
     "output_type": "execute_result"
    }
   ],
   "source": [
    "test.isnull().sum()"
   ]
  },
  {
   "cell_type": "code",
   "execution_count": 8,
   "id": "e7b51342",
   "metadata": {
    "execution": {
     "iopub.execute_input": "2024-06-14T06:53:24.039142Z",
     "iopub.status.busy": "2024-06-14T06:53:24.038633Z",
     "iopub.status.idle": "2024-06-14T06:53:24.047616Z",
     "shell.execute_reply": "2024-06-14T06:53:24.046605Z"
    },
    "papermill": {
     "duration": 0.019517,
     "end_time": "2024-06-14T06:53:24.050336",
     "exception": false,
     "start_time": "2024-06-14T06:53:24.030819",
     "status": "completed"
    },
    "tags": []
   },
   "outputs": [],
   "source": [
    "# 결측치 대체 - 연속형 데이터이므로 중앙값으로 대체\n",
    "median = train['AnnualIncome'].median()\n",
    "train['AnnualIncome'] = train['AnnualIncome'].fillna(value=median)\n",
    "test['AnnualIncome'] = test['AnnualIncome'].fillna(value=median)"
   ]
  },
  {
   "cell_type": "code",
   "execution_count": 9,
   "id": "3a7861ad",
   "metadata": {
    "execution": {
     "iopub.execute_input": "2024-06-14T06:53:24.070021Z",
     "iopub.status.busy": "2024-06-14T06:53:24.069145Z",
     "iopub.status.idle": "2024-06-14T06:53:25.204379Z",
     "shell.execute_reply": "2024-06-14T06:53:25.203288Z"
    },
    "papermill": {
     "duration": 1.14848,
     "end_time": "2024-06-14T06:53:25.207612",
     "exception": false,
     "start_time": "2024-06-14T06:53:24.059132",
     "status": "completed"
    },
    "tags": []
   },
   "outputs": [],
   "source": [
    "# 명목형 이진 데이터 레이블인코딩(숫자 매핑)\n",
    "from sklearn.preprocessing import LabelEncoder\n",
    "le = LabelEncoder()\n",
    "\n",
    "# train data\n",
    "train['Employment Type'] = le.fit_transform(train['Employment Type'])\n",
    "train['GraduateOrNot'] = le.fit_transform(train['GraduateOrNot'])\n",
    "train['FrequentFlyer'] = le.fit_transform(train['FrequentFlyer'])\n",
    "train['EverTravelledAbroad'] = le.fit_transform(train['EverTravelledAbroad'])\n",
    "# test data\n",
    "test['Employment Type'] = le.fit_transform(test['Employment Type'])\n",
    "test['GraduateOrNot'] = le.fit_transform(test['GraduateOrNot'])\n",
    "test['FrequentFlyer'] = le.fit_transform(test['FrequentFlyer'])\n",
    "test['EverTravelledAbroad'] = le.fit_transform(test['EverTravelledAbroad'])"
   ]
  },
  {
   "cell_type": "code",
   "execution_count": 10,
   "id": "015b0b40",
   "metadata": {
    "execution": {
     "iopub.execute_input": "2024-06-14T06:53:25.225089Z",
     "iopub.status.busy": "2024-06-14T06:53:25.224691Z",
     "iopub.status.idle": "2024-06-14T06:53:25.232607Z",
     "shell.execute_reply": "2024-06-14T06:53:25.231580Z"
    },
    "papermill": {
     "duration": 0.017498,
     "end_time": "2024-06-14T06:53:25.234814",
     "exception": false,
     "start_time": "2024-06-14T06:53:25.217316",
     "status": "completed"
    },
    "tags": []
   },
   "outputs": [],
   "source": [
    "# 연속형 데이터 최소-최대 정규화\n",
    "from sklearn.preprocessing import MinMaxScaler\n",
    "scaler = MinMaxScaler()\n",
    "train['AnnualIncome'] = scaler.fit_transform(train['AnnualIncome'].values.reshape(-1, 1))"
   ]
  },
  {
   "cell_type": "code",
   "execution_count": 11,
   "id": "00a273b5",
   "metadata": {
    "execution": {
     "iopub.execute_input": "2024-06-14T06:53:25.248178Z",
     "iopub.status.busy": "2024-06-14T06:53:25.247759Z",
     "iopub.status.idle": "2024-06-14T06:53:25.264519Z",
     "shell.execute_reply": "2024-06-14T06:53:25.263455Z"
    },
    "papermill": {
     "duration": 0.026304,
     "end_time": "2024-06-14T06:53:25.266962",
     "exception": false,
     "start_time": "2024-06-14T06:53:25.240658",
     "status": "completed"
    },
    "tags": []
   },
   "outputs": [
    {
     "data": {
      "text/html": [
       "<div>\n",
       "<style scoped>\n",
       "    .dataframe tbody tr th:only-of-type {\n",
       "        vertical-align: middle;\n",
       "    }\n",
       "\n",
       "    .dataframe tbody tr th {\n",
       "        vertical-align: top;\n",
       "    }\n",
       "\n",
       "    .dataframe thead th {\n",
       "        text-align: right;\n",
       "    }\n",
       "</style>\n",
       "<table border=\"1\" class=\"dataframe\">\n",
       "  <thead>\n",
       "    <tr style=\"text-align: right;\">\n",
       "      <th></th>\n",
       "      <th>id</th>\n",
       "      <th>Age</th>\n",
       "      <th>Employment Type</th>\n",
       "      <th>GraduateOrNot</th>\n",
       "      <th>AnnualIncome</th>\n",
       "      <th>FamilyMembers</th>\n",
       "      <th>ChronicDiseases</th>\n",
       "      <th>FrequentFlyer</th>\n",
       "      <th>EverTravelledAbroad</th>\n",
       "      <th>TravelInsurance</th>\n",
       "    </tr>\n",
       "  </thead>\n",
       "  <tbody>\n",
       "    <tr>\n",
       "      <th>0</th>\n",
       "      <td>10000</td>\n",
       "      <td>28</td>\n",
       "      <td>1</td>\n",
       "      <td>1</td>\n",
       "      <td>0.633333</td>\n",
       "      <td>6</td>\n",
       "      <td>1</td>\n",
       "      <td>0</td>\n",
       "      <td>0</td>\n",
       "      <td>0</td>\n",
       "    </tr>\n",
       "    <tr>\n",
       "      <th>1</th>\n",
       "      <td>10001</td>\n",
       "      <td>31</td>\n",
       "      <td>1</td>\n",
       "      <td>1</td>\n",
       "      <td>0.633333</td>\n",
       "      <td>7</td>\n",
       "      <td>1</td>\n",
       "      <td>0</td>\n",
       "      <td>0</td>\n",
       "      <td>0</td>\n",
       "    </tr>\n",
       "    <tr>\n",
       "      <th>2</th>\n",
       "      <td>10002</td>\n",
       "      <td>29</td>\n",
       "      <td>1</td>\n",
       "      <td>1</td>\n",
       "      <td>0.600000</td>\n",
       "      <td>7</td>\n",
       "      <td>0</td>\n",
       "      <td>0</td>\n",
       "      <td>0</td>\n",
       "      <td>1</td>\n",
       "    </tr>\n",
       "    <tr>\n",
       "      <th>3</th>\n",
       "      <td>10003</td>\n",
       "      <td>33</td>\n",
       "      <td>0</td>\n",
       "      <td>1</td>\n",
       "      <td>0.233333</td>\n",
       "      <td>6</td>\n",
       "      <td>1</td>\n",
       "      <td>0</td>\n",
       "      <td>0</td>\n",
       "      <td>1</td>\n",
       "    </tr>\n",
       "    <tr>\n",
       "      <th>4</th>\n",
       "      <td>10004</td>\n",
       "      <td>28</td>\n",
       "      <td>1</td>\n",
       "      <td>1</td>\n",
       "      <td>0.333333</td>\n",
       "      <td>6</td>\n",
       "      <td>0</td>\n",
       "      <td>0</td>\n",
       "      <td>1</td>\n",
       "      <td>1</td>\n",
       "    </tr>\n",
       "  </tbody>\n",
       "</table>\n",
       "</div>"
      ],
      "text/plain": [
       "      id  Age  Employment Type  GraduateOrNot  AnnualIncome  FamilyMembers  \\\n",
       "0  10000   28                1              1      0.633333              6   \n",
       "1  10001   31                1              1      0.633333              7   \n",
       "2  10002   29                1              1      0.600000              7   \n",
       "3  10003   33                0              1      0.233333              6   \n",
       "4  10004   28                1              1      0.333333              6   \n",
       "\n",
       "   ChronicDiseases  FrequentFlyer  EverTravelledAbroad  TravelInsurance  \n",
       "0                1              0                    0                0  \n",
       "1                1              0                    0                0  \n",
       "2                0              0                    0                1  \n",
       "3                1              0                    0                1  \n",
       "4                0              0                    1                1  "
      ]
     },
     "execution_count": 11,
     "metadata": {},
     "output_type": "execute_result"
    }
   ],
   "source": [
    "train.head()"
   ]
  },
  {
   "cell_type": "code",
   "execution_count": 12,
   "id": "809bc6ed",
   "metadata": {
    "execution": {
     "iopub.execute_input": "2024-06-14T06:53:25.280856Z",
     "iopub.status.busy": "2024-06-14T06:53:25.280441Z",
     "iopub.status.idle": "2024-06-14T06:53:25.289793Z",
     "shell.execute_reply": "2024-06-14T06:53:25.288722Z"
    },
    "papermill": {
     "duration": 0.019027,
     "end_time": "2024-06-14T06:53:25.292111",
     "exception": false,
     "start_time": "2024-06-14T06:53:25.273084",
     "status": "completed"
    },
    "tags": []
   },
   "outputs": [],
   "source": [
    "# 데이터 분리\n",
    "X = train.drop(['id', 'TravelInsurance'], axis=1).to_numpy()\n",
    "y = train['TravelInsurance'].to_numpy()\n",
    "test_id = test.pop('id')"
   ]
  },
  {
   "cell_type": "code",
   "execution_count": 13,
   "id": "9df833c4",
   "metadata": {
    "execution": {
     "iopub.execute_input": "2024-06-14T06:53:25.305939Z",
     "iopub.status.busy": "2024-06-14T06:53:25.305561Z",
     "iopub.status.idle": "2024-06-14T06:53:27.204680Z",
     "shell.execute_reply": "2024-06-14T06:53:27.203688Z"
    },
    "papermill": {
     "duration": 1.909137,
     "end_time": "2024-06-14T06:53:27.207470",
     "exception": false,
     "start_time": "2024-06-14T06:53:25.298333",
     "status": "completed"
    },
    "tags": []
   },
   "outputs": [],
   "source": [
    "# 모델 객체 생성\n",
    "from sklearn.ensemble import RandomForestClassifier, BaggingClassifier, VotingClassifier\n",
    "from xgboost import XGBClassifier\n",
    "from lightgbm import LGBMClassifier\n",
    "from catboost import CatBoostClassifier\n",
    "\n",
    "model = RandomForestClassifier()\n",
    "# rf = RandomForestClassifier()\n",
    "# bg = BaggingClassifier()\n",
    "# xgb = XGBClassifier()\n",
    "# lgbm = LGBMClassifier(verbose=-1)\n",
    "# catboost = CatBoostClassifier(verbose=False)\n",
    "\n",
    "# estimators = [\n",
    "#     ('rg', rf), ('bg', bg), ('xgb', xgb),\n",
    "#     ('lgbm', lgbm), ('catboost', catboost)\n",
    "# ]\n",
    "# voting = VotingClassifier(estimators=estimators, voting='soft')"
   ]
  },
  {
   "cell_type": "code",
   "execution_count": 14,
   "id": "5358ee5b",
   "metadata": {
    "execution": {
     "iopub.execute_input": "2024-06-14T06:53:27.222777Z",
     "iopub.status.busy": "2024-06-14T06:53:27.222187Z",
     "iopub.status.idle": "2024-06-14T06:53:27.227510Z",
     "shell.execute_reply": "2024-06-14T06:53:27.226470Z"
    },
    "papermill": {
     "duration": 0.014841,
     "end_time": "2024-06-14T06:53:27.229583",
     "exception": false,
     "start_time": "2024-06-14T06:53:27.214742",
     "status": "completed"
    },
    "tags": []
   },
   "outputs": [],
   "source": [
    "# 평가 지표 설정\n",
    "from sklearn.metrics import roc_auc_score"
   ]
  },
  {
   "cell_type": "code",
   "execution_count": 15,
   "id": "7816c3f6",
   "metadata": {
    "execution": {
     "iopub.execute_input": "2024-06-14T06:53:27.243373Z",
     "iopub.status.busy": "2024-06-14T06:53:27.242989Z",
     "iopub.status.idle": "2024-06-14T06:53:27.248144Z",
     "shell.execute_reply": "2024-06-14T06:53:27.246916Z"
    },
    "papermill": {
     "duration": 0.014707,
     "end_time": "2024-06-14T06:53:27.250409",
     "exception": false,
     "start_time": "2024-06-14T06:53:27.235702",
     "status": "completed"
    },
    "tags": []
   },
   "outputs": [],
   "source": [
    "# # 계층화 K-fold 교차 검증 수행\n",
    "# from sklearn.model_selection import StratifiedKFold\n",
    "# random_state = 42\n",
    "# skf = StratifiedKFold(n_splits=5, shuffle=True, random_state=random_state)\n",
    "\n",
    "# roc_auc_lst = []\n",
    "\n",
    "# for train_idx, val_idx in skf.split(X, y):\n",
    "#     X_train, X_val = X[train_idx], X[val_idx]\n",
    "#     y_train, y_val = y[train_idx], y[val_idx]\n",
    "    \n",
    "#     voting.fit(X_train, y_train)\n",
    "    \n",
    "#     preds_proba = voting.predict_proba(X_val)[:, 1]\n",
    "#     roc_auc = roc_auc_score(y_val, preds_proba)\n",
    "#     roc_auc_lst.append(roc_auc)\n",
    "\n",
    "# print('Mean roc auc', np.mean(roc_auc_lst))"
   ]
  },
  {
   "cell_type": "code",
   "execution_count": 16,
   "id": "253817b0",
   "metadata": {
    "execution": {
     "iopub.execute_input": "2024-06-14T06:53:27.264467Z",
     "iopub.status.busy": "2024-06-14T06:53:27.264086Z",
     "iopub.status.idle": "2024-06-14T06:53:27.268808Z",
     "shell.execute_reply": "2024-06-14T06:53:27.267723Z"
    },
    "papermill": {
     "duration": 0.014394,
     "end_time": "2024-06-14T06:53:27.271092",
     "exception": false,
     "start_time": "2024-06-14T06:53:27.256698",
     "status": "completed"
    },
    "tags": []
   },
   "outputs": [],
   "source": [
    "from sklearn.model_selection import cross_val_score"
   ]
  },
  {
   "cell_type": "code",
   "execution_count": 17,
   "id": "c4b9a532",
   "metadata": {
    "execution": {
     "iopub.execute_input": "2024-06-14T06:53:27.285695Z",
     "iopub.status.busy": "2024-06-14T06:53:27.284539Z",
     "iopub.status.idle": "2024-06-14T06:53:28.526477Z",
     "shell.execute_reply": "2024-06-14T06:53:28.525383Z"
    },
    "papermill": {
     "duration": 1.251593,
     "end_time": "2024-06-14T06:53:28.528857",
     "exception": false,
     "start_time": "2024-06-14T06:53:27.277264",
     "status": "completed"
    },
    "tags": []
   },
   "outputs": [
    {
     "data": {
      "text/plain": [
       "0.8045201085615593"
      ]
     },
     "execution_count": 17,
     "metadata": {},
     "output_type": "execute_result"
    }
   ],
   "source": [
    "cv_result = cross_val_score(model, X, y, scoring='roc_auc')\n",
    "np.mean(cv_result)"
   ]
  },
  {
   "cell_type": "code",
   "execution_count": 18,
   "id": "49414bb4",
   "metadata": {
    "execution": {
     "iopub.execute_input": "2024-06-14T06:53:28.543418Z",
     "iopub.status.busy": "2024-06-14T06:53:28.543050Z",
     "iopub.status.idle": "2024-06-14T06:53:28.825528Z",
     "shell.execute_reply": "2024-06-14T06:53:28.824479Z"
    },
    "papermill": {
     "duration": 0.292692,
     "end_time": "2024-06-14T06:53:28.827872",
     "exception": false,
     "start_time": "2024-06-14T06:53:28.535180",
     "status": "completed"
    },
    "tags": []
   },
   "outputs": [
    {
     "name": "stderr",
     "output_type": "stream",
     "text": [
      "/opt/conda/lib/python3.10/site-packages/sklearn/base.py:432: UserWarning: X has feature names, but RandomForestClassifier was fitted without feature names\n",
      "  warnings.warn(\n"
     ]
    }
   ],
   "source": [
    "# 전체 학습 및 추론\n",
    "# voting.fit(X, y)\n",
    "# preds_proba = voting.predict_proba(test)[:, 1]\n",
    "model.fit(X, y)\n",
    "preds_proba = model.predict_proba(test)[:, 1]"
   ]
  },
  {
   "cell_type": "code",
   "execution_count": 19,
   "id": "8c2ec2c0",
   "metadata": {
    "execution": {
     "iopub.execute_input": "2024-06-14T06:53:28.842989Z",
     "iopub.status.busy": "2024-06-14T06:53:28.841998Z",
     "iopub.status.idle": "2024-06-14T06:53:28.852425Z",
     "shell.execute_reply": "2024-06-14T06:53:28.851397Z"
    },
    "papermill": {
     "duration": 0.020434,
     "end_time": "2024-06-14T06:53:28.854832",
     "exception": false,
     "start_time": "2024-06-14T06:53:28.834398",
     "status": "completed"
    },
    "tags": []
   },
   "outputs": [],
   "source": [
    "# 제출\n",
    "submission = pd.DataFrame({'id': test_id, 'TravelInsurance': preds_proba})\n",
    "submission.to_csv('submission.csv', index=False)"
   ]
  },
  {
   "cell_type": "code",
   "execution_count": null,
   "id": "96728546",
   "metadata": {
    "papermill": {
     "duration": 0.00601,
     "end_time": "2024-06-14T06:53:28.867218",
     "exception": false,
     "start_time": "2024-06-14T06:53:28.861208",
     "status": "completed"
    },
    "tags": []
   },
   "outputs": [],
   "source": []
  }
 ],
 "metadata": {
  "kaggle": {
   "accelerator": "none",
   "dataSources": [
    {
     "databundleVersionId": 3872098,
     "sourceId": 37158,
     "sourceType": "competition"
    }
   ],
   "dockerImageVersionId": 30732,
   "isGpuEnabled": false,
   "isInternetEnabled": true,
   "language": "python",
   "sourceType": "notebook"
  },
  "kernelspec": {
   "display_name": "Python 3",
   "language": "python",
   "name": "python3"
  },
  "language_info": {
   "codemirror_mode": {
    "name": "ipython",
    "version": 3
   },
   "file_extension": ".py",
   "mimetype": "text/x-python",
   "name": "python",
   "nbconvert_exporter": "python",
   "pygments_lexer": "ipython3",
   "version": "3.10.13"
  },
  "papermill": {
   "default_parameters": {},
   "duration": 9.394542,
   "end_time": "2024-06-14T06:53:29.695349",
   "environment_variables": {},
   "exception": null,
   "input_path": "__notebook__.ipynb",
   "output_path": "__notebook__.ipynb",
   "parameters": {},
   "start_time": "2024-06-14T06:53:20.300807",
   "version": "2.5.0"
  }
 },
 "nbformat": 4,
 "nbformat_minor": 5
}
