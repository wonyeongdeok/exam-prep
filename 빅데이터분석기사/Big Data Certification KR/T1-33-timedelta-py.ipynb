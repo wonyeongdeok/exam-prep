{
 "cells": [
  {
   "cell_type": "markdown",
   "id": "da7dc57c",
   "metadata": {
    "papermill": {
     "duration": 0.007132,
     "end_time": "2023-11-28T01:09:49.645768",
     "exception": false,
     "start_time": "2023-11-28T01:09:49.638636",
     "status": "completed"
    },
    "tags": []
   },
   "source": [
    "1. 세션의 지속 시간을 분으로 계산하고 가장 긴 지속시간을 출력하시오(반올림 후 총 분만 출력)\n",
    "2. 가장 많이 머무른 Page를 찾고 그 페이지의 머문 평균 시간을 구하시오 (반올림 후 총 시간만 출력) \n",
    "3. 사용자들이 가장 활발히 활동하는 시간대(예: 새벽, 오전, 오후, 저녁)를 분석하세요. 이를 위해 하루를 4개의 시간대로 나누고 각 시간대별로 가장 많이 시작된 세션의 수를 계산하고, 그 중에 가장 많은 세션 수를 출력하시오\n",
    "    - 새벽: 0시 부터 6시 전\n",
    "    - 오전: 6시 부터 12시 전\n",
    "    - 오후: 12 부터 18시 전\n",
    "    - 저녁: 18시 부터 0시 전\n",
    "\n",
    "4. user가 가장 많이 접속 했던 날짜를 출력하시오. (예, 2023-02-17)"
   ]
  },
  {
   "cell_type": "code",
   "execution_count": 81,
   "id": "a3093073",
   "metadata": {
    "papermill": {
     "duration": 0.908001,
     "end_time": "2023-11-28T01:09:50.560752",
     "exception": false,
     "start_time": "2023-11-28T01:09:49.652751",
     "status": "completed"
    },
    "tags": []
   },
   "outputs": [],
   "source": [
    "import pandas as pd\n",
    "df = pd.read_csv(\"dataset/website.csv\")"
   ]
  },
  {
   "cell_type": "code",
   "execution_count": 82,
   "id": "91a8fedc",
   "metadata": {
    "papermill": {
     "duration": 0.038214,
     "end_time": "2023-11-28T01:09:50.605716",
     "exception": false,
     "start_time": "2023-11-28T01:09:50.567502",
     "status": "completed"
    },
    "tags": []
   },
   "outputs": [
    {
     "data": {
      "text/html": [
       "<div>\n",
       "<style scoped>\n",
       "    .dataframe tbody tr th:only-of-type {\n",
       "        vertical-align: middle;\n",
       "    }\n",
       "\n",
       "    .dataframe tbody tr th {\n",
       "        vertical-align: top;\n",
       "    }\n",
       "\n",
       "    .dataframe thead th {\n",
       "        text-align: right;\n",
       "    }\n",
       "</style>\n",
       "<table border=\"1\" class=\"dataframe\">\n",
       "  <thead>\n",
       "    <tr style=\"text-align: right;\">\n",
       "      <th></th>\n",
       "      <th>UserID</th>\n",
       "      <th>StartTime</th>\n",
       "      <th>EndTime</th>\n",
       "      <th>Page</th>\n",
       "    </tr>\n",
       "  </thead>\n",
       "  <tbody>\n",
       "    <tr>\n",
       "      <th>0</th>\n",
       "      <td>1</td>\n",
       "      <td>2023-07-02 08:32:00</td>\n",
       "      <td>2023-07-02 12:41:00</td>\n",
       "      <td>Page1</td>\n",
       "    </tr>\n",
       "    <tr>\n",
       "      <th>1</th>\n",
       "      <td>1</td>\n",
       "      <td>2023-05-16 11:37:00</td>\n",
       "      <td>2023-05-16 13:29:00</td>\n",
       "      <td>Page5</td>\n",
       "    </tr>\n",
       "    <tr>\n",
       "      <th>2</th>\n",
       "      <td>1</td>\n",
       "      <td>2023-05-05 03:39:00</td>\n",
       "      <td>2023-05-05 05:48:00</td>\n",
       "      <td>Page2</td>\n",
       "    </tr>\n",
       "    <tr>\n",
       "      <th>3</th>\n",
       "      <td>1</td>\n",
       "      <td>2023-05-04 23:04:00</td>\n",
       "      <td>2023-05-05 01:54:00</td>\n",
       "      <td>Page3</td>\n",
       "    </tr>\n",
       "    <tr>\n",
       "      <th>4</th>\n",
       "      <td>1</td>\n",
       "      <td>2023-09-04 11:27:00</td>\n",
       "      <td>2023-09-04 14:09:00</td>\n",
       "      <td>Page1</td>\n",
       "    </tr>\n",
       "  </tbody>\n",
       "</table>\n",
       "</div>"
      ],
      "text/plain": [
       "   UserID            StartTime              EndTime   Page\n",
       "0       1  2023-07-02 08:32:00  2023-07-02 12:41:00  Page1\n",
       "1       1  2023-05-16 11:37:00  2023-05-16 13:29:00  Page5\n",
       "2       1  2023-05-05 03:39:00  2023-05-05 05:48:00  Page2\n",
       "3       1  2023-05-04 23:04:00  2023-05-05 01:54:00  Page3\n",
       "4       1  2023-09-04 11:27:00  2023-09-04 14:09:00  Page1"
      ]
     },
     "execution_count": 82,
     "metadata": {},
     "output_type": "execute_result"
    }
   ],
   "source": [
    "df.head()"
   ]
  },
  {
   "cell_type": "code",
   "execution_count": 83,
   "id": "e41f19d3",
   "metadata": {
    "papermill": {
     "duration": 0.006593,
     "end_time": "2023-11-28T01:09:50.619363",
     "exception": false,
     "start_time": "2023-11-28T01:09:50.612770",
     "status": "completed"
    },
    "tags": []
   },
   "outputs": [
    {
     "name": "stdout",
     "output_type": "stream",
     "text": [
      "<class 'pandas.core.frame.DataFrame'>\n",
      "RangeIndex: 9601 entries, 0 to 9600\n",
      "Data columns (total 4 columns):\n",
      " #   Column     Non-Null Count  Dtype \n",
      "---  ------     --------------  ----- \n",
      " 0   UserID     9601 non-null   int64 \n",
      " 1   StartTime  9601 non-null   object\n",
      " 2   EndTime    9601 non-null   object\n",
      " 3   Page       9601 non-null   object\n",
      "dtypes: int64(1), object(3)\n",
      "memory usage: 300.2+ KB\n"
     ]
    }
   ],
   "source": [
    "df.info()"
   ]
  },
  {
   "cell_type": "code",
   "execution_count": 88,
   "id": "3a3f6956",
   "metadata": {
    "papermill": {
     "duration": 0.006373,
     "end_time": "2023-11-28T01:09:50.632643",
     "exception": false,
     "start_time": "2023-11-28T01:09:50.626270",
     "status": "completed"
    },
    "tags": []
   },
   "outputs": [],
   "source": [
    "df['StartTime'] = pd.to_datetime(df['StartTime'])\n",
    "df['EndTime'] = pd.to_datetime(df['EndTime'])"
   ]
  },
  {
   "cell_type": "code",
   "execution_count": 89,
   "id": "45d1addc",
   "metadata": {
    "papermill": {
     "duration": 0.006234,
     "end_time": "2023-11-28T01:09:50.645726",
     "exception": false,
     "start_time": "2023-11-28T01:09:50.639492",
     "status": "completed"
    },
    "tags": []
   },
   "outputs": [
    {
     "name": "stdout",
     "output_type": "stream",
     "text": [
      "<class 'pandas.core.frame.DataFrame'>\n",
      "RangeIndex: 9601 entries, 0 to 9600\n",
      "Data columns (total 5 columns):\n",
      " #   Column     Non-Null Count  Dtype         \n",
      "---  ------     --------------  -----         \n",
      " 0   UserID     9601 non-null   int64         \n",
      " 1   StartTime  9601 non-null   datetime64[ns]\n",
      " 2   EndTime    9601 non-null   datetime64[ns]\n",
      " 3   Page       9601 non-null   object        \n",
      " 4   StarTime   9601 non-null   datetime64[ns]\n",
      "dtypes: datetime64[ns](3), int64(1), object(1)\n",
      "memory usage: 375.2+ KB\n"
     ]
    }
   ],
   "source": [
    "df.info()"
   ]
  },
  {
   "cell_type": "code",
   "execution_count": 90,
   "id": "3b0f71c2-9ddc-4f8f-968f-b8d676d954bf",
   "metadata": {},
   "outputs": [
    {
     "data": {
      "text/plain": [
       "Timestamp('2023-07-02 12:41:00')"
      ]
     },
     "execution_count": 90,
     "metadata": {},
     "output_type": "execute_result"
    }
   ],
   "source": [
    "df['EndTime'][0]"
   ]
  },
  {
   "cell_type": "code",
   "execution_count": 91,
   "id": "5b84e339-f69f-427a-9ebf-15586bbafc49",
   "metadata": {},
   "outputs": [
    {
     "data": {
      "text/plain": [
       "Timestamp('2023-07-02 08:32:00')"
      ]
     },
     "execution_count": 91,
     "metadata": {},
     "output_type": "execute_result"
    }
   ],
   "source": [
    "df['StartTime'][0]"
   ]
  },
  {
   "cell_type": "code",
   "execution_count": 123,
   "id": "0af41814",
   "metadata": {
    "papermill": {
     "duration": 0.006438,
     "end_time": "2023-11-28T01:09:50.658906",
     "exception": false,
     "start_time": "2023-11-28T01:09:50.652468",
     "status": "completed"
    },
    "tags": []
   },
   "outputs": [
    {
     "data": {
      "text/plain": [
       "300.0"
      ]
     },
     "execution_count": 123,
     "metadata": {},
     "output_type": "execute_result"
    }
   ],
   "source": [
    "# 1. 세션의 지속 시간을 분으로 계산하고 가장 긴 지속시간을 출력하시오(반올림 후 총 분만 출력)\n",
    "df['Duration'] = (df['EndTime'] - df['StartTime']).dt.total_seconds() / 60\n",
    "df['Duration'].max()"
   ]
  },
  {
   "cell_type": "code",
   "execution_count": 124,
   "id": "ea843ce7-3e88-40c2-a1e4-f3325e99d62d",
   "metadata": {},
   "outputs": [],
   "source": [
    "# 2. 가장 많이 머무른 Page를 찾고 그 페이지의 머문 평균 시간을 구하시오 (반올림 후 총 시간만 출력)"
   ]
  },
  {
   "cell_type": "code",
   "execution_count": 195,
   "id": "7bf43ba5-6e44-4be2-831f-1fdb064f2569",
   "metadata": {},
   "outputs": [
    {
     "data": {
      "text/plain": [
       "3"
      ]
     },
     "execution_count": 195,
     "metadata": {},
     "output_type": "execute_result"
    }
   ],
   "source": [
    "max_page = df['Page'].value_counts().idxmax()\n",
    "round(df[df['Page'] == max_page]['Duration'].mean() / 60)"
   ]
  },
  {
   "cell_type": "code",
   "execution_count": 179,
   "id": "d4cc3aa6-0263-4ccb-9059-08f4c840fca9",
   "metadata": {},
   "outputs": [],
   "source": [
    "# 3. 사용자들이 가장 활발히 활동하는 시간대(예: 새벽, 오전, 오후, 저녁)를 분석하세요.\n",
    "# 이를 위해 하루를 4개의 시간대로 나누고 각 시간대별로 가장 많이 시작된 세션의 수를 계산하고, 그 중에 가장 많은 세션 수를 출력하시오"
   ]
  },
  {
   "cell_type": "code",
   "execution_count": 182,
   "id": "35265f26-6939-4d53-8fb0-132ef0c6e8d1",
   "metadata": {},
   "outputs": [
    {
     "data": {
      "text/plain": [
       "2447"
      ]
     },
     "execution_count": 182,
     "metadata": {},
     "output_type": "execute_result"
    }
   ],
   "source": [
    "def time_band(x):\n",
    "    if 0 <= x < 6:\n",
    "        return '새벽'\n",
    "    elif 6 <= x < 12:\n",
    "        return '오전'\n",
    "    elif 12 <= x < 18:\n",
    "        return '오후'\n",
    "    else:\n",
    "        return '저녁'\n",
    "\n",
    "df['TimeBand'] = df['StartTime'].dt.hour.apply(time_band)\n",
    "df['TimeBand'].value_counts().max()"
   ]
  },
  {
   "cell_type": "code",
   "execution_count": 183,
   "id": "f4f5c5d7-69d4-409f-b29f-5820ed67a1fb",
   "metadata": {},
   "outputs": [],
   "source": [
    "# 4. user가 가장 많이 접속 했던 날짜를 출력하시오. (예, 2023-02-17)"
   ]
  },
  {
   "cell_type": "code",
   "execution_count": 194,
   "id": "c8386f55-fa31-43a7-a8be-94d6a99ac6e7",
   "metadata": {},
   "outputs": [
    {
     "data": {
      "text/plain": [
       "'2023-03-28'"
      ]
     },
     "execution_count": 194,
     "metadata": {},
     "output_type": "execute_result"
    }
   ],
   "source": [
    "df['StartTime'].dt.date.value_counts().idxmax().strftime('%Y-%m-%d')"
   ]
  },
  {
   "cell_type": "code",
   "execution_count": null,
   "id": "d9394d7c-fe13-46ed-b198-a8bb9afd5d38",
   "metadata": {},
   "outputs": [],
   "source": []
  },
  {
   "cell_type": "code",
   "execution_count": null,
   "id": "39458d00-93a1-4995-aa9e-2d02e273492e",
   "metadata": {},
   "outputs": [],
   "source": []
  },
  {
   "cell_type": "code",
   "execution_count": null,
   "id": "8ea46269-ce9f-459f-a8a2-ef68729cbe48",
   "metadata": {},
   "outputs": [],
   "source": []
  },
  {
   "cell_type": "code",
   "execution_count": null,
   "id": "d10488cb-af4d-4b76-b38b-685e3110a9b8",
   "metadata": {},
   "outputs": [],
   "source": []
  },
  {
   "cell_type": "code",
   "execution_count": null,
   "id": "dce89b60-fa96-4391-8d70-28036ab99f1f",
   "metadata": {},
   "outputs": [],
   "source": [
    "# 문자열 날짜 또는 시간의 차이 계산하는 법\n",
    "from datetime import datetime\n",
    "\n",
    "# 두 날짜 문자열\n",
    "date_string1 = \"2023-06-04 15:30:00\"\n",
    "date_string2 = \"2023-06-03 12:00:11\"\n",
    "\n",
    "# 문자열을 datetime 객체로 변환\n",
    "date_object1 = datetime.strptime(date_string1, \"%Y-%m-%d %H:%M:%S\")\n",
    "date_object2 = datetime.strptime(date_string2, \"%Y-%m-%d %H:%M:%S\")\n",
    "\n",
    "# 두 날짜의 차이 계산\n",
    "difference = date_object1 - date_object2\n",
    "\n",
    "# difference를 일, 시간, 분, 초로 변환\n",
    "days = difference.days\n",
    "seconds = difference.seconds\n",
    "print('seconds :', seconds)\n",
    "hours = seconds // 3600\n",
    "print('hours :', hours)\n",
    "minutes = (seconds % 3600) // 60\n",
    "print('minutes :', minutes)\n",
    "seconds = seconds % 60\n",
    "print('seconds :', seconds)\n",
    "\n",
    "# 형식화\n",
    "difference_str = f\"{days:02d} days, {hours:02d}:{minutes:02d}:{seconds:02d}\"\n",
    "\n",
    "print(f\"Difference: {difference_str}\")"
   ]
  }
 ],
 "metadata": {
  "kaggle": {
   "accelerator": "none",
   "dataSources": [
    {
     "datasetId": 1633303,
     "sourceId": 7047032,
     "sourceType": "datasetVersion"
    }
   ],
   "dockerImageVersionId": 30579,
   "isGpuEnabled": false,
   "isInternetEnabled": true,
   "language": "python",
   "sourceType": "notebook"
  },
  "kernelspec": {
   "display_name": "Python 3 (ipykernel)",
   "language": "python",
   "name": "python3"
  },
  "language_info": {
   "codemirror_mode": {
    "name": "ipython",
    "version": 3
   },
   "file_extension": ".py",
   "mimetype": "text/x-python",
   "name": "python",
   "nbconvert_exporter": "python",
   "pygments_lexer": "ipython3",
   "version": "3.7.15"
  },
  "papermill": {
   "default_parameters": {},
   "duration": 6.018737,
   "end_time": "2023-11-28T01:09:51.737833",
   "environment_variables": {},
   "exception": null,
   "input_path": "__notebook__.ipynb",
   "output_path": "__notebook__.ipynb",
   "parameters": {},
   "start_time": "2023-11-28T01:09:45.719096",
   "version": "2.4.0"
  }
 },
 "nbformat": 4,
 "nbformat_minor": 5
}
