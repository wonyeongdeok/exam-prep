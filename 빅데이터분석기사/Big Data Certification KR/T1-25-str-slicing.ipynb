{
 "cells": [
  {
   "cell_type": "markdown",
   "id": "a5e646f1",
   "metadata": {
    "papermill": {
     "duration": 0.004165,
     "end_time": "2023-11-21T16:14:11.601424",
     "exception": false,
     "start_time": "2023-11-21T16:14:11.597259",
     "status": "completed"
    },
    "tags": []
   },
   "source": [
    "## basic1 데이터에서 f4가 E로 시작하면서 부산에 살고 20대인 사람은 몇 명일까요?"
   ]
  },
  {
   "cell_type": "code",
   "execution_count": 1,
   "id": "8636b4e3",
   "metadata": {
    "execution": {
     "iopub.execute_input": "2023-11-21T16:14:11.609798Z",
     "iopub.status.busy": "2023-11-21T16:14:11.609291Z",
     "iopub.status.idle": "2023-11-21T16:14:11.633806Z",
     "shell.execute_reply": "2023-11-21T16:14:11.632028Z"
    },
    "papermill": {
     "duration": 0.031843,
     "end_time": "2023-11-21T16:14:11.636578",
     "exception": false,
     "start_time": "2023-11-21T16:14:11.604735",
     "status": "completed"
    },
    "tags": []
   },
   "outputs": [],
   "source": [
    "import pandas as pd\n",
    "df = pd.read_csv(\"../input/bigdatacertificationkr/basic1.csv\")"
   ]
  },
  {
   "cell_type": "code",
   "execution_count": null,
   "id": "a883d9ac",
   "metadata": {
    "papermill": {
     "duration": 0.003081,
     "end_time": "2023-11-21T16:14:11.643208",
     "exception": false,
     "start_time": "2023-11-21T16:14:11.640127",
     "status": "completed"
    },
    "tags": []
   },
   "outputs": [],
   "source": []
  },
  {
   "cell_type": "code",
   "execution_count": null,
   "id": "d83d056e",
   "metadata": {
    "papermill": {
     "duration": 0.002957,
     "end_time": "2023-11-21T16:14:11.649490",
     "exception": false,
     "start_time": "2023-11-21T16:14:11.646533",
     "status": "completed"
    },
    "tags": []
   },
   "outputs": [],
   "source": []
  },
  {
   "cell_type": "code",
   "execution_count": null,
   "id": "57186eb9",
   "metadata": {
    "papermill": {
     "duration": 0.002943,
     "end_time": "2023-11-21T16:14:11.655659",
     "exception": false,
     "start_time": "2023-11-21T16:14:11.652716",
     "status": "completed"
    },
    "tags": []
   },
   "outputs": [],
   "source": []
  },
  {
   "cell_type": "code",
   "execution_count": null,
   "id": "528f771b",
   "metadata": {
    "papermill": {
     "duration": 0.003011,
     "end_time": "2023-11-21T16:14:11.661877",
     "exception": false,
     "start_time": "2023-11-21T16:14:11.658866",
     "status": "completed"
    },
    "tags": []
   },
   "outputs": [],
   "source": []
  },
  {
   "cell_type": "code",
   "execution_count": null,
   "id": "8fe021c1",
   "metadata": {
    "papermill": {
     "duration": 0.002979,
     "end_time": "2023-11-21T16:14:11.668079",
     "exception": false,
     "start_time": "2023-11-21T16:14:11.665100",
     "status": "completed"
    },
    "tags": []
   },
   "outputs": [],
   "source": []
  },
  {
   "cell_type": "code",
   "execution_count": null,
   "id": "abef96c8",
   "metadata": {
    "papermill": {
     "duration": 0.00294,
     "end_time": "2023-11-21T16:14:11.674298",
     "exception": false,
     "start_time": "2023-11-21T16:14:11.671358",
     "status": "completed"
    },
    "tags": []
   },
   "outputs": [],
   "source": []
  },
  {
   "cell_type": "code",
   "execution_count": null,
   "id": "9e333b90",
   "metadata": {
    "papermill": {
     "duration": 0.002924,
     "end_time": "2023-11-21T16:14:11.680476",
     "exception": false,
     "start_time": "2023-11-21T16:14:11.677552",
     "status": "completed"
    },
    "tags": []
   },
   "outputs": [],
   "source": []
  },
  {
   "cell_type": "code",
   "execution_count": null,
   "id": "4629cf00",
   "metadata": {
    "papermill": {
     "duration": 0.002828,
     "end_time": "2023-11-21T16:14:11.686464",
     "exception": false,
     "start_time": "2023-11-21T16:14:11.683636",
     "status": "completed"
    },
    "tags": []
   },
   "outputs": [],
   "source": []
  },
  {
   "cell_type": "code",
   "execution_count": null,
   "id": "34781390",
   "metadata": {
    "papermill": {
     "duration": 0.002974,
     "end_time": "2023-11-21T16:14:11.692581",
     "exception": false,
     "start_time": "2023-11-21T16:14:11.689607",
     "status": "completed"
    },
    "tags": []
   },
   "outputs": [],
   "source": []
  },
  {
   "cell_type": "code",
   "execution_count": null,
   "id": "fb0765f3",
   "metadata": {
    "papermill": {
     "duration": 0.003047,
     "end_time": "2023-11-21T16:14:11.698838",
     "exception": false,
     "start_time": "2023-11-21T16:14:11.695791",
     "status": "completed"
    },
    "tags": []
   },
   "outputs": [],
   "source": []
  },
  {
   "cell_type": "code",
   "execution_count": null,
   "id": "5d46c5a3",
   "metadata": {
    "papermill": {
     "duration": 0.002914,
     "end_time": "2023-11-21T16:14:11.705033",
     "exception": false,
     "start_time": "2023-11-21T16:14:11.702119",
     "status": "completed"
    },
    "tags": []
   },
   "outputs": [],
   "source": []
  },
  {
   "cell_type": "code",
   "execution_count": 2,
   "id": "260b7ede",
   "metadata": {
    "execution": {
     "iopub.execute_input": "2023-11-21T16:14:11.713225Z",
     "iopub.status.busy": "2023-11-21T16:14:11.712808Z",
     "iopub.status.idle": "2023-11-21T16:14:11.737540Z",
     "shell.execute_reply": "2023-11-21T16:14:11.735837Z"
    },
    "papermill": {
     "duration": 0.031574,
     "end_time": "2023-11-21T16:14:11.739825",
     "exception": false,
     "start_time": "2023-11-21T16:14:11.708251",
     "status": "completed"
    },
    "tags": []
   },
   "outputs": [
    {
     "name": "stdout",
     "output_type": "stream",
     "text": [
      "0\n"
     ]
    }
   ],
   "source": [
    "import pandas as pd\n",
    "df = pd.read_csv(\"../input/bigdatacertificationkr/basic1.csv\")\n",
    "df['EI'] = df['f4'].str[:1]\n",
    "cond1 = df['EI'] == \"E\"\n",
    "cond2 = df['city'] == \"부산\"\n",
    "cond3 = (df['age'] >= 20) & (df['age'] < 30)\n",
    "\n",
    "print(len(df[cond1 & cond2 & cond3]))"
   ]
  },
  {
   "cell_type": "code",
   "execution_count": null,
   "id": "2f358dd0",
   "metadata": {
    "papermill": {
     "duration": 0.002894,
     "end_time": "2023-11-21T16:14:11.746020",
     "exception": false,
     "start_time": "2023-11-21T16:14:11.743126",
     "status": "completed"
    },
    "tags": []
   },
   "outputs": [],
   "source": []
  }
 ],
 "metadata": {
  "kaggle": {
   "accelerator": "none",
   "dataSources": [
    {
     "datasetId": 1633303,
     "sourceId": 2867756,
     "sourceType": "datasetVersion"
    }
   ],
   "dockerImageVersionId": 30301,
   "isGpuEnabled": false,
   "isInternetEnabled": true,
   "language": "python",
   "sourceType": "notebook"
  },
  "kernelspec": {
   "display_name": "Python 3",
   "language": "python",
   "name": "python3"
  },
  "language_info": {
   "codemirror_mode": {
    "name": "ipython",
    "version": 3
   },
   "file_extension": ".py",
   "mimetype": "text/x-python",
   "name": "python",
   "nbconvert_exporter": "python",
   "pygments_lexer": "ipython3",
   "version": "3.7.12"
  },
  "papermill": {
   "default_parameters": {},
   "duration": 10.70249,
   "end_time": "2023-11-21T16:14:12.471997",
   "environment_variables": {},
   "exception": null,
   "input_path": "__notebook__.ipynb",
   "output_path": "__notebook__.ipynb",
   "parameters": {},
   "start_time": "2023-11-21T16:14:01.769507",
   "version": "2.3.4"
  }
 },
 "nbformat": 4,
 "nbformat_minor": 5
}
