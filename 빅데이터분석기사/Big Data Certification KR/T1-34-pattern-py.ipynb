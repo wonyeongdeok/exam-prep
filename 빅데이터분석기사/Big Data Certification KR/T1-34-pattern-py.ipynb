{
 "cells": [
  {
   "cell_type": "markdown",
   "id": "57d18238",
   "metadata": {
    "papermill": {
     "duration": 0.009611,
     "end_time": "2023-11-28T11:55:40.821666",
     "exception": false,
     "start_time": "2023-11-28T11:55:40.812055",
     "status": "completed"
    },
    "tags": []
   },
   "source": [
    "## 패턴/선호도 분석\n",
    "1. 사용자별 방문 패턴 분석: 각 사용자가 방문한 페이지별로 평균 세션 지속 시간을 계산하고, 각 페이지별로 가장 긴 평균 세션 시간을 가진 사용자를 찾으세요. 이를 위해 각 사용자의 페이지별 평균 세션 시간을 계산하고, 각 페이지에서 가장 긴 평균 세션 시간을 모두 더하고 정수형으로 출력하시오.\n",
    "\n",
    "2. 시간대별 페이지 선호도 분석: 하루를 네 시간대로 나누고 (새벽: 0-6시, 오전: 6-12시, 오후: 12-18시, 저녁: 18-24시), 각 시간대별로 가장 많이 방문된 페이지를 찾으세요. 각 시간대별로 가장 많이 방문된 페이지의 이름과 해당 시간대의 방문 횟수를 찾으세요! (단 0-6시 일때 0시부터 6시 전까지입니다.)\n",
    "- 2-1: 시간대 별로 나누었을 때 가장 많이 방문한 페이지의 이름을 구하시오.\n",
    "- 2-2: 시간대 별로 나누었을 때 가장 방문 횟수가 큰 값을 구하시오 \n",
    "\n",
    "3. 재방문 패턴 분석: 사용자가 같은 날짜에 여러 페이지를 방문하는 경우를 '재방문'으로 간주합니다. 재방문한 사용자들의 데이터를 분석하여, 재방문한 날짜별 총 방문 페이지 수를 구하고 가장 재방문이 많은 월을 정수로 구하시오 "
   ]
  },
  {
   "cell_type": "code",
   "execution_count": 1,
   "id": "6280ead7",
   "metadata": {
    "papermill": {
     "duration": 0.940975,
     "end_time": "2023-11-28T11:55:41.769644",
     "exception": false,
     "start_time": "2023-11-28T11:55:40.828669",
     "status": "completed"
    },
    "tags": []
   },
   "outputs": [],
   "source": [
    "import pandas as pd\n",
    "df = pd.read_csv(\"dataset/website.csv\")"
   ]
  },
  {
   "cell_type": "code",
   "execution_count": 2,
   "id": "ed598ad5",
   "metadata": {
    "papermill": {
     "duration": 0.005601,
     "end_time": "2023-11-28T11:55:41.793678",
     "exception": false,
     "start_time": "2023-11-28T11:55:41.788077",
     "status": "completed"
    },
    "tags": []
   },
   "outputs": [
    {
     "data": {
      "text/html": [
       "<div>\n",
       "<style scoped>\n",
       "    .dataframe tbody tr th:only-of-type {\n",
       "        vertical-align: middle;\n",
       "    }\n",
       "\n",
       "    .dataframe tbody tr th {\n",
       "        vertical-align: top;\n",
       "    }\n",
       "\n",
       "    .dataframe thead th {\n",
       "        text-align: right;\n",
       "    }\n",
       "</style>\n",
       "<table border=\"1\" class=\"dataframe\">\n",
       "  <thead>\n",
       "    <tr style=\"text-align: right;\">\n",
       "      <th></th>\n",
       "      <th>UserID</th>\n",
       "      <th>StartTime</th>\n",
       "      <th>EndTime</th>\n",
       "      <th>Page</th>\n",
       "    </tr>\n",
       "  </thead>\n",
       "  <tbody>\n",
       "    <tr>\n",
       "      <th>0</th>\n",
       "      <td>1</td>\n",
       "      <td>2023-07-02 08:32:00</td>\n",
       "      <td>2023-07-02 12:41:00</td>\n",
       "      <td>Page1</td>\n",
       "    </tr>\n",
       "    <tr>\n",
       "      <th>1</th>\n",
       "      <td>1</td>\n",
       "      <td>2023-05-16 11:37:00</td>\n",
       "      <td>2023-05-16 13:29:00</td>\n",
       "      <td>Page5</td>\n",
       "    </tr>\n",
       "    <tr>\n",
       "      <th>2</th>\n",
       "      <td>1</td>\n",
       "      <td>2023-05-05 03:39:00</td>\n",
       "      <td>2023-05-05 05:48:00</td>\n",
       "      <td>Page2</td>\n",
       "    </tr>\n",
       "    <tr>\n",
       "      <th>3</th>\n",
       "      <td>1</td>\n",
       "      <td>2023-05-04 23:04:00</td>\n",
       "      <td>2023-05-05 01:54:00</td>\n",
       "      <td>Page3</td>\n",
       "    </tr>\n",
       "    <tr>\n",
       "      <th>4</th>\n",
       "      <td>1</td>\n",
       "      <td>2023-09-04 11:27:00</td>\n",
       "      <td>2023-09-04 14:09:00</td>\n",
       "      <td>Page1</td>\n",
       "    </tr>\n",
       "  </tbody>\n",
       "</table>\n",
       "</div>"
      ],
      "text/plain": [
       "   UserID            StartTime              EndTime   Page\n",
       "0       1  2023-07-02 08:32:00  2023-07-02 12:41:00  Page1\n",
       "1       1  2023-05-16 11:37:00  2023-05-16 13:29:00  Page5\n",
       "2       1  2023-05-05 03:39:00  2023-05-05 05:48:00  Page2\n",
       "3       1  2023-05-04 23:04:00  2023-05-05 01:54:00  Page3\n",
       "4       1  2023-09-04 11:27:00  2023-09-04 14:09:00  Page1"
      ]
     },
     "execution_count": 2,
     "metadata": {},
     "output_type": "execute_result"
    }
   ],
   "source": [
    "df.head()"
   ]
  },
  {
   "cell_type": "code",
   "execution_count": 3,
   "id": "316b6102",
   "metadata": {
    "papermill": {
     "duration": 0.005668,
     "end_time": "2023-11-28T11:55:41.805726",
     "exception": false,
     "start_time": "2023-11-28T11:55:41.800058",
     "status": "completed"
    },
    "tags": []
   },
   "outputs": [
    {
     "name": "stdout",
     "output_type": "stream",
     "text": [
      "<class 'pandas.core.frame.DataFrame'>\n",
      "RangeIndex: 9601 entries, 0 to 9600\n",
      "Data columns (total 4 columns):\n",
      " #   Column     Non-Null Count  Dtype \n",
      "---  ------     --------------  ----- \n",
      " 0   UserID     9601 non-null   int64 \n",
      " 1   StartTime  9601 non-null   object\n",
      " 2   EndTime    9601 non-null   object\n",
      " 3   Page       9601 non-null   object\n",
      "dtypes: int64(1), object(3)\n",
      "memory usage: 300.2+ KB\n"
     ]
    }
   ],
   "source": [
    "df.info()"
   ]
  },
  {
   "cell_type": "code",
   "execution_count": 4,
   "id": "cea21483-4282-4272-9a9c-e53dac0e4694",
   "metadata": {},
   "outputs": [],
   "source": [
    "df['StartTime'] = pd.to_datetime(df['StartTime'])\n",
    "df['EndTime'] = pd.to_datetime(df['EndTime'])"
   ]
  },
  {
   "cell_type": "code",
   "execution_count": 5,
   "id": "5710c62f",
   "metadata": {
    "papermill": {
     "duration": 0.005244,
     "end_time": "2023-11-28T11:55:41.816822",
     "exception": false,
     "start_time": "2023-11-28T11:55:41.811578",
     "status": "completed"
    },
    "tags": []
   },
   "outputs": [],
   "source": [
    "# 1. 사용자별 방문 패턴 분석: 각 사용자가 방문한 페이지별로 평균 세션 지속 시간을 계산하고, 각 페이지별로 가장 긴 평균 세션 시간을 가진 사용자를 찾으세요.\n",
    "# 이를 위해 각 사용자의 페이지별 평균 세션 시간을 계산하고, 각 페이지에서 가장 긴 평균 세션 시간을 모두 더하고 정수형으로 출력하시오."
   ]
  },
  {
   "cell_type": "code",
   "execution_count": 6,
   "id": "1f0964ab-9c9c-4555-86d0-d38b287c5a89",
   "metadata": {},
   "outputs": [
    {
     "data": {
      "text/plain": [
       "Timestamp('2023-07-02 08:32:00')"
      ]
     },
     "execution_count": 6,
     "metadata": {},
     "output_type": "execute_result"
    }
   ],
   "source": [
    "df['StartTime'][0]"
   ]
  },
  {
   "cell_type": "code",
   "execution_count": 7,
   "id": "798e6fcc",
   "metadata": {
    "papermill": {
     "duration": 0.005179,
     "end_time": "2023-11-28T11:55:41.827833",
     "exception": false,
     "start_time": "2023-11-28T11:55:41.822654",
     "status": "completed"
    },
    "tags": []
   },
   "outputs": [],
   "source": [
    "df['Duration'] = (df['EndTime'] - df['StartTime']).dt.total_seconds() / 3600"
   ]
  },
  {
   "cell_type": "code",
   "execution_count": 8,
   "id": "39b7f64f-d996-40e2-a18f-6f5ca2a74e4e",
   "metadata": {},
   "outputs": [
    {
     "data": {
      "text/plain": [
       "24"
      ]
     },
     "execution_count": 8,
     "metadata": {},
     "output_type": "execute_result"
    }
   ],
   "source": [
    "int(df.groupby(by=['UserID', 'Page'], as_index=False)['Duration'].mean().groupby('Page')['Duration'].max().sum())"
   ]
  },
  {
   "cell_type": "code",
   "execution_count": 9,
   "id": "81f15ed1",
   "metadata": {
    "papermill": {
     "duration": 0.005079,
     "end_time": "2023-11-28T11:55:41.849144",
     "exception": false,
     "start_time": "2023-11-28T11:55:41.844065",
     "status": "completed"
    },
    "tags": []
   },
   "outputs": [],
   "source": [
    "# 2. 시간대별 페이지 선호도 분석: 하루를 네 시간대로 나누고 (새벽: 0-6시, 오전: 6-12시, 오후: 12-18시, 저녁: 18-24시), 각 시간대별로 가장 많이 방문된 페이지를 찾으세요.\n",
    "# 각 시간대별로 가장 많이 방문된 페이지의 이름과 해당 시간대의 방문 횟수를 찾으세요! (단 0-6시 일때 0시부터 6시 전까지입니다.)"
   ]
  },
  {
   "cell_type": "code",
   "execution_count": 10,
   "id": "22799101",
   "metadata": {
    "papermill": {
     "duration": 0.005048,
     "end_time": "2023-11-28T11:55:41.859521",
     "exception": false,
     "start_time": "2023-11-28T11:55:41.854473",
     "status": "completed"
    },
    "tags": []
   },
   "outputs": [
    {
     "data": {
      "text/plain": [
       "'Page5'"
      ]
     },
     "execution_count": 10,
     "metadata": {},
     "output_type": "execute_result"
    }
   ],
   "source": [
    "# 2-1. 시간대 별로 나누었을 때 가장 많이 방문한 페이지의 이름을 구하시오.\n",
    "def time_band(x):\n",
    "    if 0 <= x < 6:\n",
    "        x = '새벽'\n",
    "    elif 6 <= x < 12:\n",
    "        x = '오전'\n",
    "    elif 12 <= x < 18:\n",
    "        x = '오후'\n",
    "    else:\n",
    "        x = '저녁'\n",
    "    return x\n",
    "\n",
    "df['TimeBand'] = df['StartTime'].dt.hour.apply(time_band)\n",
    "df.groupby(by=['TimeBand', 'Page'], as_index=False).size().max()['Page']"
   ]
  },
  {
   "cell_type": "code",
   "execution_count": 11,
   "id": "0f79dfc6-47be-49c1-b3c8-b604910a5a07",
   "metadata": {
    "papermill": {
     "duration": 0.004903,
     "end_time": "2023-11-28T11:55:41.879881",
     "exception": false,
     "start_time": "2023-11-28T11:55:41.874978",
     "status": "completed"
    },
    "tags": []
   },
   "outputs": [
    {
     "data": {
      "text/plain": [
       "538"
      ]
     },
     "execution_count": 11,
     "metadata": {},
     "output_type": "execute_result"
    }
   ],
   "source": [
    "# 2-2: 시간대 별로 나누었을 때 가장 방문 횟수가 큰 값을 구하시오\n",
    "df.groupby(by=['TimeBand', 'Page'], as_index=False).size().max()['size']"
   ]
  },
  {
   "cell_type": "code",
   "execution_count": 12,
   "id": "18f1ea15",
   "metadata": {
    "papermill": {
     "duration": 0.005715,
     "end_time": "2023-11-28T11:55:41.925141",
     "exception": false,
     "start_time": "2023-11-28T11:55:41.919426",
     "status": "completed"
    },
    "tags": []
   },
   "outputs": [],
   "source": [
    "# 3. 재방문 패턴 분석: 사용자가 같은 날짜에 여러 페이지를 방문하는 경우를 '재방문'으로 간주합니다.\n",
    "# 재방문한 사용자들의 데이터를 분석하여, 재방문한 날짜별 총 방문 페이지 수를 구하고 가장 재방문이 많은 월을 정수로 구하시오"
   ]
  },
  {
   "cell_type": "code",
   "execution_count": 13,
   "id": "2ef9fefc",
   "metadata": {
    "papermill": {
     "duration": 0.00521,
     "end_time": "2023-11-28T11:55:41.936348",
     "exception": false,
     "start_time": "2023-11-28T11:55:41.931138",
     "status": "completed"
    },
    "tags": []
   },
   "outputs": [
    {
     "data": {
      "text/html": [
       "<div>\n",
       "<style scoped>\n",
       "    .dataframe tbody tr th:only-of-type {\n",
       "        vertical-align: middle;\n",
       "    }\n",
       "\n",
       "    .dataframe tbody tr th {\n",
       "        vertical-align: top;\n",
       "    }\n",
       "\n",
       "    .dataframe thead th {\n",
       "        text-align: right;\n",
       "    }\n",
       "</style>\n",
       "<table border=\"1\" class=\"dataframe\">\n",
       "  <thead>\n",
       "    <tr style=\"text-align: right;\">\n",
       "      <th></th>\n",
       "      <th>UserID</th>\n",
       "      <th>StartTime</th>\n",
       "      <th>EndTime</th>\n",
       "      <th>Page</th>\n",
       "      <th>Duration</th>\n",
       "      <th>TimeBand</th>\n",
       "    </tr>\n",
       "  </thead>\n",
       "  <tbody>\n",
       "    <tr>\n",
       "      <th>0</th>\n",
       "      <td>1</td>\n",
       "      <td>2023-07-02 08:32:00</td>\n",
       "      <td>2023-07-02 12:41:00</td>\n",
       "      <td>Page1</td>\n",
       "      <td>4.150000</td>\n",
       "      <td>오전</td>\n",
       "    </tr>\n",
       "    <tr>\n",
       "      <th>1</th>\n",
       "      <td>1</td>\n",
       "      <td>2023-05-16 11:37:00</td>\n",
       "      <td>2023-05-16 13:29:00</td>\n",
       "      <td>Page5</td>\n",
       "      <td>1.866667</td>\n",
       "      <td>오전</td>\n",
       "    </tr>\n",
       "    <tr>\n",
       "      <th>2</th>\n",
       "      <td>1</td>\n",
       "      <td>2023-05-05 03:39:00</td>\n",
       "      <td>2023-05-05 05:48:00</td>\n",
       "      <td>Page2</td>\n",
       "      <td>2.150000</td>\n",
       "      <td>새벽</td>\n",
       "    </tr>\n",
       "    <tr>\n",
       "      <th>3</th>\n",
       "      <td>1</td>\n",
       "      <td>2023-05-04 23:04:00</td>\n",
       "      <td>2023-05-05 01:54:00</td>\n",
       "      <td>Page3</td>\n",
       "      <td>2.833333</td>\n",
       "      <td>저녁</td>\n",
       "    </tr>\n",
       "    <tr>\n",
       "      <th>4</th>\n",
       "      <td>1</td>\n",
       "      <td>2023-09-04 11:27:00</td>\n",
       "      <td>2023-09-04 14:09:00</td>\n",
       "      <td>Page1</td>\n",
       "      <td>2.700000</td>\n",
       "      <td>오전</td>\n",
       "    </tr>\n",
       "  </tbody>\n",
       "</table>\n",
       "</div>"
      ],
      "text/plain": [
       "   UserID           StartTime             EndTime   Page  Duration TimeBand\n",
       "0       1 2023-07-02 08:32:00 2023-07-02 12:41:00  Page1  4.150000       오전\n",
       "1       1 2023-05-16 11:37:00 2023-05-16 13:29:00  Page5  1.866667       오전\n",
       "2       1 2023-05-05 03:39:00 2023-05-05 05:48:00  Page2  2.150000       새벽\n",
       "3       1 2023-05-04 23:04:00 2023-05-05 01:54:00  Page3  2.833333       저녁\n",
       "4       1 2023-09-04 11:27:00 2023-09-04 14:09:00  Page1  2.700000       오전"
      ]
     },
     "execution_count": 13,
     "metadata": {},
     "output_type": "execute_result"
    }
   ],
   "source": [
    "df.head()"
   ]
  },
  {
   "cell_type": "code",
   "execution_count": 25,
   "id": "335c9225",
   "metadata": {
    "papermill": {
     "duration": 0.005449,
     "end_time": "2023-11-28T11:55:41.969448",
     "exception": false,
     "start_time": "2023-11-28T11:55:41.963999",
     "status": "completed"
    },
    "tags": []
   },
   "outputs": [
    {
     "data": {
      "text/html": [
       "<div>\n",
       "<style scoped>\n",
       "    .dataframe tbody tr th:only-of-type {\n",
       "        vertical-align: middle;\n",
       "    }\n",
       "\n",
       "    .dataframe tbody tr th {\n",
       "        vertical-align: top;\n",
       "    }\n",
       "\n",
       "    .dataframe thead th {\n",
       "        text-align: right;\n",
       "    }\n",
       "</style>\n",
       "<table border=\"1\" class=\"dataframe\">\n",
       "  <thead>\n",
       "    <tr style=\"text-align: right;\">\n",
       "      <th></th>\n",
       "      <th>UserID</th>\n",
       "      <th>StartTime</th>\n",
       "      <th>size</th>\n",
       "    </tr>\n",
       "  </thead>\n",
       "  <tbody>\n",
       "    <tr>\n",
       "      <th>57</th>\n",
       "      <td>6</td>\n",
       "      <td>2023-01-10</td>\n",
       "      <td>2</td>\n",
       "    </tr>\n",
       "    <tr>\n",
       "      <th>88</th>\n",
       "      <td>10</td>\n",
       "      <td>2023-04-10</td>\n",
       "      <td>2</td>\n",
       "    </tr>\n",
       "    <tr>\n",
       "      <th>224</th>\n",
       "      <td>26</td>\n",
       "      <td>2023-06-16</td>\n",
       "      <td>2</td>\n",
       "    </tr>\n",
       "    <tr>\n",
       "      <th>268</th>\n",
       "      <td>31</td>\n",
       "      <td>2023-06-04</td>\n",
       "      <td>2</td>\n",
       "    </tr>\n",
       "    <tr>\n",
       "      <th>271</th>\n",
       "      <td>31</td>\n",
       "      <td>2023-08-26</td>\n",
       "      <td>2</td>\n",
       "    </tr>\n",
       "    <tr>\n",
       "      <th>...</th>\n",
       "      <td>...</td>\n",
       "      <td>...</td>\n",
       "      <td>...</td>\n",
       "    </tr>\n",
       "    <tr>\n",
       "      <th>9193</th>\n",
       "      <td>1164</td>\n",
       "      <td>2023-09-11</td>\n",
       "      <td>2</td>\n",
       "    </tr>\n",
       "    <tr>\n",
       "      <th>9227</th>\n",
       "      <td>1168</td>\n",
       "      <td>2023-06-21</td>\n",
       "      <td>2</td>\n",
       "    </tr>\n",
       "    <tr>\n",
       "      <th>9343</th>\n",
       "      <td>1187</td>\n",
       "      <td>2023-07-23</td>\n",
       "      <td>2</td>\n",
       "    </tr>\n",
       "    <tr>\n",
       "      <th>9374</th>\n",
       "      <td>1190</td>\n",
       "      <td>2023-10-22</td>\n",
       "      <td>2</td>\n",
       "    </tr>\n",
       "    <tr>\n",
       "      <th>9450</th>\n",
       "      <td>1201</td>\n",
       "      <td>2023-08-10</td>\n",
       "      <td>2</td>\n",
       "    </tr>\n",
       "  </tbody>\n",
       "</table>\n",
       "<p>135 rows × 3 columns</p>\n",
       "</div>"
      ],
      "text/plain": [
       "      UserID   StartTime  size\n",
       "57         6  2023-01-10     2\n",
       "88        10  2023-04-10     2\n",
       "224       26  2023-06-16     2\n",
       "268       31  2023-06-04     2\n",
       "271       31  2023-08-26     2\n",
       "...      ...         ...   ...\n",
       "9193    1164  2023-09-11     2\n",
       "9227    1168  2023-06-21     2\n",
       "9343    1187  2023-07-23     2\n",
       "9374    1190  2023-10-22     2\n",
       "9450    1201  2023-08-10     2\n",
       "\n",
       "[135 rows x 3 columns]"
      ]
     },
     "execution_count": 25,
     "metadata": {},
     "output_type": "execute_result"
    }
   ],
   "source": [
    "gdf = df.groupby(by=['UserID', df['StartTime'].dt.date], as_index=False).size()\n",
    "gdf = gdf[gdf['size'] > 1]\n",
    "gdf"
   ]
  },
  {
   "cell_type": "code",
   "execution_count": 26,
   "id": "189b7887",
   "metadata": {
    "papermill": {
     "duration": 0.005435,
     "end_time": "2023-11-28T11:55:41.992651",
     "exception": false,
     "start_time": "2023-11-28T11:55:41.987216",
     "status": "completed"
    },
    "tags": []
   },
   "outputs": [],
   "source": [
    "gdf['StartTime'] = pd.to_datetime(gdf['StartTime'])"
   ]
  },
  {
   "cell_type": "code",
   "execution_count": 30,
   "id": "28b88aaa",
   "metadata": {
    "papermill": {
     "duration": 0.005841,
     "end_time": "2023-11-28T11:55:42.004613",
     "exception": false,
     "start_time": "2023-11-28T11:55:41.998772",
     "status": "completed"
    },
    "tags": []
   },
   "outputs": [
    {
     "data": {
      "text/plain": [
       "4"
      ]
     },
     "execution_count": 30,
     "metadata": {},
     "output_type": "execute_result"
    }
   ],
   "source": [
    "gdf.groupby(by=gdf['StartTime'].dt.month).size().idxmax()"
   ]
  }
 ],
 "metadata": {
  "kaggle": {
   "accelerator": "none",
   "dataSources": [
    {
     "datasetId": 1633303,
     "sourceId": 7061047,
     "sourceType": "datasetVersion"
    }
   ],
   "dockerImageVersionId": 30587,
   "isGpuEnabled": false,
   "isInternetEnabled": true,
   "language": "python",
   "sourceType": "notebook"
  },
  "kernelspec": {
   "display_name": "Python 3 (ipykernel)",
   "language": "python",
   "name": "python3"
  },
  "language_info": {
   "codemirror_mode": {
    "name": "ipython",
    "version": 3
   },
   "file_extension": ".py",
   "mimetype": "text/x-python",
   "name": "python",
   "nbconvert_exporter": "python",
   "pygments_lexer": "ipython3",
   "version": "3.7.15"
  },
  "papermill": {
   "default_parameters": {},
   "duration": 6.841659,
   "end_time": "2023-11-28T11:55:42.897612",
   "environment_variables": {},
   "exception": null,
   "input_path": "__notebook__.ipynb",
   "output_path": "__notebook__.ipynb",
   "parameters": {},
   "start_time": "2023-11-28T11:55:36.055953",
   "version": "2.4.0"
  }
 },
 "nbformat": 4,
 "nbformat_minor": 5
}
