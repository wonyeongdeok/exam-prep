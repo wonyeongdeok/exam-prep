{
 "cells": [
  {
   "cell_type": "markdown",
   "id": "57d18238",
   "metadata": {
    "papermill": {
     "duration": 0.009611,
     "end_time": "2023-11-28T11:55:40.821666",
     "exception": false,
     "start_time": "2023-11-28T11:55:40.812055",
     "status": "completed"
    },
    "tags": []
   },
   "source": [
    "## 패턴/선호도 분석\n",
    "1. 사용자별 방문 패턴 분석: 각 사용자가 방문한 페이지별로 평균 세션 지속 시간을 계산하고, 각 페이지별로 가장 긴 평균 세션 시간을 가진 사용자를 찾으세요. 이를 위해 각 사용자의 페이지별 평균 세션 시간을 계산하고, 각 페이지에서 가장 긴 평균 세션 시간을 모두 더하고 정수형으로 출력하시오.\n",
    "\n",
    "2. 시간대별 페이지 선호도 분석: 하루를 네 시간대로 나누고 (새벽: 0-6시, 오전: 6-12시, 오후: 12-18시, 저녁: 18-24시), 각 시간대별로 가장 많이 방문된 페이지를 찾으세요. 각 시간대별로 가장 많이 방문된 페이지의 이름과 해당 시간대의 방문 횟수를 찾으세요! (단 0-6시 일때 0시부터 6시 전까지입니다.)\n",
    "- 2-1: 시간대 별로 나누었을 때 가장 많이 방문한 페이지의 이름을 구하시오.\n",
    "- 2-2: 시간대 별로 나누었을 때 가장 방문 횟수가 큰 값을 구하시오 \n",
    "\n",
    "3. 재방문 패턴 분석: 사용자가 같은 날짜에 여러 페이지를 방문하는 경우를 '재방문'으로 간주합니다. 재방문한 사용자들의 데이터를 분석하여, 재방문한 날짜별 총 방문 페이지 수를 구하고 가장 재방문이 많은 월을 정수로 구하시오 "
   ]
  },
  {
   "cell_type": "code",
   "execution_count": 1,
   "id": "6280ead7",
   "metadata": {
    "papermill": {
     "duration": 0.940975,
     "end_time": "2023-11-28T11:55:41.769644",
     "exception": false,
     "start_time": "2023-11-28T11:55:40.828669",
     "status": "completed"
    },
    "tags": []
   },
   "outputs": [],
   "source": [
    "import pandas as pd\n",
    "df = pd.read_csv(\"dataset/website.csv\")"
   ]
  },
  {
   "cell_type": "code",
   "execution_count": 2,
   "id": "ed598ad5",
   "metadata": {
    "papermill": {
     "duration": 0.005601,
     "end_time": "2023-11-28T11:55:41.793678",
     "exception": false,
     "start_time": "2023-11-28T11:55:41.788077",
     "status": "completed"
    },
    "tags": []
   },
   "outputs": [
    {
     "data": {
      "text/html": [
       "<div>\n",
       "<style scoped>\n",
       "    .dataframe tbody tr th:only-of-type {\n",
       "        vertical-align: middle;\n",
       "    }\n",
       "\n",
       "    .dataframe tbody tr th {\n",
       "        vertical-align: top;\n",
       "    }\n",
       "\n",
       "    .dataframe thead th {\n",
       "        text-align: right;\n",
       "    }\n",
       "</style>\n",
       "<table border=\"1\" class=\"dataframe\">\n",
       "  <thead>\n",
       "    <tr style=\"text-align: right;\">\n",
       "      <th></th>\n",
       "      <th>UserID</th>\n",
       "      <th>StartTime</th>\n",
       "      <th>EndTime</th>\n",
       "      <th>Page</th>\n",
       "    </tr>\n",
       "  </thead>\n",
       "  <tbody>\n",
       "    <tr>\n",
       "      <th>0</th>\n",
       "      <td>1</td>\n",
       "      <td>2023-07-02 08:32:00</td>\n",
       "      <td>2023-07-02 12:41:00</td>\n",
       "      <td>Page1</td>\n",
       "    </tr>\n",
       "    <tr>\n",
       "      <th>1</th>\n",
       "      <td>1</td>\n",
       "      <td>2023-05-16 11:37:00</td>\n",
       "      <td>2023-05-16 13:29:00</td>\n",
       "      <td>Page5</td>\n",
       "    </tr>\n",
       "    <tr>\n",
       "      <th>2</th>\n",
       "      <td>1</td>\n",
       "      <td>2023-05-05 03:39:00</td>\n",
       "      <td>2023-05-05 05:48:00</td>\n",
       "      <td>Page2</td>\n",
       "    </tr>\n",
       "    <tr>\n",
       "      <th>3</th>\n",
       "      <td>1</td>\n",
       "      <td>2023-05-04 23:04:00</td>\n",
       "      <td>2023-05-05 01:54:00</td>\n",
       "      <td>Page3</td>\n",
       "    </tr>\n",
       "    <tr>\n",
       "      <th>4</th>\n",
       "      <td>1</td>\n",
       "      <td>2023-09-04 11:27:00</td>\n",
       "      <td>2023-09-04 14:09:00</td>\n",
       "      <td>Page1</td>\n",
       "    </tr>\n",
       "  </tbody>\n",
       "</table>\n",
       "</div>"
      ],
      "text/plain": [
       "   UserID            StartTime              EndTime   Page\n",
       "0       1  2023-07-02 08:32:00  2023-07-02 12:41:00  Page1\n",
       "1       1  2023-05-16 11:37:00  2023-05-16 13:29:00  Page5\n",
       "2       1  2023-05-05 03:39:00  2023-05-05 05:48:00  Page2\n",
       "3       1  2023-05-04 23:04:00  2023-05-05 01:54:00  Page3\n",
       "4       1  2023-09-04 11:27:00  2023-09-04 14:09:00  Page1"
      ]
     },
     "execution_count": 2,
     "metadata": {},
     "output_type": "execute_result"
    }
   ],
   "source": [
    "df.head()"
   ]
  },
  {
   "cell_type": "code",
   "execution_count": 3,
   "id": "316b6102",
   "metadata": {
    "papermill": {
     "duration": 0.005668,
     "end_time": "2023-11-28T11:55:41.805726",
     "exception": false,
     "start_time": "2023-11-28T11:55:41.800058",
     "status": "completed"
    },
    "tags": []
   },
   "outputs": [
    {
     "name": "stdout",
     "output_type": "stream",
     "text": [
      "<class 'pandas.core.frame.DataFrame'>\n",
      "RangeIndex: 9601 entries, 0 to 9600\n",
      "Data columns (total 4 columns):\n",
      " #   Column     Non-Null Count  Dtype \n",
      "---  ------     --------------  ----- \n",
      " 0   UserID     9601 non-null   int64 \n",
      " 1   StartTime  9601 non-null   object\n",
      " 2   EndTime    9601 non-null   object\n",
      " 3   Page       9601 non-null   object\n",
      "dtypes: int64(1), object(3)\n",
      "memory usage: 300.2+ KB\n"
     ]
    }
   ],
   "source": [
    "df.info()"
   ]
  },
  {
   "cell_type": "code",
   "execution_count": 4,
   "id": "cea21483-4282-4272-9a9c-e53dac0e4694",
   "metadata": {},
   "outputs": [],
   "source": [
    "df['StartTime'] = pd.to_datetime(df['StartTime'])\n",
    "df['EndTime'] = pd.to_datetime(df['EndTime'])"
   ]
  },
  {
   "cell_type": "code",
   "execution_count": 5,
   "id": "5710c62f",
   "metadata": {
    "papermill": {
     "duration": 0.005244,
     "end_time": "2023-11-28T11:55:41.816822",
     "exception": false,
     "start_time": "2023-11-28T11:55:41.811578",
     "status": "completed"
    },
    "tags": []
   },
   "outputs": [],
   "source": [
    "# 1. 사용자별 방문 패턴 분석: 각 사용자가 방문한 페이지별로 평균 세션 지속 시간을 계산하고, 각 페이지별로 가장 긴 평균 세션 시간을 가진 사용자를 찾으세요.\n",
    "# 이를 위해 각 사용자의 페이지별 평균 세션 시간을 계산하고, 각 페이지에서 가장 긴 평균 세션 시간을 모두 더하고 정수형으로 출력하시오."
   ]
  },
  {
   "cell_type": "code",
   "execution_count": 6,
   "id": "1f0964ab-9c9c-4555-86d0-d38b287c5a89",
   "metadata": {},
   "outputs": [
    {
     "data": {
      "text/plain": [
       "Timestamp('2023-07-02 08:32:00')"
      ]
     },
     "execution_count": 6,
     "metadata": {},
     "output_type": "execute_result"
    }
   ],
   "source": [
    "df['StartTime'][0]"
   ]
  },
  {
   "cell_type": "code",
   "execution_count": 7,
   "id": "798e6fcc",
   "metadata": {
    "papermill": {
     "duration": 0.005179,
     "end_time": "2023-11-28T11:55:41.827833",
     "exception": false,
     "start_time": "2023-11-28T11:55:41.822654",
     "status": "completed"
    },
    "tags": []
   },
   "outputs": [],
   "source": [
    "df['Duration'] = (df['EndTime'] - df['StartTime']).dt.total_seconds() / 3600"
   ]
  },
  {
   "cell_type": "code",
   "execution_count": 8,
   "id": "39b7f64f-d996-40e2-a18f-6f5ca2a74e4e",
   "metadata": {},
   "outputs": [
    {
     "data": {
      "text/plain": [
       "24"
      ]
     },
     "execution_count": 8,
     "metadata": {},
     "output_type": "execute_result"
    }
   ],
   "source": [
    "int(df.groupby(by=['UserID', 'Page'], as_index=False)['Duration'].mean().groupby('Page')['Duration'].max().sum())"
   ]
  },
  {
   "cell_type": "code",
   "execution_count": 9,
   "id": "81f15ed1",
   "metadata": {
    "papermill": {
     "duration": 0.005079,
     "end_time": "2023-11-28T11:55:41.849144",
     "exception": false,
     "start_time": "2023-11-28T11:55:41.844065",
     "status": "completed"
    },
    "tags": []
   },
   "outputs": [],
   "source": [
    "# 2. 시간대별 페이지 선호도 분석: 하루를 네 시간대로 나누고 (새벽: 0-6시, 오전: 6-12시, 오후: 12-18시, 저녁: 18-24시), 각 시간대별로 가장 많이 방문된 페이지를 찾으세요.\n",
    "# 각 시간대별로 가장 많이 방문된 페이지의 이름과 해당 시간대의 방문 횟수를 찾으세요! (단 0-6시 일때 0시부터 6시 전까지입니다.)"
   ]
  },
  {
   "cell_type": "code",
   "execution_count": 10,
   "id": "22799101",
   "metadata": {
    "papermill": {
     "duration": 0.005048,
     "end_time": "2023-11-28T11:55:41.859521",
     "exception": false,
     "start_time": "2023-11-28T11:55:41.854473",
     "status": "completed"
    },
    "tags": []
   },
   "outputs": [
    {
     "data": {
      "text/plain": [
       "'Page5'"
      ]
     },
     "execution_count": 10,
     "metadata": {},
     "output_type": "execute_result"
    }
   ],
   "source": [
    "# 2-1. 시간대 별로 나누었을 때 가장 많이 방문한 페이지의 이름을 구하시오.\n",
    "def time_band(x):\n",
    "    if 0 <= x < 6:\n",
    "        x = '새벽'\n",
    "    elif 6 <= x < 12:\n",
    "        x = '오전'\n",
    "    elif 12 <= x < 18:\n",
    "        x = '오후'\n",
    "    else:\n",
    "        x = '저녁'\n",
    "    return x\n",
    "\n",
    "df['TimeBand'] = df['StartTime'].dt.hour.apply(time_band)\n",
    "df.groupby(by=['TimeBand', 'Page'], as_index=False).size().max()['Page']"
   ]
  },
  {
   "cell_type": "code",
   "execution_count": 11,
   "id": "0f79dfc6-47be-49c1-b3c8-b604910a5a07",
   "metadata": {
    "papermill": {
     "duration": 0.004903,
     "end_time": "2023-11-28T11:55:41.879881",
     "exception": false,
     "start_time": "2023-11-28T11:55:41.874978",
     "status": "completed"
    },
    "tags": []
   },
   "outputs": [
    {
     "data": {
      "text/plain": [
       "538"
      ]
     },
     "execution_count": 11,
     "metadata": {},
     "output_type": "execute_result"
    }
   ],
   "source": [
    "# 2-2: 시간대 별로 나누었을 때 가장 방문 횟수가 큰 값을 구하시오\n",
    "df.groupby(by=['TimeBand', 'Page'], as_index=False).size().max()['size']"
   ]
  },
  {
   "cell_type": "code",
   "execution_count": 12,
   "id": "18f1ea15",
   "metadata": {
    "papermill": {
     "duration": 0.005715,
     "end_time": "2023-11-28T11:55:41.925141",
     "exception": false,
     "start_time": "2023-11-28T11:55:41.919426",
     "status": "completed"
    },
    "tags": []
   },
   "outputs": [],
   "source": [
    "# 3. 재방문 패턴 분석: 사용자가 같은 날짜에 여러 페이지를 방문하는 경우를 '재방문'으로 간주합니다.\n",
    "# 재방문한 사용자들의 데이터를 분석하여, 재방문한 날짜별 총 방문 페이지 수를 구하고 가장 재방문이 많은 월을 정수로 구하시오"
   ]
  },
  {
   "cell_type": "code",
   "execution_count": 13,
   "id": "2ef9fefc",
   "metadata": {
    "papermill": {
     "duration": 0.00521,
     "end_time": "2023-11-28T11:55:41.936348",
     "exception": false,
     "start_time": "2023-11-28T11:55:41.931138",
     "status": "completed"
    },
    "tags": []
   },
   "outputs": [
    {
     "data": {
      "text/html": [
       "<div>\n",
       "<style scoped>\n",
       "    .dataframe tbody tr th:only-of-type {\n",
       "        vertical-align: middle;\n",
       "    }\n",
       "\n",
       "    .dataframe tbody tr th {\n",
       "        vertical-align: top;\n",
       "    }\n",
       "\n",
       "    .dataframe thead th {\n",
       "        text-align: right;\n",
       "    }\n",
       "</style>\n",
       "<table border=\"1\" class=\"dataframe\">\n",
       "  <thead>\n",
       "    <tr style=\"text-align: right;\">\n",
       "      <th></th>\n",
       "      <th>UserID</th>\n",
       "      <th>StartTime</th>\n",
       "      <th>EndTime</th>\n",
       "      <th>Page</th>\n",
       "      <th>Duration</th>\n",
       "      <th>TimeBand</th>\n",
       "    </tr>\n",
       "  </thead>\n",
       "  <tbody>\n",
       "    <tr>\n",
       "      <th>0</th>\n",
       "      <td>1</td>\n",
       "      <td>2023-07-02 08:32:00</td>\n",
       "      <td>2023-07-02 12:41:00</td>\n",
       "      <td>Page1</td>\n",
       "      <td>4.150000</td>\n",
       "      <td>오전</td>\n",
       "    </tr>\n",
       "    <tr>\n",
       "      <th>1</th>\n",
       "      <td>1</td>\n",
       "      <td>2023-05-16 11:37:00</td>\n",
       "      <td>2023-05-16 13:29:00</td>\n",
       "      <td>Page5</td>\n",
       "      <td>1.866667</td>\n",
       "      <td>오전</td>\n",
       "    </tr>\n",
       "    <tr>\n",
       "      <th>2</th>\n",
       "      <td>1</td>\n",
       "      <td>2023-05-05 03:39:00</td>\n",
       "      <td>2023-05-05 05:48:00</td>\n",
       "      <td>Page2</td>\n",
       "      <td>2.150000</td>\n",
       "      <td>새벽</td>\n",
       "    </tr>\n",
       "    <tr>\n",
       "      <th>3</th>\n",
       "      <td>1</td>\n",
       "      <td>2023-05-04 23:04:00</td>\n",
       "      <td>2023-05-05 01:54:00</td>\n",
       "      <td>Page3</td>\n",
       "      <td>2.833333</td>\n",
       "      <td>저녁</td>\n",
       "    </tr>\n",
       "    <tr>\n",
       "      <th>4</th>\n",
       "      <td>1</td>\n",
       "      <td>2023-09-04 11:27:00</td>\n",
       "      <td>2023-09-04 14:09:00</td>\n",
       "      <td>Page1</td>\n",
       "      <td>2.700000</td>\n",
       "      <td>오전</td>\n",
       "    </tr>\n",
       "  </tbody>\n",
       "</table>\n",
       "</div>"
      ],
      "text/plain": [
       "   UserID           StartTime             EndTime   Page  Duration TimeBand\n",
       "0       1 2023-07-02 08:32:00 2023-07-02 12:41:00  Page1  4.150000       오전\n",
       "1       1 2023-05-16 11:37:00 2023-05-16 13:29:00  Page5  1.866667       오전\n",
       "2       1 2023-05-05 03:39:00 2023-05-05 05:48:00  Page2  2.150000       새벽\n",
       "3       1 2023-05-04 23:04:00 2023-05-05 01:54:00  Page3  2.833333       저녁\n",
       "4       1 2023-09-04 11:27:00 2023-09-04 14:09:00  Page1  2.700000       오전"
      ]
     },
     "execution_count": 13,
     "metadata": {},
     "output_type": "execute_result"
    }
   ],
   "source": [
    "df.head()"
   ]
  },
  {
   "cell_type": "code",
   "execution_count": null,
   "id": "335c9225",
   "metadata": {
    "papermill": {
     "duration": 0.005449,
     "end_time": "2023-11-28T11:55:41.969448",
     "exception": false,
     "start_time": "2023-11-28T11:55:41.963999",
     "status": "completed"
    },
    "tags": []
   },
   "outputs": [],
   "source": []
  },
  {
   "cell_type": "code",
   "execution_count": null,
   "id": "f782f022",
   "metadata": {
    "papermill": {
     "duration": 0.005768,
     "end_time": "2023-11-28T11:55:41.981110",
     "exception": false,
     "start_time": "2023-11-28T11:55:41.975342",
     "status": "completed"
    },
    "tags": []
   },
   "outputs": [],
   "source": []
  },
  {
   "cell_type": "code",
   "execution_count": null,
   "id": "189b7887",
   "metadata": {
    "papermill": {
     "duration": 0.005435,
     "end_time": "2023-11-28T11:55:41.992651",
     "exception": false,
     "start_time": "2023-11-28T11:55:41.987216",
     "status": "completed"
    },
    "tags": []
   },
   "outputs": [],
   "source": []
  },
  {
   "cell_type": "code",
   "execution_count": null,
   "id": "28b88aaa",
   "metadata": {
    "papermill": {
     "duration": 0.005841,
     "end_time": "2023-11-28T11:55:42.004613",
     "exception": false,
     "start_time": "2023-11-28T11:55:41.998772",
     "status": "completed"
    },
    "tags": []
   },
   "outputs": [],
   "source": []
  },
  {
   "cell_type": "code",
   "execution_count": 16,
   "id": "aee7c43b",
   "metadata": {
    "papermill": {
     "duration": 0.090575,
     "end_time": "2023-11-28T11:55:42.101041",
     "exception": false,
     "start_time": "2023-11-28T11:55:42.010466",
     "status": "completed"
    },
    "tags": []
   },
   "outputs": [
    {
     "ename": "FileNotFoundError",
     "evalue": "[Errno 2] No such file or directory: '/kaggle/input/bigdatacertificationkr/website.csv'",
     "output_type": "error",
     "traceback": [
      "\u001b[1;31m---------------------------------------------------------------------------\u001b[0m",
      "\u001b[1;31mFileNotFoundError\u001b[0m                         Traceback (most recent call last)",
      "\u001b[1;32m~\\AppData\\Local\\Temp\\ipykernel_1064\\3868960617.py\u001b[0m in \u001b[0;36m<module>\u001b[1;34m\u001b[0m\n\u001b[0;32m      1\u001b[0m \u001b[1;32mimport\u001b[0m \u001b[0mpandas\u001b[0m \u001b[1;32mas\u001b[0m \u001b[0mpd\u001b[0m\u001b[1;33m\u001b[0m\u001b[1;33m\u001b[0m\u001b[0m\n\u001b[1;32m----> 2\u001b[1;33m \u001b[0mdf\u001b[0m \u001b[1;33m=\u001b[0m \u001b[0mpd\u001b[0m\u001b[1;33m.\u001b[0m\u001b[0mread_csv\u001b[0m\u001b[1;33m(\u001b[0m\u001b[1;34m\"/kaggle/input/bigdatacertificationkr/website.csv\"\u001b[0m\u001b[1;33m)\u001b[0m\u001b[1;33m\u001b[0m\u001b[1;33m\u001b[0m\u001b[0m\n\u001b[0m\u001b[0;32m      3\u001b[0m \u001b[1;33m\u001b[0m\u001b[0m\n\u001b[0;32m      4\u001b[0m \u001b[1;33m\u001b[0m\u001b[0m\n\u001b[0;32m      5\u001b[0m \u001b[0mdf\u001b[0m\u001b[1;33m[\u001b[0m\u001b[1;34m'StartTime'\u001b[0m\u001b[1;33m]\u001b[0m \u001b[1;33m=\u001b[0m \u001b[0mpd\u001b[0m\u001b[1;33m.\u001b[0m\u001b[0mto_datetime\u001b[0m\u001b[1;33m(\u001b[0m\u001b[0mdf\u001b[0m\u001b[1;33m[\u001b[0m\u001b[1;34m'StartTime'\u001b[0m\u001b[1;33m]\u001b[0m\u001b[1;33m)\u001b[0m\u001b[1;33m\u001b[0m\u001b[1;33m\u001b[0m\u001b[0m\n",
      "\u001b[1;32m~\\anaconda3\\envs\\kaggle\\lib\\site-packages\\pandas\\util\\_decorators.py\u001b[0m in \u001b[0;36mwrapper\u001b[1;34m(*args, **kwargs)\u001b[0m\n\u001b[0;32m    309\u001b[0m                     \u001b[0mstacklevel\u001b[0m\u001b[1;33m=\u001b[0m\u001b[0mstacklevel\u001b[0m\u001b[1;33m,\u001b[0m\u001b[1;33m\u001b[0m\u001b[1;33m\u001b[0m\u001b[0m\n\u001b[0;32m    310\u001b[0m                 )\n\u001b[1;32m--> 311\u001b[1;33m             \u001b[1;32mreturn\u001b[0m \u001b[0mfunc\u001b[0m\u001b[1;33m(\u001b[0m\u001b[1;33m*\u001b[0m\u001b[0margs\u001b[0m\u001b[1;33m,\u001b[0m \u001b[1;33m**\u001b[0m\u001b[0mkwargs\u001b[0m\u001b[1;33m)\u001b[0m\u001b[1;33m\u001b[0m\u001b[1;33m\u001b[0m\u001b[0m\n\u001b[0m\u001b[0;32m    312\u001b[0m \u001b[1;33m\u001b[0m\u001b[0m\n\u001b[0;32m    313\u001b[0m         \u001b[1;32mreturn\u001b[0m \u001b[0mwrapper\u001b[0m\u001b[1;33m\u001b[0m\u001b[1;33m\u001b[0m\u001b[0m\n",
      "\u001b[1;32m~\\anaconda3\\envs\\kaggle\\lib\\site-packages\\pandas\\io\\parsers\\readers.py\u001b[0m in \u001b[0;36mread_csv\u001b[1;34m(filepath_or_buffer, sep, delimiter, header, names, index_col, usecols, squeeze, prefix, mangle_dupe_cols, dtype, engine, converters, true_values, false_values, skipinitialspace, skiprows, skipfooter, nrows, na_values, keep_default_na, na_filter, verbose, skip_blank_lines, parse_dates, infer_datetime_format, keep_date_col, date_parser, dayfirst, cache_dates, iterator, chunksize, compression, thousands, decimal, lineterminator, quotechar, quoting, doublequote, escapechar, comment, encoding, encoding_errors, dialect, error_bad_lines, warn_bad_lines, on_bad_lines, delim_whitespace, low_memory, memory_map, float_precision, storage_options)\u001b[0m\n\u001b[0;32m    584\u001b[0m     \u001b[0mkwds\u001b[0m\u001b[1;33m.\u001b[0m\u001b[0mupdate\u001b[0m\u001b[1;33m(\u001b[0m\u001b[0mkwds_defaults\u001b[0m\u001b[1;33m)\u001b[0m\u001b[1;33m\u001b[0m\u001b[1;33m\u001b[0m\u001b[0m\n\u001b[0;32m    585\u001b[0m \u001b[1;33m\u001b[0m\u001b[0m\n\u001b[1;32m--> 586\u001b[1;33m     \u001b[1;32mreturn\u001b[0m \u001b[0m_read\u001b[0m\u001b[1;33m(\u001b[0m\u001b[0mfilepath_or_buffer\u001b[0m\u001b[1;33m,\u001b[0m \u001b[0mkwds\u001b[0m\u001b[1;33m)\u001b[0m\u001b[1;33m\u001b[0m\u001b[1;33m\u001b[0m\u001b[0m\n\u001b[0m\u001b[0;32m    587\u001b[0m \u001b[1;33m\u001b[0m\u001b[0m\n\u001b[0;32m    588\u001b[0m \u001b[1;33m\u001b[0m\u001b[0m\n",
      "\u001b[1;32m~\\anaconda3\\envs\\kaggle\\lib\\site-packages\\pandas\\io\\parsers\\readers.py\u001b[0m in \u001b[0;36m_read\u001b[1;34m(filepath_or_buffer, kwds)\u001b[0m\n\u001b[0;32m    480\u001b[0m \u001b[1;33m\u001b[0m\u001b[0m\n\u001b[0;32m    481\u001b[0m     \u001b[1;31m# Create the parser.\u001b[0m\u001b[1;33m\u001b[0m\u001b[1;33m\u001b[0m\u001b[1;33m\u001b[0m\u001b[0m\n\u001b[1;32m--> 482\u001b[1;33m     \u001b[0mparser\u001b[0m \u001b[1;33m=\u001b[0m \u001b[0mTextFileReader\u001b[0m\u001b[1;33m(\u001b[0m\u001b[0mfilepath_or_buffer\u001b[0m\u001b[1;33m,\u001b[0m \u001b[1;33m**\u001b[0m\u001b[0mkwds\u001b[0m\u001b[1;33m)\u001b[0m\u001b[1;33m\u001b[0m\u001b[1;33m\u001b[0m\u001b[0m\n\u001b[0m\u001b[0;32m    483\u001b[0m \u001b[1;33m\u001b[0m\u001b[0m\n\u001b[0;32m    484\u001b[0m     \u001b[1;32mif\u001b[0m \u001b[0mchunksize\u001b[0m \u001b[1;32mor\u001b[0m \u001b[0miterator\u001b[0m\u001b[1;33m:\u001b[0m\u001b[1;33m\u001b[0m\u001b[1;33m\u001b[0m\u001b[0m\n",
      "\u001b[1;32m~\\anaconda3\\envs\\kaggle\\lib\\site-packages\\pandas\\io\\parsers\\readers.py\u001b[0m in \u001b[0;36m__init__\u001b[1;34m(self, f, engine, **kwds)\u001b[0m\n\u001b[0;32m    809\u001b[0m             \u001b[0mself\u001b[0m\u001b[1;33m.\u001b[0m\u001b[0moptions\u001b[0m\u001b[1;33m[\u001b[0m\u001b[1;34m\"has_index_names\"\u001b[0m\u001b[1;33m]\u001b[0m \u001b[1;33m=\u001b[0m \u001b[0mkwds\u001b[0m\u001b[1;33m[\u001b[0m\u001b[1;34m\"has_index_names\"\u001b[0m\u001b[1;33m]\u001b[0m\u001b[1;33m\u001b[0m\u001b[1;33m\u001b[0m\u001b[0m\n\u001b[0;32m    810\u001b[0m \u001b[1;33m\u001b[0m\u001b[0m\n\u001b[1;32m--> 811\u001b[1;33m         \u001b[0mself\u001b[0m\u001b[1;33m.\u001b[0m\u001b[0m_engine\u001b[0m \u001b[1;33m=\u001b[0m \u001b[0mself\u001b[0m\u001b[1;33m.\u001b[0m\u001b[0m_make_engine\u001b[0m\u001b[1;33m(\u001b[0m\u001b[0mself\u001b[0m\u001b[1;33m.\u001b[0m\u001b[0mengine\u001b[0m\u001b[1;33m)\u001b[0m\u001b[1;33m\u001b[0m\u001b[1;33m\u001b[0m\u001b[0m\n\u001b[0m\u001b[0;32m    812\u001b[0m \u001b[1;33m\u001b[0m\u001b[0m\n\u001b[0;32m    813\u001b[0m     \u001b[1;32mdef\u001b[0m \u001b[0mclose\u001b[0m\u001b[1;33m(\u001b[0m\u001b[0mself\u001b[0m\u001b[1;33m)\u001b[0m\u001b[1;33m:\u001b[0m\u001b[1;33m\u001b[0m\u001b[1;33m\u001b[0m\u001b[0m\n",
      "\u001b[1;32m~\\anaconda3\\envs\\kaggle\\lib\\site-packages\\pandas\\io\\parsers\\readers.py\u001b[0m in \u001b[0;36m_make_engine\u001b[1;34m(self, engine)\u001b[0m\n\u001b[0;32m   1038\u001b[0m             )\n\u001b[0;32m   1039\u001b[0m         \u001b[1;31m# error: Too many arguments for \"ParserBase\"\u001b[0m\u001b[1;33m\u001b[0m\u001b[1;33m\u001b[0m\u001b[1;33m\u001b[0m\u001b[0m\n\u001b[1;32m-> 1040\u001b[1;33m         \u001b[1;32mreturn\u001b[0m \u001b[0mmapping\u001b[0m\u001b[1;33m[\u001b[0m\u001b[0mengine\u001b[0m\u001b[1;33m]\u001b[0m\u001b[1;33m(\u001b[0m\u001b[0mself\u001b[0m\u001b[1;33m.\u001b[0m\u001b[0mf\u001b[0m\u001b[1;33m,\u001b[0m \u001b[1;33m**\u001b[0m\u001b[0mself\u001b[0m\u001b[1;33m.\u001b[0m\u001b[0moptions\u001b[0m\u001b[1;33m)\u001b[0m  \u001b[1;31m# type: ignore[call-arg]\u001b[0m\u001b[1;33m\u001b[0m\u001b[1;33m\u001b[0m\u001b[0m\n\u001b[0m\u001b[0;32m   1041\u001b[0m \u001b[1;33m\u001b[0m\u001b[0m\n\u001b[0;32m   1042\u001b[0m     \u001b[1;32mdef\u001b[0m \u001b[0m_failover_to_python\u001b[0m\u001b[1;33m(\u001b[0m\u001b[0mself\u001b[0m\u001b[1;33m)\u001b[0m\u001b[1;33m:\u001b[0m\u001b[1;33m\u001b[0m\u001b[1;33m\u001b[0m\u001b[0m\n",
      "\u001b[1;32m~\\anaconda3\\envs\\kaggle\\lib\\site-packages\\pandas\\io\\parsers\\c_parser_wrapper.py\u001b[0m in \u001b[0;36m__init__\u001b[1;34m(self, src, **kwds)\u001b[0m\n\u001b[0;32m     49\u001b[0m \u001b[1;33m\u001b[0m\u001b[0m\n\u001b[0;32m     50\u001b[0m         \u001b[1;31m# open handles\u001b[0m\u001b[1;33m\u001b[0m\u001b[1;33m\u001b[0m\u001b[1;33m\u001b[0m\u001b[0m\n\u001b[1;32m---> 51\u001b[1;33m         \u001b[0mself\u001b[0m\u001b[1;33m.\u001b[0m\u001b[0m_open_handles\u001b[0m\u001b[1;33m(\u001b[0m\u001b[0msrc\u001b[0m\u001b[1;33m,\u001b[0m \u001b[0mkwds\u001b[0m\u001b[1;33m)\u001b[0m\u001b[1;33m\u001b[0m\u001b[1;33m\u001b[0m\u001b[0m\n\u001b[0m\u001b[0;32m     52\u001b[0m         \u001b[1;32massert\u001b[0m \u001b[0mself\u001b[0m\u001b[1;33m.\u001b[0m\u001b[0mhandles\u001b[0m \u001b[1;32mis\u001b[0m \u001b[1;32mnot\u001b[0m \u001b[1;32mNone\u001b[0m\u001b[1;33m\u001b[0m\u001b[1;33m\u001b[0m\u001b[0m\n\u001b[0;32m     53\u001b[0m \u001b[1;33m\u001b[0m\u001b[0m\n",
      "\u001b[1;32m~\\anaconda3\\envs\\kaggle\\lib\\site-packages\\pandas\\io\\parsers\\base_parser.py\u001b[0m in \u001b[0;36m_open_handles\u001b[1;34m(self, src, kwds)\u001b[0m\n\u001b[0;32m    227\u001b[0m             \u001b[0mmemory_map\u001b[0m\u001b[1;33m=\u001b[0m\u001b[0mkwds\u001b[0m\u001b[1;33m.\u001b[0m\u001b[0mget\u001b[0m\u001b[1;33m(\u001b[0m\u001b[1;34m\"memory_map\"\u001b[0m\u001b[1;33m,\u001b[0m \u001b[1;32mFalse\u001b[0m\u001b[1;33m)\u001b[0m\u001b[1;33m,\u001b[0m\u001b[1;33m\u001b[0m\u001b[1;33m\u001b[0m\u001b[0m\n\u001b[0;32m    228\u001b[0m             \u001b[0mstorage_options\u001b[0m\u001b[1;33m=\u001b[0m\u001b[0mkwds\u001b[0m\u001b[1;33m.\u001b[0m\u001b[0mget\u001b[0m\u001b[1;33m(\u001b[0m\u001b[1;34m\"storage_options\"\u001b[0m\u001b[1;33m,\u001b[0m \u001b[1;32mNone\u001b[0m\u001b[1;33m)\u001b[0m\u001b[1;33m,\u001b[0m\u001b[1;33m\u001b[0m\u001b[1;33m\u001b[0m\u001b[0m\n\u001b[1;32m--> 229\u001b[1;33m             \u001b[0merrors\u001b[0m\u001b[1;33m=\u001b[0m\u001b[0mkwds\u001b[0m\u001b[1;33m.\u001b[0m\u001b[0mget\u001b[0m\u001b[1;33m(\u001b[0m\u001b[1;34m\"encoding_errors\"\u001b[0m\u001b[1;33m,\u001b[0m \u001b[1;34m\"strict\"\u001b[0m\u001b[1;33m)\u001b[0m\u001b[1;33m,\u001b[0m\u001b[1;33m\u001b[0m\u001b[1;33m\u001b[0m\u001b[0m\n\u001b[0m\u001b[0;32m    230\u001b[0m         )\n\u001b[0;32m    231\u001b[0m \u001b[1;33m\u001b[0m\u001b[0m\n",
      "\u001b[1;32m~\\anaconda3\\envs\\kaggle\\lib\\site-packages\\pandas\\io\\common.py\u001b[0m in \u001b[0;36mget_handle\u001b[1;34m(path_or_buf, mode, encoding, compression, memory_map, is_text, errors, storage_options)\u001b[0m\n\u001b[0;32m    705\u001b[0m                 \u001b[0mencoding\u001b[0m\u001b[1;33m=\u001b[0m\u001b[0mioargs\u001b[0m\u001b[1;33m.\u001b[0m\u001b[0mencoding\u001b[0m\u001b[1;33m,\u001b[0m\u001b[1;33m\u001b[0m\u001b[1;33m\u001b[0m\u001b[0m\n\u001b[0;32m    706\u001b[0m                 \u001b[0merrors\u001b[0m\u001b[1;33m=\u001b[0m\u001b[0merrors\u001b[0m\u001b[1;33m,\u001b[0m\u001b[1;33m\u001b[0m\u001b[1;33m\u001b[0m\u001b[0m\n\u001b[1;32m--> 707\u001b[1;33m                 \u001b[0mnewline\u001b[0m\u001b[1;33m=\u001b[0m\u001b[1;34m\"\"\u001b[0m\u001b[1;33m,\u001b[0m\u001b[1;33m\u001b[0m\u001b[1;33m\u001b[0m\u001b[0m\n\u001b[0m\u001b[0;32m    708\u001b[0m             )\n\u001b[0;32m    709\u001b[0m         \u001b[1;32melse\u001b[0m\u001b[1;33m:\u001b[0m\u001b[1;33m\u001b[0m\u001b[1;33m\u001b[0m\u001b[0m\n",
      "\u001b[1;31mFileNotFoundError\u001b[0m: [Errno 2] No such file or directory: '/kaggle/input/bigdatacertificationkr/website.csv'"
     ]
    }
   ],
   "source": [
    "import pandas as pd\n",
    "df = pd.read_csv(\"/kaggle/input/bigdatacertificationkr/website.csv\") \n",
    "\n",
    "\n",
    "df['StartTime'] = pd.to_datetime(df['StartTime'])\n",
    "df['EndTime'] = pd.to_datetime(df['EndTime'])\n",
    "\n",
    "df['SessionDuration'] = (df['EndTime'] - df['StartTime']).dt.total_seconds() / 60 / 60\n",
    "df = df.groupby(['UserID', 'Page'])['SessionDuration'].mean().reset_index()\n",
    "\n",
    "\n",
    "idx = df.groupby('Page')['SessionDuration'].idxmax()\n",
    "print(int(df.iloc[idx]['SessionDuration'].sum()))"
   ]
  },
  {
   "cell_type": "code",
   "execution_count": null,
   "id": "dec5864a",
   "metadata": {
    "papermill": {
     "duration": 0.082425,
     "end_time": "2023-11-28T11:55:42.189777",
     "exception": false,
     "start_time": "2023-11-28T11:55:42.107352",
     "status": "completed"
    },
    "tags": []
   },
   "outputs": [],
   "source": [
    "import pandas as pd\n",
    "df = pd.read_csv(\"/kaggle/input/bigdatacertificationkr/website.csv\")\n",
    "df['StartTime'] = pd.to_datetime(df['StartTime'])\n",
    "df['EndTime'] = pd.to_datetime(df['EndTime'])\n",
    "\n",
    "def timezone(hour):\n",
    "    if 0 <= hour < 6:\n",
    "        return '새벽'\n",
    "    elif 6 <= hour < 12:\n",
    "        return '오전'\n",
    "    elif 12 <= hour < 18:\n",
    "        return '오후'\n",
    "    else:\n",
    "        return '저녁'\n",
    "\n",
    "df['hour'] = df['StartTime'].dt.hour\n",
    "df['TimeOfDay'] = df['hour'].apply(timezone)\n",
    "\n",
    "df = df.groupby('TimeOfDay')['Page'].value_counts().reset_index()\n",
    "\n",
    "#2-1\n",
    "idx = df.groupby('TimeOfDay')['count'].idxmax()\n",
    "print(df.iloc[idx]['Page'].value_counts().index[0])\n",
    "# Page5\n",
    "\n",
    "#2-2\n",
    "idx = df.groupby('TimeOfDay')['count'].idxmax()\n",
    "df.iloc[idx]['count'].max()\n",
    "# 538"
   ]
  },
  {
   "cell_type": "code",
   "execution_count": null,
   "id": "6b64f93b-2e88-4365-b2bf-c7667f9893ff",
   "metadata": {},
   "outputs": [],
   "source": [
    "# 3\n",
    "import pandas as pd\n",
    "df = pd.read_csv(\"/kaggle/input/bigdatacertificationkr/website.csv\")\n",
    "df['StartTime'] = pd.to_datetime(df['StartTime'])\n",
    "\n",
    "df['Date'] = df['StartTime'].dt.date\n",
    "df = df.groupby(['UserID', 'Date'])['Page'].count().reset_index()\n",
    "\n",
    "df['Date'] = pd.to_datetime(df['Date'])\n",
    "df['month'] = df['Date'].dt.month\n",
    "\n",
    "cond = df['Page'] > 1\n",
    "df = df[cond]\n",
    "\n",
    "df.groupby('month')['Page'].sum().idxmax()"
   ]
  }
 ],
 "metadata": {
  "kaggle": {
   "accelerator": "none",
   "dataSources": [
    {
     "datasetId": 1633303,
     "sourceId": 7061047,
     "sourceType": "datasetVersion"
    }
   ],
   "dockerImageVersionId": 30587,
   "isGpuEnabled": false,
   "isInternetEnabled": true,
   "language": "python",
   "sourceType": "notebook"
  },
  "kernelspec": {
   "display_name": "Python 3 (ipykernel)",
   "language": "python",
   "name": "python3"
  },
  "language_info": {
   "codemirror_mode": {
    "name": "ipython",
    "version": 3
   },
   "file_extension": ".py",
   "mimetype": "text/x-python",
   "name": "python",
   "nbconvert_exporter": "python",
   "pygments_lexer": "ipython3",
   "version": "3.7.15"
  },
  "papermill": {
   "default_parameters": {},
   "duration": 6.841659,
   "end_time": "2023-11-28T11:55:42.897612",
   "environment_variables": {},
   "exception": null,
   "input_path": "__notebook__.ipynb",
   "output_path": "__notebook__.ipynb",
   "parameters": {},
   "start_time": "2023-11-28T11:55:36.055953",
   "version": "2.4.0"
  }
 },
 "nbformat": 4,
 "nbformat_minor": 5
}
