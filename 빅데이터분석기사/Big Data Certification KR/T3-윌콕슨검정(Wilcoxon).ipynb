{
 "cells": [
  {
   "cell_type": "markdown",
   "id": "e213f7a5",
   "metadata": {
    "papermill": {
     "duration": 0.005245,
     "end_time": "2024-06-18T02:52:24.051163",
     "exception": false,
     "start_time": "2024-06-18T02:52:24.045918",
     "status": "completed"
    },
    "tags": []
   },
   "source": [
    "베스킨라빈스는 쿼트(Quart) 아이스크림의 중앙값이 620g이라고 주장하고 있습니다. 저는 실제로 이 아이스크림의 중앙값이 620g보다 무겁다고 주장합니다. 다음은 20개의 쿼트 아이스크림 샘플의 무게 측정 결과입니다. 이 측정 결과를 바탕으로 나의 주장이 사실인지 비모수 검정(Wilcoxon Signed-Rank Test)을 통해 검정해보십시오. p-value값을 소수점 둘째 자리에서 반올림하여 계산\n",
    "\n",
    "- 귀무가설: \"베스킨라빈스 쿼트 아이스크림의 중앙값은 620g이다.\"\n",
    "- 대립가설: \"베스킨라빈스 쿼트 아이스크림의 중앙값은 620g보다 무겁다.\""
   ]
  },
  {
   "cell_type": "markdown",
   "id": "2cd68b9c-6d8a-4ad1-8b62-33f612de8c5f",
   "metadata": {},
   "source": [
    "### 윌콕슨 부호 순위 검정(Wilcoxon Signed-Rank Test)\n",
    "- 관련된 두 샘플 또는 쌍을 비교하는 데 사용되는 비모수 통계적 검정\n",
    "- 대응 표본 t-검정의 비모수 버전으로, 데이터가 정규 분포를 따르지 않는 경우에 사용 됨\n",
    "- 목적\n",
    "    - 두 관련 샘플의 중앙값 차이가 0인지 여부 검정\n",
    "    - 주로 같은 대상에 대한 두가지 조건 또는 시점의 데이터를 비교할 때 사용\n",
    "- 가정\n",
    "    - 데이터는 연속형\n",
    "    - 각 쌍은 독립적\n",
    "    - 데이터 쌍의 차이는 대칭적으로 분포되어 있어야 함\n",
    "- 가설\n",
    "    - 귀무가설 : 두 관련된 샘플의 중앙값 차이가 0이다.\n",
    "    - 대립가설 : 두 관련된 샘플의 중앙값 차이가 0이 아니다.\n",
    "- 장점\n",
    "    - 데이터가 정규분포를 따르지 않아도 사용 가능\n",
    "    - 이상치의 영향 덜 받음\n",
    "- 단점\n",
    "    - 연속형 데이터에만 적용 가능\n",
    "    - 순위에 기반하므로 정보 일부 손실 가능"
   ]
  },
  {
   "cell_type": "code",
   "execution_count": 1,
   "id": "e39ae261-f8dc-4f14-a5b6-93458c662c2b",
   "metadata": {
    "papermill": {
     "duration": 1.179952,
     "end_time": "2024-06-18T02:52:26.289390",
     "exception": false,
     "start_time": "2024-06-18T02:52:25.109438",
     "status": "completed"
    },
    "tags": []
   },
   "outputs": [],
   "source": [
    "import pandas as pd\n",
    "from scipy.stats import wilcoxon"
   ]
  },
  {
   "cell_type": "code",
   "execution_count": 2,
   "id": "3d20ccbc-691d-4041-924d-60bdefa35d34",
   "metadata": {
    "papermill": {
     "duration": 1.179952,
     "end_time": "2024-06-18T02:52:26.289390",
     "exception": false,
     "start_time": "2024-06-18T02:52:25.109438",
     "status": "completed"
    },
    "tags": []
   },
   "outputs": [],
   "source": [
    "# 데이터 생성\n",
    "data = {\n",
    "    \"weight\": [630, 610, 625, 615, 622, 618, 623, 619, 620, 624, 616, 621, 617, 629, 626, 620, 618, 622, 625, 615, \n",
    "               628, 617, 624, 619, 621, 623, 620, 622, 618, 625, 616, 629, 620, 624, 617, 621, 623, 619, 625, 618,\n",
    "               622, 620, 624, 617, 621, 623, 619, 625, 618, 622]\n",
    "}\n",
    "\n",
    "df = pd.DataFrame(data)"
   ]
  },
  {
   "cell_type": "code",
   "execution_count": 3,
   "id": "42c982ba-558d-4e2e-91bb-017dfb6af2cb",
   "metadata": {
    "papermill": {
     "duration": 1.179952,
     "end_time": "2024-06-18T02:52:26.289390",
     "exception": false,
     "start_time": "2024-06-18T02:52:25.109438",
     "status": "completed"
    },
    "tags": []
   },
   "outputs": [],
   "source": [
    "# 설정값\n",
    "quart_median = 620"
   ]
  },
  {
   "cell_type": "code",
   "execution_count": 10,
   "id": "9b3dc9ae-57a4-40f4-aae3-e9be262b439f",
   "metadata": {
    "papermill": {
     "duration": 1.179952,
     "end_time": "2024-06-18T02:52:26.289390",
     "exception": false,
     "start_time": "2024-06-18T02:52:25.109438",
     "status": "completed"
    },
    "tags": []
   },
   "outputs": [],
   "source": [
    "# Wilcoxon Signed-Rank Test 수행\n",
    "s, p_value = wilcoxon(df[\"weight\"] - quart_median, alternative='greater')"
   ]
  },
  {
   "cell_type": "code",
   "execution_count": 11,
   "id": "23424fe0",
   "metadata": {
    "papermill": {
     "duration": 0.019124,
     "end_time": "2024-06-18T02:52:26.314103",
     "exception": false,
     "start_time": "2024-06-18T02:52:26.294979",
     "status": "completed"
    },
    "tags": []
   },
   "outputs": [
    {
     "name": "stdout",
     "output_type": "stream",
     "text": [
      "p-value : 0.03\n"
     ]
    }
   ],
   "source": [
    "p_value = round(p_value, 2)\n",
    "print('p-value :', p_value)"
   ]
  },
  {
   "cell_type": "code",
   "execution_count": 12,
   "id": "c642645a-20d9-4c8b-90a3-546059b164c7",
   "metadata": {},
   "outputs": [
    {
     "name": "stdout",
     "output_type": "stream",
     "text": [
      "대립가설 채택: 베스킨라빈스 쿼트 아이스크림의 중앙값은 620g보다 무겁다는 주장을 지지합니다.\n"
     ]
    }
   ],
   "source": [
    "# 유의수준\n",
    "alpha = 0.05\n",
    "\n",
    "if p_value < alpha:\n",
    "    print('대립가설 채택: 베스킨라빈스 쿼트 아이스크림의 중앙값은 620g보다 무겁다는 주장을 지지합니다.')\n",
    "else:\n",
    "    print('귀무가설 채택: 베스킨라빈스 쿼트 아이스크림의 중앙값은 620g보다 무겁다는 주장을 지지할 수 없습니다.')"
   ]
  },
  {
   "cell_type": "code",
   "execution_count": null,
   "id": "035fcb46-23de-4af0-9db4-6266234552f9",
   "metadata": {},
   "outputs": [],
   "source": []
  },
  {
   "cell_type": "code",
   "execution_count": null,
   "id": "484c92e7-8761-441d-a0e2-7241e9144a18",
   "metadata": {},
   "outputs": [],
   "source": []
  }
 ],
 "metadata": {
  "kaggle": {
   "accelerator": "none",
   "dataSources": [
    {
     "datasetId": 1633303,
     "sourceId": 8636545,
     "sourceType": "datasetVersion"
    }
   ],
   "dockerImageVersionId": 30732,
   "isGpuEnabled": false,
   "isInternetEnabled": true,
   "language": "python",
   "sourceType": "notebook"
  },
  "kernelspec": {
   "display_name": "Python 3 (ipykernel)",
   "language": "python",
   "name": "python3"
  },
  "language_info": {
   "codemirror_mode": {
    "name": "ipython",
    "version": 3
   },
   "file_extension": ".py",
   "mimetype": "text/x-python",
   "name": "python",
   "nbconvert_exporter": "python",
   "pygments_lexer": "ipython3",
   "version": "3.7.15"
  },
  "papermill": {
   "default_parameters": {},
   "duration": 6.106527,
   "end_time": "2024-06-18T02:52:26.861736",
   "environment_variables": {},
   "exception": null,
   "input_path": "__notebook__.ipynb",
   "output_path": "__notebook__.ipynb",
   "parameters": {},
   "start_time": "2024-06-18T02:52:20.755209",
   "version": "2.5.0"
  }
 },
 "nbformat": 4,
 "nbformat_minor": 5
}
