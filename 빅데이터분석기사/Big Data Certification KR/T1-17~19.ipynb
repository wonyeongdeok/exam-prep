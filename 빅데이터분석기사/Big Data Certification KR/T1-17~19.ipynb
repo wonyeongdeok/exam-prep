{
 "cells": [
  {
   "cell_type": "markdown",
   "id": "2fe50809-0a59-4fb3-bf28-dc63bbc209dc",
   "metadata": {},
   "source": [
    "### T1-17\n",
    "2022년 5월 sales의 중앙값을 구하시오¶"
   ]
  },
  {
   "cell_type": "code",
   "execution_count": 1,
   "id": "9fe9d25b-2877-44d9-8dd5-e909c83de4f7",
   "metadata": {},
   "outputs": [
    {
     "name": "stdout",
     "output_type": "stream",
     "text": [
      "1477685.0\n"
     ]
    }
   ],
   "source": [
    "import pandas as pd\n",
    "\n",
    "df = pd.read_csv('dataset/basic2.csv')\n",
    "\n",
    "df['Date'] = pd.to_datetime(df['Date'])\n",
    "ans = df[(df['Date'].dt.year==2022) & (df['Date'].dt.month==5)]['Sales'].median()\n",
    "print(ans)"
   ]
  },
  {
   "cell_type": "markdown",
   "id": "255d3891-5611-4e80-9902-e87e41465564",
   "metadata": {},
   "source": [
    "### T1-18\n",
    "주어진 데이터에서 2022년 5월 주말과 평일의 sales컬럼 평균값 차이를 구하시오 (소수점 둘째자리까지 출력, 반올림"
   ]
  },
  {
   "cell_type": "code",
   "execution_count": 2,
   "id": "26af4afc-c3a4-482b-9374-df7b2a2d44ac",
   "metadata": {},
   "outputs": [
    {
     "name": "stdout",
     "output_type": "stream",
     "text": [
      "3010339.1\n"
     ]
    }
   ],
   "source": [
    "df = pd.read_csv('dataset/basic2.csv', parse_dates=['Date'])\n",
    "\n",
    "df['day_type'] = df['Date'].dt.weekday.apply(lambda x: 'weekend' if x >= 5 else 'weekday')\n",
    "\n",
    "weekend_mean = df[(df['Date'].dt.to_period('M')=='2022-05')\n",
    "                  & (df['day_type']=='weekend')]['Sales'].mean()\n",
    "weekday_mean = df[(df['Date'].dt.to_period('M')=='2022-05')\n",
    "                  & (df['day_type']=='weekday')]['Sales'].mean()\n",
    "ans = round(weekend_mean - weekday_mean, 2)\n",
    "print(ans)"
   ]
  },
  {
   "cell_type": "markdown",
   "id": "042ad029-55b8-40cb-9a87-4272bc188055",
   "metadata": {},
   "source": [
    "### T1-19\n",
    "주어진 데이터에서 2022년 월별 Sales 합계 중 가장 큰 금액과\n",
    "2023년 월별 Sales 합계 중 가장 큰 금액의 차이를 절대값으로 구하시오.\n",
    "단 Events컬럼이 '1'인경우 80%의 Salse값만 반영함\n",
    "(최종값은 소수점 반올림 후 정수 출력)"
   ]
  },
  {
   "cell_type": "code",
   "execution_count": 3,
   "id": "a36cc8f7-2ac1-4f0a-a674-756b6bbc3b7e",
   "metadata": {},
   "outputs": [
    {
     "name": "stdout",
     "output_type": "stream",
     "text": [
      "42473436\n"
     ]
    }
   ],
   "source": [
    "df = pd.read_csv('dataset/basic2.csv', parse_dates=['Date'])\n",
    "\n",
    "def adjust_sales(x):\n",
    "    if x['Events'] == 1:\n",
    "        x['sales_events'] = x['Sales'] * 0.8\n",
    "    else:\n",
    "        x['sales_events'] = x['Sales']\n",
    "    return x\n",
    "\n",
    "df = df.apply(lambda x: adjust_sales(x), axis=1)\n",
    "\n",
    "df['year_month'] = df['Date'].dt.to_period('m')\n",
    "\n",
    "df_2022 = df[df['Date'].dt.year==2022]\n",
    "df_2023 = df[df['Date'].dt.year==2023]\n",
    "\n",
    "group_2022 = df_2022.groupby('year_month').sum()\n",
    "group_2023 = df_2023.groupby('year_month').sum()\n",
    "\n",
    "max_2022 = group_2022['sales_events'].max()\n",
    "max_2023 = group_2023['sales_events'].max()\n",
    "\n",
    "ans = int(round(abs(max_2022 - max_2023), 0))\n",
    "print(ans)"
   ]
  }
 ],
 "metadata": {
  "kernelspec": {
   "display_name": "Python 3 (ipykernel)",
   "language": "python",
   "name": "python3"
  },
  "language_info": {
   "codemirror_mode": {
    "name": "ipython",
    "version": 3
   },
   "file_extension": ".py",
   "mimetype": "text/x-python",
   "name": "python",
   "nbconvert_exporter": "python",
   "pygments_lexer": "ipython3",
   "version": "3.7.15"
  }
 },
 "nbformat": 4,
 "nbformat_minor": 5
}
