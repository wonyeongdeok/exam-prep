{
 "cells": [
  {
   "cell_type": "markdown",
   "id": "a255bd59",
   "metadata": {
    "papermill": {
     "duration": 0.008455,
     "end_time": "2023-11-14T16:18:54.283883",
     "exception": false,
     "start_time": "2023-11-14T16:18:54.275428",
     "status": "completed"
    },
    "tags": []
   },
   "source": [
    "## 포아송분포\n",
    "문제: 한 서점에서는 평균적으로 하루에 3명의 고객이 특정 잡지를 구매합니다. 이 데이터는 포아송 분포를 따른다고 가정할 때, 다음 질문에 대한 답을 구하세요.\n",
    "\n",
    "- 하루에 정확히 5명의 고객이 잡지를 구매할 확률은 얼마입니까? (%로 값을 정수로 입력하시오)\n",
    "- 하루에 적어도 2명의 고객이 잡지를 구매할 확률은 얼마입니까? (%로 값을 정수로 입력하시오)"
   ]
  },
  {
   "attachments": {
    "93030614-6f20-48cd-9e81-a45e873d44e5.png": {
     "image/png": "[encoded data removed]"
    }
   },
   "cell_type": "markdown",
   "id": "a6eb6eef",
   "metadata": {
    "papermill": {
     "duration": 0.007271,
     "end_time": "2023-11-14T16:18:54.299189",
     "exception": false,
     "start_time": "2023-11-14T16:18:54.291918",
     "status": "completed"
    },
    "tags": []
   },
   "source": [
    "- 포아송 분포의 확률 질량 함수(PMF)\n",
    "![image.png](attachment:93030614-6f20-48cd-9e81-a45e873d44e5.png)\n",
    "\n",
    "- λ는 단위 시간(또는 단위 공간)당 평균 발생 횟수이고, k는 특정 시간(또는 공간) 동안의 이벤트 발생 횟수입니다."
   ]
  },
  {
   "cell_type": "code",
   "execution_count": null,
   "id": "291c8765",
   "metadata": {
    "papermill": {
     "duration": 0.007049,
     "end_time": "2023-11-14T16:18:54.313790",
     "exception": false,
     "start_time": "2023-11-14T16:18:54.306741",
     "status": "completed"
    },
    "tags": []
   },
   "outputs": [],
   "source": []
  },
  {
   "cell_type": "code",
   "execution_count": null,
   "id": "d9e5bebe",
   "metadata": {
    "papermill": {
     "duration": 0.007824,
     "end_time": "2023-11-14T16:18:54.329112",
     "exception": false,
     "start_time": "2023-11-14T16:18:54.321288",
     "status": "completed"
    },
    "tags": []
   },
   "outputs": [],
   "source": []
  },
  {
   "cell_type": "code",
   "execution_count": null,
   "id": "955b85c0",
   "metadata": {
    "papermill": {
     "duration": 0.007171,
     "end_time": "2023-11-14T16:18:54.343877",
     "exception": false,
     "start_time": "2023-11-14T16:18:54.336706",
     "status": "completed"
    },
    "tags": []
   },
   "outputs": [],
   "source": []
  },
  {
   "cell_type": "code",
   "execution_count": null,
   "id": "0248fe1a",
   "metadata": {
    "papermill": {
     "duration": 0.00769,
     "end_time": "2023-11-14T16:18:54.359309",
     "exception": false,
     "start_time": "2023-11-14T16:18:54.351619",
     "status": "completed"
    },
    "tags": []
   },
   "outputs": [],
   "source": []
  },
  {
   "cell_type": "code",
   "execution_count": null,
   "id": "86289bed",
   "metadata": {
    "papermill": {
     "duration": 0.007709,
     "end_time": "2023-11-14T16:18:54.374976",
     "exception": false,
     "start_time": "2023-11-14T16:18:54.367267",
     "status": "completed"
    },
    "tags": []
   },
   "outputs": [],
   "source": []
  },
  {
   "cell_type": "code",
   "execution_count": null,
   "id": "604bcadf",
   "metadata": {
    "papermill": {
     "duration": 0.008157,
     "end_time": "2023-11-14T16:18:54.391309",
     "exception": false,
     "start_time": "2023-11-14T16:18:54.383152",
     "status": "completed"
    },
    "tags": []
   },
   "outputs": [],
   "source": []
  },
  {
   "cell_type": "code",
   "execution_count": null,
   "id": "361deda6",
   "metadata": {
    "papermill": {
     "duration": 0.00777,
     "end_time": "2023-11-14T16:18:54.407240",
     "exception": false,
     "start_time": "2023-11-14T16:18:54.399470",
     "status": "completed"
    },
    "tags": []
   },
   "outputs": [],
   "source": []
  },
  {
   "cell_type": "code",
   "execution_count": null,
   "id": "01811570",
   "metadata": {
    "papermill": {
     "duration": 0.008207,
     "end_time": "2023-11-14T16:18:54.423320",
     "exception": false,
     "start_time": "2023-11-14T16:18:54.415113",
     "status": "completed"
    },
    "tags": []
   },
   "outputs": [],
   "source": []
  },
  {
   "cell_type": "code",
   "execution_count": null,
   "id": "f91c37da",
   "metadata": {
    "papermill": {
     "duration": 0.007158,
     "end_time": "2023-11-14T16:18:54.438207",
     "exception": false,
     "start_time": "2023-11-14T16:18:54.431049",
     "status": "completed"
    },
    "tags": []
   },
   "outputs": [],
   "source": []
  },
  {
   "cell_type": "code",
   "execution_count": null,
   "id": "8c9b21a3",
   "metadata": {
    "papermill": {
     "duration": 0.007491,
     "end_time": "2023-11-14T16:18:54.454151",
     "exception": false,
     "start_time": "2023-11-14T16:18:54.446660",
     "status": "completed"
    },
    "tags": []
   },
   "outputs": [],
   "source": []
  },
  {
   "cell_type": "code",
   "execution_count": null,
   "id": "eb43cb83",
   "metadata": {
    "papermill": {
     "duration": 0.007062,
     "end_time": "2023-11-14T16:18:54.468923",
     "exception": false,
     "start_time": "2023-11-14T16:18:54.461861",
     "status": "completed"
    },
    "tags": []
   },
   "outputs": [],
   "source": []
  },
  {
   "cell_type": "code",
   "execution_count": null,
   "id": "557331f6",
   "metadata": {
    "papermill": {
     "duration": 0.007912,
     "end_time": "2023-11-14T16:18:54.484935",
     "exception": false,
     "start_time": "2023-11-14T16:18:54.477023",
     "status": "completed"
    },
    "tags": []
   },
   "outputs": [],
   "source": []
  },
  {
   "cell_type": "code",
   "execution_count": null,
   "id": "f80df666",
   "metadata": {
    "papermill": {
     "duration": 0.007167,
     "end_time": "2023-11-14T16:18:54.499686",
     "exception": false,
     "start_time": "2023-11-14T16:18:54.492519",
     "status": "completed"
    },
    "tags": []
   },
   "outputs": [],
   "source": []
  },
  {
   "cell_type": "code",
   "execution_count": null,
   "id": "aff45b41",
   "metadata": {
    "papermill": {
     "duration": 0.007192,
     "end_time": "2023-11-14T16:18:54.514310",
     "exception": false,
     "start_time": "2023-11-14T16:18:54.507118",
     "status": "completed"
    },
    "tags": []
   },
   "outputs": [],
   "source": []
  },
  {
   "cell_type": "code",
   "execution_count": null,
   "id": "f7a09af1",
   "metadata": {
    "papermill": {
     "duration": 0.007228,
     "end_time": "2023-11-14T16:18:54.530109",
     "exception": false,
     "start_time": "2023-11-14T16:18:54.522881",
     "status": "completed"
    },
    "tags": []
   },
   "outputs": [],
   "source": []
  },
  {
   "cell_type": "code",
   "execution_count": null,
   "id": "0d164adb",
   "metadata": {
    "papermill": {
     "duration": 0.007619,
     "end_time": "2023-11-14T16:18:54.545334",
     "exception": false,
     "start_time": "2023-11-14T16:18:54.537715",
     "status": "completed"
    },
    "tags": []
   },
   "outputs": [],
   "source": []
  },
  {
   "cell_type": "code",
   "execution_count": null,
   "id": "7820c498",
   "metadata": {
    "papermill": {
     "duration": 0.007387,
     "end_time": "2023-11-14T16:18:54.560570",
     "exception": false,
     "start_time": "2023-11-14T16:18:54.553183",
     "status": "completed"
    },
    "tags": []
   },
   "outputs": [],
   "source": []
  },
  {
   "cell_type": "code",
   "execution_count": null,
   "id": "67b78f64",
   "metadata": {
    "papermill": {
     "duration": 0.007083,
     "end_time": "2023-11-14T16:18:54.575163",
     "exception": false,
     "start_time": "2023-11-14T16:18:54.568080",
     "status": "completed"
    },
    "tags": []
   },
   "outputs": [],
   "source": []
  },
  {
   "cell_type": "code",
   "execution_count": null,
   "id": "dceb112c",
   "metadata": {
    "papermill": {
     "duration": 0.007019,
     "end_time": "2023-11-14T16:18:54.589707",
     "exception": false,
     "start_time": "2023-11-14T16:18:54.582688",
     "status": "completed"
    },
    "tags": []
   },
   "outputs": [],
   "source": []
  },
  {
   "cell_type": "code",
   "execution_count": null,
   "id": "fa267bbd",
   "metadata": {
    "papermill": {
     "duration": 0.007147,
     "end_time": "2023-11-14T16:18:54.604646",
     "exception": false,
     "start_time": "2023-11-14T16:18:54.597499",
     "status": "completed"
    },
    "tags": []
   },
   "outputs": [],
   "source": []
  },
  {
   "cell_type": "code",
   "execution_count": 1,
   "id": "e86b24ca",
   "metadata": {
    "execution": {
     "iopub.execute_input": "2023-11-14T16:18:54.622134Z",
     "iopub.status.busy": "2023-11-14T16:18:54.621310Z",
     "iopub.status.idle": "2023-11-14T16:18:56.030379Z",
     "shell.execute_reply": "2023-11-14T16:18:56.028635Z"
    },
    "papermill": {
     "duration": 1.421377,
     "end_time": "2023-11-14T16:18:56.033511",
     "exception": false,
     "start_time": "2023-11-14T16:18:54.612134",
     "status": "completed"
    },
    "tags": []
   },
   "outputs": [
    {
     "name": "stdout",
     "output_type": "stream",
     "text": [
      "0.10081881344492458\n"
     ]
    }
   ],
   "source": [
    "from scipy.stats import poisson\n",
    "\n",
    "# 평균 발생 횟수 (하루에 잡지를 구매하는 고객 수)\n",
    "lambda_ = 3\n",
    "\n",
    "# 하루에 정확히 5명의 고객이 잡지를 구매할 확률\n",
    "print(poisson.pmf(5, lambda_))"
   ]
  },
  {
   "cell_type": "markdown",
   "id": "fafeaeb0",
   "metadata": {
    "papermill": {
     "duration": 0.006953,
     "end_time": "2023-11-14T16:18:56.048333",
     "exception": false,
     "start_time": "2023-11-14T16:18:56.041380",
     "status": "completed"
    },
    "tags": []
   },
   "source": [
    "10%"
   ]
  },
  {
   "cell_type": "code",
   "execution_count": 2,
   "id": "f1627cce",
   "metadata": {
    "execution": {
     "iopub.execute_input": "2023-11-14T16:18:56.065647Z",
     "iopub.status.busy": "2023-11-14T16:18:56.065164Z",
     "iopub.status.idle": "2023-11-14T16:18:56.073247Z",
     "shell.execute_reply": "2023-11-14T16:18:56.072033Z"
    },
    "papermill": {
     "duration": 0.02043,
     "end_time": "2023-11-14T16:18:56.076096",
     "exception": false,
     "start_time": "2023-11-14T16:18:56.055666",
     "status": "completed"
    },
    "tags": []
   },
   "outputs": [
    {
     "name": "stdout",
     "output_type": "stream",
     "text": [
      "0.8008517265285442\n"
     ]
    }
   ],
   "source": [
    "# 하루에 적어도 2명의 고객이 잡지를 구매할 확률\n",
    "print(1 - poisson.cdf(1, lambda_))"
   ]
  },
  {
   "cell_type": "markdown",
   "id": "4c1a960b",
   "metadata": {
    "papermill": {
     "duration": 0.007506,
     "end_time": "2023-11-14T16:18:56.091411",
     "exception": false,
     "start_time": "2023-11-14T16:18:56.083905",
     "status": "completed"
    },
    "tags": []
   },
   "source": [
    "80%"
   ]
  }
 ],
 "metadata": {
  "kernelspec": {
   "display_name": "Python 3 (ipykernel)",
   "language": "python",
   "name": "python3"
  },
  "language_info": {
   "codemirror_mode": {
    "name": "ipython",
    "version": 3
   },
   "file_extension": ".py",
   "mimetype": "text/x-python",
   "name": "python",
   "nbconvert_exporter": "python",
   "pygments_lexer": "ipython3",
   "version": "3.7.15"
  },
  "papermill": {
   "default_parameters": {},
   "duration": 8.705421,
   "end_time": "2023-11-14T16:18:59.134986",
   "environment_variables": {},
   "exception": null,
   "input_path": "__notebook__.ipynb",
   "output_path": "__notebook__.ipynb",
   "parameters": {},
   "start_time": "2023-11-14T16:18:50.429565",
   "version": "2.4.0"
  }
 },
 "nbformat": 4,
 "nbformat_minor": 5
}
