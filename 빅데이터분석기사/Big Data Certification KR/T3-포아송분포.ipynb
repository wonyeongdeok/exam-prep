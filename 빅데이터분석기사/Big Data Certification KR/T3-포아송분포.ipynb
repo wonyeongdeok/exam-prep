{
 "cells": [
  {
   "cell_type": "markdown",
   "id": "a255bd59",
   "metadata": {
    "papermill": {
     "duration": 0.008455,
     "end_time": "2023-11-14T16:18:54.283883",
     "exception": false,
     "start_time": "2023-11-14T16:18:54.275428",
     "status": "completed"
    },
    "tags": []
   },
   "source": [
    "## 포아송분포\n",
    "문제: 한 서점에서는 평균적으로 하루에 3명의 고객이 특정 잡지를 구매합니다. 이 데이터는 포아송 분포를 따른다고 가정할 때, 다음 질문에 대한 답을 구하세요.\n",
    "\n",
    "- 하루에 정확히 5명의 고객이 잡지를 구매할 확률은 얼마입니까? (%로 값을 정수로 입력하시오)\n",
    "- 하루에 적어도 2명의 고객이 잡지를 구매할 확률은 얼마입니까? (%로 값을 정수로 입력하시오)"
   ]
  },
  {
   "cell_type": "markdown",
   "id": "61e606fe-6e17-4207-8800-b818aa1a9508",
   "metadata": {
    "tags": []
   },
   "source": [
    "### 확률 질량 함수(PMF: Probability Mass Function)\n",
    "- 포아송 분포에서 확률 질량 함수는 **특정 값 $k$의 사건이 발생할 확률**을 구할 때 사용\n",
    "- λ는 단위 시간(또는 단위 공간)당 평균 발생 횟수이고, k는 특정 시간(또는 공간) 동안의 이벤트 발생 횟수"
   ]
  },
  {
   "cell_type": "markdown",
   "id": "b3d02cf8-b88c-42a0-a9f9-fe044bfd2821",
   "metadata": {},
   "source": [
    "## $P(X=k) = \\frac{e^{-\\lambda}\\lambda^k}{k!}$"
   ]
  },
  {
   "cell_type": "markdown",
   "id": "43f3f80a-756b-4d7f-baed-682c660d7e61",
   "metadata": {},
   "source": [
    "### 누적 분포 함수(CDF: Cumulative Distribution Funtion)\n",
    "- 포아송 분포에서 누적 분포 함수는 **특정 값 $k$ 이하의 사건이 발생할 확률**을 구할 때 사용\n",
    "- $\\lambda$ : 일정 기간 동안의 평균 발생률\n",
    "- $k$ : 관심 있는 사건의 횟수"
   ]
  },
  {
   "cell_type": "markdown",
   "id": "fc1302e4-fedc-4a49-b422-f37494b43453",
   "metadata": {},
   "source": [
    "## $P(X<=k) = \\sum_{i=0}^k\\frac{\\lambda^ie^{-\\lambda}}{i!}$"
   ]
  },
  {
   "cell_type": "code",
   "execution_count": 2,
   "id": "7f0d71a9-9bcf-4978-939c-35266a78dca5",
   "metadata": {},
   "outputs": [],
   "source": [
    "from scipy.stats import poisson"
   ]
  },
  {
   "cell_type": "code",
   "execution_count": 7,
   "id": "042583c9-475f-4967-bcee-d9cab621283a",
   "metadata": {},
   "outputs": [],
   "source": [
    "# 평균 구매 고객 수\n",
    "lambda_ = 3"
   ]
  },
  {
   "cell_type": "code",
   "execution_count": 23,
   "id": "9fd15cac-e684-4bf7-8fc6-0ca0362b3649",
   "metadata": {},
   "outputs": [
    {
     "name": "stdout",
     "output_type": "stream",
     "text": [
      "10 %\n"
     ]
    }
   ],
   "source": [
    "# 하루에 정확히 5명의 고객이 잡지를 구매할 확률\n",
    "prob_exact_5 = poisson.pmf(5, lambda_)\n",
    "print(int(prob_exact_5 * 100), '%')"
   ]
  },
  {
   "cell_type": "code",
   "execution_count": 24,
   "id": "c89418cb-e067-46eb-9c5c-c2c96c2d2f12",
   "metadata": {},
   "outputs": [
    {
     "name": "stdout",
     "output_type": "stream",
     "text": [
      "0\n"
     ]
    }
   ],
   "source": [
    "# 하루에 적어도 2명의 고객이 잡지를 구매할 확률\n",
    "prob_less_than_2 = poisson.cdf(1, lambda_)  # 1명 이하의 고객이 잡지를 구매할 확률\n",
    "prob_at_least_2 = 1 - prob_less_than_2  # 하루에 적어도 2명의 고객이 잡지를 구매할 확률 = 전체확률 - 1명 이하의 고객이 잡지를 구매할 확률\n",
    "print(int(prob_at_least_2) * 100, )"
   ]
  },
  {
   "cell_type": "code",
   "execution_count": null,
   "id": "2c461d83-dc58-4cb3-bf7e-abbf9ccd5c73",
   "metadata": {},
   "outputs": [],
   "source": []
  }
 ],
 "metadata": {
  "kernelspec": {
   "display_name": "Python 3 (ipykernel)",
   "language": "python",
   "name": "python3"
  },
  "language_info": {
   "codemirror_mode": {
    "name": "ipython",
    "version": 3
   },
   "file_extension": ".py",
   "mimetype": "text/x-python",
   "name": "python",
   "nbconvert_exporter": "python",
   "pygments_lexer": "ipython3",
   "version": "3.7.15"
  },
  "papermill": {
   "default_parameters": {},
   "duration": 8.705421,
   "end_time": "2023-11-14T16:18:59.134986",
   "environment_variables": {},
   "exception": null,
   "input_path": "__notebook__.ipynb",
   "output_path": "__notebook__.ipynb",
   "parameters": {},
   "start_time": "2023-11-14T16:18:50.429565",
   "version": "2.4.0"
  }
 },
 "nbformat": 4,
 "nbformat_minor": 5
}
