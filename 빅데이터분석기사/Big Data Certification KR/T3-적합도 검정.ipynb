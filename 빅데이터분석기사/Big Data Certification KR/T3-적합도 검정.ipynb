{
 "cells": [
  {
   "cell_type": "markdown",
   "id": "d56f697b",
   "metadata": {
    "papermill": {
     "duration": 0.006526,
     "end_time": "2023-11-04T14:40:46.327040",
     "exception": false,
     "start_time": "2023-11-04T14:40:46.320514",
     "status": "completed"
    },
    "tags": []
   },
   "source": [
    "## 카이제곱 적합도 검정\n",
    "고등학교에서는 졸업생들이 선택하는 대학 전공 분야의 선호도가 시간이 지남에 따라 변하지 않는다고 가정합니다. 학교 측은 최근 졸업생들의 전공 선택이 과거와 같은 패턴을 따르는지 알아보기 위해 적합도 검정을 실시하기로 결정했습니다.\n",
    "\n",
    "과거 자료에 따르면 졸업생들이 선택하는 전공의 분포는 다음과 같습니다:\n",
    "\n",
    "인문학: 20%\n",
    "사회과학: 30%\n",
    "자연과학: 25%\n",
    "공학: 15%\n",
    "기타: 10%\n",
    "\n",
    "올해 졸업한 학생 200명의 전공 선택 분포는 다음과 같았습니다:\n",
    "\n",
    "인문학: 30명\n",
    "사회과학: 60명\n",
    "자연과학: 50명\n",
    "공학: 40명\n",
    "기타: 20명\n",
    "\n",
    "이 데이터를 바탕으로, 졸업생들의 전공 선택 패턴이 과거와 유사한지를 알아보기 위해 카이제곱 적합도 검정을 실시해야 합니다. 유의 수준은 0.05로 설정합니다.\n",
    "\n",
    "1. 검정 통계량?\n",
    "2. p-value?\n",
    "3. 유의수준 하 귀무가설 기각 또는 채택?"
   ]
  },
  {
   "cell_type": "code",
   "execution_count": 14,
   "id": "8387f904-0b92-4409-b7bc-ec2f32f8fee3",
   "metadata": {},
   "outputs": [],
   "source": [
    "from scipy.stats import chisquare"
   ]
  },
  {
   "cell_type": "code",
   "execution_count": 15,
   "id": "ad526c47-ae00-437a-a40e-075425ec68bd",
   "metadata": {
    "papermill": {
     "duration": 1.163623,
     "end_time": "2023-11-04T14:40:47.734282",
     "exception": false,
     "start_time": "2023-11-04T14:40:46.570659",
     "status": "completed"
    },
    "tags": []
   },
   "outputs": [],
   "source": [
    "# 관측된 빈도\n",
    "f_obs = [30, 60, 50, 40, 20]\n",
    "# 기대된 빈도 \n",
    "f_exp = [200 * 0.20, 200 * 0.30, 200 * 0.25, 200 * 0.15, 200 * 0.10]\n",
    "f_exp = list(map(int, f_exp))"
   ]
  },
  {
   "cell_type": "code",
   "execution_count": 16,
   "id": "e7c74110-03cb-487f-862d-96eb4ca4b010",
   "metadata": {},
   "outputs": [
    {
     "data": {
      "text/plain": [
       "[30, 60, 50, 40, 20]"
      ]
     },
     "execution_count": 16,
     "metadata": {},
     "output_type": "execute_result"
    }
   ],
   "source": [
    "f_obs"
   ]
  },
  {
   "cell_type": "code",
   "execution_count": 17,
   "id": "e9edc0c1-97fe-4ed2-ab6d-096862cbbd36",
   "metadata": {},
   "outputs": [
    {
     "data": {
      "text/plain": [
       "[40, 60, 50, 30, 20]"
      ]
     },
     "execution_count": 17,
     "metadata": {},
     "output_type": "execute_result"
    }
   ],
   "source": [
    "f_exp"
   ]
  },
  {
   "cell_type": "code",
   "execution_count": 20,
   "id": "215d664e-a033-4b3d-b691-7cfd3b59647f",
   "metadata": {},
   "outputs": [],
   "source": [
    "# 유의 수준 설정\n",
    "alpha = 0.05"
   ]
  },
  {
   "cell_type": "code",
   "execution_count": 23,
   "id": "8d8bc308-5a43-42de-8713-2cd3f47d5846",
   "metadata": {
    "papermill": {
     "duration": 1.163623,
     "end_time": "2023-11-04T14:40:47.734282",
     "exception": false,
     "start_time": "2023-11-04T14:40:46.570659",
     "status": "completed"
    },
    "tags": []
   },
   "outputs": [],
   "source": [
    "chi2_stat, p_value = chisquare(f_obs=f_obs, f_exp=f_exp)"
   ]
  },
  {
   "cell_type": "code",
   "execution_count": 25,
   "id": "32053967-10dc-4928-beda-1cb1337f5445",
   "metadata": {
    "papermill": {
     "duration": 0.006024,
     "end_time": "2023-11-04T14:40:47.746680",
     "exception": false,
     "start_time": "2023-11-04T14:40:47.740656",
     "status": "completed"
    },
    "tags": []
   },
   "outputs": [
    {
     "name": "stdout",
     "output_type": "stream",
     "text": [
      "검정 통계량 (Chi-squared statistic): 5.833333333333334\n",
      "p-value: 0.21194558437271782\n",
      "귀무가설 채택, 졸업생들의 전공 선택 패턴은 과거와 유사합니다.\n"
     ]
    }
   ],
   "source": [
    "# 결과 출력 및 유의성 판단\n",
    "print(\"검정 통계량 (Chi-squared statistic):\", chi2_stat)\n",
    "print(\"p-value:\", p_value)\n",
    "\n",
    "if p_value < alpha:\n",
    "    print(\"귀무가설 기각, 졸업생들의 전공 선택 패턴은 과거와 다릅니다.\")\n",
    "else:\n",
    "    print(\"귀무가설 채택, 졸업생들의 전공 선택 패턴은 과거와 유사합니다.\")"
   ]
  }
 ],
 "metadata": {
  "kernelspec": {
   "display_name": "Python 3 (ipykernel)",
   "language": "python",
   "name": "python3"
  },
  "language_info": {
   "codemirror_mode": {
    "name": "ipython",
    "version": 3
   },
   "file_extension": ".py",
   "mimetype": "text/x-python",
   "name": "python",
   "nbconvert_exporter": "python",
   "pygments_lexer": "ipython3",
   "version": "3.7.15"
  },
  "papermill": {
   "default_parameters": {},
   "duration": 5.41564,
   "end_time": "2023-11-04T14:40:48.173359",
   "environment_variables": {},
   "exception": null,
   "input_path": "__notebook__.ipynb",
   "output_path": "__notebook__.ipynb",
   "parameters": {},
   "start_time": "2023-11-04T14:40:42.757719",
   "version": "2.4.0"
  }
 },
 "nbformat": 4,
 "nbformat_minor": 5
}
