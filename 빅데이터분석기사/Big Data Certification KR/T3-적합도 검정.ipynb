{
 "cells": [
  {
   "cell_type": "markdown",
   "id": "d56f697b",
   "metadata": {
    "papermill": {
     "duration": 0.006526,
     "end_time": "2023-11-04T14:40:46.327040",
     "exception": false,
     "start_time": "2023-11-04T14:40:46.320514",
     "status": "completed"
    },
    "tags": []
   },
   "source": [
    "## 카이제곱 적합도 검정\n",
    "고등학교에서는 졸업생들이 선택하는 대학 전공 분야의 선호도가 시간이 지남에 따라 변하지 않는다고 가정합니다. 학교 측은 최근 졸업생들의 전공 선택이 과거와 같은 패턴을 따르는지 알아보기 위해 적합도 검정을 실시하기로 결정했습니다.\n",
    "\n",
    "과거 자료에 따르면 졸업생들이 선택하는 전공의 분포는 다음과 같습니다:\n",
    "\n",
    "인문학: 20%\n",
    "사회과학: 30%\n",
    "자연과학: 25%\n",
    "공학: 15%\n",
    "기타: 10%\n",
    "올해 졸업한 학생 200명의 전공 선택 분포는 다음과 같았습니다:\n",
    "\n",
    "인문학: 30명\n",
    "사회과학: 60명\n",
    "자연과학: 50명\n",
    "공학: 40명\n",
    "기타: 20명\n",
    "이 데이터를 바탕으로, 졸업생들의 전공 선택 패턴이 과거와 유사한지를 알아보기 위해 카이제곱 적합도 검정을 실시해야 합니다. 유의 수준은 0.05로 설정합니다.\n",
    "\n",
    "1. 검정 통계량?\n",
    "2. p-value?\n",
    "3. 유의수준 하 귀무가설 기각 또는 채택?"
   ]
  },
  {
   "cell_type": "code",
   "execution_count": 2,
   "id": "e0281632-6bc6-4f14-9ed8-3b52f404b9e2",
   "metadata": {
    "papermill": {
     "duration": 1.163623,
     "end_time": "2023-11-04T14:40:47.734282",
     "exception": false,
     "start_time": "2023-11-04T14:40:46.570659",
     "status": "completed"
    },
    "tags": []
   },
   "outputs": [],
   "source": [
    "from scipy.stats import chisquare"
   ]
  },
  {
   "cell_type": "code",
   "execution_count": 3,
   "id": "ad526c47-ae00-437a-a40e-075425ec68bd",
   "metadata": {
    "papermill": {
     "duration": 1.163623,
     "end_time": "2023-11-04T14:40:47.734282",
     "exception": false,
     "start_time": "2023-11-04T14:40:46.570659",
     "status": "completed"
    },
    "tags": []
   },
   "outputs": [],
   "source": [
    "# 관측된 빈도\n",
    "observed_frequencies = [30, 60, 50, 40, 20]\n",
    "# 기대된 빈도 \n",
    "expected_frequencies = [200 * 0.20, 200 * 0.30, 200 * 0.25, 200 * 0.15, 200 * 0.10]"
   ]
  },
  {
   "cell_type": "code",
   "execution_count": 4,
   "id": "8d8bc308-5a43-42de-8713-2cd3f47d5846",
   "metadata": {
    "papermill": {
     "duration": 1.163623,
     "end_time": "2023-11-04T14:40:47.734282",
     "exception": false,
     "start_time": "2023-11-04T14:40:46.570659",
     "status": "completed"
    },
    "tags": []
   },
   "outputs": [
    {
     "data": {
      "text/plain": [
       "Power_divergenceResult(statistic=5.833333333333334, pvalue=0.21194558437271782)"
      ]
     },
     "execution_count": 4,
     "metadata": {},
     "output_type": "execute_result"
    }
   ],
   "source": [
    "# 카이제곱 검정\n",
    "chisquare(f_obs=observed_frequencies, f_exp=expected_frequencies)"
   ]
  },
  {
   "cell_type": "code",
   "execution_count": null,
   "id": "49b818b7",
   "metadata": {
    "papermill": {
     "duration": 0.006024,
     "end_time": "2023-11-04T14:40:47.746680",
     "exception": false,
     "start_time": "2023-11-04T14:40:47.740656",
     "status": "completed"
    },
    "tags": []
   },
   "outputs": [],
   "source": []
  }
 ],
 "metadata": {
  "kernelspec": {
   "display_name": "Python 3 (ipykernel)",
   "language": "python",
   "name": "python3"
  },
  "language_info": {
   "codemirror_mode": {
    "name": "ipython",
    "version": 3
   },
   "file_extension": ".py",
   "mimetype": "text/x-python",
   "name": "python",
   "nbconvert_exporter": "python",
   "pygments_lexer": "ipython3",
   "version": "3.7.15"
  },
  "papermill": {
   "default_parameters": {},
   "duration": 5.41564,
   "end_time": "2023-11-04T14:40:48.173359",
   "environment_variables": {},
   "exception": null,
   "input_path": "__notebook__.ipynb",
   "output_path": "__notebook__.ipynb",
   "parameters": {},
   "start_time": "2023-11-04T14:40:42.757719",
   "version": "2.4.0"
  }
 },
 "nbformat": 4,
 "nbformat_minor": 5
}
