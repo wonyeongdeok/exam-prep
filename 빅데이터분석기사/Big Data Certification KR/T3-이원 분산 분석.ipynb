{
 "cells": [
  {
   "cell_type": "markdown",
   "id": "760595fb",
   "metadata": {
    "papermill": {
     "duration": 0.008975,
     "end_time": "2023-11-30T06:45:12.727002",
     "exception": false,
     "start_time": "2023-11-30T06:45:12.718027",
     "status": "completed"
    },
    "tags": []
   },
   "source": [
    "\n",
    "## 크리스마스 장식 종류와 지역에 따라 판매량에 유의미한 차이가 있는지 이원 분산 분석을 통해 검정하세요\n",
    "\n",
    "\n",
    "1. 크리스마스 장식 종류(트리, 조명, 장식품)가 판매량에 미치는 영향을 분석하세요. 이때, 장식 종류의 F-value, p-value를 구하시오\n",
    "2. 지역(북부, 남부, 동부, 서부)이 판매량에 미치는 영향을 분석하세요. 이때, 장식 종류의 F-value, p-value를 구하시오\n",
    "3. 크리스마스 장식 종류와 지역의 상호작용이 판매량에 미치는 영향을 분석하세요. 이때, 장식 종류의 F-value, p-value를 구하시오"
   ]
  },
  {
   "cell_type": "markdown",
   "id": "57234998-3ba6-49f7-bbf0-3f15bb77c8b3",
   "metadata": {},
   "source": [
    "## 일원 분산 분석(One-Way ANOVA)\n",
    "- 하나의 독립 변수가 여러 그룹으로 구성된 경우\n",
    "- 예: 세 개의 교육 방법(A, B, C)에 따른 학생들의 성적 비교\n",
    "\n",
    "## 이원 분산 분석(Two-Way ANOVA)\n",
    "- 두 개의 독립 변수가 있는 경우\n",
    "- 각 독립 변수와 이들의 상호작용이 종속 변수에 미치는 영향을 평가\n",
    "- 예: 교육 방법(A, B)와 성별(남, 여)에 따른 학생들의 성적 비교"
   ]
  },
  {
   "cell_type": "code",
   "execution_count": 84,
   "id": "1162e0fd",
   "metadata": {
    "papermill": {
     "duration": 0.007513,
     "end_time": "2023-11-30T06:45:12.839824",
     "exception": false,
     "start_time": "2023-11-30T06:45:12.832311",
     "status": "completed"
    },
    "tags": []
   },
   "outputs": [],
   "source": [
    "import pandas as pd\n",
    "import statsmodels.api as sm\n",
    "from statsmodels.formula.api import ols"
   ]
  },
  {
   "cell_type": "code",
   "execution_count": 85,
   "id": "82213b5d",
   "metadata": {
    "papermill": {
     "duration": 0.006447,
     "end_time": "2023-11-30T06:45:12.853220",
     "exception": false,
     "start_time": "2023-11-30T06:45:12.846773",
     "status": "completed"
    },
    "tags": []
   },
   "outputs": [
    {
     "data": {
      "text/html": [
       "<div>\n",
       "<style scoped>\n",
       "    .dataframe tbody tr th:only-of-type {\n",
       "        vertical-align: middle;\n",
       "    }\n",
       "\n",
       "    .dataframe tbody tr th {\n",
       "        vertical-align: top;\n",
       "    }\n",
       "\n",
       "    .dataframe thead th {\n",
       "        text-align: right;\n",
       "    }\n",
       "</style>\n",
       "<table border=\"1\" class=\"dataframe\">\n",
       "  <thead>\n",
       "    <tr style=\"text-align: right;\">\n",
       "      <th></th>\n",
       "      <th>Decoration_Type</th>\n",
       "      <th>Region</th>\n",
       "      <th>Sales</th>\n",
       "    </tr>\n",
       "  </thead>\n",
       "  <tbody>\n",
       "    <tr>\n",
       "      <th>0</th>\n",
       "      <td>트리</td>\n",
       "      <td>북부</td>\n",
       "      <td>64</td>\n",
       "    </tr>\n",
       "    <tr>\n",
       "      <th>1</th>\n",
       "      <td>트리</td>\n",
       "      <td>남부</td>\n",
       "      <td>67</td>\n",
       "    </tr>\n",
       "    <tr>\n",
       "      <th>2</th>\n",
       "      <td>트리</td>\n",
       "      <td>동부</td>\n",
       "      <td>84</td>\n",
       "    </tr>\n",
       "    <tr>\n",
       "      <th>3</th>\n",
       "      <td>트리</td>\n",
       "      <td>서부</td>\n",
       "      <td>87</td>\n",
       "    </tr>\n",
       "    <tr>\n",
       "      <th>4</th>\n",
       "      <td>트리</td>\n",
       "      <td>북부</td>\n",
       "      <td>87</td>\n",
       "    </tr>\n",
       "  </tbody>\n",
       "</table>\n",
       "</div>"
      ],
      "text/plain": [
       "  Decoration_Type Region  Sales\n",
       "0              트리     북부     64\n",
       "1              트리     남부     67\n",
       "2              트리     동부     84\n",
       "3              트리     서부     87\n",
       "4              트리     북부     87"
      ]
     },
     "execution_count": 85,
     "metadata": {},
     "output_type": "execute_result"
    }
   ],
   "source": [
    "df = pd.read_csv('dataset/christmas_decoration_sales.csv')\n",
    "df.head()"
   ]
  },
  {
   "cell_type": "code",
   "execution_count": 86,
   "id": "07da0a5e-6ed8-49b5-b17c-6b966d7dcd12",
   "metadata": {},
   "outputs": [],
   "source": [
    "import statsmodels.api as sm\n",
    "from statsmodels.formula.api import ols"
   ]
  },
  {
   "cell_type": "code",
   "execution_count": 87,
   "id": "c4a1717c-74d7-47ca-a68c-90cedd22e78a",
   "metadata": {},
   "outputs": [
    {
     "data": {
      "text/html": [
       "<div>\n",
       "<style scoped>\n",
       "    .dataframe tbody tr th:only-of-type {\n",
       "        vertical-align: middle;\n",
       "    }\n",
       "\n",
       "    .dataframe tbody tr th {\n",
       "        vertical-align: top;\n",
       "    }\n",
       "\n",
       "    .dataframe thead th {\n",
       "        text-align: right;\n",
       "    }\n",
       "</style>\n",
       "<table border=\"1\" class=\"dataframe\">\n",
       "  <thead>\n",
       "    <tr style=\"text-align: right;\">\n",
       "      <th></th>\n",
       "      <th>df</th>\n",
       "      <th>sum_sq</th>\n",
       "      <th>mean_sq</th>\n",
       "      <th>F</th>\n",
       "      <th>PR(&gt;F)</th>\n",
       "    </tr>\n",
       "  </thead>\n",
       "  <tbody>\n",
       "    <tr>\n",
       "      <th>C(Decoration_Type)</th>\n",
       "      <td>2.0</td>\n",
       "      <td>1764.500000</td>\n",
       "      <td>882.250000</td>\n",
       "      <td>2.370578</td>\n",
       "      <td>0.114943</td>\n",
       "    </tr>\n",
       "    <tr>\n",
       "      <th>C(Region)</th>\n",
       "      <td>3.0</td>\n",
       "      <td>804.305556</td>\n",
       "      <td>268.101852</td>\n",
       "      <td>0.720381</td>\n",
       "      <td>0.549614</td>\n",
       "    </tr>\n",
       "    <tr>\n",
       "      <th>C(Decoration_Type):C(Region)</th>\n",
       "      <td>6.0</td>\n",
       "      <td>5153.944444</td>\n",
       "      <td>858.990741</td>\n",
       "      <td>2.308081</td>\n",
       "      <td>0.066915</td>\n",
       "    </tr>\n",
       "    <tr>\n",
       "      <th>Residual</th>\n",
       "      <td>24.0</td>\n",
       "      <td>8932.000000</td>\n",
       "      <td>372.166667</td>\n",
       "      <td>NaN</td>\n",
       "      <td>NaN</td>\n",
       "    </tr>\n",
       "  </tbody>\n",
       "</table>\n",
       "</div>"
      ],
      "text/plain": [
       "                                df       sum_sq     mean_sq         F  \\\n",
       "C(Decoration_Type)             2.0  1764.500000  882.250000  2.370578   \n",
       "C(Region)                      3.0   804.305556  268.101852  0.720381   \n",
       "C(Decoration_Type):C(Region)   6.0  5153.944444  858.990741  2.308081   \n",
       "Residual                      24.0  8932.000000  372.166667       NaN   \n",
       "\n",
       "                                PR(>F)  \n",
       "C(Decoration_Type)            0.114943  \n",
       "C(Region)                     0.549614  \n",
       "C(Decoration_Type):C(Region)  0.066915  \n",
       "Residual                           NaN  "
      ]
     },
     "metadata": {},
     "output_type": "display_data"
    }
   ],
   "source": [
    "formula = 'Sales ~ C(Decoration_Type) * C(Region)'\n",
    "model = ols(formula, data=df).fit()\n",
    "anoava_table = sm.stats.anova_lm(model)\n",
    "display(anova_table)"
   ]
  },
  {
   "cell_type": "code",
   "execution_count": 88,
   "id": "7b747613-d2e5-4b51-ab53-0f01f79fc7f0",
   "metadata": {},
   "outputs": [
    {
     "name": "stdout",
     "output_type": "stream",
     "text": [
      "Decoration_Type의 F-value: 2.370577698163901\n",
      "Region F-value: 0.7203811514156353\n",
      "Decoration_Type과 Region 상호작용의 F-value: 2.3080808080808097\n",
      "\n",
      "Decoration_Type의 p-value: 0.1149434496063908\n",
      "Region의 p-value: 0.5496135553740116\n",
      "Decoration_Type과 Region 상호작용의 p-value: 0.06691452600857872\n"
     ]
    }
   ],
   "source": [
    "# F-value 추출\n",
    "f_value_Decoration_Type = anoava_table['F'][0]\n",
    "print('Decoration_Type의 F-value:', f_value_Decoration_Type)\n",
    "f_value_Region = anoava_table['F'][1]\n",
    "print('Region F-value:', f_value_Region)\n",
    "f_value_interaction = anoava_table['F'][2]\n",
    "print('Decoration_Type과 Region 상호작용의 F-value:', f_value_interaction)\n",
    "\n",
    "print()\n",
    "\n",
    "# p-value 추출\n",
    "p_value_Decoration_Type = anoava_table['PR(>F)'][0]\n",
    "print('Decoration_Type의 p-value:', p_value_Decoration_Type)\n",
    "p_value_Region = anoava_table['PR(>F)'][1]\n",
    "print('Region의 p-value:', p_value_Region)\n",
    "p_value_interaction = anoava_table['PR(>F)'][2]\n",
    "print('Decoration_Type과 Region 상호작용의 p-value:', p_value_interaction)"
   ]
  },
  {
   "cell_type": "code",
   "execution_count": 89,
   "id": "a244e414-17cd-4bc4-a605-3a7ab7a983ae",
   "metadata": {},
   "outputs": [
    {
     "name": "stdout",
     "output_type": "stream",
     "text": [
      "귀무가설 채택 : Decoration_Type는 Sales에 유의미한 영향을 미치지 않는다.\n",
      "귀무가설 채택 : Region은 Sales에 유의미한 영향을 미치지 않는다.\n",
      "귀무가설 채택 : Decoration_Type와 Region의 상호작용은 Sales에 유의미한 영향을 미치지 않는다.\n"
     ]
    }
   ],
   "source": [
    "alpha = 0.05\n",
    "# 가설 검정 및 결과 표현\n",
    "if p_value_Decoration_Type < alpha:\n",
    "    print('대립가설 채택 : Decoration_Type는 Sales에 유의미한 영향을 미친다.')\n",
    "else:\n",
    "    print('귀무가설 채택 : Decoration_Type는 Sales에 유의미한 영향을 미치지 않는다.')\n",
    "\n",
    "if p_value_Region < alpha:\n",
    "    print('대립가설 채택 : Region은 Sales에 유의미한 영향을 미친다.')\n",
    "else:\n",
    "    print('귀무가설 채택 : Region은 Sales에 유의미한 영향을 미치지 않는다.')\n",
    "\n",
    "if p_value_interaction < alpha:\n",
    "    print('대립가설 채택 : Decoration_Type와 Region의 상호작용은 Sales에 유의미한 영향을 미친다.')\n",
    "else:\n",
    "    print('귀무가설 채택 : Decoration_Type와 Region의 상호작용은 Sales에 유의미한 영향을 미치지 않는다.')"
   ]
  }
 ],
 "metadata": {
  "kaggle": {
   "accelerator": "none",
   "dataSources": [
    {
     "datasetId": 1633303,
     "sourceId": 7088048,
     "sourceType": "datasetVersion"
    }
   ],
   "dockerImageVersionId": 30587,
   "isGpuEnabled": false,
   "isInternetEnabled": true,
   "language": "python",
   "sourceType": "notebook"
  },
  "kernelspec": {
   "display_name": "Python 3 (ipykernel)",
   "language": "python",
   "name": "python3"
  },
  "language_info": {
   "codemirror_mode": {
    "name": "ipython",
    "version": 3
   },
   "file_extension": ".py",
   "mimetype": "text/x-python",
   "name": "python",
   "nbconvert_exporter": "python",
   "pygments_lexer": "ipython3",
   "version": "3.7.15"
  },
  "papermill": {
   "default_parameters": {},
   "duration": 8.608678,
   "end_time": "2023-11-30T06:45:17.604405",
   "environment_variables": {},
   "exception": null,
   "input_path": "__notebook__.ipynb",
   "output_path": "__notebook__.ipynb",
   "parameters": {},
   "start_time": "2023-11-30T06:45:08.995727",
   "version": "2.4.0"
  }
 },
 "nbformat": 4,
 "nbformat_minor": 5
}
