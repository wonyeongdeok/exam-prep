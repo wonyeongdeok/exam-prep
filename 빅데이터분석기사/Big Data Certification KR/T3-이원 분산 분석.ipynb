{
 "cells": [
  {
   "cell_type": "markdown",
   "id": "760595fb",
   "metadata": {
    "papermill": {
     "duration": 0.008975,
     "end_time": "2023-11-30T06:45:12.727002",
     "exception": false,
     "start_time": "2023-11-30T06:45:12.718027",
     "status": "completed"
    },
    "tags": []
   },
   "source": [
    "\n",
    "## 크리스마스 장식 종류와 지역에 따라 판매량에 유의미한 차이가 있는지 이원 분산 분석을 통해 검정하세요\n",
    "\n",
    "\n",
    "1. 크리스마스 장식 종류(트리, 조명, 장식품)가 판매량에 미치는 영향을 분석하세요. 이때, 장식 종류의 F-value, p-value를 구하시오\n",
    "2. 지역(북부, 남부, 동부, 서부)이 판매량에 미치는 영향을 분석하세요. 이때, 장식 종류의 F-value, p-value를 구하시오\n",
    "3. 크리스마스 장식 종류와 지역의 상호작용이 판매량에 미치는 영향을 분석하세요. 이때, 장식 종류의 F-value, p-value를 구하시오"
   ]
  },
  {
   "cell_type": "code",
   "execution_count": null,
   "id": "f3832a4f",
   "metadata": {
    "papermill": {
     "duration": 0.006681,
     "end_time": "2023-11-30T06:45:12.740938",
     "exception": false,
     "start_time": "2023-11-30T06:45:12.734257",
     "status": "completed"
    },
    "tags": []
   },
   "outputs": [],
   "source": []
  },
  {
   "cell_type": "code",
   "execution_count": null,
   "id": "38362028",
   "metadata": {
    "papermill": {
     "duration": 0.006665,
     "end_time": "2023-11-30T06:45:12.754937",
     "exception": false,
     "start_time": "2023-11-30T06:45:12.748272",
     "status": "completed"
    },
    "tags": []
   },
   "outputs": [],
   "source": []
  },
  {
   "cell_type": "code",
   "execution_count": null,
   "id": "785a8898",
   "metadata": {
    "papermill": {
     "duration": 0.006416,
     "end_time": "2023-11-30T06:45:12.768779",
     "exception": false,
     "start_time": "2023-11-30T06:45:12.762363",
     "status": "completed"
    },
    "tags": []
   },
   "outputs": [],
   "source": []
  },
  {
   "cell_type": "code",
   "execution_count": null,
   "id": "da0a5b3d",
   "metadata": {
    "papermill": {
     "duration": 0.006422,
     "end_time": "2023-11-30T06:45:12.782576",
     "exception": false,
     "start_time": "2023-11-30T06:45:12.776154",
     "status": "completed"
    },
    "tags": []
   },
   "outputs": [],
   "source": []
  },
  {
   "cell_type": "code",
   "execution_count": null,
   "id": "4086dd0e",
   "metadata": {
    "papermill": {
     "duration": 0.006733,
     "end_time": "2023-11-30T06:45:12.796363",
     "exception": false,
     "start_time": "2023-11-30T06:45:12.789630",
     "status": "completed"
    },
    "tags": []
   },
   "outputs": [],
   "source": []
  },
  {
   "cell_type": "code",
   "execution_count": null,
   "id": "0fffd39f",
   "metadata": {
    "papermill": {
     "duration": 0.006905,
     "end_time": "2023-11-30T06:45:12.810194",
     "exception": false,
     "start_time": "2023-11-30T06:45:12.803289",
     "status": "completed"
    },
    "tags": []
   },
   "outputs": [],
   "source": []
  },
  {
   "cell_type": "code",
   "execution_count": null,
   "id": "ae6aca48",
   "metadata": {
    "papermill": {
     "duration": 0.006755,
     "end_time": "2023-11-30T06:45:12.824086",
     "exception": false,
     "start_time": "2023-11-30T06:45:12.817331",
     "status": "completed"
    },
    "tags": []
   },
   "outputs": [],
   "source": []
  },
  {
   "cell_type": "code",
   "execution_count": null,
   "id": "1162e0fd",
   "metadata": {
    "papermill": {
     "duration": 0.007513,
     "end_time": "2023-11-30T06:45:12.839824",
     "exception": false,
     "start_time": "2023-11-30T06:45:12.832311",
     "status": "completed"
    },
    "tags": []
   },
   "outputs": [],
   "source": []
  },
  {
   "cell_type": "code",
   "execution_count": null,
   "id": "82213b5d",
   "metadata": {
    "papermill": {
     "duration": 0.006447,
     "end_time": "2023-11-30T06:45:12.853220",
     "exception": false,
     "start_time": "2023-11-30T06:45:12.846773",
     "status": "completed"
    },
    "tags": []
   },
   "outputs": [],
   "source": []
  },
  {
   "cell_type": "code",
   "execution_count": null,
   "id": "a3347447",
   "metadata": {
    "papermill": {
     "duration": 0.006664,
     "end_time": "2023-11-30T06:45:12.866734",
     "exception": false,
     "start_time": "2023-11-30T06:45:12.860070",
     "status": "completed"
    },
    "tags": []
   },
   "outputs": [],
   "source": []
  },
  {
   "cell_type": "code",
   "execution_count": null,
   "id": "dfef4842",
   "metadata": {
    "papermill": {
     "duration": 0.006317,
     "end_time": "2023-11-30T06:45:12.880373",
     "exception": false,
     "start_time": "2023-11-30T06:45:12.874056",
     "status": "completed"
    },
    "tags": []
   },
   "outputs": [],
   "source": []
  },
  {
   "cell_type": "code",
   "execution_count": null,
   "id": "9d1b77aa",
   "metadata": {
    "papermill": {
     "duration": 0.006254,
     "end_time": "2023-11-30T06:45:12.893402",
     "exception": false,
     "start_time": "2023-11-30T06:45:12.887148",
     "status": "completed"
    },
    "tags": []
   },
   "outputs": [],
   "source": []
  },
  {
   "cell_type": "code",
   "execution_count": null,
   "id": "e57d9e00",
   "metadata": {
    "papermill": {
     "duration": 0.006293,
     "end_time": "2023-11-30T06:45:12.906308",
     "exception": false,
     "start_time": "2023-11-30T06:45:12.900015",
     "status": "completed"
    },
    "tags": []
   },
   "outputs": [],
   "source": []
  },
  {
   "cell_type": "code",
   "execution_count": null,
   "id": "c5491912",
   "metadata": {
    "papermill": {
     "duration": 0.006439,
     "end_time": "2023-11-30T06:45:12.919298",
     "exception": false,
     "start_time": "2023-11-30T06:45:12.912859",
     "status": "completed"
    },
    "tags": []
   },
   "outputs": [],
   "source": []
  },
  {
   "cell_type": "code",
   "execution_count": null,
   "id": "3c385924",
   "metadata": {
    "papermill": {
     "duration": 0.006307,
     "end_time": "2023-11-30T06:45:12.932166",
     "exception": false,
     "start_time": "2023-11-30T06:45:12.925859",
     "status": "completed"
    },
    "tags": []
   },
   "outputs": [],
   "source": []
  },
  {
   "cell_type": "code",
   "execution_count": null,
   "id": "406fb1c7",
   "metadata": {
    "papermill": {
     "duration": 0.00636,
     "end_time": "2023-11-30T06:45:12.945135",
     "exception": false,
     "start_time": "2023-11-30T06:45:12.938775",
     "status": "completed"
    },
    "tags": []
   },
   "outputs": [],
   "source": []
  },
  {
   "cell_type": "code",
   "execution_count": null,
   "id": "034c7e96",
   "metadata": {
    "papermill": {
     "duration": 0.006316,
     "end_time": "2023-11-30T06:45:12.958151",
     "exception": false,
     "start_time": "2023-11-30T06:45:12.951835",
     "status": "completed"
    },
    "tags": []
   },
   "outputs": [],
   "source": []
  },
  {
   "cell_type": "code",
   "execution_count": null,
   "id": "c0a286d1",
   "metadata": {
    "papermill": {
     "duration": 0.006366,
     "end_time": "2023-11-30T06:45:12.971221",
     "exception": false,
     "start_time": "2023-11-30T06:45:12.964855",
     "status": "completed"
    },
    "tags": []
   },
   "outputs": [],
   "source": []
  },
  {
   "cell_type": "code",
   "execution_count": null,
   "id": "a9d45fca",
   "metadata": {
    "papermill": {
     "duration": 0.006453,
     "end_time": "2023-11-30T06:45:12.984321",
     "exception": false,
     "start_time": "2023-11-30T06:45:12.977868",
     "status": "completed"
    },
    "tags": []
   },
   "outputs": [],
   "source": []
  },
  {
   "cell_type": "code",
   "execution_count": null,
   "id": "acc7d5ef",
   "metadata": {
    "papermill": {
     "duration": 0.006308,
     "end_time": "2023-11-30T06:45:12.997240",
     "exception": false,
     "start_time": "2023-11-30T06:45:12.990932",
     "status": "completed"
    },
    "tags": []
   },
   "outputs": [],
   "source": []
  },
  {
   "cell_type": "code",
   "execution_count": 1,
   "id": "a6d6c926",
   "metadata": {
    "execution": {
     "iopub.execute_input": "2023-11-30T06:45:13.012828Z",
     "iopub.status.busy": "2023-11-30T06:45:13.012396Z",
     "iopub.status.idle": "2023-11-30T06:45:16.833333Z",
     "shell.execute_reply": "2023-11-30T06:45:16.832133Z"
    },
    "papermill": {
     "duration": 3.83238,
     "end_time": "2023-11-30T06:45:16.836371",
     "exception": false,
     "start_time": "2023-11-30T06:45:13.003991",
     "status": "completed"
    },
    "tags": []
   },
   "outputs": [
    {
     "data": {
      "text/html": [
       "<div>\n",
       "<style scoped>\n",
       "    .dataframe tbody tr th:only-of-type {\n",
       "        vertical-align: middle;\n",
       "    }\n",
       "\n",
       "    .dataframe tbody tr th {\n",
       "        vertical-align: top;\n",
       "    }\n",
       "\n",
       "    .dataframe thead th {\n",
       "        text-align: right;\n",
       "    }\n",
       "</style>\n",
       "<table border=\"1\" class=\"dataframe\">\n",
       "  <thead>\n",
       "    <tr style=\"text-align: right;\">\n",
       "      <th></th>\n",
       "      <th>df</th>\n",
       "      <th>sum_sq</th>\n",
       "      <th>mean_sq</th>\n",
       "      <th>F</th>\n",
       "      <th>PR(&gt;F)</th>\n",
       "    </tr>\n",
       "  </thead>\n",
       "  <tbody>\n",
       "    <tr>\n",
       "      <th>C(Decoration_Type)</th>\n",
       "      <td>2.0</td>\n",
       "      <td>1764.500000</td>\n",
       "      <td>882.250000</td>\n",
       "      <td>2.370578</td>\n",
       "      <td>0.114943</td>\n",
       "    </tr>\n",
       "    <tr>\n",
       "      <th>C(Region)</th>\n",
       "      <td>3.0</td>\n",
       "      <td>804.305556</td>\n",
       "      <td>268.101852</td>\n",
       "      <td>0.720381</td>\n",
       "      <td>0.549614</td>\n",
       "    </tr>\n",
       "    <tr>\n",
       "      <th>C(Decoration_Type):C(Region)</th>\n",
       "      <td>6.0</td>\n",
       "      <td>5153.944444</td>\n",
       "      <td>858.990741</td>\n",
       "      <td>2.308081</td>\n",
       "      <td>0.066915</td>\n",
       "    </tr>\n",
       "    <tr>\n",
       "      <th>Residual</th>\n",
       "      <td>24.0</td>\n",
       "      <td>8932.000000</td>\n",
       "      <td>372.166667</td>\n",
       "      <td>NaN</td>\n",
       "      <td>NaN</td>\n",
       "    </tr>\n",
       "  </tbody>\n",
       "</table>\n",
       "</div>"
      ],
      "text/plain": [
       "                                df       sum_sq     mean_sq         F  \\\n",
       "C(Decoration_Type)             2.0  1764.500000  882.250000  2.370578   \n",
       "C(Region)                      3.0   804.305556  268.101852  0.720381   \n",
       "C(Decoration_Type):C(Region)   6.0  5153.944444  858.990741  2.308081   \n",
       "Residual                      24.0  8932.000000  372.166667       NaN   \n",
       "\n",
       "                                PR(>F)  \n",
       "C(Decoration_Type)            0.114943  \n",
       "C(Region)                     0.549614  \n",
       "C(Decoration_Type):C(Region)  0.066915  \n",
       "Residual                           NaN  "
      ]
     },
     "execution_count": 1,
     "metadata": {},
     "output_type": "execute_result"
    }
   ],
   "source": [
    "import pandas as pd\n",
    "import statsmodels.api as sm\n",
    "from statsmodels.formula.api import ols\n",
    "df = pd.read_csv(\"/kaggle/input/bigdatacertificationkr/christmas_decoration_sales.csv\")\n",
    "\n",
    "# 이원 분산 분석\n",
    "model = ols('Sales ~ C(Decoration_Type) * C(Region)', data=df).fit()\n",
    "sm.stats.anova_lm(model)"
   ]
  },
  {
   "cell_type": "code",
   "execution_count": 2,
   "id": "79775656",
   "metadata": {
    "execution": {
     "iopub.execute_input": "2023-11-30T06:45:16.853045Z",
     "iopub.status.busy": "2023-11-30T06:45:16.852569Z",
     "iopub.status.idle": "2023-11-30T06:45:16.857610Z",
     "shell.execute_reply": "2023-11-30T06:45:16.856536Z"
    },
    "papermill": {
     "duration": 0.01609,
     "end_time": "2023-11-30T06:45:16.860282",
     "exception": false,
     "start_time": "2023-11-30T06:45:16.844192",
     "status": "completed"
    },
    "tags": []
   },
   "outputs": [],
   "source": [
    "# F-value, P-value\n",
    "# 1. 2.370578, 0.114943\n",
    "# 2. 0.720381, 0.549614\n",
    "# 3. 2.308081, 0.066915"
   ]
  },
  {
   "cell_type": "code",
   "execution_count": null,
   "id": "6df613a9",
   "metadata": {
    "papermill": {
     "duration": 0.006736,
     "end_time": "2023-11-30T06:45:16.874418",
     "exception": false,
     "start_time": "2023-11-30T06:45:16.867682",
     "status": "completed"
    },
    "tags": []
   },
   "outputs": [],
   "source": []
  }
 ],
 "metadata": {
  "kaggle": {
   "accelerator": "none",
   "dataSources": [
    {
     "datasetId": 1633303,
     "sourceId": 7088048,
     "sourceType": "datasetVersion"
    }
   ],
   "dockerImageVersionId": 30587,
   "isGpuEnabled": false,
   "isInternetEnabled": true,
   "language": "python",
   "sourceType": "notebook"
  },
  "kernelspec": {
   "display_name": "Python 3 (ipykernel)",
   "language": "python",
   "name": "python3"
  },
  "language_info": {
   "codemirror_mode": {
    "name": "ipython",
    "version": 3
   },
   "file_extension": ".py",
   "mimetype": "text/x-python",
   "name": "python",
   "nbconvert_exporter": "python",
   "pygments_lexer": "ipython3",
   "version": "3.7.15"
  },
  "papermill": {
   "default_parameters": {},
   "duration": 8.608678,
   "end_time": "2023-11-30T06:45:17.604405",
   "environment_variables": {},
   "exception": null,
   "input_path": "__notebook__.ipynb",
   "output_path": "__notebook__.ipynb",
   "parameters": {},
   "start_time": "2023-11-30T06:45:08.995727",
   "version": "2.4.0"
  }
 },
 "nbformat": 4,
 "nbformat_minor": 5
}
